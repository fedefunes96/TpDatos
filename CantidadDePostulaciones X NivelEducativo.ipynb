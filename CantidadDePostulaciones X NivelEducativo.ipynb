{
 "cells": [
  {
   "cell_type": "code",
   "execution_count": 2,
   "metadata": {},
   "outputs": [],
   "source": [
    "\n",
    "import pandas as pd\n",
    "import numpy as np\n",
    "import matplotlib.pyplot as plt\n",
    "import seaborn as sns\n",
    "%matplotlib inline\n",
    "\n",
    "plt.style.use('default')\n",
    "sns.set(style=\"whitegrid\")"
   ]
  },
  {
   "cell_type": "code",
   "execution_count": 3,
   "metadata": {},
   "outputs": [],
   "source": [
    "dfGenEdad = pd.read_csv(\"fiuba_2_postulantes_genero_y_edad.csv\")\n",
    "dfAvisos = pd.read_csv(\"fiuba_5_avisos_online.csv\")\n",
    "dfAvisosDet = pd.read_csv(\"fiuba_6_avisos_detalle.csv\")\n",
    "dfPostu = pd.read_csv(\"fiuba_4_postulaciones.csv\")\n",
    "dfVistas = pd.read_csv(\"fiuba_5_avisos_online.csv\")\n",
    "dfEdu = pd.read_csv(\"fiuba_1_postulantes_educacion.csv\")"
   ]
  },
  {
   "cell_type": "code",
   "execution_count": null,
   "metadata": {},
   "outputs": [],
   "source": []
  },
  {
   "cell_type": "code",
   "execution_count": 4,
   "metadata": {},
   "outputs": [
    {
     "data": {
      "text/plain": [
       "Secundario           110256\n",
       "Universitario        104295\n",
       "Terciario/Técnico     47733\n",
       "Otro                  24748\n",
       "Posgrado               7387\n",
       "Master                 3598\n",
       "Doctorado               214\n",
       "Name: nombre, dtype: int64"
      ]
     },
     "execution_count": 4,
     "metadata": {},
     "output_type": "execute_result"
    }
   ],
   "source": [
    "dfGenEdadEdu = pd.merge(dfGenEdad,dfEdu,how = 'inner', on = \"idpostulante\")\n",
    "dfGenEdadEdu[\"nombre\"].value_counts()"
   ]
  },
  {
   "cell_type": "code",
   "execution_count": 5,
   "metadata": {},
   "outputs": [],
   "source": [
    "def filtroDeRepetidos(df):\n",
    "    #si hay mas de un estado :Abandonad>Graduado>En Curso\n",
    "    dft1 = df[df[\"estado\"]==\"Abandonado\"]\n",
    "    dft2 = df[df[\"estado\"]==\"Graduado\"]\n",
    "    dft3 = df[df[\"estado\"]==\"En Curso\"]\n",
    "    df = pd.concat([dft1,dft2[~dft2[\"idpostulante\"].isin(dft1[\"idpostulante\"])]])\n",
    "    df = pd.concat([df,dft3[~dft3[\"idpostulante\"].isin(df[\"idpostulante\"])]])\n",
    "    return df\n",
    "#aislo cada caso\n",
    "Sec = dfGenEdadEdu.loc[dfGenEdadEdu['nombre']==\"Secundario\"]\n",
    "Uni = dfGenEdadEdu.loc[dfGenEdadEdu['nombre']==\"Universitario\"]\n",
    "Ter = dfGenEdadEdu.loc[dfGenEdadEdu['nombre']==\"Terciario/Técnico\"]\n",
    "Pos = dfGenEdadEdu.loc[dfGenEdadEdu['nombre']==\"Posgrado\"]\n",
    "Mas = dfGenEdadEdu.loc[dfGenEdadEdu['nombre']==\"Master\"]\n",
    "Doc = dfGenEdadEdu.loc[dfGenEdadEdu['nombre']==\"Doctorado\"]\n",
    "\n",
    "Sec = filtroDeRepetidos(Sec)\n",
    "Uni = filtroDeRepetidos(Uni)\n",
    "Ter = filtroDeRepetidos(Ter)\n",
    "Pos = filtroDeRepetidos(Pos)\n",
    "Mas = filtroDeRepetidos(Mas)\n",
    "Doc = filtroDeRepetidos(Doc)\n",
    "#me quedo con el mas grande, doc>master>posgrado...\n",
    "Doc = pd.concat([Doc,Mas[~Mas[\"idpostulante\"].isin(Doc[\"idpostulante\"])]])\n",
    "Doc = pd.concat([Doc,Pos[~Pos[\"idpostulante\"].isin(Doc[\"idpostulante\"])]])\n",
    "Doc = pd.concat([Doc,Uni[~Uni[\"idpostulante\"].isin(Doc[\"idpostulante\"])]])\n",
    "Doc = pd.concat([Doc,Ter[~Ter[\"idpostulante\"].isin(Doc[\"idpostulante\"])]])\n",
    "Doc = pd.concat([Doc,Sec[~Sec[\"idpostulante\"].isin(Doc[\"idpostulante\"])]])\n",
    "dfGenEdadEdu = Doc\n",
    "# todos los id son unicos\n",
    "dfGenEdadEdu.nunique()\n",
    "dfGenEdadEdu.to_csv(\"GenEdadEduNoDuplicados.csv\",index=\"False\")"
   ]
  },
  {
   "cell_type": "code",
   "execution_count": 6,
   "metadata": {},
   "outputs": [
    {
     "data": {
      "text/html": [
       "<div>\n",
       "<style scoped>\n",
       "    .dataframe tbody tr th:only-of-type {\n",
       "        vertical-align: middle;\n",
       "    }\n",
       "\n",
       "    .dataframe tbody tr th {\n",
       "        vertical-align: top;\n",
       "    }\n",
       "\n",
       "    .dataframe thead th {\n",
       "        text-align: right;\n",
       "    }\n",
       "</style>\n",
       "<table border=\"1\" class=\"dataframe\">\n",
       "  <thead>\n",
       "    <tr style=\"text-align: right;\">\n",
       "      <th></th>\n",
       "      <th>idpostulante</th>\n",
       "      <th>fechanacimiento</th>\n",
       "      <th>sexo</th>\n",
       "      <th>nombre</th>\n",
       "      <th>estado</th>\n",
       "      <th>idaviso</th>\n",
       "      <th>fechapostulacion</th>\n",
       "    </tr>\n",
       "  </thead>\n",
       "  <tbody>\n",
       "    <tr>\n",
       "      <th>0</th>\n",
       "      <td>ek6m5r</td>\n",
       "      <td>1981-01-14</td>\n",
       "      <td>MASC</td>\n",
       "      <td>Doctorado</td>\n",
       "      <td>Abandonado</td>\n",
       "      <td>1112301227</td>\n",
       "      <td>2018-02-16 10:02:53</td>\n",
       "    </tr>\n",
       "    <tr>\n",
       "      <th>1</th>\n",
       "      <td>ek6m5r</td>\n",
       "      <td>1981-01-14</td>\n",
       "      <td>MASC</td>\n",
       "      <td>Doctorado</td>\n",
       "      <td>Abandonado</td>\n",
       "      <td>1112297071</td>\n",
       "      <td>2018-02-16 10:03:40</td>\n",
       "    </tr>\n",
       "    <tr>\n",
       "      <th>2</th>\n",
       "      <td>ek6m5r</td>\n",
       "      <td>1981-01-14</td>\n",
       "      <td>MASC</td>\n",
       "      <td>Doctorado</td>\n",
       "      <td>Abandonado</td>\n",
       "      <td>1112289827</td>\n",
       "      <td>2018-02-18 12:35:11</td>\n",
       "    </tr>\n",
       "    <tr>\n",
       "      <th>3</th>\n",
       "      <td>ek6m5r</td>\n",
       "      <td>1981-01-14</td>\n",
       "      <td>MASC</td>\n",
       "      <td>Doctorado</td>\n",
       "      <td>Abandonado</td>\n",
       "      <td>1112316523</td>\n",
       "      <td>2018-02-20 07:42:25</td>\n",
       "    </tr>\n",
       "    <tr>\n",
       "      <th>4</th>\n",
       "      <td>ek6m5r</td>\n",
       "      <td>1981-01-14</td>\n",
       "      <td>MASC</td>\n",
       "      <td>Doctorado</td>\n",
       "      <td>Abandonado</td>\n",
       "      <td>1112339723</td>\n",
       "      <td>2018-02-20 07:44:09</td>\n",
       "    </tr>\n",
       "  </tbody>\n",
       "</table>\n",
       "</div>"
      ],
      "text/plain": [
       "  idpostulante fechanacimiento  sexo     nombre      estado     idaviso  \\\n",
       "0       ek6m5r      1981-01-14  MASC  Doctorado  Abandonado  1112301227   \n",
       "1       ek6m5r      1981-01-14  MASC  Doctorado  Abandonado  1112297071   \n",
       "2       ek6m5r      1981-01-14  MASC  Doctorado  Abandonado  1112289827   \n",
       "3       ek6m5r      1981-01-14  MASC  Doctorado  Abandonado  1112316523   \n",
       "4       ek6m5r      1981-01-14  MASC  Doctorado  Abandonado  1112339723   \n",
       "\n",
       "      fechapostulacion  \n",
       "0  2018-02-16 10:02:53  \n",
       "1  2018-02-16 10:03:40  \n",
       "2  2018-02-18 12:35:11  \n",
       "3  2018-02-20 07:42:25  \n",
       "4  2018-02-20 07:44:09  "
      ]
     },
     "execution_count": 6,
     "metadata": {},
     "output_type": "execute_result"
    }
   ],
   "source": [
    "dfTemp = pd.merge ( dfGenEdadEdu,dfPostu,how = 'right',on='idpostulante')\n",
    "dfTemp.head(5)"
   ]
  },
  {
   "cell_type": "code",
   "execution_count": 7,
   "metadata": {},
   "outputs": [],
   "source": [
    "dfTemp = dfTemp.rename(columns = {'nombre':'nivel educativo'})\n",
    "dfTemp[\"nivel+estado\"] = (dfTemp['nivel educativo']+dfTemp['estado'])\n",
    "dfGenEdadEdu[\"nivel+estado\"] = (dfGenEdadEdu[\"nombre\"]+dfGenEdadEdu[\"estado\"])"
   ]
  },
  {
   "cell_type": "code",
   "execution_count": 13,
   "metadata": {},
   "outputs": [],
   "source": [
    "\n",
    "postulacionesXEdu = dfTemp[\"nivel+estado\"].value_counts() / dfGenEdadEdu[\"nivel+estado\"].value_counts()\n",
    "#postulacionesXEdu = postulacionesXEdu.drop(['OtroAbandonado', 'OtroEn Curso', 'OtroGraduado'])\n",
    "postulacionesXEdu = postulacionesXEdu[[ 'DoctoradoGraduado', 'DoctoradoEn Curso','DoctoradoAbandonado',\n",
    "       'MasterGraduado', 'MasterEn Curso','MasterAbandonado' ,\n",
    "       'PosgradoGraduado', 'PosgradoEn Curso','PosgradoAbandonado' ,'UniversitarioGraduado',\n",
    "       'UniversitarioEn Curso', 'UniversitarioAbandonado','Terciario/TécnicoGraduado', 'Terciario/TécnicoEn Curso',\n",
    "        'Terciario/TécnicoAbandonado', 'SecundarioGraduado', 'SecundarioEn Curso' , 'SecundarioAbandonado']]"
   ]
  },
  {
   "cell_type": "code",
   "execution_count": 14,
   "metadata": {},
   "outputs": [
    {
     "data": {
      "text/plain": [
       "Text(0,0.5,'nivel educativo(desordeado)')"
      ]
     },
     "execution_count": 14,
     "metadata": {},
     "output_type": "execute_result"
    },
    {
     "data": {
      "image/png": "[encoded data removed]",
      "text/plain": [
       "<Figure size 432x288 with 1 Axes>"
      ]
     },
     "metadata": {},
     "output_type": "display_data"
    }
   ],
   "source": [
    "# un grafico inutil\n",
    "g = sns.barplot(x=(postulacionesXEdu.values),y=postulacionesXEdu.index)\n",
    "plt.title('Cantidad de Postulaciones segun el nivel educativo',fontsize=\"18\")\n",
    "plt.xlabel('#postulaciones',fontsize=\"14\")\n",
    "plt.ylabel(\"nivel educativo\",fontsize=\"14\")"
   ]
  },
  {
   "cell_type": "code",
   "execution_count": null,
   "metadata": {},
   "outputs": [],
   "source": [
    "def Mequedoconelmejor(row):\n",
    "    if pd.isnull(row['nombre']):\n",
    "        return 'Sin datos'\n",
    "    \n",
    "    \n",
    "\n",
    "dfEdu\n",
    "\n"
   ]
  },
  {
   "cell_type": "code",
   "execution_count": null,
   "metadata": {},
   "outputs": [],
   "source": [
    "4"
   ]
  },
  {
   "cell_type": "code",
   "execution_count": null,
   "metadata": {},
   "outputs": [],
   "source": []
  },
  {
   "cell_type": "code",
   "execution_count": null,
   "metadata": {},
   "outputs": [],
   "source": []
  },
  {
   "cell_type": "code",
   "execution_count": null,
   "metadata": {},
   "outputs": [],
   "source": []
  },
  {
   "cell_type": "code",
   "execution_count": null,
   "metadata": {},
   "outputs": [],
   "source": []
  }
 ],
 "metadata": {
  "kernelspec": {
   "display_name": "Python 3",
   "language": "python",
   "name": "python3"
  },
  "language_info": {
   "codemirror_mode": {
    "name": "ipython",
    "version": 3
   },
   "file_extension": ".py",
   "mimetype": "text/x-python",
   "name": "python",
   "nbconvert_exporter": "python",
   "pygments_lexer": "ipython3",
   "version": "3.5.2"
  }
 },
 "nbformat": 4,
 "nbformat_minor": 2
}
