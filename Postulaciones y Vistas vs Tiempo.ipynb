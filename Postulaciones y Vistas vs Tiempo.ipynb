{
 "cells": [
  {
   "cell_type": "markdown",
   "metadata": {},
   "source": [
    "***Cantidad de Postulaciones y Cantidad de Vistas vs. Tiempo***"
   ]
  },
  {
   "cell_type": "markdown",
   "metadata": {},
   "source": [
    "En este notebook se estudiará la relacion entre la cantidad de postulaciones y de vistas y el factor tiempo. En particular, se analizarán según hora del día, día de la semana y día del mes, evaluando si existe o no alguna correlación de interés que permita sacar conclusiones acerca del comportamiento de las personas según diversidades temporales.\n",
    "\n",
    "Como siempre, se comienza por importar las herramientas que se van a utilzar:"
   ]
  },
  {
   "cell_type": "code",
   "execution_count": 1,
   "metadata": {},
   "outputs": [],
   "source": [
    "#Realizo imports\n",
    "import pandas as pd\n",
    "import numpy as npy\n",
    "import matplotlib as plt\n",
    "import csv\n",
    "%matplotlib inline"
   ]
  },
  {
   "cell_type": "markdown",
   "metadata": {},
   "source": [
    "**Limpieza de datos**"
   ]
  },
  {
   "cell_type": "markdown",
   "metadata": {},
   "source": [
    "Una vez importadas las herramientas a utilizar, se leen los archivos necesarios. Luego, se filtran aquellos datos que no son útiles a los fines de este análisis y se hacen las correcciones que sean necesarias. En este caso, se observará el tipo de dato de las columnas que registran el tiempo de vista/postulación."
   ]
  },
  {
   "cell_type": "code",
   "execution_count": 2,
   "metadata": {},
   "outputs": [
    {
     "data": {
      "text/html": [
       "<div>\n",
       "<style scoped>\n",
       "    .dataframe tbody tr th:only-of-type {\n",
       "        vertical-align: middle;\n",
       "    }\n",
       "\n",
       "    .dataframe tbody tr th {\n",
       "        vertical-align: top;\n",
       "    }\n",
       "\n",
       "    .dataframe thead th {\n",
       "        text-align: right;\n",
       "    }\n",
       "</style>\n",
       "<table border=\"1\" class=\"dataframe\">\n",
       "  <thead>\n",
       "    <tr style=\"text-align: right;\">\n",
       "      <th></th>\n",
       "      <th>idaviso</th>\n",
       "      <th>idpostulante</th>\n",
       "      <th>fechapostulacion</th>\n",
       "    </tr>\n",
       "  </thead>\n",
       "  <tbody>\n",
       "    <tr>\n",
       "      <th>0</th>\n",
       "      <td>1112257047</td>\n",
       "      <td>NM5M</td>\n",
       "      <td>2018-01-15 16:22:34</td>\n",
       "    </tr>\n",
       "    <tr>\n",
       "      <th>1</th>\n",
       "      <td>1111920714</td>\n",
       "      <td>NM5M</td>\n",
       "      <td>2018-02-06 09:04:50</td>\n",
       "    </tr>\n",
       "    <tr>\n",
       "      <th>2</th>\n",
       "      <td>1112346945</td>\n",
       "      <td>NM5M</td>\n",
       "      <td>2018-02-22 09:04:47</td>\n",
       "    </tr>\n",
       "    <tr>\n",
       "      <th>3</th>\n",
       "      <td>1112345547</td>\n",
       "      <td>NM5M</td>\n",
       "      <td>2018-02-22 09:04:59</td>\n",
       "    </tr>\n",
       "    <tr>\n",
       "      <th>4</th>\n",
       "      <td>1112237522</td>\n",
       "      <td>5awk</td>\n",
       "      <td>2018-01-25 18:55:03</td>\n",
       "    </tr>\n",
       "  </tbody>\n",
       "</table>\n",
       "</div>"
      ],
      "text/plain": [
       "      idaviso idpostulante     fechapostulacion\n",
       "0  1112257047         NM5M  2018-01-15 16:22:34\n",
       "1  1111920714         NM5M  2018-02-06 09:04:50\n",
       "2  1112346945         NM5M  2018-02-22 09:04:47\n",
       "3  1112345547         NM5M  2018-02-22 09:04:59\n",
       "4  1112237522         5awk  2018-01-25 18:55:03"
      ]
     },
     "execution_count": 2,
     "metadata": {},
     "output_type": "execute_result"
    }
   ],
   "source": [
    "#Leo el archivo csv de postulaciones y hago un head() para ver qué tiene\n",
    "dfpostulaciones = pd.read_csv(\"TP1/fiuba_4_postulaciones.csv\")\n",
    "dfpostulaciones.head()"
   ]
  },
  {
   "cell_type": "markdown",
   "metadata": {},
   "source": [
    "Ya que lo que interesa en este caso es estudiar el tiempo y contar postulaciones, no se necesita la columna \"idaviso\". Por otra parte, se revisan los tipos de datos. Se busca que en particular, la columna \"fechapostulacion\" sea del tipo datetime."
   ]
  },
  {
   "cell_type": "code",
   "execution_count": 3,
   "metadata": {},
   "outputs": [
    {
     "data": {
      "text/plain": [
       "idpostulante        object\n",
       "fechapostulacion    object\n",
       "dtype: object"
      ]
     },
     "execution_count": 3,
     "metadata": {},
     "output_type": "execute_result"
    }
   ],
   "source": [
    "#Ignoro la columna \"idaviso\" y miro los tipos de los datos\n",
    "dfpostulaciones = dfpostulaciones[[\"idpostulante\",\"fechapostulacion\"]]\n",
    "dfpostulaciones.dtypes"
   ]
  },
  {
   "cell_type": "markdown",
   "metadata": {},
   "source": [
    "Se cambia el tipo de dato de la columna a datetime para poder trabajar con ella."
   ]
  },
  {
   "cell_type": "code",
   "execution_count": 4,
   "metadata": {},
   "outputs": [
    {
     "data": {
      "text/plain": [
       "idpostulante                object\n",
       "fechapostulacion    datetime64[ns]\n",
       "dtype: object"
      ]
     },
     "execution_count": 4,
     "metadata": {},
     "output_type": "execute_result"
    }
   ],
   "source": [
    "#Arreglo el tipo de dato de la columna \"fechapostulacion\"\n",
    "dfpostulaciones[\"fechapostulacion\"] = pd.to_datetime(dfpostulaciones[\"fechapostulacion\"])\n",
    "dfpostulaciones.dtypes"
   ]
  },
  {
   "cell_type": "code",
   "execution_count": 5,
   "metadata": {},
   "outputs": [
    {
     "data": {
      "text/html": [
       "<div>\n",
       "<style scoped>\n",
       "    .dataframe tbody tr th:only-of-type {\n",
       "        vertical-align: middle;\n",
       "    }\n",
       "\n",
       "    .dataframe tbody tr th {\n",
       "        vertical-align: top;\n",
       "    }\n",
       "\n",
       "    .dataframe thead th {\n",
       "        text-align: right;\n",
       "    }\n",
       "</style>\n",
       "<table border=\"1\" class=\"dataframe\">\n",
       "  <thead>\n",
       "    <tr style=\"text-align: right;\">\n",
       "      <th></th>\n",
       "      <th>idAviso</th>\n",
       "      <th>timestamp</th>\n",
       "      <th>idpostulante</th>\n",
       "    </tr>\n",
       "  </thead>\n",
       "  <tbody>\n",
       "    <tr>\n",
       "      <th>0</th>\n",
       "      <td>1111780242</td>\n",
       "      <td>2018-02-23T13:38:13.187-0500</td>\n",
       "      <td>YjVJQ6Z</td>\n",
       "    </tr>\n",
       "    <tr>\n",
       "      <th>1</th>\n",
       "      <td>1112263876</td>\n",
       "      <td>2018-02-23T13:38:14.296-0500</td>\n",
       "      <td>BmVpYoR</td>\n",
       "    </tr>\n",
       "    <tr>\n",
       "      <th>2</th>\n",
       "      <td>1112327963</td>\n",
       "      <td>2018-02-23T13:38:14.329-0500</td>\n",
       "      <td>wVkBzZd</td>\n",
       "    </tr>\n",
       "    <tr>\n",
       "      <th>3</th>\n",
       "      <td>1112318643</td>\n",
       "      <td>2018-02-23T13:38:17.921-0500</td>\n",
       "      <td>OqmP9pv</td>\n",
       "    </tr>\n",
       "    <tr>\n",
       "      <th>4</th>\n",
       "      <td>1111903673</td>\n",
       "      <td>2018-02-23T13:38:18.973-0500</td>\n",
       "      <td>DrpbXDP</td>\n",
       "    </tr>\n",
       "  </tbody>\n",
       "</table>\n",
       "</div>"
      ],
      "text/plain": [
       "      idAviso                     timestamp idpostulante\n",
       "0  1111780242  2018-02-23T13:38:13.187-0500      YjVJQ6Z\n",
       "1  1112263876  2018-02-23T13:38:14.296-0500      BmVpYoR\n",
       "2  1112327963  2018-02-23T13:38:14.329-0500      wVkBzZd\n",
       "3  1112318643  2018-02-23T13:38:17.921-0500      OqmP9pv\n",
       "4  1111903673  2018-02-23T13:38:18.973-0500      DrpbXDP"
      ]
     },
     "execution_count": 5,
     "metadata": {},
     "output_type": "execute_result"
    }
   ],
   "source": [
    "#Leo el archivo csv de vistas y hago un head() para ver qué tiene\n",
    "dfvistas = pd.read_csv(\"TP1/fiuba_3_vistas.csv\")\n",
    "dfvistas.head()"
   ]
  },
  {
   "cell_type": "markdown",
   "metadata": {},
   "source": [
    "Antes de continuar, cabe destacar que existen más de una vista por persona a un mismo aviso. Para este análisis, se descartarán aquellos registros duplicados que contengan el mismo idAviso e idpostulante, es decir, no se permitirá lo anterior. Se considerará una única vista por persona por aviso. La diferencia en cantidad de información se puede apreciar realizando df.shape:"
   ]
  },
  {
   "cell_type": "code",
   "execution_count": 6,
   "metadata": {},
   "outputs": [
    {
     "data": {
      "text/plain": [
       "(961897, 3)"
      ]
     },
     "execution_count": 6,
     "metadata": {},
     "output_type": "execute_result"
    }
   ],
   "source": [
    "dfvistas.shape"
   ]
  },
  {
   "cell_type": "code",
   "execution_count": 7,
   "metadata": {},
   "outputs": [],
   "source": [
    "dfvistas = dfvistas.drop_duplicates(subset = [\"idAviso\", \"idpostulante\"])"
   ]
  },
  {
   "cell_type": "code",
   "execution_count": 8,
   "metadata": {},
   "outputs": [
    {
     "data": {
      "text/plain": [
       "(592299, 3)"
      ]
     },
     "execution_count": 8,
     "metadata": {},
     "output_type": "execute_result"
    }
   ],
   "source": [
    "dfvistas.shape"
   ]
  },
  {
   "cell_type": "markdown",
   "metadata": {},
   "source": [
    "Existían 369.598 registros duplicados en los términos antes mencionados. Ahora se prosigue de la misma forma que con el data frame de postulaciones."
   ]
  },
  {
   "cell_type": "code",
   "execution_count": 9,
   "metadata": {},
   "outputs": [
    {
     "data": {
      "text/plain": [
       "idpostulante    object\n",
       "timestamp       object\n",
       "dtype: object"
      ]
     },
     "execution_count": 9,
     "metadata": {},
     "output_type": "execute_result"
    }
   ],
   "source": [
    "#Ignoro la columna \"idAviso\" y miro los tipos de los datos\n",
    "dfvistas = dfvistas[[\"idpostulante\",\"timestamp\"]]\n",
    "dfvistas.dtypes"
   ]
  },
  {
   "cell_type": "code",
   "execution_count": 10,
   "metadata": {},
   "outputs": [
    {
     "data": {
      "text/plain": [
       "idpostulante            object\n",
       "timestamp       datetime64[ns]\n",
       "dtype: object"
      ]
     },
     "execution_count": 10,
     "metadata": {},
     "output_type": "execute_result"
    }
   ],
   "source": [
    "#Arreglo el tipo de dato de la columna \"timestamp\"\n",
    "dfvistas[\"timestamp\"] = pd.to_datetime(dfvistas[\"timestamp\"])\n",
    "dfvistas.dtypes"
   ]
  },
  {
   "cell_type": "markdown",
   "metadata": {},
   "source": [
    "Ahora que se tienen los data frames \"dfpostulaciones\" y \"dfavisos\" con la información necesaria y los tipos de datos correctos, se prosigue con los análisis."
   ]
  },
  {
   "cell_type": "markdown",
   "metadata": {},
   "source": [
    "**Postulaciones y Hora del Día**"
   ]
  },
  {
   "cell_type": "code",
   "execution_count": 11,
   "metadata": {},
   "outputs": [
    {
     "data": {
      "text/plain": [
       "Text(0,0.5,'Cantidad de postulaciones')"
      ]
     },
     "execution_count": 11,
     "metadata": {},
     "output_type": "execute_result"
    },
    {
     "data": {
      "image/png": "[encoded data removed]",
      "text/plain": [
       "<matplotlib.figure.Figure at 0x20a6656fa20>"
      ]
     },
     "metadata": {},
     "output_type": "display_data"
    }
   ],
   "source": [
    "#Se obtiene la hora, se cuenta y se vuelca en un gráfico\n",
    "grafico1 = dfpostulaciones[\"fechapostulacion\"].dt.hour.value_counts().sort_index().plot(kind = \"bar\")\n",
    "grafico1.set_title(\"Cantidad de postulaciones por hora del día\")\n",
    "grafico1.set_xlabel(\"Hora del día\", fontsize = 12)\n",
    "grafico1.set_ylabel(\"Cantidad de postulaciones\", fontsize = 12)"
   ]
  },
  {
   "cell_type": "markdown",
   "metadata": {},
   "source": [
    "La mayor cantidad de postulaciones se registra por la mañana, donde el pico se observa alrededor de las 9 horas. A partir de ahí, el número disminuye casi constantemente cuánto más tarde se hace, hasta las 23 horas, cuando se nota una brusca caída. En los horarios de la madrugada se observa la mímina cantidad de postulaciones, en particular, a las 3 horas. \n",
    "\n",
    "Este patrón tiene sentido con una rutina de decisión y acción donde es frecuente que la decisión se tome un día y su acción sea lo primero que se realiza el día siguiente."
   ]
  },
  {
   "cell_type": "markdown",
   "metadata": {},
   "source": [
    "**Vistas y Hora del Día**"
   ]
  },
  {
   "cell_type": "code",
   "execution_count": 12,
   "metadata": {},
   "outputs": [
    {
     "data": {
      "text/plain": [
       "Text(0,0.5,'Cantidad de vistas')"
      ]
     },
     "execution_count": 12,
     "metadata": {},
     "output_type": "execute_result"
    },
    {
     "data": {
      "image/png": "[encoded data removed]",
      "text/plain": [
       "<matplotlib.figure.Figure at 0x20a4a6fa240>"
      ]
     },
     "metadata": {},
     "output_type": "display_data"
    }
   ],
   "source": [
    "#Se obtiene la hora, se cuenta y se vuelca en un gráfico\n",
    "grafico2 = dfvistas[\"timestamp\"].dt.hour.value_counts().sort_index().plot(kind = \"bar\")\n",
    "grafico2.set_title(\"Cantidad de vistas por hora del día\")\n",
    "grafico2.set_xlabel(\"Hora del día\", fontsize = 12)\n",
    "grafico2.set_ylabel(\"Cantidad de vistas\", fontsize = 12)"
   ]
  },
  {
   "cell_type": "markdown",
   "metadata": {},
   "source": [
    "En este gráfico se observa que por la mañana se encuentra el mínimo de vistas mientras que por la tarde aumenta notoriamente y permanece alto hasta media madrugada.\n",
    "\n",
    "Este patrón tiene que ver con cuándo tiene una persona promedio tiempo libre para explorar las distintas posibilidades a empleo. Por las mañanas, es posible que una persona se encuentre durmiendo, en otro trabajo o estudiando. A eso de las 14 horas, durante el almuerzo, la gente suele tener tiempo libre, el cual puede utilizar para realizar dichas vistas. Luego disminuye de nuevo, probablemente por la ocupación o estudios, y vuelve a aumentar a eso de las 19 horas cuando se suele regresar a las casas. Finalmente, es común asimismo quedarse hasta tarde viendo opciones de empleo, lo cual justifica la cantidad de vistas por la madrugada."
   ]
  },
  {
   "cell_type": "markdown",
   "metadata": {},
   "source": [
    "**Postulaciones y Día de la Semana**"
   ]
  },
  {
   "cell_type": "code",
   "execution_count": 13,
   "metadata": {},
   "outputs": [
    {
     "data": {
      "text/plain": [
       "Text(0,0.5,'Cantidad de postulaciones')"
      ]
     },
     "execution_count": 13,
     "metadata": {},
     "output_type": "execute_result"
    },
    {
     "data": {
      "image/png": "[encoded data removed]",
      "text/plain": [
       "<matplotlib.figure.Figure at 0x20a4aa9f400>"
      ]
     },
     "metadata": {},
     "output_type": "display_data"
    }
   ],
   "source": [
    "#Se obtiene el día de la semana, se cuenta y se vuelca en un gráfico\n",
    "grafico3 = dfpostulaciones[\"fechapostulacion\"].dt.weekday.value_counts().sort_index().plot(kind = \"bar\")\n",
    "grafico3.set_title(\"Cantidad de postulaciones por día de la semana\", fontsize=18)\n",
    "grafico3.set_xlabel(\"Día de la semana\", fontsize=12)\n",
    "grafico3.set_ylabel(\"Cantidad de postulaciones\", fontsize=12)"
   ]
  },
  {
   "cell_type": "markdown",
   "metadata": {},
   "source": [
    "La mayor cantidad de postulaciones se realizan al comienzo de la semana, mientras que durante los fines de semana se registra la menor cantidad. A pesar de que normalmente se tiene más tiempo libre un sábado o domingo que un lunes, es probable que no se ocupen del tema. En cambio, durante la semana se registra mayor actividad, la cual decae a medida que se acerca el fin de semana.\n",
    "\n",
    "\n",
    "CAMBIAR LABELS"
   ]
  },
  {
   "cell_type": "markdown",
   "metadata": {},
   "source": [
    "**Vistas y Día de la Semana**"
   ]
  },
  {
   "cell_type": "code",
   "execution_count": 14,
   "metadata": {},
   "outputs": [
    {
     "data": {
      "text/plain": [
       "Text(0,0.5,'Cantidad de vistas')"
      ]
     },
     "execution_count": 14,
     "metadata": {},
     "output_type": "execute_result"
    },
    {
     "data": {
      "image/png": "[encoded data removed]",
      "text/plain": [
       "<matplotlib.figure.Figure at 0x20a4ab17400>"
      ]
     },
     "metadata": {},
     "output_type": "display_data"
    }
   ],
   "source": [
    "#Se obtiene el día de la semana, se cuenta y se vuelca en un gráfico\n",
    "grafico4 = dfvistas[\"timestamp\"].dt.weekday.value_counts().sort_index().plot(kind = \"bar\")\n",
    "grafico4.set_title(\"Cantidad de vistas por día de la semana\")\n",
    "grafico4.set_xlabel(\"Día de la semana\", fontsize = 12)\n",
    "grafico4.set_ylabel(\"Cantidad de vistas\", fontsize = 12)"
   ]
  },
  {
   "cell_type": "markdown",
   "metadata": {},
   "source": [
    "Antes que nada, cabe destacar que esta información se obtiene de una única semana, del 23/2 al 1/3. De nuevo se observa una gran cantidad de vistas al comienzo de la semana (lunes, martes y miercoles) mientras que el resto de los días registra menores cantidades. Una vez más, el trabajo se concentra al comienzo de la semana mientras que el resto de los días se aprovecha el tiempo libre para otras actividades. \n",
    "\n",
    "\n",
    "CAMBIAR LABELS"
   ]
  },
  {
   "cell_type": "markdown",
   "metadata": {},
   "source": [
    "**Postulaciones y Día del Mes**"
   ]
  },
  {
   "cell_type": "code",
   "execution_count": 15,
   "metadata": {},
   "outputs": [
    {
     "data": {
      "text/plain": [
       "Text(0,0.5,'Cantidad de postulaciones')"
      ]
     },
     "execution_count": 15,
     "metadata": {},
     "output_type": "execute_result"
    },
    {
     "data": {
      "image/png": "[encoded data removed]",
      "text/plain": [
       "<matplotlib.figure.Figure at 0x20a4ab8e3c8>"
      ]
     },
     "metadata": {},
     "output_type": "display_data"
    }
   ],
   "source": [
    "#Filtro por mes de Enero, cuento y grafico\n",
    "Dias_De_Enero1 = dfpostulaciones.loc[dfpostulaciones[\"fechapostulacion\"].dt.month == 1,][\"fechapostulacion\"].dt.day.value_counts().sort_index().plot(kind = \"bar\")\n",
    "Dias_De_Enero1.set_title(\"Cantidad de postulaciones por día - Enero\", fontsize = 18)\n",
    "Dias_De_Enero1.set_xlabel(\"Día del mes\", fontsize = 12)\n",
    "Dias_De_Enero1.set_ylabel(\"Cantidad de postulaciones\", fontsize = 12)"
   ]
  },
  {
   "cell_type": "markdown",
   "metadata": {},
   "source": [
    "Esta data pertenece al mes de Enero, en el cual sólo se tiene información de la segunda mitad del mes. Los valles que se observan a los días 20, 21, 27 y 28 corresponden a fines de semana donde es más común que se descanse en vez de ocuparse de postularse a empleos. Los jueves y viernes anteriores a estos días, es decir los días 18, 19, 25, y 26 presentan una disminución de la cantidad de postulaciones, en preparación para el fin de semana. Más alla de esto, el resto de los días, que corresponden a lunes, martes y miércoles, muestran la mayor cantidad de postulaciones. Las personas suelen preocuparse sobre su futuro laboral principalmente durante el comienzo de la semana."
   ]
  },
  {
   "cell_type": "code",
   "execution_count": 16,
   "metadata": {},
   "outputs": [
    {
     "data": {
      "text/plain": [
       "Text(0,0.5,'Cantidad de postulaciones')"
      ]
     },
     "execution_count": 16,
     "metadata": {},
     "output_type": "execute_result"
    },
    {
     "data": {
      "image/png": "[encoded data removed]",
      "text/plain": [
       "<matplotlib.figure.Figure at 0x20a4ac14518>"
      ]
     },
     "metadata": {},
     "output_type": "display_data"
    }
   ],
   "source": [
    "#Filtro por mes de Febrero, cuento y grafico\n",
    "Dias_De_Febrero1 = dfpostulaciones.loc[dfpostulaciones[\"fechapostulacion\"].dt.month == 2,][\"fechapostulacion\"].dt.day.value_counts().sort_index().plot(kind = \"bar\")\n",
    "Dias_De_Febrero1.set_title(\"Cantidad de postulaciones por día - Febrero\", fontsize = 18)\n",
    "Dias_De_Febrero1.set_xlabel(\"Día del mes\", fontsize = 12)\n",
    "Dias_De_Febrero1.set_ylabel(\"Cantidad de postulaciones\", fontsize = 12)"
   ]
  },
  {
   "cell_type": "markdown",
   "metadata": {},
   "source": [
    "Esta data pertenece al mes de Febrero, donde se tiene información sobre todo el mes. Al igual que en el gráfico anterior, se observan los valles en los fines de semana, con la adición de los días 12 y 13 de febrero que correspondieron a los feriados carnaval. Más allá de eso, presenta los mismos patrones del gráfico anterior: la cantidad de postulaciones es alta al comenzar la semana y disminuye a medida que se acerca el fin de la misma."
   ]
  },
  {
   "cell_type": "markdown",
   "metadata": {},
   "source": [
    "**Vistas y Día del Mes**"
   ]
  },
  {
   "cell_type": "code",
   "execution_count": 17,
   "metadata": {},
   "outputs": [
    {
     "data": {
      "text/plain": [
       "Text(0,0.5,'Cantidad de vistas')"
      ]
     },
     "execution_count": 17,
     "metadata": {},
     "output_type": "execute_result"
    },
    {
     "data": {
      "image/png": "[encoded data removed]",
      "text/plain": [
       "<matplotlib.figure.Figure at 0x20a4cbb7780>"
      ]
     },
     "metadata": {},
     "output_type": "display_data"
    }
   ],
   "source": [
    "#Cuento y grafico\n",
    "Dias = dfvistas.loc[dfvistas[\"timestamp\"].dt.month == 2,][\"timestamp\"].dt.day.value_counts().sort_index().plot(kind = \"bar\")\n",
    "Dias.set_title(\"Cantidad de vistas por día del mes\", fontsize = 18)\n",
    "Dias.set_xlabel(\"Día del mes\", fontsize = 12)\n",
    "Dias.set_ylabel(\"Cantidad de vistas\", fontsize = 12)"
   ]
  },
  {
   "cell_type": "markdown",
   "metadata": {},
   "source": [
    "Esta información corresponde a las vistas realizadas desde el viernes 23/2 hasta el miercoles 28/2, es decir, seis días. Una vez más, se observa el mismo patrón: 26, 27 y 28 corresponden a lunes, martes y jueves, donde se registra la mayor cantidad de vistas, mientras que durante el fin de semana, la menor.\n",
    "\n",
    "Fue necesario realizar ese \"dataframe.loc\" para filtrar una serie de registros que corresponden al jueves primero de marzo, donde la información alcanzaba únicamente el horario de las cuatro de la madrugada en vez de todo el día, distorcionando la interpretación de la información."
   ]
  }
 ],
 "metadata": {
  "kernelspec": {
   "display_name": "Python 3",
   "language": "python",
   "name": "python3"
  },
  "language_info": {
   "codemirror_mode": {
    "name": "ipython",
    "version": 3
   },
   "file_extension": ".py",
   "mimetype": "text/x-python",
   "name": "python",
   "nbconvert_exporter": "python",
   "pygments_lexer": "ipython3",
   "version": "3.6.4"
  }
 },
 "nbformat": 4,
 "nbformat_minor": 2
}
