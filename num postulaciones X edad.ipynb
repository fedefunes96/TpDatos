{
 "cells": [
  {
   "cell_type": "code",
   "execution_count": 1,
   "metadata": {},
   "outputs": [],
   "source": [
    "\n",
    "import pandas as pd\n",
    "import numpy as np\n",
    "import matplotlib.pyplot as plt\n",
    "import seaborn as sns\n",
    "%matplotlib inline\n",
    "\n",
    "dTypes = {\n",
    "        'fechanacimiento': str\n",
    "}\n",
    "\n",
    "\n",
    "\n",
    "dfGenEdad = pd.read_csv(\"fiuba_2_postulantes_genero_y_edad.csv\", dtype=dTypes)\n",
    "dfAvisos = pd.read_csv(\"fiuba_5_avisos_online.csv\")\n",
    "dfAvisosDet = pd.read_csv(\"fiuba_6_avisos_detalle.csv\")\n",
    "dfPostu = pd.read_csv(\"fiuba_4_postulaciones.csv\")\n",
    "dfVistas = pd.read_csv(\"fiuba_3_vistas.csv\")\n",
    "dfEdu = pd.read_csv(\"fiuba_1_postulantes_educacion.csv\")\n"
   ]
  },
  {
   "cell_type": "code",
   "execution_count": null,
   "metadata": {},
   "outputs": [],
   "source": []
  },
  {
   "cell_type": "code",
   "execution_count": 2,
   "metadata": {},
   "outputs": [],
   "source": [
    "dfPostuGen = pd.merge(dfPostu, dfGenEdad, on=['idpostulante'], how='inner')"
   ]
  },
  {
   "cell_type": "code",
   "execution_count": 3,
   "metadata": {},
   "outputs": [
    {
     "data": {
      "text/html": [
       "<div>\n",
       "<style scoped>\n",
       "    .dataframe tbody tr th:only-of-type {\n",
       "        vertical-align: middle;\n",
       "    }\n",
       "\n",
       "    .dataframe tbody tr th {\n",
       "        vertical-align: top;\n",
       "    }\n",
       "\n",
       "    .dataframe thead th {\n",
       "        text-align: right;\n",
       "    }\n",
       "</style>\n",
       "<table border=\"1\" class=\"dataframe\">\n",
       "  <thead>\n",
       "    <tr style=\"text-align: right;\">\n",
       "      <th></th>\n",
       "      <th>idaviso</th>\n",
       "      <th>idpostulante</th>\n",
       "      <th>fechapostulacion</th>\n",
       "      <th>fechanacimiento</th>\n",
       "    </tr>\n",
       "    <tr>\n",
       "      <th>sexo</th>\n",
       "      <th></th>\n",
       "      <th></th>\n",
       "      <th></th>\n",
       "      <th></th>\n",
       "    </tr>\n",
       "  </thead>\n",
       "  <tbody>\n",
       "    <tr>\n",
       "      <th>FEM</th>\n",
       "      <td>1688939</td>\n",
       "      <td>1688939</td>\n",
       "      <td>1688939</td>\n",
       "      <td>1686041</td>\n",
       "    </tr>\n",
       "    <tr>\n",
       "      <th>MASC</th>\n",
       "      <td>1668601</td>\n",
       "      <td>1668601</td>\n",
       "      <td>1668601</td>\n",
       "      <td>1664916</td>\n",
       "    </tr>\n",
       "    <tr>\n",
       "      <th>NO_DECLARA</th>\n",
       "      <td>44083</td>\n",
       "      <td>44083</td>\n",
       "      <td>44083</td>\n",
       "      <td>6202</td>\n",
       "    </tr>\n",
       "  </tbody>\n",
       "</table>\n",
       "</div>"
      ],
      "text/plain": [
       "            idaviso  idpostulante  fechapostulacion  fechanacimiento\n",
       "sexo                                                                \n",
       "FEM         1688939       1688939           1688939          1686041\n",
       "MASC        1668601       1668601           1668601          1664916\n",
       "NO_DECLARA    44083         44083             44083             6202"
      ]
     },
     "execution_count": 3,
     "metadata": {},
     "output_type": "execute_result"
    }
   ],
   "source": [
    "dfPostuGen.groupby('sexo').count()"
   ]
  },
  {
   "cell_type": "code",
   "execution_count": 4,
   "metadata": {},
   "outputs": [],
   "source": [
    "dfPostuGen = dfPostuGen.loc[(dfPostuGen['sexo'] == 'FEM')|(dfPostuGen['sexo'] == 'MASC'), ['sexo', 'idaviso']]"
   ]
  },
  {
   "cell_type": "code",
   "execution_count": 5,
   "metadata": {},
   "outputs": [
    {
     "data": {
      "text/plain": [
       "Text(0,0.5,'Cantidad')"
      ]
     },
     "execution_count": 5,
     "metadata": {},
     "output_type": "execute_result"
    },
    {
     "data": {
      "image/png": "[encoded data removed]",
      "text/plain": [
       "<Figure size 576x288 with 1 Axes>"
      ]
     },
     "metadata": {},
     "output_type": "display_data"
    }
   ],
   "source": [
    "dfPostuGen.groupby('sexo').count().plot(kind='bar', figsize=(8,4))\n",
    "plt.title('Cantidad de Postulaciones segun el sexo',fontsize=\"18\")\n",
    "plt.xlabel('Sexo',fontsize=\"14\")\n",
    "plt.ylabel(\"Cantidad\",fontsize=\"14\")"
   ]
  },
  {
   "cell_type": "code",
   "execution_count": 6,
   "metadata": {},
   "outputs": [
    {
     "data": {
      "text/html": [
       "<div>\n",
       "<style scoped>\n",
       "    .dataframe tbody tr th:only-of-type {\n",
       "        vertical-align: middle;\n",
       "    }\n",
       "\n",
       "    .dataframe tbody tr th {\n",
       "        vertical-align: top;\n",
       "    }\n",
       "\n",
       "    .dataframe thead th {\n",
       "        text-align: right;\n",
       "    }\n",
       "</style>\n",
       "<table border=\"1\" class=\"dataframe\">\n",
       "  <thead>\n",
       "    <tr style=\"text-align: right;\">\n",
       "      <th></th>\n",
       "      <th>idaviso</th>\n",
       "    </tr>\n",
       "    <tr>\n",
       "      <th>sexo</th>\n",
       "      <th></th>\n",
       "    </tr>\n",
       "  </thead>\n",
       "  <tbody>\n",
       "    <tr>\n",
       "      <th>FEM</th>\n",
       "      <td>1688939</td>\n",
       "    </tr>\n",
       "    <tr>\n",
       "      <th>MASC</th>\n",
       "      <td>1668601</td>\n",
       "    </tr>\n",
       "  </tbody>\n",
       "</table>\n",
       "</div>"
      ],
      "text/plain": [
       "      idaviso\n",
       "sexo         \n",
       "FEM   1688939\n",
       "MASC  1668601"
      ]
     },
     "execution_count": 6,
     "metadata": {},
     "output_type": "execute_result"
    }
   ],
   "source": [
    "dfPostuGen.groupby('sexo').count()"
   ]
  },
  {
   "cell_type": "code",
   "execution_count": 7,
   "metadata": {},
   "outputs": [
    {
     "data": {
      "text/html": [
       "<div>\n",
       "<style scoped>\n",
       "    .dataframe tbody tr th:only-of-type {\n",
       "        vertical-align: middle;\n",
       "    }\n",
       "\n",
       "    .dataframe tbody tr th {\n",
       "        vertical-align: top;\n",
       "    }\n",
       "\n",
       "    .dataframe thead tr th {\n",
       "        text-align: left;\n",
       "    }\n",
       "\n",
       "    .dataframe thead tr:last-of-type th {\n",
       "        text-align: right;\n",
       "    }\n",
       "</style>\n",
       "<table border=\"1\" class=\"dataframe\">\n",
       "  <thead>\n",
       "    <tr>\n",
       "      <th></th>\n",
       "      <th colspan=\"2\" halign=\"left\">idaviso</th>\n",
       "    </tr>\n",
       "    <tr>\n",
       "      <th></th>\n",
       "      <th>count</th>\n",
       "      <th>sum</th>\n",
       "    </tr>\n",
       "    <tr>\n",
       "      <th>sexo</th>\n",
       "      <th></th>\n",
       "      <th></th>\n",
       "    </tr>\n",
       "  </thead>\n",
       "  <tbody>\n",
       "    <tr>\n",
       "      <th>FEM</th>\n",
       "      <td>1688939</td>\n",
       "      <td>1877026270168631</td>\n",
       "    </tr>\n",
       "    <tr>\n",
       "      <th>MASC</th>\n",
       "      <td>1668601</td>\n",
       "      <td>1854673369406758</td>\n",
       "    </tr>\n",
       "  </tbody>\n",
       "</table>\n",
       "</div>"
      ],
      "text/plain": [
       "      idaviso                  \n",
       "        count               sum\n",
       "sexo                           \n",
       "FEM   1688939  1877026270168631\n",
       "MASC  1668601  1854673369406758"
      ]
     },
     "execution_count": 7,
     "metadata": {},
     "output_type": "execute_result"
    }
   ],
   "source": [
    "dfPostuGen.groupby('sexo').agg({'idaviso':['count', 'sum']})"
   ]
  },
  {
   "cell_type": "code",
   "execution_count": 8,
   "metadata": {},
   "outputs": [
    {
     "data": {
      "text/html": [
       "<div>\n",
       "<style scoped>\n",
       "    .dataframe tbody tr th:only-of-type {\n",
       "        vertical-align: middle;\n",
       "    }\n",
       "\n",
       "    .dataframe tbody tr th {\n",
       "        vertical-align: top;\n",
       "    }\n",
       "\n",
       "    .dataframe thead th {\n",
       "        text-align: right;\n",
       "    }\n",
       "</style>\n",
       "<table border=\"1\" class=\"dataframe\">\n",
       "  <thead>\n",
       "    <tr style=\"text-align: right;\">\n",
       "      <th></th>\n",
       "      <th>idpostulante</th>\n",
       "      <th>fechanacimiento</th>\n",
       "      <th>sexo</th>\n",
       "    </tr>\n",
       "  </thead>\n",
       "  <tbody>\n",
       "    <tr>\n",
       "      <th>0</th>\n",
       "      <td>NM5M</td>\n",
       "      <td>1970-12-03</td>\n",
       "      <td>FEM</td>\n",
       "    </tr>\n",
       "    <tr>\n",
       "      <th>1</th>\n",
       "      <td>5awk</td>\n",
       "      <td>1962-12-04</td>\n",
       "      <td>FEM</td>\n",
       "    </tr>\n",
       "    <tr>\n",
       "      <th>2</th>\n",
       "      <td>ZaO5</td>\n",
       "      <td>1978-08-10</td>\n",
       "      <td>FEM</td>\n",
       "    </tr>\n",
       "    <tr>\n",
       "      <th>3</th>\n",
       "      <td>NdJl</td>\n",
       "      <td>1969-05-09</td>\n",
       "      <td>MASC</td>\n",
       "    </tr>\n",
       "    <tr>\n",
       "      <th>4</th>\n",
       "      <td>eo2p</td>\n",
       "      <td>1981-02-16</td>\n",
       "      <td>MASC</td>\n",
       "    </tr>\n",
       "  </tbody>\n",
       "</table>\n",
       "</div>"
      ],
      "text/plain": [
       "  idpostulante fechanacimiento  sexo\n",
       "0         NM5M      1970-12-03   FEM\n",
       "1         5awk      1962-12-04   FEM\n",
       "2         ZaO5      1978-08-10   FEM\n",
       "3         NdJl      1969-05-09  MASC\n",
       "4         eo2p      1981-02-16  MASC"
      ]
     },
     "execution_count": 8,
     "metadata": {},
     "output_type": "execute_result"
    }
   ],
   "source": [
    "dfGenEdad.head()"
   ]
  },
  {
   "cell_type": "code",
   "execution_count": 9,
   "metadata": {},
   "outputs": [],
   "source": [
    "dfGenEdad = dfGenEdad.dropna(subset=['fechanacimiento'], how='any')"
   ]
  },
  {
   "cell_type": "code",
   "execution_count": 10,
   "metadata": {},
   "outputs": [],
   "source": [
    "def calcular_edad(row):\n",
    "    \n",
    "    lista = row['fechanacimiento'].split('-')\n",
    "    return 2018-int(lista[0])\n",
    "\n",
    "dfGenEdad['edad'] = dfGenEdad.apply(calcular_edad, axis=1)"
   ]
  },
  {
   "cell_type": "code",
   "execution_count": 11,
   "metadata": {},
   "outputs": [],
   "source": [
    "dfGenEdad = dfGenEdad.loc[(dfGenEdad['edad']<= 76)&(dfGenEdad['edad']>= 18), ['idpostulante', 'sexo', 'edad']]"
   ]
  },
  {
   "cell_type": "code",
   "execution_count": 12,
   "metadata": {},
   "outputs": [
    {
     "data": {
      "text/plain": [
       "182639    18\n",
       "195429    18\n",
       "197703    18\n",
       "191945    18\n",
       "177020    18\n",
       "199763    18\n",
       "191983    18\n",
       "161634    18\n",
       "197716    18\n",
       "175758    18\n",
       "175756    18\n",
       "172116    18\n",
       "199743    18\n",
       "172051    18\n",
       "172033    18\n",
       "197751    18\n",
       "188120    18\n",
       "154541    18\n",
       "166221    18\n",
       "188072    18\n",
       "161862    18\n",
       "179977    18\n",
       "183897    18\n",
       "90271     18\n",
       "171967    18\n",
       "182632    18\n",
       "188249    18\n",
       "188313    18\n",
       "199869    18\n",
       "195510    18\n",
       "          ..\n",
       "87775     69\n",
       "9245      69\n",
       "3689      69\n",
       "1085      69\n",
       "84750     70\n",
       "5274      70\n",
       "1440      70\n",
       "3784      70\n",
       "168604    70\n",
       "3750      70\n",
       "135106    70\n",
       "80254     70\n",
       "108855    70\n",
       "41689     71\n",
       "49323     71\n",
       "97800     71\n",
       "63142     71\n",
       "52616     71\n",
       "115060    71\n",
       "145374    71\n",
       "520       72\n",
       "44744     72\n",
       "98648     74\n",
       "11671     74\n",
       "64272     74\n",
       "25080     75\n",
       "17969     75\n",
       "199706    76\n",
       "15039     76\n",
       "55962     76\n",
       "Name: edad, Length: 196125, dtype: int64"
      ]
     },
     "execution_count": 12,
     "metadata": {},
     "output_type": "execute_result"
    }
   ],
   "source": [
    "dfGenEdad.loc[:, ['idpostulante', 'edad']].sort_values('edad', ascending=True)['edad']"
   ]
  },
  {
   "cell_type": "code",
   "execution_count": 13,
   "metadata": {},
   "outputs": [
    {
     "data": {
      "image/png": "[encoded data removed]",
      "text/plain": [
       "<Figure size 432x288 with 1 Axes>"
      ]
     },
     "metadata": {},
     "output_type": "display_data"
    },
    {
     "data": {
      "text/plain": [
       "<Figure size 1224x72 with 0 Axes>"
      ]
     },
     "metadata": {},
     "output_type": "display_data"
    }
   ],
   "source": [
    "#dfGenEdad.loc[:, ['idpostulante', 'edad']].groupby('edad').count().plot(kind='bar', figsize=(12,8))\n",
    "\n",
    "plt.hist(dfGenEdad.loc[:, ['idpostulante', 'edad']].sort_values('edad', ascending=True)['edad'], bins=57)\n",
    "plt.xlabel(\"Cantidad de postulantes\", fontsize='14')\n",
    "plt.ylabel(\"Edad\", fontsize='14')\n",
    "plt.title(\"Cantidad de postulantes segun su edad\", fontsize='18')\n",
    "plt.figure(figsize=(17, 1))\n",
    "plt.show()"
   ]
  },
  {
   "cell_type": "code",
   "execution_count": 14,
   "metadata": {},
   "outputs": [
    {
     "data": {
      "text/html": [
       "<div>\n",
       "<style scoped>\n",
       "    .dataframe tbody tr th:only-of-type {\n",
       "        vertical-align: middle;\n",
       "    }\n",
       "\n",
       "    .dataframe tbody tr th {\n",
       "        vertical-align: top;\n",
       "    }\n",
       "\n",
       "    .dataframe thead th {\n",
       "        text-align: right;\n",
       "    }\n",
       "</style>\n",
       "<table border=\"1\" class=\"dataframe\">\n",
       "  <thead>\n",
       "    <tr style=\"text-align: right;\">\n",
       "      <th></th>\n",
       "      <th>idpostulante</th>\n",
       "      <th>edad</th>\n",
       "    </tr>\n",
       "  </thead>\n",
       "  <tbody>\n",
       "    <tr>\n",
       "      <th>182639</th>\n",
       "      <td>2zP08Q6</td>\n",
       "      <td>18</td>\n",
       "    </tr>\n",
       "    <tr>\n",
       "      <th>195429</th>\n",
       "      <td>Rzre01x</td>\n",
       "      <td>18</td>\n",
       "    </tr>\n",
       "    <tr>\n",
       "      <th>197703</th>\n",
       "      <td>akjMN5Z</td>\n",
       "      <td>18</td>\n",
       "    </tr>\n",
       "    <tr>\n",
       "      <th>191945</th>\n",
       "      <td>LNK36Vp</td>\n",
       "      <td>18</td>\n",
       "    </tr>\n",
       "    <tr>\n",
       "      <th>177020</th>\n",
       "      <td>wVk1BEp</td>\n",
       "      <td>18</td>\n",
       "    </tr>\n",
       "  </tbody>\n",
       "</table>\n",
       "</div>"
      ],
      "text/plain": [
       "       idpostulante  edad\n",
       "182639      2zP08Q6    18\n",
       "195429      Rzre01x    18\n",
       "197703      akjMN5Z    18\n",
       "191945      LNK36Vp    18\n",
       "177020      wVk1BEp    18"
      ]
     },
     "execution_count": 14,
     "metadata": {},
     "output_type": "execute_result"
    }
   ],
   "source": [
    "dfGenEdad.loc[:, ['idpostulante', 'edad']].sort_values('edad', ascending=True).head()"
   ]
  },
  {
   "cell_type": "code",
   "execution_count": 15,
   "metadata": {},
   "outputs": [],
   "source": [
    "dfPostuEdadGen = pd.merge(dfGenEdad, dfPostu, on=['idpostulante'], how='inner')"
   ]
  },
  {
   "cell_type": "code",
   "execution_count": 24,
   "metadata": {},
   "outputs": [
    {
     "data": {
      "text/html": [
       "<div>\n",
       "<style scoped>\n",
       "    .dataframe tbody tr th:only-of-type {\n",
       "        vertical-align: middle;\n",
       "    }\n",
       "\n",
       "    .dataframe tbody tr th {\n",
       "        vertical-align: top;\n",
       "    }\n",
       "\n",
       "    .dataframe thead th {\n",
       "        text-align: right;\n",
       "    }\n",
       "</style>\n",
       "<table border=\"1\" class=\"dataframe\">\n",
       "  <thead>\n",
       "    <tr style=\"text-align: right;\">\n",
       "      <th></th>\n",
       "      <th>idpostulante</th>\n",
       "    </tr>\n",
       "    <tr>\n",
       "      <th>edad</th>\n",
       "      <th></th>\n",
       "    </tr>\n",
       "  </thead>\n",
       "  <tbody>\n",
       "    <tr>\n",
       "      <th>18</th>\n",
       "      <td>12.567986</td>\n",
       "    </tr>\n",
       "    <tr>\n",
       "      <th>19</th>\n",
       "      <td>15.913519</td>\n",
       "    </tr>\n",
       "  </tbody>\n",
       "</table>\n",
       "</div>"
      ],
      "text/plain": [
       "      idpostulante\n",
       "edad              \n",
       "18       12.567986\n",
       "19       15.913519"
      ]
     },
     "execution_count": 24,
     "metadata": {},
     "output_type": "execute_result"
    }
   ],
   "source": [
    "CantPostuPromPerson = dfPostuEdadGen.loc[:, ['edad', 'idpostulante']].groupby('edad').count() / dfGenEdad.loc[:, ['edad', 'idpostulante']].groupby(\"edad\").count()\n",
    "CantPostuPromPerson.head(2)"
   ]
  },
  {
   "cell_type": "code",
   "execution_count": 35,
   "metadata": {},
   "outputs": [
    {
     "data": {
      "text/plain": [
       "<matplotlib.axes._subplots.AxesSubplot at 0x7fec74c33eb8>"
      ]
     },
     "execution_count": 35,
     "metadata": {},
     "output_type": "execute_result"
    },
    {
     "data": {
      "image/png": "[encoded data removed]",
      "text/plain": [
       "<Figure size 432x288 with 1 Axes>"
      ]
     },
     "metadata": {},
     "output_type": "display_data"
    }
   ],
   "source": [
    "\n",
    "CantPostuPromPerson.plot.area()\n",
    "\n",
    "#g = sns.barplot(x=(CantPostuPromPerson[\"idpostulante\"]),y=CantPostuPromPerson.index)\n",
    "#plt.title('Cantidad de Postulaciones segun edad',fontsize=\"18\")\n",
    "#plt.xlabel('edad',fontsize=\"14\")\n",
    "#plt.ylabel(\"cantidad postlaciones\",fontsize=\"14\")"
   ]
  },
  {
   "cell_type": "code",
   "execution_count": 30,
   "metadata": {},
   "outputs": [],
   "source": [
    "# de aca en mas no hay nada \n",
    "CantPostuPromPerson2 = CantPostuPromPerson.reset_index()"
   ]
  },
  {
   "cell_type": "code",
   "execution_count": null,
   "metadata": {},
   "outputs": [],
   "source": [
    "CantPostuPromPerson2.head()"
   ]
  },
  {
   "cell_type": "code",
   "execution_count": null,
   "metadata": {},
   "outputs": [],
   "source": [
    "plt.hist(CantPostuPromPerson['idpostulante'], bins=58)\n",
    "plt.xlabel(\"Cantidad de postulantes\", fontsize='14')\n",
    "plt.ylabel(\"Edad\", fontsize='14')\n",
    "plt.title(\"Cantidad de postulantes segun su edad\", fontsize='18')\n",
    "plt.figure(figsize=(17, 1))\n",
    "plt.show()"
   ]
  },
  {
   "cell_type": "code",
   "execution_count": null,
   "metadata": {},
   "outputs": [],
   "source": [
    "dfPostu\n",
    "dfVistas"
   ]
  },
  {
   "cell_type": "code",
   "execution_count": null,
   "metadata": {},
   "outputs": [],
   "source": [
    "dfVistas.shape"
   ]
  },
  {
   "cell_type": "code",
   "execution_count": null,
   "metadata": {},
   "outputs": [],
   "source": [
    "def calcular_anio(row):\n",
    "    \n",
    "    lista = row['timestamp'].split('-')\n",
    "    return int(lista[0])\n",
    "\n",
    "def calcular_mes(row):\n",
    "    \n",
    "    lista = row['timestamp'].split('-')\n",
    "    return int(lista[1])\n",
    "\n",
    "def calcular_dia(row):\n",
    "    \n",
    "    lista = row['timestamp'].split('-')\n",
    "    lista2 = lista[2].split('T')\n",
    "    return int(lista2[0])\n",
    "\n",
    "#dfVistas['anio'] = dfVistas.apply(calcular_anio, axis=1)\n",
    "#dfVistas['mes'] = dfVistas.apply(calcular_mes, axis=1)\n",
    "dfVistas['dia'] = dfVistas.apply(calcular_dia, axis=1)"
   ]
  },
  {
   "cell_type": "code",
   "execution_count": null,
   "metadata": {},
   "outputs": [],
   "source": [
    "def calcular_anio(row):\n",
    "    \n",
    "    lista = row['fechapostulacion'].split('-')\n",
    "    return int(lista[0])\n",
    "\n",
    "def calcular_mes(row):\n",
    "    \n",
    "    lista = row['fechapostulacion'].split('-')\n",
    "    return int(lista[1])\n",
    "\n",
    "def calcular_dia(row):\n",
    "    \n",
    "    lista = row['fechapostulacion'].split('-')\n",
    "    lista2 = lista[2].split(' ')\n",
    "    return int(lista2[0])\n",
    "\n",
    "dfPostu['anio'] = dfPostu.apply(calcular_anio, axis=1)\n",
    "dfPostu['mes'] = dfPostu.apply(calcular_mes, axis=1)\n",
    "dfPostu['dia'] = dfPostu.apply(calcular_dia, axis=1)"
   ]
  },
  {
   "cell_type": "code",
   "execution_count": null,
   "metadata": {},
   "outputs": [],
   "source": [
    "dfVistas.head()"
   ]
  },
  {
   "cell_type": "code",
   "execution_count": null,
   "metadata": {},
   "outputs": [],
   "source": [
    "dfPostu.head()"
   ]
  },
  {
   "cell_type": "code",
   "execution_count": null,
   "metadata": {},
   "outputs": [],
   "source": [
    "dfVistas.sort_values([\"dia\", \"mes\"], ascending=False).head()"
   ]
  },
  {
   "cell_type": "code",
   "execution_count": null,
   "metadata": {},
   "outputs": [],
   "source": [
    "dfVistas2 = dfVistas.loc[:, ['mes', 'dia']].head()"
   ]
  },
  {
   "cell_type": "code",
   "execution_count": null,
   "metadata": {},
   "outputs": [],
   "source": [
    "dfPostuFecha = pd.merge(dfPostu, dfVistas2, on=['mes', 'dia'], how='inner')"
   ]
  },
  {
   "cell_type": "code",
   "execution_count": null,
   "metadata": {},
   "outputs": [],
   "source": [
    "dfPostuFecha.head()"
   ]
  },
  {
   "cell_type": "code",
   "execution_count": null,
   "metadata": {},
   "outputs": [],
   "source": [
    "dfPostuFecha.shape"
   ]
  },
  {
   "cell_type": "code",
   "execution_count": null,
   "metadata": {},
   "outputs": [],
   "source": [
    "a = dfVistas.loc[:, ['idpostulante', 'idAviso']].groupby(\"idpostulante\").count().reset_index().head()"
   ]
  },
  {
   "cell_type": "code",
   "execution_count": null,
   "metadata": {},
   "outputs": [],
   "source": [
    "a = a.rename(index=str, columns={\"idAviso\": \"cantidad_vistas\"})"
   ]
  },
  {
   "cell_type": "code",
   "execution_count": null,
   "metadata": {},
   "outputs": [],
   "source": [
    "a.head()"
   ]
  },
  {
   "cell_type": "code",
   "execution_count": null,
   "metadata": {},
   "outputs": [],
   "source": [
    "b = dfPostuFecha.loc[:, ['idpostulante', 'idaviso']].groupby(\"idpostulante\").count().reset_index().head()"
   ]
  },
  {
   "cell_type": "code",
   "execution_count": null,
   "metadata": {},
   "outputs": [],
   "source": [
    "b = b.rename(index=str, columns={\"idaviso\": \"cantidad_postulaciones\"})"
   ]
  },
  {
   "cell_type": "code",
   "execution_count": null,
   "metadata": {},
   "outputs": [],
   "source": []
  },
  {
   "cell_type": "code",
   "execution_count": null,
   "metadata": {},
   "outputs": [],
   "source": [
    "b.shape"
   ]
  },
  {
   "cell_type": "code",
   "execution_count": null,
   "metadata": {},
   "outputs": [],
   "source": []
  },
  {
   "cell_type": "code",
   "execution_count": null,
   "metadata": {},
   "outputs": [],
   "source": [
    "b.head()"
   ]
  },
  {
   "cell_type": "code",
   "execution_count": null,
   "metadata": {},
   "outputs": [],
   "source": [
    "c = pd.merge(a, b, on=['idpostulante'])"
   ]
  },
  {
   "cell_type": "code",
   "execution_count": null,
   "metadata": {},
   "outputs": [],
   "source": [
    "c.shape"
   ]
  },
  {
   "cell_type": "code",
   "execution_count": null,
   "metadata": {},
   "outputs": [],
   "source": []
  }
 ],
 "metadata": {
  "kernelspec": {
   "display_name": "Python 3",
   "language": "python",
   "name": "python3"
  },
  "language_info": {
   "codemirror_mode": {
    "name": "ipython",
    "version": 3
   },
   "file_extension": ".py",
   "mimetype": "text/x-python",
   "name": "python",
   "nbconvert_exporter": "python",
   "pygments_lexer": "ipython3",
   "version": "3.5.2"
  }
 },
 "nbformat": 4,
 "nbformat_minor": 2
}
