{
 "cells": [
  {
   "cell_type": "code",
   "execution_count": 1,
   "metadata": {},
   "outputs": [],
   "source": [
    "import pandas as pd\n",
    "import numpy as np"
   ]
  },
  {
   "cell_type": "code",
   "execution_count": 2,
   "metadata": {},
   "outputs": [],
   "source": [
    "vistas = pd.read_csv(\"procesado1/VistasCCorrecta.csv\")\n",
    "postulaciones = pd.read_csv(\"Predecir/df_postulaciones.csv\")"
   ]
  },
  {
   "cell_type": "code",
   "execution_count": 3,
   "metadata": {},
   "outputs": [],
   "source": [
    "vistas = vistas.rename(columns = {\"idAviso\":\"idaviso\"})\n",
    "vistas = pd.concat([vistas,postulaciones])\n",
    "vistas = vistas.drop_duplicates([\"idaviso\",\"idpostulante\"])\n",
    "postulaciones = postulaciones.sample(frac=0.001)\n",
    "\n",
    "avisos = pd.read_csv(\"Predecir/avisos_detalles_c.csv\")\n",
    "postulantes = pd.read_csv(\"Predecir/postulantes_datos_c.csv\")"
   ]
  },
  {
   "cell_type": "code",
   "execution_count": 4,
   "metadata": {},
   "outputs": [],
   "source": [
    "vistas[\"nivel_laboral\"]= pd.merge(vistas,avisos.loc[:,[\"idaviso\",\"nivel_laboral\"]], \\\n",
    "                                  on=\"idaviso\",how=\"inner\")[\"nivel_laboral\"]"
   ]
  },
  {
   "cell_type": "code",
   "execution_count": 5,
   "metadata": {},
   "outputs": [],
   "source": [
    "vistas = vistas.drop_duplicates([\"idaviso\",\"idpostulante\"])"
   ]
  },
  {
   "cell_type": "code",
   "execution_count": 6,
   "metadata": {},
   "outputs": [],
   "source": [
    "vistas = vistas.reset_index().drop(columns = \"index\")"
   ]
  },
  {
   "cell_type": "code",
   "execution_count": 7,
   "metadata": {},
   "outputs": [],
   "source": [
    "del vistas[\"Unnamed: 0\"]\n",
    "del vistas[\"Unnamed: 0.1\"]\n",
    "del postulantes[\"Unnamed: 0\"]"
   ]
  },
  {
   "cell_type": "code",
   "execution_count": 8,
   "metadata": {},
   "outputs": [],
   "source": [
    "names = [\"CantidadVistasXNivelLaboral0\",\"CantidadVistasXNivelLaboral1\",\"CantidadVistasXNivelLaboral2\",\"CantidadVistasXNivelLaboral3\",\"CantidadVistasXNivelLaboral4\",\"CantidadVistasXNivelLaboral5\"]\n",
    "for i in range(0,6):\n",
    "    postulantes = pd.merge(vistas.groupby([\"idpostulante\",\"nivel_laboral\"]).count().reset_index() \\\n",
    "        .rename(columns = {\"idaviso\":names[i]}).loc[vistas[\"nivel_laboral\"]==i] \\\n",
    "        .loc[:,[\"idpostulante\",names[i]] ] \\\n",
    "        ,postulantes,on=\"idpostulante\",how=\"right\")\n"
   ]
  },
  {
   "cell_type": "code",
   "execution_count": null,
   "metadata": {},
   "outputs": [],
   "source": []
  },
  {
   "cell_type": "code",
   "execution_count": 9,
   "metadata": {},
   "outputs": [],
   "source": [
    "#solo el predictor\n",
    "for i in range(0,6):\n",
    "    postulantes[names[i]] = postulantes[names[i]].fillna(6)"
   ]
  },
  {
   "cell_type": "code",
   "execution_count": 10,
   "metadata": {},
   "outputs": [],
   "source": [
    "postulantes = postulantes.drop_duplicates(\"idpostulante\")"
   ]
  },
  {
   "cell_type": "code",
   "execution_count": 11,
   "metadata": {},
   "outputs": [],
   "source": [
    "vistas = vistas.rename(columns = {\"nivel_laboral\":\"empresa\"})\n",
    "vistas[\"empresa\"]= pd.merge(vistas,avisos.loc[:,[\"idaviso\",\"denominacion_empresa\"]], \\\n",
    "                                  on=\"idaviso\",how=\"inner\")[\"denominacion_empresa\"]"
   ]
  },
  {
   "cell_type": "code",
   "execution_count": 12,
   "metadata": {},
   "outputs": [],
   "source": [
    "postulantes = pd.merge(vistas.groupby([\"idpostulante\",\"empresa\"]).count().reset_index() \\\n",
    "        .rename(columns = {\"idaviso\":\"EmpresaMasVista\"}) \\\n",
    "        .loc[:,[\"idpostulante\",\"EmpresaMasVista\" ]].groupby(\"idpostulante\").max().reset_index() \n",
    "        ,postulantes,on=\"idpostulante\",how=\"right\")"
   ]
  },
  {
   "cell_type": "code",
   "execution_count": 13,
   "metadata": {},
   "outputs": [],
   "source": [
    "\n",
    "postulantes[\"EmpresaMasVista\"] = postulantes[\"EmpresaMasVista\"].fillna(10000)"
   ]
  },
  {
   "cell_type": "code",
   "execution_count": 14,
   "metadata": {},
   "outputs": [],
   "source": [
    "vistas = vistas.rename(columns = {\"empresa\":\"nombre_area\"})\n",
    "vistas[\"nombre_area\"]= pd.merge(vistas.drop(columns=\"nombre_area\"),avisos.loc[:,[\"idaviso\",\"nombre_area\"]], \\\n",
    "                                  on=\"idaviso\",how=\"inner\")[\"nombre_area\"]"
   ]
  },
  {
   "cell_type": "code",
   "execution_count": 15,
   "metadata": {},
   "outputs": [],
   "source": [
    "postulantes = pd.merge(vistas.groupby([\"idpostulante\",\"nombre_area\"]).count().reset_index() \\\n",
    "        .rename(columns = {\"idaviso\":\"AreaMasVista\"}) \\\n",
    "        .loc[:,[\"idpostulante\",\"AreaMasVista\" ]].groupby(\"idpostulante\").max().reset_index() \n",
    "        ,postulantes,on=\"idpostulante\",how=\"right\")"
   ]
  },
  {
   "cell_type": "code",
   "execution_count": 16,
   "metadata": {},
   "outputs": [],
   "source": [
    "postulantes[\"AreaMasVista\"] = postulantes[\"AreaMasVista\"].fillna(10000)"
   ]
  },
  {
   "cell_type": "code",
   "execution_count": 19,
   "metadata": {},
   "outputs": [
    {
     "data": {
      "text/plain": [
       "False"
      ]
     },
     "execution_count": 19,
     "metadata": {},
     "output_type": "execute_result"
    }
   ],
   "source": [
    "postulantes.isna().values.any()"
   ]
  },
  {
   "cell_type": "code",
   "execution_count": 18,
   "metadata": {},
   "outputs": [],
   "source": [
    "postulantes.to_csv(\"Predecir/postulantes_con_vistas.csv\")"
   ]
  }
 ],
 "metadata": {
  "kernelspec": {
   "display_name": "Python 3",
   "language": "python",
   "name": "python3"
  },
  "language_info": {
   "codemirror_mode": {
    "name": "ipython",
    "version": 3
   },
   "file_extension": ".py",
   "mimetype": "text/x-python",
   "name": "python",
   "nbconvert_exporter": "python",
   "pygments_lexer": "ipython3",
   "version": "3.5.2"
  }
 },
 "nbformat": 4,
 "nbformat_minor": 2
}
