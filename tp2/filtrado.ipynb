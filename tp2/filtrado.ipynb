{
 "cells": [
  {
   "cell_type": "code",
   "execution_count": 77,
   "metadata": {},
   "outputs": [],
   "source": [
    "import pandas as pd\n",
    "import numpy as np\n",
    "import matplotlib.pyplot as plt\n",
    "import seaborn as sns\n",
    "%matplotlib inline\n",
    "\n",
    "plt.style.use('default')\n",
    "sns.set(style=\"whitegrid\")"
   ]
  },
  {
   "cell_type": "code",
   "execution_count": 78,
   "metadata": {},
   "outputs": [],
   "source": [
    "#1\n",
    "pdfGenEdad = pd.read_csv(\"todos/PGenEdad.csv\")\n",
    "#pdfAvisos = pd.read_csv(\"todos/PAvisos.csv\")\n",
    "#pdfAvisosDet = pd.read_csv(\"todos/PAvisosDet.csv\")\n",
    "#pdfPostu = pd.read_csv(\"todos/PPostu.csv\")\n",
    "#pdfVistas = pd.read_csv(\"todos/PVistas.csv\")\n",
    "pdfEdu = pd.read_csv(\"todos/PEdu.csv\")\n",
    "\n",
    "#2\n",
    "dfGenEdad = pd.read_csv(\"todos/GenEdad.csv\")\n",
    "#dfAvisosDet = pd.read_csv(\"todos/AvisosDet.csv\")\n",
    "#dfVistas = pd.read_csv(\"todos/Vistas.csv\")\n",
    "dfEdu = pd.read_csv(\"todos/Edu.csv\")\n"
   ]
  },
  {
   "cell_type": "code",
   "execution_count": 79,
   "metadata": {
    "scrolled": true
   },
   "outputs": [
    {
     "data": {
      "text/plain": [
       "Universitario        364970\n",
       "Secundario           340070\n",
       "Terciario/Técnico    160291\n",
       "Otro                  74919\n",
       "Posgrado              29255\n",
       "Master                14422\n",
       "Doctorado               836\n",
       "Name: nombre, dtype: int64"
      ]
     },
     "execution_count": 79,
     "metadata": {},
     "output_type": "execute_result"
    }
   ],
   "source": [
    "dfGenEdadEdu = pd.merge(pdfGenEdad,pdfEdu,how = 'inner', on = \"idpostulante\")\n",
    "dfGenEdadEdu[\"nombre\"].value_counts()"
   ]
  },
  {
   "cell_type": "code",
   "execution_count": 80,
   "metadata": {},
   "outputs": [
    {
     "data": {
      "text/plain": [
       "Universitario        172957\n",
       "Secundario           114459\n",
       "Terciario/Técnico     54090\n",
       "Posgrado              13573\n",
       "Master                 7987\n",
       "Doctorado               497\n",
       "Name: nombre, dtype: int64"
      ]
     },
     "execution_count": 80,
     "metadata": {},
     "output_type": "execute_result"
    }
   ],
   "source": [
    "def filtroDeRepetidos(df):\n",
    "    #si hay mas de un estado :Abandonad>Graduado>En Curso\n",
    "    dft1 = df[df[\"estado\"]==\"Abandonado\"]\n",
    "    dft2 = df[df[\"estado\"]==\"Graduado\"]\n",
    "    dft3 = df[df[\"estado\"]==\"En Curso\"]\n",
    "    df = pd.concat([dft1,dft2[~(dft2[\"idpostulante\"].isin(dft1[\"idpostulante\"]))]])\n",
    "    df = pd.concat([df,dft3[~(dft3[\"idpostulante\"].isin(df[\"idpostulante\"]))]])\n",
    "    return df\n",
    "#aislo cada caso\n",
    "\n",
    "dfGenEdadEdu = dfGenEdadEdu.drop_duplicates(subset = [\"nombre\",\"estado\",\"idpostulante\"])\n",
    "\n",
    "Sec = dfGenEdadEdu.loc[dfGenEdadEdu['nombre']==\"Secundario\"]\n",
    "Uni = dfGenEdadEdu.loc[dfGenEdadEdu['nombre']==\"Universitario\"]\n",
    "Ter = dfGenEdadEdu.loc[dfGenEdadEdu['nombre']==\"Terciario/Técnico\"]\n",
    "Pos = dfGenEdadEdu.loc[dfGenEdadEdu['nombre']==\"Posgrado\"]\n",
    "Mas = dfGenEdadEdu.loc[dfGenEdadEdu['nombre']==\"Master\"]\n",
    "Doc = dfGenEdadEdu.loc[dfGenEdadEdu['nombre']==\"Doctorado\"]\n",
    "\n",
    "Sec = filtroDeRepetidos(Sec)\n",
    "Uni = filtroDeRepetidos(Uni)\n",
    "Ter = filtroDeRepetidos(Ter)\n",
    "Pos = filtroDeRepetidos(Pos)\n",
    "Mas = filtroDeRepetidos(Mas)\n",
    "Doc = filtroDeRepetidos(Doc)\n",
    "#me quedo con el mas grande, doc>master>posgrado...\n",
    "Doc = pd.concat([Doc,Mas[~(Mas[\"idpostulante\"].isin(Doc[\"idpostulante\"]))]])\n",
    "Doc = pd.concat([Doc,Pos[~(Pos[\"idpostulante\"].isin(Doc[\"idpostulante\"]))]])\n",
    "Doc = pd.concat([Doc,Uni[~(Uni[\"idpostulante\"].isin(Doc[\"idpostulante\"]))]])\n",
    "Doc = pd.concat([Doc,Ter[~(Ter[\"idpostulante\"].isin(Doc[\"idpostulante\"]))]])\n",
    "Doc = pd.concat([Doc,Sec[~(Sec[\"idpostulante\"].isin(Doc[\"idpostulante\"]))]])\n",
    "dfPGenEdadEdu = Doc\n",
    "# todos los id son unicos\n",
    "dfPGenEdadEdu[\"nombre\"].value_counts()"
   ]
  },
  {
   "cell_type": "code",
   "execution_count": null,
   "metadata": {},
   "outputs": [],
   "source": []
  },
  {
   "cell_type": "code",
   "execution_count": 81,
   "metadata": {},
   "outputs": [
    {
     "data": {
      "text/plain": [
       "Universitario        792336\n",
       "Secundario           727224\n",
       "Terciario/Técnico    348826\n",
       "Otro                 164909\n",
       "Posgrado              66186\n",
       "Master                32574\n",
       "Doctorado              1847\n",
       "Name: nombre, dtype: int64"
      ]
     },
     "execution_count": 81,
     "metadata": {},
     "output_type": "execute_result"
    }
   ],
   "source": [
    "dfGenEdadEdu = pd.merge(dfGenEdad,dfEdu,how = 'inner', on = \"idpostulante\")\n",
    "dfGenEdadEdu[\"nombre\"].value_counts()"
   ]
  },
  {
   "cell_type": "code",
   "execution_count": 82,
   "metadata": {},
   "outputs": [
    {
     "data": {
      "text/plain": [
       "Universitario        208619\n",
       "Secundario           142068\n",
       "Terciario/Técnico     66686\n",
       "Posgrado              16632\n",
       "Master                 9664\n",
       "Doctorado               606\n",
       "Name: nombre, dtype: int64"
      ]
     },
     "execution_count": 82,
     "metadata": {},
     "output_type": "execute_result"
    }
   ],
   "source": [
    "def filtroDeRepetidos(df):\n",
    "    #si hay mas de un estado :Abandonad>Graduado>En Curso\n",
    "    dft1 = df[df[\"estado\"]==\"Abandonado\"]\n",
    "    dft2 = df[df[\"estado\"]==\"Graduado\"]\n",
    "    dft3 = df[df[\"estado\"]==\"En Curso\"]\n",
    "    df = pd.concat([dft1,dft2[~dft2[\"idpostulante\"].isin(dft1[\"idpostulante\"])]])\n",
    "    df = pd.concat([df,dft3[~dft3[\"idpostulante\"].isin(df[\"idpostulante\"])]])\n",
    "    return df\n",
    "\n",
    "\n",
    "dfGenEdadEdu = dfGenEdadEdu.drop_duplicates(subset = [\"nombre\",\"estado\",\"idpostulante\"])\n",
    "\n",
    "\n",
    "#aislo cada caso\n",
    "Sec = dfGenEdadEdu.loc[dfGenEdadEdu['nombre']==\"Secundario\"]\n",
    "Uni = dfGenEdadEdu.loc[dfGenEdadEdu['nombre']==\"Universitario\"]\n",
    "Ter = dfGenEdadEdu.loc[dfGenEdadEdu['nombre']==\"Terciario/Técnico\"]\n",
    "Pos = dfGenEdadEdu.loc[dfGenEdadEdu['nombre']==\"Posgrado\"]\n",
    "Mas = dfGenEdadEdu.loc[dfGenEdadEdu['nombre']==\"Master\"]\n",
    "Doc = dfGenEdadEdu.loc[dfGenEdadEdu['nombre']==\"Doctorado\"]\n",
    "\n",
    "Sec = filtroDeRepetidos(Sec)\n",
    "Uni = filtroDeRepetidos(Uni)\n",
    "Ter = filtroDeRepetidos(Ter)\n",
    "Pos = filtroDeRepetidos(Pos)\n",
    "Mas = filtroDeRepetidos(Mas)\n",
    "Doc = filtroDeRepetidos(Doc)\n",
    "#me quedo con el mas grande, doc>master>posgrado...\n",
    "Doc = pd.concat([Doc,Mas[~Mas[\"idpostulante\"].isin(Doc[\"idpostulante\"])]])\n",
    "Doc = pd.concat([Doc,Pos[~Pos[\"idpostulante\"].isin(Doc[\"idpostulante\"])]])\n",
    "Doc = pd.concat([Doc,Uni[~Uni[\"idpostulante\"].isin(Doc[\"idpostulante\"])]])\n",
    "Doc = pd.concat([Doc,Ter[~Ter[\"idpostulante\"].isin(Doc[\"idpostulante\"])]])\n",
    "Doc = pd.concat([Doc,Sec[~Sec[\"idpostulante\"].isin(Doc[\"idpostulante\"])]])\n",
    "dfGenEdadEdu = Doc\n",
    "# todos los id son unicos\n",
    "dfGenEdadEdu[\"nombre\"].value_counts()"
   ]
  },
  {
   "cell_type": "code",
   "execution_count": 83,
   "metadata": {},
   "outputs": [
    {
     "data": {
      "text/html": [
       "<div>\n",
       "<style scoped>\n",
       "    .dataframe tbody tr th:only-of-type {\n",
       "        vertical-align: middle;\n",
       "    }\n",
       "\n",
       "    .dataframe tbody tr th {\n",
       "        vertical-align: top;\n",
       "    }\n",
       "\n",
       "    .dataframe thead th {\n",
       "        text-align: right;\n",
       "    }\n",
       "</style>\n",
       "<table border=\"1\" class=\"dataframe\">\n",
       "  <thead>\n",
       "    <tr style=\"text-align: right;\">\n",
       "      <th></th>\n",
       "      <th>Unnamed: 0_x</th>\n",
       "      <th>idpostulante</th>\n",
       "      <th>fechanacimiento</th>\n",
       "      <th>sexo</th>\n",
       "      <th>Unnamed: 0_y</th>\n",
       "      <th>nombre</th>\n",
       "      <th>estado</th>\n",
       "      <th>cantidad edus</th>\n",
       "    </tr>\n",
       "  </thead>\n",
       "  <tbody>\n",
       "    <tr>\n",
       "      <th>39016</th>\n",
       "      <td>5865</td>\n",
       "      <td>X9lpKkb</td>\n",
       "      <td>1975-02-22</td>\n",
       "      <td>MASC</td>\n",
       "      <td>9823</td>\n",
       "      <td>Doctorado</td>\n",
       "      <td>Abandonado</td>\n",
       "      <td>6.0</td>\n",
       "    </tr>\n",
       "    <tr>\n",
       "      <th>46777</th>\n",
       "      <td>7026</td>\n",
       "      <td>aNZq5m</td>\n",
       "      <td>1971-11-15</td>\n",
       "      <td>MASC</td>\n",
       "      <td>12011</td>\n",
       "      <td>Doctorado</td>\n",
       "      <td>Abandonado</td>\n",
       "      <td>3.0</td>\n",
       "    </tr>\n",
       "    <tr>\n",
       "      <th>110077</th>\n",
       "      <td>16350</td>\n",
       "      <td>GNd8qrb</td>\n",
       "      <td>1960-11-19</td>\n",
       "      <td>MASC</td>\n",
       "      <td>25242</td>\n",
       "      <td>Doctorado</td>\n",
       "      <td>Abandonado</td>\n",
       "      <td>2.0</td>\n",
       "    </tr>\n",
       "    <tr>\n",
       "      <th>118560</th>\n",
       "      <td>17641</td>\n",
       "      <td>6rBbG2l</td>\n",
       "      <td>1993-06-29</td>\n",
       "      <td>FEM</td>\n",
       "      <td>27337</td>\n",
       "      <td>Doctorado</td>\n",
       "      <td>Abandonado</td>\n",
       "      <td>4.0</td>\n",
       "    </tr>\n",
       "    <tr>\n",
       "      <th>135473</th>\n",
       "      <td>20124</td>\n",
       "      <td>8oq33R</td>\n",
       "      <td>1974-03-13</td>\n",
       "      <td>MASC</td>\n",
       "      <td>31743</td>\n",
       "      <td>Doctorado</td>\n",
       "      <td>Abandonado</td>\n",
       "      <td>6.0</td>\n",
       "    </tr>\n",
       "  </tbody>\n",
       "</table>\n",
       "</div>"
      ],
      "text/plain": [
       "        Unnamed: 0_x idpostulante fechanacimiento  sexo  Unnamed: 0_y  \\\n",
       "39016           5865      X9lpKkb      1975-02-22  MASC          9823   \n",
       "46777           7026       aNZq5m      1971-11-15  MASC         12011   \n",
       "110077         16350      GNd8qrb      1960-11-19  MASC         25242   \n",
       "118560         17641      6rBbG2l      1993-06-29   FEM         27337   \n",
       "135473         20124       8oq33R      1974-03-13  MASC         31743   \n",
       "\n",
       "           nombre      estado  cantidad edus  \n",
       "39016   Doctorado  Abandonado            6.0  \n",
       "46777   Doctorado  Abandonado            3.0  \n",
       "110077  Doctorado  Abandonado            2.0  \n",
       "118560  Doctorado  Abandonado            4.0  \n",
       "135473  Doctorado  Abandonado            6.0  "
      ]
     },
     "execution_count": 83,
     "metadata": {},
     "output_type": "execute_result"
    }
   ],
   "source": [
    "#dfGenEdadEdu[\"cantidad edus\"] = dfEdu[\"idpostulante\"].value_counts() \n",
    "dfGenEdadEdu[\"cantidad edus\"] = dfEdu.groupby(\"idpostulante\")[\"idpostulante\"].transform('count')\n",
    "dfPGenEdadEdu[\"cantidad edus\"] = pdfEdu.groupby(\"idpostulante\")[\"idpostulante\"].transform('count')"
   ]
  },
  {
   "cell_type": "code",
   "execution_count": 84,
   "metadata": {},
   "outputs": [],
   "source": [
    "dfPGenEdadEdu = dfPGenEdadEdu.drop(columns = [\"Unnamed: 0_x\",\"Unnamed: 0_y\"])\n",
    "dfGenEdadEdu = dfGenEdadEdu.drop(columns = [\"Unnamed: 0_x\",\"Unnamed: 0_y\"])\n"
   ]
  },
  {
   "cell_type": "code",
   "execution_count": null,
   "metadata": {},
   "outputs": [],
   "source": [
    "dfGenEdadEdu[\"fechanacimiento\"] = pd.to_datetime(dfGenEdadEdu[\"fechanacimiento\"],errors = \"coerce\")\n",
    "dfGenEdadEdu[\"fechanacimiento\"] = dfGenEdadEdu[\"fechanacimiento\"].dropna()\n",
    "dfPGenEdadEdu[\"fechanacimiento\"] = pd.to_datetime(dfPGenEdadEdu[\"fechanacimiento\"],errors = \"coerce\")\n",
    "dfPGenEdadEdu[\"fechanacimiento\"] = dfPGenEdadEdu[\"fechanacimiento\"].dropna()"
   ]
  },
  {
   "cell_type": "code",
   "execution_count": 89,
   "metadata": {},
   "outputs": [],
   "source": [
    "dfGenEdadEdu[\"edad\"] = (2018 - dfGenEdadEdu[\"fechanacimiento\"].dt.year  )\n",
    "dfPGenEdadEdu[\"edad\"] = (2018 - dfPGenEdadEdu[\"fechanacimiento\"].dt.year  )\n"
   ]
  },
  {
   "cell_type": "code",
   "execution_count": null,
   "metadata": {},
   "outputs": [],
   "source": []
  },
  {
   "cell_type": "code",
   "execution_count": 85,
   "metadata": {},
   "outputs": [],
   "source": []
  },
  {
   "cell_type": "code",
   "execution_count": 90,
   "metadata": {},
   "outputs": [],
   "source": [
    "dfGenEdadEdu.to_csv(\"procesado1/usuarios.csv\")\n",
    "dfPGenEdadEdu.to_csv(\"procesado1/pusuarios.csv\")"
   ]
  }
 ],
 "metadata": {
  "kernelspec": {
   "display_name": "Python 3",
   "language": "python",
   "name": "python3"
  },
  "language_info": {
   "codemirror_mode": {
    "name": "ipython",
    "version": 3
   },
   "file_extension": ".py",
   "mimetype": "text/x-python",
   "name": "python",
   "nbconvert_exporter": "python",
   "pygments_lexer": "ipython3",
   "version": "3.5.2"
  }
 },
 "nbformat": 4,
 "nbformat_minor": 2
}
