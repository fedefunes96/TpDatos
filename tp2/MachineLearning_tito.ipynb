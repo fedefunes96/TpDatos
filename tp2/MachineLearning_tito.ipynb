{
 "cells": [
  {
   "cell_type": "code",
   "execution_count": 1,
   "metadata": {},
   "outputs": [],
   "source": [
    "import pandas as pd\n",
    "import numpy as np\n",
    "\n",
    "from sklearn.cross_validation import train_test_split\n",
    "from sklearn.metrics import roc_auc_score\n",
    "from sklearn.grid_search import GridSearchCV\n",
    "from sklearn.tree import DecisionTreeClassifier\n",
    "from sklearn.tree import DecisionTreeRegressor"
   ]
  },
  {
   "cell_type": "code",
   "execution_count": null,
   "metadata": {},
   "outputs": [],
   "source": [
    "avisos = pd.read_csv('Predecir/avisos_detalles_c.csv')\n",
    "postulantes = pd.read_csv('Predecir/postulantes_datos_c.csv')\n",
    "postulaciones = pd.read_csv('Predecir/df_postulaciones_con_0.csv')\n",
    "to_predict = pd.read_csv('Predecir/test_final_100k.csv')"
   ]
  },
  {
   "cell_type": "code",
   "execution_count": 3,
   "metadata": {},
   "outputs": [],
   "source": [
    "postulaciones = postulaciones.sample(frac = 0.1)"
   ]
  },
  {
   "cell_type": "code",
   "execution_count": 4,
   "metadata": {},
   "outputs": [],
   "source": [
    "del postulantes['Unnamed: 0']\n",
    "del avisos['Unnamed: 0']\n",
    "del postulaciones['Unnamed: 0']"
   ]
  },
  {
   "cell_type": "code",
   "execution_count": 5,
   "metadata": {},
   "outputs": [],
   "source": [
    "avisos_si = avisos.copy()\n",
    "#avisos_si['se_postulo'] = 1"
   ]
  },
  {
   "cell_type": "code",
   "execution_count": 6,
   "metadata": {},
   "outputs": [
    {
     "data": {
      "text/plain": [
       "(847387, 3)"
      ]
     },
     "execution_count": 6,
     "metadata": {},
     "output_type": "execute_result"
    }
   ],
   "source": [
    "postulaciones.shape"
   ]
  },
  {
   "cell_type": "markdown",
   "metadata": {},
   "source": [
    "Muy grande para procesar, procesamos por bloques random y calculamos un promedio general"
   ]
  },
  {
   "cell_type": "code",
   "execution_count": 7,
   "metadata": {},
   "outputs": [],
   "source": [
    "#postulaciones = postulaciones.sample(frac=0.15)"
   ]
  },
  {
   "cell_type": "code",
   "execution_count": 8,
   "metadata": {},
   "outputs": [
    {
     "data": {
      "text/plain": [
       "(847387, 3)"
      ]
     },
     "execution_count": 8,
     "metadata": {},
     "output_type": "execute_result"
    }
   ],
   "source": [
    "postulaciones.shape"
   ]
  },
  {
   "cell_type": "code",
   "execution_count": null,
   "metadata": {},
   "outputs": [],
   "source": []
  },
  {
   "cell_type": "code",
   "execution_count": 9,
   "metadata": {},
   "outputs": [],
   "source": [
    "postulaciones = pd.merge(postulaciones, avisos_si, how='inner', on=['idaviso'])"
   ]
  },
  {
   "cell_type": "code",
   "execution_count": 10,
   "metadata": {},
   "outputs": [
    {
     "data": {
      "text/plain": [
       "(847543, 38)"
      ]
     },
     "execution_count": 10,
     "metadata": {},
     "output_type": "execute_result"
    }
   ],
   "source": [
    "postulaciones.shape"
   ]
  },
  {
   "cell_type": "code",
   "execution_count": 11,
   "metadata": {},
   "outputs": [],
   "source": [
    "postulaciones = pd.merge(postulaciones, postulantes, how='inner', on=['idpostulante'])"
   ]
  },
  {
   "cell_type": "code",
   "execution_count": 12,
   "metadata": {},
   "outputs": [
    {
     "data": {
      "text/plain": [
       "(866757, 45)"
      ]
     },
     "execution_count": 12,
     "metadata": {},
     "output_type": "execute_result"
    }
   ],
   "source": [
    "postulaciones.shape"
   ]
  },
  {
   "cell_type": "code",
   "execution_count": null,
   "metadata": {},
   "outputs": [],
   "source": []
  },
  {
   "cell_type": "markdown",
   "metadata": {},
   "source": [
    "Contamos cuantos postulados = 1 tenemos para ver cuantos 0 ponemos"
   ]
  },
  {
   "cell_type": "code",
   "execution_count": 13,
   "metadata": {},
   "outputs": [
    {
     "data": {
      "text/plain": [
       "(866757, 45)"
      ]
     },
     "execution_count": 13,
     "metadata": {},
     "output_type": "execute_result"
    }
   ],
   "source": [
    "postulaciones.shape"
   ]
  },
  {
   "cell_type": "markdown",
   "metadata": {},
   "source": [
    "Probamos un 50% aprox de ceros en relacion a los unos"
   ]
  },
  {
   "cell_type": "code",
   "execution_count": 14,
   "metadata": {},
   "outputs": [
    {
     "data": {
      "text/html": [
       "<div>\n",
       "<style scoped>\n",
       "    .dataframe tbody tr th:only-of-type {\n",
       "        vertical-align: middle;\n",
       "    }\n",
       "\n",
       "    .dataframe tbody tr th {\n",
       "        vertical-align: top;\n",
       "    }\n",
       "\n",
       "    .dataframe thead th {\n",
       "        text-align: right;\n",
       "    }\n",
       "</style>\n",
       "<table border=\"1\" class=\"dataframe\">\n",
       "  <thead>\n",
       "    <tr style=\"text-align: right;\">\n",
       "      <th></th>\n",
       "      <th>idaviso</th>\n",
       "      <th>idpostulante</th>\n",
       "      <th>se_postulo</th>\n",
       "      <th>tipo_de_trabajo</th>\n",
       "      <th>nivel_laboral</th>\n",
       "      <th>nombre_area</th>\n",
       "      <th>denominacion_empresa</th>\n",
       "      <th>capacitacion</th>\n",
       "      <th>junior</th>\n",
       "      <th>disponibilidad_viajar</th>\n",
       "      <th>...</th>\n",
       "      <th>fecha_inicial_a</th>\n",
       "      <th>fecha_final_a</th>\n",
       "      <th>cant_vistas</th>\n",
       "      <th>nombre</th>\n",
       "      <th>estado</th>\n",
       "      <th>sexo</th>\n",
       "      <th>edad</th>\n",
       "      <th>fecha_inicial_p</th>\n",
       "      <th>fecha_final_p</th>\n",
       "      <th>cantidad_vistas</th>\n",
       "    </tr>\n",
       "  </thead>\n",
       "  <tbody>\n",
       "    <tr>\n",
       "      <th>0</th>\n",
       "      <td>1112378612</td>\n",
       "      <td>VNeJEqm</td>\n",
       "      <td>1.0</td>\n",
       "      <td>1</td>\n",
       "      <td>4</td>\n",
       "      <td>46</td>\n",
       "      <td>1864</td>\n",
       "      <td>0</td>\n",
       "      <td>0</td>\n",
       "      <td>0</td>\n",
       "      <td>...</td>\n",
       "      <td>5</td>\n",
       "      <td>24</td>\n",
       "      <td>4437</td>\n",
       "      <td>0</td>\n",
       "      <td>2</td>\n",
       "      <td>1</td>\n",
       "      <td>22.0</td>\n",
       "      <td>18</td>\n",
       "      <td>26</td>\n",
       "      <td>67</td>\n",
       "    </tr>\n",
       "    <tr>\n",
       "      <th>1</th>\n",
       "      <td>1112401940</td>\n",
       "      <td>VNeJEqm</td>\n",
       "      <td>1.0</td>\n",
       "      <td>1</td>\n",
       "      <td>4</td>\n",
       "      <td>1</td>\n",
       "      <td>3376</td>\n",
       "      <td>0</td>\n",
       "      <td>0</td>\n",
       "      <td>0</td>\n",
       "      <td>...</td>\n",
       "      <td>14</td>\n",
       "      <td>25</td>\n",
       "      <td>2595</td>\n",
       "      <td>0</td>\n",
       "      <td>2</td>\n",
       "      <td>1</td>\n",
       "      <td>22.0</td>\n",
       "      <td>18</td>\n",
       "      <td>26</td>\n",
       "      <td>67</td>\n",
       "    </tr>\n",
       "    <tr>\n",
       "      <th>2</th>\n",
       "      <td>1112399923</td>\n",
       "      <td>VNeJEqm</td>\n",
       "      <td>0.0</td>\n",
       "      <td>1</td>\n",
       "      <td>1</td>\n",
       "      <td>29</td>\n",
       "      <td>44</td>\n",
       "      <td>0</td>\n",
       "      <td>0</td>\n",
       "      <td>0</td>\n",
       "      <td>...</td>\n",
       "      <td>14</td>\n",
       "      <td>13</td>\n",
       "      <td>463</td>\n",
       "      <td>0</td>\n",
       "      <td>2</td>\n",
       "      <td>1</td>\n",
       "      <td>22.0</td>\n",
       "      <td>18</td>\n",
       "      <td>26</td>\n",
       "      <td>67</td>\n",
       "    </tr>\n",
       "    <tr>\n",
       "      <th>3</th>\n",
       "      <td>1112378612</td>\n",
       "      <td>8KorYj</td>\n",
       "      <td>1.0</td>\n",
       "      <td>1</td>\n",
       "      <td>4</td>\n",
       "      <td>46</td>\n",
       "      <td>1864</td>\n",
       "      <td>0</td>\n",
       "      <td>0</td>\n",
       "      <td>0</td>\n",
       "      <td>...</td>\n",
       "      <td>5</td>\n",
       "      <td>24</td>\n",
       "      <td>4437</td>\n",
       "      <td>3</td>\n",
       "      <td>2</td>\n",
       "      <td>1</td>\n",
       "      <td>29.0</td>\n",
       "      <td>7</td>\n",
       "      <td>12</td>\n",
       "      <td>1351</td>\n",
       "    </tr>\n",
       "    <tr>\n",
       "      <th>4</th>\n",
       "      <td>1112389521</td>\n",
       "      <td>8KorYj</td>\n",
       "      <td>1.0</td>\n",
       "      <td>1</td>\n",
       "      <td>2</td>\n",
       "      <td>10</td>\n",
       "      <td>490</td>\n",
       "      <td>0</td>\n",
       "      <td>0</td>\n",
       "      <td>0</td>\n",
       "      <td>...</td>\n",
       "      <td>9</td>\n",
       "      <td>30</td>\n",
       "      <td>4434</td>\n",
       "      <td>3</td>\n",
       "      <td>2</td>\n",
       "      <td>1</td>\n",
       "      <td>29.0</td>\n",
       "      <td>7</td>\n",
       "      <td>12</td>\n",
       "      <td>1351</td>\n",
       "    </tr>\n",
       "  </tbody>\n",
       "</table>\n",
       "<p>5 rows × 45 columns</p>\n",
       "</div>"
      ],
      "text/plain": [
       "      idaviso idpostulante  se_postulo  tipo_de_trabajo  nivel_laboral  \\\n",
       "0  1112378612      VNeJEqm         1.0                1              4   \n",
       "1  1112401940      VNeJEqm         1.0                1              4   \n",
       "2  1112399923      VNeJEqm         0.0                1              1   \n",
       "3  1112378612       8KorYj         1.0                1              4   \n",
       "4  1112389521       8KorYj         1.0                1              2   \n",
       "\n",
       "   nombre_area  denominacion_empresa  capacitacion  junior  \\\n",
       "0           46                  1864             0       0   \n",
       "1            1                  3376             0       0   \n",
       "2           29                    44             0       0   \n",
       "3           46                  1864             0       0   \n",
       "4           10                   490             0       0   \n",
       "\n",
       "   disponibilidad_viajar       ...         fecha_inicial_a  fecha_final_a  \\\n",
       "0                      0       ...                       5             24   \n",
       "1                      0       ...                      14             25   \n",
       "2                      0       ...                      14             13   \n",
       "3                      0       ...                       5             24   \n",
       "4                      0       ...                       9             30   \n",
       "\n",
       "   cant_vistas  nombre  estado  sexo  edad  fecha_inicial_p  fecha_final_p  \\\n",
       "0         4437       0       2     1  22.0               18             26   \n",
       "1         2595       0       2     1  22.0               18             26   \n",
       "2          463       0       2     1  22.0               18             26   \n",
       "3         4437       3       2     1  29.0                7             12   \n",
       "4         4434       3       2     1  29.0                7             12   \n",
       "\n",
       "   cantidad_vistas  \n",
       "0               67  \n",
       "1               67  \n",
       "2               67  \n",
       "3             1351  \n",
       "4             1351  \n",
       "\n",
       "[5 rows x 45 columns]"
      ]
     },
     "execution_count": 14,
     "metadata": {},
     "output_type": "execute_result"
    }
   ],
   "source": [
    "postulaciones.head()\n",
    "#len(postulaciones[postulaciones[\"se_postulo\"]==1])"
   ]
  },
  {
   "cell_type": "code",
   "execution_count": 15,
   "metadata": {},
   "outputs": [],
   "source": [
    "def random_fill(row):\n",
    "    return np.random.choice(avisos['idaviso'])"
   ]
  },
  {
   "cell_type": "code",
   "execution_count": 16,
   "metadata": {},
   "outputs": [],
   "source": [
    "temp = len(postulaciones[postulaciones[\"se_postulo\"]==1])\n",
    "while (temp * 0.11> len(postulaciones[postulaciones[\"se_postulo\"]==0])):\n",
    "    #relleno = postulantes.sample(frac=0.5).copy()\n",
    "    relleno = postulantes.copy()\n",
    "    relleno['idaviso'] = np.nan\n",
    "    relleno['idaviso'] = relleno.apply(random_fill, axis=1)\n",
    "    relleno = pd.merge(relleno, avisos, how='inner', on=['idaviso'])\n",
    "    postulaciones = pd.merge(postulaciones, relleno, how='outer')\n",
    "    postulaciones = postulaciones.fillna({'se_postulo' : 0})\n",
    "    print(len(postulaciones[postulaciones[\"se_postulo\"]==0]))"
   ]
  },
  {
   "cell_type": "code",
   "execution_count": 17,
   "metadata": {},
   "outputs": [
    {
     "data": {
      "text/plain": [
       "(866757, 45)"
      ]
     },
     "execution_count": 17,
     "metadata": {},
     "output_type": "execute_result"
    }
   ],
   "source": [
    "postulaciones.shape"
   ]
  },
  {
   "cell_type": "code",
   "execution_count": 18,
   "metadata": {},
   "outputs": [],
   "source": [
    "se_postulo = postulaciones['se_postulo']\n",
    "del postulaciones['se_postulo']\n",
    "del postulaciones['idaviso']\n",
    "del postulaciones['idpostulante']"
   ]
  },
  {
   "cell_type": "markdown",
   "metadata": {
    "collapsed": true
   },
   "source": [
    "# DecisionTree"
   ]
  },
  {
   "cell_type": "code",
   "execution_count": 19,
   "metadata": {},
   "outputs": [
    {
     "data": {
      "text/plain": [
       "{'class_weight': None,\n",
       " 'criterion': 'gini',\n",
       " 'max_depth': None,\n",
       " 'max_features': None,\n",
       " 'max_leaf_nodes': None,\n",
       " 'min_samples_leaf': 1,\n",
       " 'min_samples_split': 2,\n",
       " 'min_weight_fraction_leaf': 0.0,\n",
       " 'presort': False,\n",
       " 'random_state': 103040,\n",
       " 'splitter': 'best'}"
      ]
     },
     "execution_count": 19,
     "metadata": {},
     "output_type": "execute_result"
    }
   ],
   "source": [
    "decisiontree = DecisionTreeClassifier(random_state=103040)\n",
    "decisiontree.get_params()"
   ]
  },
  {
   "cell_type": "code",
   "execution_count": 20,
   "metadata": {},
   "outputs": [],
   "source": [
    "X_train, X_test, y_train, y_test = train_test_split(postulaciones, se_postulo, test_size=0.30, random_state=42)"
   ]
  },
  {
   "cell_type": "code",
   "execution_count": 21,
   "metadata": {},
   "outputs": [
    {
     "name": "stdout",
     "output_type": "stream",
     "text": [
      "{'max_features': 14} 0.7670442652320888\n"
     ]
    }
   ],
   "source": [
    "param_grid= {'max_features': [5,6,7,8,9,10,11,12,13,14]}\n",
    "grid_drop = GridSearchCV(decisiontree, param_grid, cv=10)\n",
    "grid_drop.fit(X_train, y_train)\n",
    "print(grid_drop.best_params_, grid_drop.best_score_)"
   ]
  },
  {
   "cell_type": "code",
   "execution_count": 22,
   "metadata": {
    "scrolled": true
   },
   "outputs": [
    {
     "data": {
      "text/plain": [
       "array([0.00594282, 0.02407826, 0.03833163, 0.06096669, 0.00523711,\n",
       "       0.00271822, 0.00349945, 0.00306131, 0.00629103, 0.00199125,\n",
       "       0.00587751, 0.00349762, 0.00490737, 0.00615321, 0.0063994 ,\n",
       "       0.0024741 , 0.00625052, 0.00413941, 0.00781078, 0.00483898,\n",
       "       0.00688639, 0.00455476, 0.00670245, 0.00212417, 0.00450389,\n",
       "       0.00522418, 0.00248446, 0.00467384, 0.00410301, 0.00556695,\n",
       "       0.00208807, 0.03708274, 0.05732601, 0.04735043, 0.06152429,\n",
       "       0.04152312, 0.02646876, 0.01418617, 0.11150884, 0.0964734 ,\n",
       "       0.09640401, 0.1567734 ])"
      ]
     },
     "execution_count": 22,
     "metadata": {},
     "output_type": "execute_result"
    }
   ],
   "source": [
    "grid_drop.best_estimator_.feature_importances_  "
   ]
  },
  {
   "cell_type": "code",
   "execution_count": 23,
   "metadata": {},
   "outputs": [
    {
     "data": {
      "text/plain": [
       "Index(['tipo_de_trabajo', 'nivel_laboral', 'nombre_area',\n",
       "       'denominacion_empresa', 'capacitacion', 'junior',\n",
       "       'disponibilidad_viajar', 'supervisor', 'marketing', 'terciario',\n",
       "       'ingles', 'incorp_inmediata', 'multinacional', 'estudiantes',\n",
       "       'proactivo', 'cajero', 'experiencia', 'vendedor', 'conoc_informatica',\n",
       "       'relaciones_pers', 'administrativo', 'crecimiento', 'desarrollador',\n",
       "       'jefe', 'analista', 'disponibilidad_horaria', 'flexibilidad',\n",
       "       'clima laboral', 'ingeniero', 'secundario', 'web', 'online',\n",
       "       'fecha_inicial_a', 'fecha_final_a', 'cant_vistas', 'nombre', 'estado',\n",
       "       'sexo', 'edad', 'fecha_inicial_p', 'fecha_final_p', 'cantidad_vistas'],\n",
       "      dtype='object')"
      ]
     },
     "execution_count": 23,
     "metadata": {},
     "output_type": "execute_result"
    }
   ],
   "source": [
    "postulaciones.columns"
   ]
  },
  {
   "cell_type": "code",
   "execution_count": 24,
   "metadata": {},
   "outputs": [],
   "source": [
    "result = grid_drop.best_estimator_.predict(X_test)"
   ]
  },
  {
   "cell_type": "code",
   "execution_count": 25,
   "metadata": {},
   "outputs": [],
   "source": [
    "df = pd.DataFrame({'se_postulo':result})"
   ]
  },
  {
   "cell_type": "code",
   "execution_count": 26,
   "metadata": {},
   "outputs": [
    {
     "data": {
      "text/plain": [
       "1.0    199436\n",
       "0.0     60592\n",
       "Name: se_postulo, dtype: int64"
      ]
     },
     "execution_count": 26,
     "metadata": {},
     "output_type": "execute_result"
    }
   ],
   "source": [
    "df[\"se_postulo\"].value_counts()"
   ]
  },
  {
   "cell_type": "code",
   "execution_count": 27,
   "metadata": {},
   "outputs": [
    {
     "data": {
      "text/plain": [
       "0.6800994061871961"
      ]
     },
     "execution_count": 27,
     "metadata": {},
     "output_type": "execute_result"
    }
   ],
   "source": [
    "roc_auc_score(y_test, result)"
   ]
  },
  {
   "cell_type": "code",
   "execution_count": 28,
   "metadata": {},
   "outputs": [
    {
     "data": {
      "text/plain": [
       "{'criterion': 'mse',\n",
       " 'max_depth': None,\n",
       " 'max_features': None,\n",
       " 'max_leaf_nodes': None,\n",
       " 'min_samples_leaf': 1,\n",
       " 'min_samples_split': 2,\n",
       " 'min_weight_fraction_leaf': 0.0,\n",
       " 'presort': False,\n",
       " 'random_state': 103040,\n",
       " 'splitter': 'best'}"
      ]
     },
     "execution_count": 28,
     "metadata": {},
     "output_type": "execute_result"
    }
   ],
   "source": [
    "decisiontree = DecisionTreeRegressor(random_state=103040)\n",
    "decisiontree.get_params()"
   ]
  },
  {
   "cell_type": "code",
   "execution_count": 29,
   "metadata": {},
   "outputs": [],
   "source": [
    "X_train, X_test, y_train, y_test = train_test_split(postulaciones, se_postulo, test_size=0.30, random_state=42)"
   ]
  },
  {
   "cell_type": "code",
   "execution_count": 30,
   "metadata": {},
   "outputs": [
    {
     "name": "stdout",
     "output_type": "stream",
     "text": [
      "{'max_features': 12} -0.326617983892982\n"
     ]
    }
   ],
   "source": [
    "param_grid= {'max_features': [9,8,7,11, 10,12]}\n",
    "grid_drop = GridSearchCV(decisiontree, param_grid, cv=10)\n",
    "grid_drop.fit(X_train, y_train)\n",
    "print(grid_drop.best_params_, grid_drop.best_score_)"
   ]
  },
  {
   "cell_type": "code",
   "execution_count": 31,
   "metadata": {},
   "outputs": [
    {
     "data": {
      "text/plain": [
       "array([0.0066531 , 0.02131915, 0.03677669, 0.06051365, 0.0055474 ,\n",
       "       0.00235237, 0.00324098, 0.00318529, 0.00651387, 0.00145221,\n",
       "       0.00492384, 0.00346339, 0.0044743 , 0.0070375 , 0.00644369,\n",
       "       0.00261031, 0.00655549, 0.00385508, 0.00790736, 0.00576443,\n",
       "       0.00695512, 0.00477468, 0.0065173 , 0.00204606, 0.00417541,\n",
       "       0.00577969, 0.00293004, 0.00466246, 0.00391207, 0.00628243,\n",
       "       0.00261385, 0.03178964, 0.06325244, 0.0440076 , 0.05731721,\n",
       "       0.04229551, 0.0282262 , 0.0164151 , 0.11581336, 0.09793634,\n",
       "       0.09863499, 0.15307243])"
      ]
     },
     "execution_count": 31,
     "metadata": {},
     "output_type": "execute_result"
    }
   ],
   "source": [
    "grid_drop.best_estimator_.feature_importances_  "
   ]
  },
  {
   "cell_type": "code",
   "execution_count": 32,
   "metadata": {},
   "outputs": [],
   "source": [
    "result = grid_drop.best_estimator_.predict(X_test)"
   ]
  },
  {
   "cell_type": "code",
   "execution_count": 33,
   "metadata": {},
   "outputs": [],
   "source": [
    "df = pd.DataFrame({'se_postulo':result})"
   ]
  },
  {
   "cell_type": "code",
   "execution_count": 34,
   "metadata": {},
   "outputs": [
    {
     "data": {
      "text/plain": [
       "1.0    199700\n",
       "0.0     60328\n",
       "Name: se_postulo, dtype: int64"
      ]
     },
     "execution_count": 34,
     "metadata": {},
     "output_type": "execute_result"
    }
   ],
   "source": [
    "df[\"se_postulo\"].value_counts()"
   ]
  },
  {
   "cell_type": "code",
   "execution_count": 35,
   "metadata": {},
   "outputs": [
    {
     "data": {
      "text/plain": [
       "0.6790635349160524"
      ]
     },
     "execution_count": 35,
     "metadata": {},
     "output_type": "execute_result"
    }
   ],
   "source": [
    "roc_auc_score(y_test, result)"
   ]
  },
  {
   "cell_type": "code",
   "execution_count": 88,
   "metadata": {},
   "outputs": [],
   "source": [
    "to_predict = pd.read_csv('Predecir/test_final_100k.csv')"
   ]
  },
  {
   "cell_type": "code",
   "execution_count": 89,
   "metadata": {},
   "outputs": [],
   "source": [
    "\n",
    "to_predict = pd.merge(to_predict, avisos, on = \"idaviso\",how=\"left\")\n",
    "to_predict = pd.merge(to_predict, postulantes, on = \"idpostulante\",how=\"left\")\n",
    "to_predict = to_predict.drop_duplicates([\"idaviso\",\"idpostulante\"])"
   ]
  },
  {
   "cell_type": "code",
   "execution_count": 90,
   "metadata": {},
   "outputs": [
    {
     "data": {
      "text/plain": [
       "(100000, 45)"
      ]
     },
     "execution_count": 90,
     "metadata": {},
     "output_type": "execute_result"
    }
   ],
   "source": [
    "to_predict.shape"
   ]
  },
  {
   "cell_type": "code",
   "execution_count": 74,
   "metadata": {},
   "outputs": [],
   "source": []
  },
  {
   "cell_type": "code",
   "execution_count": 76,
   "metadata": {},
   "outputs": [
    {
     "data": {
      "text/plain": [
       "0.0    93150\n",
       "1.0     4144\n",
       "Name: web, dtype: int64"
      ]
     },
     "execution_count": 76,
     "metadata": {},
     "output_type": "execute_result"
    }
   ],
   "source": []
  },
  {
   "cell_type": "code",
   "execution_count": 91,
   "metadata": {},
   "outputs": [],
   "source": [
    "\n",
    "del to_predict[\"idaviso\"]\n",
    "del to_predict[\"idpostulante\"]"
   ]
  },
  {
   "cell_type": "code",
   "execution_count": 92,
   "metadata": {},
   "outputs": [],
   "source": [
    "to_predict = to_predict.dropna()"
   ]
  },
  {
   "cell_type": "code",
   "execution_count": 94,
   "metadata": {},
   "outputs": [],
   "source": [
    "to_sumit = grid_drop.best_estimator_.predict(to_predict.drop(\"id\",axis = \"columns\"))"
   ]
  },
  {
   "cell_type": "code",
   "execution_count": 95,
   "metadata": {},
   "outputs": [],
   "source": [
    "to_predict[\"prediccion\"] = to_sumit"
   ]
  },
  {
   "cell_type": "code",
   "execution_count": 96,
   "metadata": {},
   "outputs": [],
   "source": [
    "res = pd.read_csv('Predecir/test_final_100k.csv')\n",
    "\n",
    "res = pd.merge(res, avisos, on = \"idaviso\",how=\"left\")\n",
    "res = pd.merge(res, postulantes, on = \"idpostulante\",how=\"left\")\n",
    "res = res.drop_duplicates([\"idaviso\",\"idpostulante\"])"
   ]
  },
  {
   "cell_type": "code",
   "execution_count": 108,
   "metadata": {},
   "outputs": [
    {
     "data": {
      "text/plain": [
       "(100000, 1)"
      ]
     },
     "execution_count": 108,
     "metadata": {},
     "output_type": "execute_result"
    }
   ],
   "source": [
    "to_sumit = pd.merge(res,to_predict,on=\"id\",how=\"left\")[\"prediccion\"]\n",
    "to_sumit = to_sumit.fillna(0.5)\n",
    "df = pd.DataFrame()\n",
    "df[\"sepostulo\"] = to_sumit\n",
    "df[\"id\"] = pd.read_csv('Predecir/test_final_100k.csv')[\"id\"]\n",
    "final = df.set_index(\"id\")\n",
    "final.shape"
   ]
  },
  {
   "cell_type": "code",
   "execution_count": 109,
   "metadata": {},
   "outputs": [],
   "source": [
    "final.to_csv(\"final.csv\")"
   ]
  }
 ],
 "metadata": {
  "kernelspec": {
   "display_name": "Python 3",
   "language": "python",
   "name": "python3"
  },
  "language_info": {
   "codemirror_mode": {
    "name": "ipython",
    "version": 3
   },
   "file_extension": ".py",
   "mimetype": "text/x-python",
   "name": "python",
   "nbconvert_exporter": "python",
   "pygments_lexer": "ipython3",
   "version": "3.5.2"
  }
 },
 "nbformat": 4,
 "nbformat_minor": 2
}
