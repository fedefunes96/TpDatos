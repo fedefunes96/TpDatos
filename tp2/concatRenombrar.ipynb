{
 "cells": [
  {
   "cell_type": "code",
   "execution_count": 2,
   "metadata": {},
   "outputs": [],
   "source": [
    "import pandas as pd\n",
    "import numpy as np\n",
    "import matplotlib.pyplot as plt\n",
    "import seaborn as sns\n",
    "%matplotlib inline\n",
    "\n",
    "plt.style.use('default')\n",
    "sns.set(style=\"whitegrid\")"
   ]
  },
  {
   "cell_type": "code",
   "execution_count": 3,
   "metadata": {},
   "outputs": [],
   "source": [
    "#1\n",
    "udfGenEdad = pd.read_csv(\"datos_navent_fiuba/fiuba_2_postulantes_genero_y_edad.csv\")\n",
    "udfAvisos = pd.read_csv(\"datos_navent_fiuba/fiuba_5_avisos_online.csv\")\n",
    "udfAvisosDet = pd.read_csv(\"datos_navent_fiuba/fiuba_6_avisos_detalle.csv\")\n",
    "udfPostu = pd.read_csv(\"datos_navent_fiuba/fiuba_4_postulaciones.csv\")\n",
    "udfVistas = pd.read_csv(\"datos_navent_fiuba/fiuba_3_vistas.csv\")\n",
    "udfEdu = pd.read_csv(\"datos_navent_fiuba/fiuba_1_postulantes_educacion.csv\")\n",
    "\n",
    "#2\n",
    "ddfGenEdad = pd.read_csv(\"hasta 15 abril/fiuba_2_postulantes_genero_y_edad.csv\")\n",
    "ddfAvisos = pd.read_csv(\"hasta 15 abril/fiuba_5_avisos_online.csv\")\n",
    "ddfAvisosDet = pd.read_csv(\"hasta 15 abril/fiuba_6_avisos_detalle.csv\")\n",
    "ddfPostu = pd.read_csv(\"hasta 15 abril/fiuba_4_postulaciones.csv\")\n",
    "ddfVistas = pd.read_csv(\"hasta 15 abril/fiuba_3_vistas.csv\")\n",
    "ddfEdu = pd.read_csv(\"hasta 15 abril/fiuba_1_postulantes_educacion.csv\")\n",
    "\n",
    "#3\n",
    "tdfGenEdad = pd.read_csv(\"Fiuba desde 15 Abril/fiuba_2_postulantes_genero_y_edad.csv\")\n",
    "tdfAvisosDet = pd.read_csv(\"Fiuba desde 15 Abril/fiuba_6_avisos_detalle.csv\")\n",
    "tdfVistas = pd.read_csv(\"Fiuba desde 15 Abril/fiuba_3_vistas.csv\")\n",
    "tdfEdu = pd.read_csv(\"Fiuba desde 15 Abril/fiuba_1_postulantes_educacion.csv\")"
   ]
  },
  {
   "cell_type": "code",
   "execution_count": 9,
   "metadata": {},
   "outputs": [],
   "source": [
    "dfGenEdad = pd.concat([tdfGenEdad,ddfGenEdad,udfGenEdad])\n",
    "dfVistas = pd.concat([tdfVistas,ddfVistas,udfVistas])\n",
    "dfEdu = pd.concat([tdfEdu,ddfEdu,udfEdu])\n",
    "dfAvisosDet = pd.concat([tdfAvisosDet,ddfAvisosDet,udfAvisosDet])\n"
   ]
  },
  {
   "cell_type": "code",
   "execution_count": 10,
   "metadata": {},
   "outputs": [],
   "source": [
    "dfGenEdad.to_csv(\"todos/GenEdad.csv\")\n",
    "dfEdu.to_csv(\"todos/Edu.csv\")\n",
    "dfVistas.to_csv(\"todos/Vistas.csv\")\n",
    "dfAvisosDet.to_csv(\"todos/AvisosDet.csv\")"
   ]
  },
  {
   "cell_type": "code",
   "execution_count": 11,
   "metadata": {},
   "outputs": [],
   "source": [
    "dfGenEdad = pd.concat([ddfGenEdad,udfGenEdad])\n",
    "dfVistas = pd.concat([ddfVistas,udfVistas])\n",
    "dfEdu = pd.concat([ddfEdu,udfEdu])\n",
    "dfAvisosDet = pd.concat([ddfAvisosDet,udfAvisosDet])\n",
    "dfPostu = pd.concat([ddfPostu,udfPostu])\n",
    "dfAvisos = pd.concat([ddfAvisos,udfAvisos])"
   ]
  },
  {
   "cell_type": "code",
   "execution_count": null,
   "metadata": {},
   "outputs": [],
   "source": [
    "dfGenEdad.to_csv(\"todos/PGenEdad.csv\")\n",
    "dfEdu.to_csv(\"todos/PEdu.csv\")\n",
    "dfVistas.to_csv(\"todos/PVistas.csv\")\n",
    "dfAvisosDet.to_csv(\"todos/PAvisosDet.csv\")\n",
    "dfPostu.to_csv(\"todos/PPostu.csv\")\n",
    "dfAvisos.to_csv(\"todos/PAvisos.csv\")\n"
   ]
  }
 ],
 "metadata": {
  "kernelspec": {
   "display_name": "Python 3",
   "language": "python",
   "name": "python3"
  },
  "language_info": {
   "codemirror_mode": {
    "name": "ipython",
    "version": 3
   },
   "file_extension": ".py",
   "mimetype": "text/x-python",
   "name": "python",
   "nbconvert_exporter": "python",
   "pygments_lexer": "ipython3",
   "version": "3.5.2"
  }
 },
 "nbformat": 4,
 "nbformat_minor": 2
}
