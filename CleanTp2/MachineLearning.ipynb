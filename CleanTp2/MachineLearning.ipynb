{
 "cells": [
  {
   "cell_type": "code",
   "execution_count": 1,
   "metadata": {
    "collapsed": true
   },
   "outputs": [],
   "source": [
    "import pandas as pd\n",
    "import numpy as np\n",
    "import matplotlib.pyplot as plt\n",
    "%matplotlib inline\n",
    "\n",
    "from sklearn.model_selection import train_test_split\n",
    "from sklearn.metrics import roc_auc_score\n",
    "from sklearn.model_selection import GridSearchCV\n",
    "from sklearn.tree import DecisionTreeClassifier\n",
    "from sklearn.tree import DecisionTreeRegressor\n",
    "from sklearn.ensemble import RandomForestRegressor\n",
    "from sklearn.ensemble import RandomForestClassifier\n",
    "from sklearn.ensemble import GradientBoostingClassifier\n",
    "from sklearn.decomposition import TruncatedSVD\n",
    "from sklearn.pipeline import Pipeline\n",
    "from sklearn.linear_model import LogisticRegression"
   ]
  },
  {
   "cell_type": "code",
   "execution_count": 2,
   "metadata": {
    "collapsed": true
   },
   "outputs": [],
   "source": [
    "avisos = pd.read_csv('Predecir/avisos_detalles_train.csv')\n",
    "postulantes = pd.read_csv('Predecir/postulantes_datos_train.csv')\n",
    "postulaciones = pd.read_csv('Predecir/df_postulaciones.csv')"
   ]
  },
  {
   "cell_type": "code",
   "execution_count": 3,
   "metadata": {},
   "outputs": [],
   "source": [
    "del avisos['Unnamed: 0']\n",
    "del postulantes['Unnamed: 0']\n",
    "del postulaciones['Unnamed: 0']"
   ]
  },
  {
   "cell_type": "code",
   "execution_count": 2,
   "metadata": {
    "collapsed": true
   },
   "outputs": [],
   "source": [
    "avisos = pd.read_csv('Predecir/avisos_detalles_predict.csv')\n",
    "postulantes = pd.read_csv('Predecir/postulantes_datos_predict.csv')\n",
    "postulaciones = pd.read_csv('Predecir/df_postulaciones.csv')"
   ]
  },
  {
   "cell_type": "code",
   "execution_count": 12,
   "metadata": {},
   "outputs": [
    {
     "data": {
      "text/plain": [
       "idpostulante                               0\n",
       "nombre                                 41751\n",
       "estado                                 41751\n",
       "sexo                                       0\n",
       "edad                                   19671\n",
       "vistas_postulante                      18785\n",
       "cant_dias_actividad                    18785\n",
       "postu_postulante                       59263\n",
       "tipo_de_trabajo_popular                61394\n",
       "nivel_laboral_popular                  61394\n",
       "nombre_area_popular                    61394\n",
       "denominacion_empresa_popular           61394\n",
       "tipo_de_trabajo_popular_postu          61394\n",
       "nivel_laboral_popular_postu            61394\n",
       "nombre_area_popular_postu              61394\n",
       "denominacion_empresa_popular_postu     61394\n",
       "tipo_de_trabajo_popular_vistas         19952\n",
       "nivel_laboral_popular_vistas           19952\n",
       "nombre_area_popular_vistas             19952\n",
       "denominacion_empresa_popular_vistas    19952\n",
       "dtype: int64"
      ]
     },
     "execution_count": 12,
     "metadata": {},
     "output_type": "execute_result"
    }
   ],
   "source": [
    "postulantes.isnull().sum()"
   ]
  },
  {
   "cell_type": "code",
   "execution_count": 4,
   "metadata": {
    "collapsed": true
   },
   "outputs": [],
   "source": [
    "use = ['idpostulante', 'nombre', 'estado', 'sexo', 'edad', 'vistas_postulante',\\\n",
    "      'cant_dias_actividad', 'tipo_de_trabajo_popular_vistas', 'nivel_laboral_popular_vistas',\\\n",
    "      'nombre_area_popular_vistas', 'denominacion_empresa_popular_vistas']\n",
    "postulantes = postulantes.loc[:, use]"
   ]
  },
  {
   "cell_type": "code",
   "execution_count": 10,
   "metadata": {},
   "outputs": [
    {
     "data": {
      "text/plain": [
       "idpostulante                               0\n",
       "nombre                                 41751\n",
       "estado                                 41751\n",
       "sexo                                       0\n",
       "edad                                   19671\n",
       "vistas_postulante                      18785\n",
       "cant_dias_actividad                    18785\n",
       "tipo_de_trabajo_popular_vistas         19952\n",
       "nivel_laboral_popular_vistas           19952\n",
       "nombre_area_popular_vistas             19952\n",
       "denominacion_empresa_popular_vistas    19952\n",
       "dtype: int64"
      ]
     },
     "execution_count": 10,
     "metadata": {},
     "output_type": "execute_result"
    }
   ],
   "source": [
    "postulantes.isnull().sum()"
   ]
  },
  {
   "cell_type": "code",
   "execution_count": 9,
   "metadata": {},
   "outputs": [
    {
     "data": {
      "text/plain": [
       "idaviso                     0\n",
       "tipo_de_trabajo             0\n",
       "nivel_laboral               0\n",
       "nombre_area                 0\n",
       "denominacion_empresa        0\n",
       "web                         0\n",
       "crecimiento                 0\n",
       "capacitacion                0\n",
       "clima laboral               0\n",
       "multinacional               0\n",
       "incorp_inmediata            0\n",
       "disponibilidad_horaria      0\n",
       "disponibilidad_viajar       0\n",
       "flexibilidad                0\n",
       "secundario                  0\n",
       "terciario                   0\n",
       "ingles                      0\n",
       "estudiantes                 0\n",
       "conoc_informatica           0\n",
       "experiencia                 0\n",
       "proactivo                   0\n",
       "relaciones_pers             0\n",
       "desarrollador               0\n",
       "cajero                      0\n",
       "vendedor                    0\n",
       "ingeniero                   0\n",
       "analista                    0\n",
       "administrativo              0\n",
       "junior                      0\n",
       "jefe                        0\n",
       "marketing                   0\n",
       "supervisor                  0\n",
       "total_vistas               78\n",
       "cant_dias                  78\n",
       "edad_popular_vistas        98\n",
       "nombre_popular_vistas     120\n",
       "dtype: int64"
      ]
     },
     "execution_count": 9,
     "metadata": {},
     "output_type": "execute_result"
    }
   ],
   "source": [
    "avisos.isnull().sum()"
   ]
  },
  {
   "cell_type": "code",
   "execution_count": 7,
   "metadata": {
    "collapsed": true
   },
   "outputs": [],
   "source": [
    "del avisos['postu_total']\n",
    "del avisos['vistas_median']\n",
    "del avisos['edad_popular_postu']\n",
    "del avisos['nombre_popular_postu']\n",
    "del avisos['online']\n",
    "\n",
    "\n",
    "\n",
    "#del avisos['total_vistas']"
   ]
  },
  {
   "cell_type": "code",
   "execution_count": 8,
   "metadata": {},
   "outputs": [
    {
     "data": {
      "text/plain": [
       "idaviso                     0\n",
       "tipo_de_trabajo             0\n",
       "nivel_laboral               0\n",
       "nombre_area                 0\n",
       "denominacion_empresa        0\n",
       "web                         0\n",
       "crecimiento                 0\n",
       "capacitacion                0\n",
       "clima laboral               0\n",
       "multinacional               0\n",
       "incorp_inmediata            0\n",
       "disponibilidad_horaria      0\n",
       "disponibilidad_viajar       0\n",
       "flexibilidad                0\n",
       "secundario                  0\n",
       "terciario                   0\n",
       "ingles                      0\n",
       "estudiantes                 0\n",
       "conoc_informatica           0\n",
       "experiencia                 0\n",
       "proactivo                   0\n",
       "relaciones_pers             0\n",
       "desarrollador               0\n",
       "cajero                      0\n",
       "vendedor                    0\n",
       "ingeniero                   0\n",
       "analista                    0\n",
       "administrativo              0\n",
       "junior                      0\n",
       "jefe                        0\n",
       "marketing                   0\n",
       "supervisor                  0\n",
       "total_vistas               78\n",
       "cant_dias                  78\n",
       "edad_popular_vistas        98\n",
       "nombre_popular_vistas     120\n",
       "dtype: int64"
      ]
     },
     "execution_count": 8,
     "metadata": {},
     "output_type": "execute_result"
    }
   ],
   "source": [
    "avisos.isnull().sum()"
   ]
  },
  {
   "cell_type": "code",
   "execution_count": 9,
   "metadata": {},
   "outputs": [
    {
     "data": {
      "text/html": [
       "<div>\n",
       "<style>\n",
       "    .dataframe thead tr:only-child th {\n",
       "        text-align: right;\n",
       "    }\n",
       "\n",
       "    .dataframe thead th {\n",
       "        text-align: left;\n",
       "    }\n",
       "\n",
       "    .dataframe tbody tr th {\n",
       "        vertical-align: top;\n",
       "    }\n",
       "</style>\n",
       "<table border=\"1\" class=\"dataframe\">\n",
       "  <thead>\n",
       "    <tr style=\"text-align: right;\">\n",
       "      <th></th>\n",
       "      <th>idaviso</th>\n",
       "      <th>tipo_de_trabajo</th>\n",
       "      <th>nivel_laboral</th>\n",
       "      <th>nombre_area</th>\n",
       "      <th>denominacion_empresa</th>\n",
       "      <th>web</th>\n",
       "      <th>crecimiento</th>\n",
       "      <th>capacitacion</th>\n",
       "      <th>clima laboral</th>\n",
       "      <th>multinacional</th>\n",
       "      <th>...</th>\n",
       "      <th>analista</th>\n",
       "      <th>administrativo</th>\n",
       "      <th>junior</th>\n",
       "      <th>jefe</th>\n",
       "      <th>marketing</th>\n",
       "      <th>supervisor</th>\n",
       "      <th>total_vistas</th>\n",
       "      <th>cant_dias</th>\n",
       "      <th>edad_popular_vistas</th>\n",
       "      <th>nombre_popular_vistas</th>\n",
       "    </tr>\n",
       "  </thead>\n",
       "  <tbody>\n",
       "    <tr>\n",
       "      <th>0</th>\n",
       "      <td>8725750</td>\n",
       "      <td>1</td>\n",
       "      <td>1</td>\n",
       "      <td>1</td>\n",
       "      <td>1</td>\n",
       "      <td>0</td>\n",
       "      <td>0</td>\n",
       "      <td>1</td>\n",
       "      <td>0</td>\n",
       "      <td>0</td>\n",
       "      <td>...</td>\n",
       "      <td>0</td>\n",
       "      <td>0</td>\n",
       "      <td>0</td>\n",
       "      <td>0</td>\n",
       "      <td>0</td>\n",
       "      <td>0</td>\n",
       "      <td>137.0</td>\n",
       "      <td>26.0</td>\n",
       "      <td>26.0</td>\n",
       "      <td>3.0</td>\n",
       "    </tr>\n",
       "    <tr>\n",
       "      <th>1</th>\n",
       "      <td>17903700</td>\n",
       "      <td>1</td>\n",
       "      <td>1</td>\n",
       "      <td>2</td>\n",
       "      <td>2</td>\n",
       "      <td>0</td>\n",
       "      <td>0</td>\n",
       "      <td>0</td>\n",
       "      <td>0</td>\n",
       "      <td>0</td>\n",
       "      <td>...</td>\n",
       "      <td>0</td>\n",
       "      <td>0</td>\n",
       "      <td>0</td>\n",
       "      <td>0</td>\n",
       "      <td>0</td>\n",
       "      <td>0</td>\n",
       "      <td>1935.0</td>\n",
       "      <td>51.0</td>\n",
       "      <td>36.0</td>\n",
       "      <td>3.0</td>\n",
       "    </tr>\n",
       "    <tr>\n",
       "      <th>2</th>\n",
       "      <td>1000150677</td>\n",
       "      <td>1</td>\n",
       "      <td>1</td>\n",
       "      <td>3</td>\n",
       "      <td>3</td>\n",
       "      <td>0</td>\n",
       "      <td>0</td>\n",
       "      <td>0</td>\n",
       "      <td>0</td>\n",
       "      <td>0</td>\n",
       "      <td>...</td>\n",
       "      <td>0</td>\n",
       "      <td>0</td>\n",
       "      <td>0</td>\n",
       "      <td>0</td>\n",
       "      <td>0</td>\n",
       "      <td>0</td>\n",
       "      <td>2.0</td>\n",
       "      <td>3.0</td>\n",
       "      <td>38.0</td>\n",
       "      <td>1.0</td>\n",
       "    </tr>\n",
       "    <tr>\n",
       "      <th>3</th>\n",
       "      <td>1000610287</td>\n",
       "      <td>1</td>\n",
       "      <td>1</td>\n",
       "      <td>3</td>\n",
       "      <td>4</td>\n",
       "      <td>0</td>\n",
       "      <td>1</td>\n",
       "      <td>1</td>\n",
       "      <td>0</td>\n",
       "      <td>1</td>\n",
       "      <td>...</td>\n",
       "      <td>0</td>\n",
       "      <td>0</td>\n",
       "      <td>0</td>\n",
       "      <td>0</td>\n",
       "      <td>0</td>\n",
       "      <td>0</td>\n",
       "      <td>394.0</td>\n",
       "      <td>83.0</td>\n",
       "      <td>50.0</td>\n",
       "      <td>1.0</td>\n",
       "    </tr>\n",
       "    <tr>\n",
       "      <th>4</th>\n",
       "      <td>1000872556</td>\n",
       "      <td>1</td>\n",
       "      <td>1</td>\n",
       "      <td>4</td>\n",
       "      <td>5</td>\n",
       "      <td>0</td>\n",
       "      <td>0</td>\n",
       "      <td>0</td>\n",
       "      <td>0</td>\n",
       "      <td>0</td>\n",
       "      <td>...</td>\n",
       "      <td>0</td>\n",
       "      <td>0</td>\n",
       "      <td>0</td>\n",
       "      <td>0</td>\n",
       "      <td>0</td>\n",
       "      <td>1</td>\n",
       "      <td>1.0</td>\n",
       "      <td>0.0</td>\n",
       "      <td>25.0</td>\n",
       "      <td>1.0</td>\n",
       "    </tr>\n",
       "  </tbody>\n",
       "</table>\n",
       "<p>5 rows × 36 columns</p>\n",
       "</div>"
      ],
      "text/plain": [
       "      idaviso  tipo_de_trabajo  nivel_laboral  nombre_area  \\\n",
       "0     8725750                1              1            1   \n",
       "1    17903700                1              1            2   \n",
       "2  1000150677                1              1            3   \n",
       "3  1000610287                1              1            3   \n",
       "4  1000872556                1              1            4   \n",
       "\n",
       "   denominacion_empresa  web  crecimiento  capacitacion  clima laboral  \\\n",
       "0                     1    0            0             1              0   \n",
       "1                     2    0            0             0              0   \n",
       "2                     3    0            0             0              0   \n",
       "3                     4    0            1             1              0   \n",
       "4                     5    0            0             0              0   \n",
       "\n",
       "   multinacional          ...            analista  administrativo  junior  \\\n",
       "0              0          ...                   0               0       0   \n",
       "1              0          ...                   0               0       0   \n",
       "2              0          ...                   0               0       0   \n",
       "3              1          ...                   0               0       0   \n",
       "4              0          ...                   0               0       0   \n",
       "\n",
       "   jefe  marketing  supervisor  total_vistas  cant_dias  edad_popular_vistas  \\\n",
       "0     0          0           0         137.0       26.0                 26.0   \n",
       "1     0          0           0        1935.0       51.0                 36.0   \n",
       "2     0          0           0           2.0        3.0                 38.0   \n",
       "3     0          0           0         394.0       83.0                 50.0   \n",
       "4     0          0           1           1.0        0.0                 25.0   \n",
       "\n",
       "   nombre_popular_vistas  \n",
       "0                    3.0  \n",
       "1                    3.0  \n",
       "2                    1.0  \n",
       "3                    1.0  \n",
       "4                    1.0  \n",
       "\n",
       "[5 rows x 36 columns]"
      ]
     },
     "execution_count": 9,
     "metadata": {},
     "output_type": "execute_result"
    }
   ],
   "source": [
    "avisos.head()"
   ]
  },
  {
   "cell_type": "code",
   "execution_count": 7,
   "metadata": {},
   "outputs": [
    {
     "data": {
      "text/html": [
       "<div>\n",
       "<style>\n",
       "    .dataframe thead tr:only-child th {\n",
       "        text-align: right;\n",
       "    }\n",
       "\n",
       "    .dataframe thead th {\n",
       "        text-align: left;\n",
       "    }\n",
       "\n",
       "    .dataframe tbody tr th {\n",
       "        vertical-align: top;\n",
       "    }\n",
       "</style>\n",
       "<table border=\"1\" class=\"dataframe\">\n",
       "  <thead>\n",
       "    <tr style=\"text-align: right;\">\n",
       "      <th></th>\n",
       "      <th>idpostulante</th>\n",
       "      <th>nombre</th>\n",
       "      <th>estado</th>\n",
       "      <th>sexo</th>\n",
       "      <th>edad</th>\n",
       "      <th>vistas_postulante</th>\n",
       "      <th>cant_dias_actividad</th>\n",
       "      <th>tipo_de_trabajo_popular_vistas</th>\n",
       "      <th>nivel_laboral_popular_vistas</th>\n",
       "      <th>nombre_area_popular_vistas</th>\n",
       "      <th>denominacion_empresa_popular_vistas</th>\n",
       "    </tr>\n",
       "  </thead>\n",
       "  <tbody>\n",
       "    <tr>\n",
       "      <th>0</th>\n",
       "      <td>NdJl</td>\n",
       "      <td>4.0</td>\n",
       "      <td>1.0</td>\n",
       "      <td>2</td>\n",
       "      <td>49.0</td>\n",
       "      <td>60.0</td>\n",
       "      <td>88.0</td>\n",
       "      <td>1.0</td>\n",
       "      <td>3.0</td>\n",
       "      <td>10.0</td>\n",
       "      <td>140.0</td>\n",
       "    </tr>\n",
       "    <tr>\n",
       "      <th>1</th>\n",
       "      <td>1d2B</td>\n",
       "      <td>3.0</td>\n",
       "      <td>1.0</td>\n",
       "      <td>2</td>\n",
       "      <td>42.0</td>\n",
       "      <td>4.0</td>\n",
       "      <td>7.0</td>\n",
       "      <td>1.0</td>\n",
       "      <td>1.0</td>\n",
       "      <td>5.0</td>\n",
       "      <td>38.0</td>\n",
       "    </tr>\n",
       "    <tr>\n",
       "      <th>2</th>\n",
       "      <td>NPBx</td>\n",
       "      <td>5.0</td>\n",
       "      <td>1.0</td>\n",
       "      <td>2</td>\n",
       "      <td>37.0</td>\n",
       "      <td>34.0</td>\n",
       "      <td>81.0</td>\n",
       "      <td>1.0</td>\n",
       "      <td>1.0</td>\n",
       "      <td>10.0</td>\n",
       "      <td>410.0</td>\n",
       "    </tr>\n",
       "    <tr>\n",
       "      <th>3</th>\n",
       "      <td>ZKl5</td>\n",
       "      <td>5.0</td>\n",
       "      <td>1.0</td>\n",
       "      <td>2</td>\n",
       "      <td>44.0</td>\n",
       "      <td>41.0</td>\n",
       "      <td>89.0</td>\n",
       "      <td>1.0</td>\n",
       "      <td>5.0</td>\n",
       "      <td>1.0</td>\n",
       "      <td>173.0</td>\n",
       "    </tr>\n",
       "    <tr>\n",
       "      <th>4</th>\n",
       "      <td>Y043Z</td>\n",
       "      <td>3.0</td>\n",
       "      <td>1.0</td>\n",
       "      <td>2</td>\n",
       "      <td>39.0</td>\n",
       "      <td>12.0</td>\n",
       "      <td>50.0</td>\n",
       "      <td>1.0</td>\n",
       "      <td>1.0</td>\n",
       "      <td>25.0</td>\n",
       "      <td>269.0</td>\n",
       "    </tr>\n",
       "  </tbody>\n",
       "</table>\n",
       "</div>"
      ],
      "text/plain": [
       "  idpostulante  nombre  estado  sexo  edad  vistas_postulante  \\\n",
       "0         NdJl     4.0     1.0     2  49.0               60.0   \n",
       "1         1d2B     3.0     1.0     2  42.0                4.0   \n",
       "2         NPBx     5.0     1.0     2  37.0               34.0   \n",
       "3         ZKl5     5.0     1.0     2  44.0               41.0   \n",
       "4        Y043Z     3.0     1.0     2  39.0               12.0   \n",
       "\n",
       "   cant_dias_actividad  tipo_de_trabajo_popular_vistas  \\\n",
       "0                 88.0                             1.0   \n",
       "1                  7.0                             1.0   \n",
       "2                 81.0                             1.0   \n",
       "3                 89.0                             1.0   \n",
       "4                 50.0                             1.0   \n",
       "\n",
       "   nivel_laboral_popular_vistas  nombre_area_popular_vistas  \\\n",
       "0                           3.0                        10.0   \n",
       "1                           1.0                         5.0   \n",
       "2                           1.0                        10.0   \n",
       "3                           5.0                         1.0   \n",
       "4                           1.0                        25.0   \n",
       "\n",
       "   denominacion_empresa_popular_vistas  \n",
       "0                                140.0  \n",
       "1                                 38.0  \n",
       "2                                410.0  \n",
       "3                                173.0  \n",
       "4                                269.0  "
      ]
     },
     "execution_count": 7,
     "metadata": {},
     "output_type": "execute_result"
    }
   ],
   "source": [
    "postulantes.head()"
   ]
  },
  {
   "cell_type": "code",
   "execution_count": 18,
   "metadata": {},
   "outputs": [
    {
     "data": {
      "text/plain": [
       "(408146, 11)"
      ]
     },
     "execution_count": 18,
     "metadata": {},
     "output_type": "execute_result"
    }
   ],
   "source": [
    "postulantes.shape"
   ]
  },
  {
   "cell_type": "code",
   "execution_count": 10,
   "metadata": {
    "collapsed": true
   },
   "outputs": [],
   "source": [
    "postulantes_train = postulantes.loc[(postulantes['edad']>18.0)&(postulantes['edad']<60.0), :]"
   ]
  },
  {
   "cell_type": "code",
   "execution_count": 11,
   "metadata": {
    "collapsed": true
   },
   "outputs": [],
   "source": [
    "postulantes_train = postulantes_train.loc[(postulantes_train['vistas_postulante']>0.0)]"
   ]
  },
  {
   "cell_type": "code",
   "execution_count": 12,
   "metadata": {
    "collapsed": true
   },
   "outputs": [],
   "source": [
    "postulantes_train = postulantes_train.loc[(postulantes_train['cant_dias_actividad']>0.0)]"
   ]
  },
  {
   "cell_type": "code",
   "execution_count": 13,
   "metadata": {},
   "outputs": [
    {
     "data": {
      "text/plain": [
       "(273870, 11)"
      ]
     },
     "execution_count": 13,
     "metadata": {},
     "output_type": "execute_result"
    }
   ],
   "source": [
    "postulantes_train.shape"
   ]
  },
  {
   "cell_type": "code",
   "execution_count": 11,
   "metadata": {
    "collapsed": true
   },
   "outputs": [],
   "source": [
    "postulantes_train = postulantes.copy()"
   ]
  },
  {
   "cell_type": "code",
   "execution_count": 12,
   "metadata": {
    "collapsed": true
   },
   "outputs": [],
   "source": [
    "postulantes_train = postulantes_train.dropna()"
   ]
  },
  {
   "cell_type": "code",
   "execution_count": 13,
   "metadata": {},
   "outputs": [
    {
     "data": {
      "text/plain": [
       "(344793, 11)"
      ]
     },
     "execution_count": 13,
     "metadata": {},
     "output_type": "execute_result"
    }
   ],
   "source": [
    "postulantes_train.shape"
   ]
  },
  {
   "cell_type": "code",
   "execution_count": 14,
   "metadata": {
    "collapsed": true
   },
   "outputs": [],
   "source": [
    "avisos_train = avisos.copy()"
   ]
  },
  {
   "cell_type": "code",
   "execution_count": 15,
   "metadata": {},
   "outputs": [
    {
     "data": {
      "text/plain": [
       "(19696, 36)"
      ]
     },
     "execution_count": 15,
     "metadata": {},
     "output_type": "execute_result"
    }
   ],
   "source": [
    "avisos_train.shape"
   ]
  },
  {
   "cell_type": "code",
   "execution_count": 16,
   "metadata": {
    "collapsed": true
   },
   "outputs": [],
   "source": [
    "avisos_train = avisos_train.dropna()"
   ]
  },
  {
   "cell_type": "code",
   "execution_count": 17,
   "metadata": {},
   "outputs": [
    {
     "data": {
      "text/plain": [
       "(19562, 36)"
      ]
     },
     "execution_count": 17,
     "metadata": {},
     "output_type": "execute_result"
    }
   ],
   "source": [
    "avisos_train.shape"
   ]
  },
  {
   "cell_type": "code",
   "execution_count": 25,
   "metadata": {},
   "outputs": [
    {
     "data": {
      "text/plain": [
       "Index(['idaviso', 'tipo_de_trabajo', 'nivel_laboral', 'nombre_area',\n",
       "       'denominacion_empresa', 'web', 'crecimiento', 'capacitacion',\n",
       "       'clima laboral', 'multinacional', 'incorp_inmediata',\n",
       "       'disponibilidad_horaria', 'disponibilidad_viajar', 'flexibilidad',\n",
       "       'secundario', 'terciario', 'ingles', 'estudiantes', 'conoc_informatica',\n",
       "       'experiencia', 'proactivo', 'relaciones_pers', 'desarrollador',\n",
       "       'cajero', 'vendedor', 'ingeniero', 'analista', 'administrativo',\n",
       "       'junior', 'jefe', 'marketing', 'supervisor', 'online', 'total_vistas',\n",
       "       'cant_dias', 'edad_popular_vistas', 'nombre_popular_vistas'],\n",
       "      dtype='object')"
      ]
     },
     "execution_count": 25,
     "metadata": {},
     "output_type": "execute_result"
    }
   ],
   "source": [
    "avisos_train.columns"
   ]
  },
  {
   "cell_type": "code",
   "execution_count": 26,
   "metadata": {},
   "outputs": [
    {
     "data": {
      "text/plain": [
       "548.588794601779"
      ]
     },
     "execution_count": 26,
     "metadata": {},
     "output_type": "execute_result"
    }
   ],
   "source": [
    "avisos_train['total_vistas'].mean()"
   ]
  },
  {
   "cell_type": "code",
   "execution_count": 27,
   "metadata": {},
   "outputs": [
    {
     "data": {
      "text/plain": [
       "200.0"
      ]
     },
     "execution_count": 27,
     "metadata": {},
     "output_type": "execute_result"
    }
   ],
   "source": [
    "avisos_train['total_vistas'].median()"
   ]
  },
  {
   "cell_type": "code",
   "execution_count": 28,
   "metadata": {},
   "outputs": [
    {
     "data": {
      "text/plain": [
       "28.789949902872916"
      ]
     },
     "execution_count": 28,
     "metadata": {},
     "output_type": "execute_result"
    }
   ],
   "source": [
    "avisos_train['cant_dias'].mean()"
   ]
  },
  {
   "cell_type": "code",
   "execution_count": 29,
   "metadata": {
    "collapsed": true
   },
   "outputs": [],
   "source": [
    "avisos_train = avisos_train.loc[(avisos_train['cant_dias'] < 35), :]"
   ]
  },
  {
   "cell_type": "code",
   "execution_count": 30,
   "metadata": {
    "collapsed": true
   },
   "outputs": [],
   "source": [
    "avisos_train = avisos_train.loc[(avisos_train['cant_dias'] > 0)&(avisos_train['total_vistas'] <= 1500.0)\\\n",
    "                               &(avisos_train['total_vistas']>100.0), :]"
   ]
  },
  {
   "cell_type": "code",
   "execution_count": 29,
   "metadata": {
    "collapsed": true
   },
   "outputs": [],
   "source": [
    "avisos_train = avisos_train.loc[(avisos_train['total_vistas'] <= 10000.0)\\\n",
    "                               &(avisos_train['total_vistas']>10.0), :]"
   ]
  },
  {
   "cell_type": "code",
   "execution_count": 31,
   "metadata": {},
   "outputs": [
    {
     "data": {
      "text/plain": [
       "(7404, 37)"
      ]
     },
     "execution_count": 31,
     "metadata": {},
     "output_type": "execute_result"
    }
   ],
   "source": [
    "avisos_train.shape"
   ]
  },
  {
   "cell_type": "code",
   "execution_count": 18,
   "metadata": {
    "collapsed": true
   },
   "outputs": [],
   "source": [
    "avisos_si = avisos_train.copy()\n",
    "avisos_si['se_postulo'] = 1"
   ]
  },
  {
   "cell_type": "code",
   "execution_count": 19,
   "metadata": {},
   "outputs": [
    {
     "data": {
      "text/plain": [
       "(6604534, 2)"
      ]
     },
     "execution_count": 19,
     "metadata": {},
     "output_type": "execute_result"
    }
   ],
   "source": [
    "postulaciones.shape"
   ]
  },
  {
   "cell_type": "markdown",
   "metadata": {},
   "source": [
    "Muy grande para procesar, procesamos por bloques random y calculamos un promedio general"
   ]
  },
  {
   "cell_type": "code",
   "execution_count": 20,
   "metadata": {
    "collapsed": true
   },
   "outputs": [],
   "source": [
    "postulaciones = postulaciones.sample(frac=0.25)"
   ]
  },
  {
   "cell_type": "code",
   "execution_count": 21,
   "metadata": {},
   "outputs": [
    {
     "data": {
      "text/plain": [
       "(1651134, 2)"
      ]
     },
     "execution_count": 21,
     "metadata": {},
     "output_type": "execute_result"
    }
   ],
   "source": [
    "postulaciones.shape"
   ]
  },
  {
   "cell_type": "code",
   "execution_count": null,
   "metadata": {
    "collapsed": true
   },
   "outputs": [],
   "source": []
  },
  {
   "cell_type": "code",
   "execution_count": 22,
   "metadata": {
    "collapsed": true
   },
   "outputs": [],
   "source": [
    "postulaciones = pd.merge(postulaciones, avisos_si, how='inner', on=['idaviso'])"
   ]
  },
  {
   "cell_type": "code",
   "execution_count": 23,
   "metadata": {},
   "outputs": [
    {
     "data": {
      "text/plain": [
       "(1546222, 38)"
      ]
     },
     "execution_count": 23,
     "metadata": {},
     "output_type": "execute_result"
    }
   ],
   "source": [
    "postulaciones.shape"
   ]
  },
  {
   "cell_type": "code",
   "execution_count": 24,
   "metadata": {
    "collapsed": true
   },
   "outputs": [],
   "source": [
    "postulaciones = pd.merge(postulaciones, postulantes_train, how='inner', on=['idpostulante'])"
   ]
  },
  {
   "cell_type": "code",
   "execution_count": 25,
   "metadata": {},
   "outputs": [
    {
     "data": {
      "text/plain": [
       "(1480308, 48)"
      ]
     },
     "execution_count": 25,
     "metadata": {},
     "output_type": "execute_result"
    }
   ],
   "source": [
    "postulaciones.shape"
   ]
  },
  {
   "cell_type": "code",
   "execution_count": 21,
   "metadata": {},
   "outputs": [
    {
     "data": {
      "text/html": [
       "<div>\n",
       "<style>\n",
       "    .dataframe thead tr:only-child th {\n",
       "        text-align: right;\n",
       "    }\n",
       "\n",
       "    .dataframe thead th {\n",
       "        text-align: left;\n",
       "    }\n",
       "\n",
       "    .dataframe tbody tr th {\n",
       "        vertical-align: top;\n",
       "    }\n",
       "</style>\n",
       "<table border=\"1\" class=\"dataframe\">\n",
       "  <thead>\n",
       "    <tr style=\"text-align: right;\">\n",
       "      <th></th>\n",
       "      <th>idaviso</th>\n",
       "      <th>idpostulante</th>\n",
       "      <th>tipo_de_trabajo</th>\n",
       "      <th>nivel_laboral</th>\n",
       "      <th>nombre_area</th>\n",
       "      <th>denominacion_empresa</th>\n",
       "      <th>web</th>\n",
       "      <th>crecimiento</th>\n",
       "      <th>capacitacion</th>\n",
       "      <th>clima laboral</th>\n",
       "      <th>...</th>\n",
       "      <th>se_postulo</th>\n",
       "      <th>nombre</th>\n",
       "      <th>estado</th>\n",
       "      <th>sexo</th>\n",
       "      <th>edad</th>\n",
       "      <th>cant_dias_actividad</th>\n",
       "      <th>tipo_de_trabajo_popular_vistas</th>\n",
       "      <th>nivel_laboral_popular_vistas</th>\n",
       "      <th>nombre_area_popular_vistas</th>\n",
       "      <th>denominacion_empresa_popular_vistas</th>\n",
       "    </tr>\n",
       "  </thead>\n",
       "  <tbody>\n",
       "    <tr>\n",
       "      <th>0</th>\n",
       "      <td>1112382140</td>\n",
       "      <td>mzd9VlZ</td>\n",
       "      <td>1</td>\n",
       "      <td>1</td>\n",
       "      <td>85</td>\n",
       "      <td>686</td>\n",
       "      <td>0</td>\n",
       "      <td>0</td>\n",
       "      <td>1</td>\n",
       "      <td>0</td>\n",
       "      <td>...</td>\n",
       "      <td>1</td>\n",
       "      <td>5.0</td>\n",
       "      <td>2.0</td>\n",
       "      <td>1</td>\n",
       "      <td>36.0</td>\n",
       "      <td>56.0</td>\n",
       "      <td>1.0</td>\n",
       "      <td>1.0</td>\n",
       "      <td>10.0</td>\n",
       "      <td>39.0</td>\n",
       "    </tr>\n",
       "    <tr>\n",
       "      <th>1</th>\n",
       "      <td>1112377586</td>\n",
       "      <td>mzd9VlZ</td>\n",
       "      <td>1</td>\n",
       "      <td>3</td>\n",
       "      <td>10</td>\n",
       "      <td>27</td>\n",
       "      <td>0</td>\n",
       "      <td>0</td>\n",
       "      <td>0</td>\n",
       "      <td>0</td>\n",
       "      <td>...</td>\n",
       "      <td>1</td>\n",
       "      <td>5.0</td>\n",
       "      <td>2.0</td>\n",
       "      <td>1</td>\n",
       "      <td>36.0</td>\n",
       "      <td>56.0</td>\n",
       "      <td>1.0</td>\n",
       "      <td>1.0</td>\n",
       "      <td>10.0</td>\n",
       "      <td>39.0</td>\n",
       "    </tr>\n",
       "    <tr>\n",
       "      <th>2</th>\n",
       "      <td>1112353728</td>\n",
       "      <td>mzd9VlZ</td>\n",
       "      <td>1</td>\n",
       "      <td>3</td>\n",
       "      <td>10</td>\n",
       "      <td>918</td>\n",
       "      <td>0</td>\n",
       "      <td>0</td>\n",
       "      <td>0</td>\n",
       "      <td>0</td>\n",
       "      <td>...</td>\n",
       "      <td>1</td>\n",
       "      <td>5.0</td>\n",
       "      <td>2.0</td>\n",
       "      <td>1</td>\n",
       "      <td>36.0</td>\n",
       "      <td>56.0</td>\n",
       "      <td>1.0</td>\n",
       "      <td>1.0</td>\n",
       "      <td>10.0</td>\n",
       "      <td>39.0</td>\n",
       "    </tr>\n",
       "    <tr>\n",
       "      <th>3</th>\n",
       "      <td>1112430020</td>\n",
       "      <td>mzd9VlZ</td>\n",
       "      <td>1</td>\n",
       "      <td>1</td>\n",
       "      <td>36</td>\n",
       "      <td>1421</td>\n",
       "      <td>0</td>\n",
       "      <td>1</td>\n",
       "      <td>0</td>\n",
       "      <td>1</td>\n",
       "      <td>...</td>\n",
       "      <td>1</td>\n",
       "      <td>5.0</td>\n",
       "      <td>2.0</td>\n",
       "      <td>1</td>\n",
       "      <td>36.0</td>\n",
       "      <td>56.0</td>\n",
       "      <td>1.0</td>\n",
       "      <td>1.0</td>\n",
       "      <td>10.0</td>\n",
       "      <td>39.0</td>\n",
       "    </tr>\n",
       "    <tr>\n",
       "      <th>4</th>\n",
       "      <td>1112363663</td>\n",
       "      <td>mzd9VlZ</td>\n",
       "      <td>1</td>\n",
       "      <td>1</td>\n",
       "      <td>87</td>\n",
       "      <td>1413</td>\n",
       "      <td>0</td>\n",
       "      <td>0</td>\n",
       "      <td>0</td>\n",
       "      <td>1</td>\n",
       "      <td>...</td>\n",
       "      <td>1</td>\n",
       "      <td>5.0</td>\n",
       "      <td>2.0</td>\n",
       "      <td>1</td>\n",
       "      <td>36.0</td>\n",
       "      <td>56.0</td>\n",
       "      <td>1.0</td>\n",
       "      <td>1.0</td>\n",
       "      <td>10.0</td>\n",
       "      <td>39.0</td>\n",
       "    </tr>\n",
       "  </tbody>\n",
       "</table>\n",
       "<p>5 rows × 46 columns</p>\n",
       "</div>"
      ],
      "text/plain": [
       "      idaviso idpostulante  tipo_de_trabajo  nivel_laboral  nombre_area  \\\n",
       "0  1112382140      mzd9VlZ                1              1           85   \n",
       "1  1112377586      mzd9VlZ                1              3           10   \n",
       "2  1112353728      mzd9VlZ                1              3           10   \n",
       "3  1112430020      mzd9VlZ                1              1           36   \n",
       "4  1112363663      mzd9VlZ                1              1           87   \n",
       "\n",
       "   denominacion_empresa  web  crecimiento  capacitacion  clima laboral  \\\n",
       "0                   686    0            0             1              0   \n",
       "1                    27    0            0             0              0   \n",
       "2                   918    0            0             0              0   \n",
       "3                  1421    0            1             0              1   \n",
       "4                  1413    0            0             0              1   \n",
       "\n",
       "                  ...                   se_postulo  nombre  estado  sexo  \\\n",
       "0                 ...                            1     5.0     2.0     1   \n",
       "1                 ...                            1     5.0     2.0     1   \n",
       "2                 ...                            1     5.0     2.0     1   \n",
       "3                 ...                            1     5.0     2.0     1   \n",
       "4                 ...                            1     5.0     2.0     1   \n",
       "\n",
       "   edad  cant_dias_actividad  tipo_de_trabajo_popular_vistas  \\\n",
       "0  36.0                 56.0                             1.0   \n",
       "1  36.0                 56.0                             1.0   \n",
       "2  36.0                 56.0                             1.0   \n",
       "3  36.0                 56.0                             1.0   \n",
       "4  36.0                 56.0                             1.0   \n",
       "\n",
       "   nivel_laboral_popular_vistas  nombre_area_popular_vistas  \\\n",
       "0                           1.0                        10.0   \n",
       "1                           1.0                        10.0   \n",
       "2                           1.0                        10.0   \n",
       "3                           1.0                        10.0   \n",
       "4                           1.0                        10.0   \n",
       "\n",
       "   denominacion_empresa_popular_vistas  \n",
       "0                                 39.0  \n",
       "1                                 39.0  \n",
       "2                                 39.0  \n",
       "3                                 39.0  \n",
       "4                                 39.0  \n",
       "\n",
       "[5 rows x 46 columns]"
      ]
     },
     "execution_count": 21,
     "metadata": {},
     "output_type": "execute_result"
    }
   ],
   "source": [
    "postulaciones.head()"
   ]
  },
  {
   "cell_type": "markdown",
   "metadata": {},
   "source": [
    "Contamos cuantos postulados = 1 tenemos para ver cuantos 0 ponemos"
   ]
  },
  {
   "cell_type": "code",
   "execution_count": 26,
   "metadata": {},
   "outputs": [
    {
     "data": {
      "text/plain": [
       "(1480308, 48)"
      ]
     },
     "execution_count": 26,
     "metadata": {},
     "output_type": "execute_result"
    }
   ],
   "source": [
    "postulaciones.shape"
   ]
  },
  {
   "cell_type": "markdown",
   "metadata": {},
   "source": [
    "Probamos un 50% aprox de ceros en relacion a los unos"
   ]
  },
  {
   "cell_type": "code",
   "execution_count": 27,
   "metadata": {},
   "outputs": [
    {
     "data": {
      "text/plain": [
       "1480308"
      ]
     },
     "execution_count": 27,
     "metadata": {},
     "output_type": "execute_result"
    }
   ],
   "source": [
    "len(postulaciones[postulaciones[\"se_postulo\"]==1])"
   ]
  },
  {
   "cell_type": "code",
   "execution_count": 28,
   "metadata": {
    "collapsed": true
   },
   "outputs": [],
   "source": [
    "def random_fill(row):\n",
    "    return np.random.choice(avisos_train['idaviso'])"
   ]
  },
  {
   "cell_type": "code",
   "execution_count": 29,
   "metadata": {},
   "outputs": [
    {
     "name": "stdout",
     "output_type": "stream",
     "text": [
      "172356\n",
      "344717\n",
      "517070\n",
      "689406\n",
      "861748\n",
      "1034094\n",
      "1206425\n",
      "1378750\n",
      "1551083\n"
     ]
    }
   ],
   "source": [
    "while (len(postulaciones[postulaciones[\"se_postulo\"]==1])*1.0 > len(postulaciones[postulaciones[\"se_postulo\"]==0])):\n",
    "    relleno = postulantes_train.sample(frac=0.5).copy()\n",
    "    #relleno['idaviso'] = np.nan\n",
    "    relleno['idaviso'] = relleno.apply(random_fill, axis=1)\n",
    "    relleno = pd.merge(relleno, avisos_train, how='inner', on=['idaviso'])\n",
    "    postulaciones = pd.merge(postulaciones, relleno, how='outer')\n",
    "    postulaciones = postulaciones.fillna({'se_postulo' : 0})\n",
    "    print(len(postulaciones[postulaciones[\"se_postulo\"]==0]))"
   ]
  },
  {
   "cell_type": "code",
   "execution_count": 30,
   "metadata": {},
   "outputs": [
    {
     "data": {
      "text/plain": [
       "(3031391, 48)"
      ]
     },
     "execution_count": 30,
     "metadata": {},
     "output_type": "execute_result"
    }
   ],
   "source": [
    "postulaciones.shape"
   ]
  },
  {
   "cell_type": "code",
   "execution_count": 31,
   "metadata": {
    "collapsed": true
   },
   "outputs": [],
   "source": [
    "se_postulo = postulaciones['se_postulo']\n",
    "del postulaciones['se_postulo']\n",
    "del postulaciones['idaviso']\n",
    "del postulaciones['idpostulante']"
   ]
  },
  {
   "cell_type": "markdown",
   "metadata": {
    "collapsed": true
   },
   "source": [
    "# DecisionTree"
   ]
  },
  {
   "cell_type": "code",
   "execution_count": 32,
   "metadata": {},
   "outputs": [
    {
     "data": {
      "text/plain": [
       "{'class_weight': None,\n",
       " 'criterion': 'gini',\n",
       " 'max_depth': None,\n",
       " 'max_features': None,\n",
       " 'max_leaf_nodes': None,\n",
       " 'min_impurity_split': 1e-07,\n",
       " 'min_samples_leaf': 1,\n",
       " 'min_samples_split': 2,\n",
       " 'min_weight_fraction_leaf': 0.0,\n",
       " 'presort': False,\n",
       " 'random_state': 103040,\n",
       " 'splitter': 'best'}"
      ]
     },
     "execution_count": 32,
     "metadata": {},
     "output_type": "execute_result"
    }
   ],
   "source": [
    "decisiontree = DecisionTreeClassifier(random_state=103040)\n",
    "decisiontree.get_params()"
   ]
  },
  {
   "cell_type": "code",
   "execution_count": 33,
   "metadata": {
    "collapsed": true
   },
   "outputs": [],
   "source": [
    "X_train, X_test, y_train, y_test = train_test_split(postulaciones, se_postulo, test_size=0.30, random_state=42)"
   ]
  },
  {
   "cell_type": "code",
   "execution_count": 34,
   "metadata": {},
   "outputs": [
    {
     "name": "stdout",
     "output_type": "stream",
     "text": [
      "{'criterion': 'entropy', 'max_features': 'auto'} 0.792792605139\n"
     ]
    }
   ],
   "source": [
    "param_grid= {'max_features': [\"auto\"], 'criterion': ['gini', 'entropy']}\n",
    "grid_drop = GridSearchCV(decisiontree, param_grid, cv=3, scoring='roc_auc')\n",
    "grid_drop.fit(X_train, y_train)\n",
    "print(grid_drop.best_params_, grid_drop.best_score_)"
   ]
  },
  {
   "cell_type": "code",
   "execution_count": 35,
   "metadata": {},
   "outputs": [
    {
     "data": {
      "text/plain": [
       "array([ 0.00524243,  0.0113715 ,  0.04092669,  0.03580457,  0.00222311,\n",
       "        0.00399848,  0.00466774,  0.00386581,  0.00387363,  0.00301753,\n",
       "        0.00503511,  0.00284205,  0.00247738,  0.0049316 ,  0.00167591,\n",
       "        0.00434046,  0.00572761,  0.00669028,  0.00529259,  0.0052006 ,\n",
       "        0.0046572 ,  0.00651707,  0.00479118,  0.00375625,  0.00413721,\n",
       "        0.00424936,  0.00293677,  0.00203616,  0.0018588 ,  0.00716482,\n",
       "        0.00319279,  0.15140015,  0.06242959,  0.03321218,  0.00984463,\n",
       "        0.02605539,  0.01435457,  0.01553956,  0.05062956,  0.17064902,\n",
       "        0.13015326,  0.00587357,  0.00999022,  0.06076028,  0.05460531])"
      ]
     },
     "execution_count": 35,
     "metadata": {},
     "output_type": "execute_result"
    }
   ],
   "source": [
    "grid_drop.best_estimator_.feature_importances_  "
   ]
  },
  {
   "cell_type": "code",
   "execution_count": 36,
   "metadata": {},
   "outputs": [
    {
     "data": {
      "text/plain": [
       "Index(['tipo_de_trabajo', 'nivel_laboral', 'nombre_area',\n",
       "       'denominacion_empresa', 'web', 'crecimiento', 'capacitacion',\n",
       "       'clima laboral', 'multinacional', 'incorp_inmediata',\n",
       "       'disponibilidad_horaria', 'disponibilidad_viajar', 'flexibilidad',\n",
       "       'secundario', 'terciario', 'ingles', 'estudiantes', 'conoc_informatica',\n",
       "       'experiencia', 'proactivo', 'relaciones_pers', 'desarrollador',\n",
       "       'cajero', 'vendedor', 'ingeniero', 'analista', 'administrativo',\n",
       "       'junior', 'jefe', 'marketing', 'supervisor', 'total_vistas',\n",
       "       'cant_dias', 'edad_popular_vistas', 'nombre_popular_vistas', 'nombre',\n",
       "       'estado', 'sexo', 'edad', 'vistas_postulante', 'cant_dias_actividad',\n",
       "       'tipo_de_trabajo_popular_vistas', 'nivel_laboral_popular_vistas',\n",
       "       'nombre_area_popular_vistas', 'denominacion_empresa_popular_vistas'],\n",
       "      dtype='object')"
      ]
     },
     "execution_count": 36,
     "metadata": {},
     "output_type": "execute_result"
    }
   ],
   "source": [
    "postulaciones.columns"
   ]
  },
  {
   "cell_type": "code",
   "execution_count": 37,
   "metadata": {
    "collapsed": true
   },
   "outputs": [],
   "source": [
    "result = grid_drop.best_estimator_.predict(X_test)"
   ]
  },
  {
   "cell_type": "code",
   "execution_count": 38,
   "metadata": {},
   "outputs": [
    {
     "data": {
      "text/plain": [
       "0.80015046455818384"
      ]
     },
     "execution_count": 38,
     "metadata": {},
     "output_type": "execute_result"
    }
   ],
   "source": [
    "roc_auc_score(y_test, result)"
   ]
  },
  {
   "cell_type": "code",
   "execution_count": 39,
   "metadata": {},
   "outputs": [
    {
     "data": {
      "text/plain": [
       "0.80015046455818384"
      ]
     },
     "execution_count": 39,
     "metadata": {},
     "output_type": "execute_result"
    }
   ],
   "source": [
    "grid_drop.score(X_test, y_test)"
   ]
  },
  {
   "cell_type": "code",
   "execution_count": null,
   "metadata": {
    "collapsed": true
   },
   "outputs": [],
   "source": [
    "decisiontree = DecisionTreeRegressor(random_state=103040)\n",
    "decisiontree.get_params()"
   ]
  },
  {
   "cell_type": "code",
   "execution_count": null,
   "metadata": {
    "collapsed": true
   },
   "outputs": [],
   "source": [
    "X_train, X_test, y_train, y_test = train_test_split(postulaciones, se_postulo, test_size=0.30, random_state=42)"
   ]
  },
  {
   "cell_type": "code",
   "execution_count": 31,
   "metadata": {},
   "outputs": [
    {
     "name": "stdout",
     "output_type": "stream",
     "text": [
      "{'max_features': 'auto'} 0.841402547023\n"
     ]
    }
   ],
   "source": [
    "param_grid= {'max_features': [\"auto\", \"sqrt\", \"log2\"]}\n",
    "grid_drop = GridSearchCV(decisiontree, param_grid, cv=3, scoring='roc_auc')\n",
    "grid_drop.fit(X_train, y_train)\n",
    "print(grid_drop.best_params_, grid_drop.best_score_)"
   ]
  },
  {
   "cell_type": "code",
   "execution_count": 32,
   "metadata": {
    "collapsed": true
   },
   "outputs": [],
   "source": [
    "result = grid_drop.best_estimator_.predict(X_test)"
   ]
  },
  {
   "cell_type": "code",
   "execution_count": 33,
   "metadata": {},
   "outputs": [
    {
     "data": {
      "text/plain": [
       "0.84406575561274344"
      ]
     },
     "execution_count": 33,
     "metadata": {},
     "output_type": "execute_result"
    }
   ],
   "source": [
    "roc_auc_score(y_test, result)"
   ]
  },
  {
   "cell_type": "markdown",
   "metadata": {},
   "source": [
    "# RandomForest"
   ]
  },
  {
   "cell_type": "code",
   "execution_count": 44,
   "metadata": {},
   "outputs": [
    {
     "data": {
      "text/plain": [
       "{'bootstrap': True,\n",
       " 'class_weight': None,\n",
       " 'criterion': 'gini',\n",
       " 'max_depth': None,\n",
       " 'max_features': 'auto',\n",
       " 'max_leaf_nodes': None,\n",
       " 'min_impurity_split': 1e-07,\n",
       " 'min_samples_leaf': 1,\n",
       " 'min_samples_split': 2,\n",
       " 'min_weight_fraction_leaf': 0.0,\n",
       " 'n_estimators': 10,\n",
       " 'n_jobs': 1,\n",
       " 'oob_score': False,\n",
       " 'random_state': 103040,\n",
       " 'verbose': 0,\n",
       " 'warm_start': False}"
      ]
     },
     "execution_count": 44,
     "metadata": {},
     "output_type": "execute_result"
    }
   ],
   "source": [
    "randomforesttree = RandomForestClassifier(random_state=103040)\n",
    "randomforesttree.get_params()"
   ]
  },
  {
   "cell_type": "code",
   "execution_count": 43,
   "metadata": {
    "collapsed": true
   },
   "outputs": [],
   "source": [
    "X_train, X_test, y_train, y_test = train_test_split(postulaciones, se_postulo, test_size=0.30, random_state=42)"
   ]
  },
  {
   "cell_type": "code",
   "execution_count": 45,
   "metadata": {},
   "outputs": [
    {
     "name": "stdout",
     "output_type": "stream",
     "text": [
      "{'criterion': 'gini', 'max_features': 'auto'} 0.871019211517\n"
     ]
    }
   ],
   "source": [
    "param_grid= {'max_features': [\"auto\"], 'criterion': ['gini', 'entropy']}\n",
    "grid_drop = GridSearchCV(randomforesttree, param_grid, cv=3, scoring='roc_auc')\n",
    "grid_drop.fit(X_train, y_train)\n",
    "print(grid_drop.best_params_, grid_drop.best_score_)"
   ]
  },
  {
   "cell_type": "code",
   "execution_count": 46,
   "metadata": {
    "collapsed": true
   },
   "outputs": [],
   "source": [
    "result = grid_drop.best_estimator_.predict(X_test)"
   ]
  },
  {
   "cell_type": "code",
   "execution_count": 47,
   "metadata": {},
   "outputs": [
    {
     "data": {
      "text/plain": [
       "0.78668376558947539"
      ]
     },
     "execution_count": 47,
     "metadata": {},
     "output_type": "execute_result"
    }
   ],
   "source": [
    "roc_auc_score(y_test, result)"
   ]
  },
  {
   "cell_type": "code",
   "execution_count": 41,
   "metadata": {},
   "outputs": [
    {
     "data": {
      "text/plain": [
       "{'bootstrap': True,\n",
       " 'criterion': 'mse',\n",
       " 'max_depth': None,\n",
       " 'max_features': 'auto',\n",
       " 'max_leaf_nodes': None,\n",
       " 'min_impurity_split': 1e-07,\n",
       " 'min_samples_leaf': 1,\n",
       " 'min_samples_split': 2,\n",
       " 'min_weight_fraction_leaf': 0.0,\n",
       " 'n_estimators': 10,\n",
       " 'n_jobs': 1,\n",
       " 'oob_score': False,\n",
       " 'random_state': 103040,\n",
       " 'verbose': 0,\n",
       " 'warm_start': False}"
      ]
     },
     "execution_count": 41,
     "metadata": {},
     "output_type": "execute_result"
    }
   ],
   "source": [
    "randomforesttree = RandomForestRegressor(random_state=103040)\n",
    "randomforesttree.get_params()"
   ]
  },
  {
   "cell_type": "code",
   "execution_count": 31,
   "metadata": {
    "collapsed": true
   },
   "outputs": [],
   "source": [
    "X_train, X_test, y_train, y_test = train_test_split(postulaciones, se_postulo, test_size=0.10, random_state=42)"
   ]
  },
  {
   "cell_type": "code",
   "execution_count": null,
   "metadata": {
    "collapsed": true
   },
   "outputs": [],
   "source": [
    "param_grid= {'max_features': [\"auto\"], 'n_estimators':[10]}\n",
    "grid_drop2 = GridSearchCV(randomforesttree, param_grid, cv=5, scoring='roc_auc')\n",
    "grid_drop2.fit(X_train, y_train)\n",
    "print(grid_drop2.best_params_, grid_drop2.best_score_)"
   ]
  },
  {
   "cell_type": "code",
   "execution_count": 104,
   "metadata": {},
   "outputs": [
    {
     "data": {
      "text/plain": [
       "0.42051529060199389"
      ]
     },
     "execution_count": 104,
     "metadata": {},
     "output_type": "execute_result"
    }
   ],
   "source": [
    "grid_drop2.best_estimator_.oob_score_"
   ]
  },
  {
   "cell_type": "code",
   "execution_count": 51,
   "metadata": {},
   "outputs": [
    {
     "name": "stdout",
     "output_type": "stream",
     "text": [
      "{'max_features': 'auto'} 0.870925364211\n"
     ]
    }
   ],
   "source": [
    "print(grid_drop2.best_params_, grid_drop2.best_score_)"
   ]
  },
  {
   "cell_type": "code",
   "execution_count": 79,
   "metadata": {
    "collapsed": true
   },
   "outputs": [],
   "source": [
    "result2 = grid_drop2.best_estimator_.predict(X_test)"
   ]
  },
  {
   "cell_type": "code",
   "execution_count": 80,
   "metadata": {},
   "outputs": [
    {
     "data": {
      "text/plain": [
       "0.91819211694511249"
      ]
     },
     "execution_count": 80,
     "metadata": {},
     "output_type": "execute_result"
    }
   ],
   "source": [
    "roc_auc_score(y_test, result2)"
   ]
  },
  {
   "cell_type": "markdown",
   "metadata": {},
   "source": [
    "# SVD + Regressors"
   ]
  },
  {
   "cell_type": "code",
   "execution_count": 58,
   "metadata": {},
   "outputs": [
    {
     "data": {
      "text/plain": [
       "dict_keys(['steps', 'svd', 'tree', 'svd__algorithm', 'svd__n_components', 'svd__n_iter', 'svd__random_state', 'svd__tol', 'tree__class_weight', 'tree__criterion', 'tree__max_depth', 'tree__max_features', 'tree__max_leaf_nodes', 'tree__min_impurity_split', 'tree__min_samples_leaf', 'tree__min_samples_split', 'tree__min_weight_fraction_leaf', 'tree__presort', 'tree__random_state', 'tree__splitter'])"
      ]
     },
     "execution_count": 58,
     "metadata": {},
     "output_type": "execute_result"
    }
   ],
   "source": [
    "pipe = Pipeline([('svd', TruncatedSVD(random_state=103040, n_components=4)),\n",
    "                 ('tree', DecisionTreeClassifier(random_state=103040))])\n",
    "pipe.get_params().keys()"
   ]
  },
  {
   "cell_type": "code",
   "execution_count": 109,
   "metadata": {
    "collapsed": true
   },
   "outputs": [],
   "source": [
    "X_train, X_test, y_train, y_test = train_test_split(postulaciones, se_postulo, test_size=0.30, random_state=42)"
   ]
  },
  {
   "cell_type": "code",
   "execution_count": 59,
   "metadata": {},
   "outputs": [
    {
     "name": "stdout",
     "output_type": "stream",
     "text": [
      "{'tree__criterion': 'entropy', 'tree__max_features': 'auto'} 0.633444843261\n"
     ]
    }
   ],
   "source": [
    "param_grid= {'tree__max_features': [\"auto\"], 'tree__criterion': ['gini', 'entropy']}\n",
    "grid_drop = GridSearchCV(pipe, param_grid, cv=3, scoring='roc_auc')\n",
    "grid_drop.fit(X_train, y_train)\n",
    "print(grid_drop.best_params_, grid_drop.best_score_)"
   ]
  },
  {
   "cell_type": "code",
   "execution_count": 60,
   "metadata": {},
   "outputs": [
    {
     "data": {
      "text/plain": [
       "dict_keys(['steps', 'svd', 'log', 'svd__algorithm', 'svd__n_components', 'svd__n_iter', 'svd__random_state', 'svd__tol', 'log__C', 'log__class_weight', 'log__dual', 'log__fit_intercept', 'log__intercept_scaling', 'log__max_iter', 'log__multi_class', 'log__n_jobs', 'log__penalty', 'log__random_state', 'log__solver', 'log__tol', 'log__verbose', 'log__warm_start'])"
      ]
     },
     "execution_count": 60,
     "metadata": {},
     "output_type": "execute_result"
    }
   ],
   "source": [
    "pipe = Pipeline([('svd', TruncatedSVD(random_state=103040, n_components=4)),\n",
    "                 ('log', LogisticRegression(random_state=103040))])\n",
    "pipe.get_params().keys()"
   ]
  },
  {
   "cell_type": "code",
   "execution_count": 61,
   "metadata": {},
   "outputs": [
    {
     "name": "stdout",
     "output_type": "stream",
     "text": [
      "{'svd__n_components': 10} 0.771159972035\n"
     ]
    }
   ],
   "source": [
    "param_grid= {'svd__n_components':[2, 4, 5, 10]}\n",
    "grid_drop = GridSearchCV(pipe, param_grid, cv=3, scoring='roc_auc')\n",
    "grid_drop.fit(X_train, y_train)\n",
    "print(grid_drop.best_params_, grid_drop.best_score_)"
   ]
  },
  {
   "cell_type": "code",
   "execution_count": 62,
   "metadata": {
    "collapsed": true
   },
   "outputs": [],
   "source": [
    "result = grid_drop.best_estimator_.predict(X_test)"
   ]
  },
  {
   "cell_type": "code",
   "execution_count": 63,
   "metadata": {},
   "outputs": [
    {
     "data": {
      "text/plain": [
       "0.6996466716160582"
      ]
     },
     "execution_count": 63,
     "metadata": {},
     "output_type": "execute_result"
    }
   ],
   "source": [
    "roc_auc_score(y_test, result)"
   ]
  },
  {
   "cell_type": "code",
   "execution_count": null,
   "metadata": {
    "collapsed": true
   },
   "outputs": [],
   "source": []
  },
  {
   "cell_type": "code",
   "execution_count": null,
   "metadata": {
    "collapsed": true
   },
   "outputs": [],
   "source": []
  },
  {
   "cell_type": "code",
   "execution_count": 91,
   "metadata": {
    "collapsed": true,
    "scrolled": true
   },
   "outputs": [],
   "source": [
    "features = list(postulaciones.columns.values)"
   ]
  },
  {
   "cell_type": "code",
   "execution_count": 92,
   "metadata": {},
   "outputs": [
    {
     "data": {
      "text/plain": [
       "(1332030, 39)"
      ]
     },
     "execution_count": 92,
     "metadata": {},
     "output_type": "execute_result"
    }
   ],
   "source": [
    "postulaciones.shape"
   ]
  },
  {
   "cell_type": "code",
   "execution_count": 93,
   "metadata": {
    "collapsed": true
   },
   "outputs": [],
   "source": [
    "svd = TruncatedSVD(random_state=103040, n_components=4)"
   ]
  },
  {
   "cell_type": "code",
   "execution_count": 94,
   "metadata": {
    "collapsed": true
   },
   "outputs": [],
   "source": [
    "x = postulaciones.loc[:, features].values"
   ]
  },
  {
   "cell_type": "code",
   "execution_count": 95,
   "metadata": {
    "collapsed": true
   },
   "outputs": [],
   "source": [
    "y = se_postulo.values"
   ]
  },
  {
   "cell_type": "code",
   "execution_count": 96,
   "metadata": {
    "collapsed": true
   },
   "outputs": [],
   "source": [
    "XRed = svd.fit_transform(x)"
   ]
  },
  {
   "cell_type": "code",
   "execution_count": 97,
   "metadata": {},
   "outputs": [
    {
     "data": {
      "text/plain": [
       "array([  9.57401944e-01,   4.24680688e-02,   7.63232104e-05,\n",
       "         4.24730936e-05])"
      ]
     },
     "execution_count": 97,
     "metadata": {},
     "output_type": "execute_result"
    }
   ],
   "source": [
    "svd.explained_variance_ratio_"
   ]
  },
  {
   "cell_type": "code",
   "execution_count": 98,
   "metadata": {},
   "outputs": [
    {
     "data": {
      "text/plain": [
       "array([ 0.95740194,  0.99987001,  0.99994634,  0.99998881])"
      ]
     },
     "execution_count": 98,
     "metadata": {},
     "output_type": "execute_result"
    }
   ],
   "source": [
    "svd.explained_variance_ratio_.cumsum()"
   ]
  },
  {
   "cell_type": "code",
   "execution_count": 99,
   "metadata": {},
   "outputs": [
    {
     "data": {
      "text/plain": [
       "[<matplotlib.lines.Line2D at 0x19f76358>]"
      ]
     },
     "execution_count": 99,
     "metadata": {},
     "output_type": "execute_result"
    },
    {
     "data": {
      "image/png": "[encoded data removed]",
      "text/plain": [
       "<matplotlib.figure.Figure at 0x19f30320>"
      ]
     },
     "metadata": {},
     "output_type": "display_data"
    }
   ],
   "source": [
    "plt.semilogy(svd.explained_variance_ratio_, '--o')"
   ]
  },
  {
   "cell_type": "code",
   "execution_count": 100,
   "metadata": {},
   "outputs": [
    {
     "data": {
      "text/plain": [
       "[<matplotlib.lines.Line2D at 0x198570b8>]"
      ]
     },
     "execution_count": 100,
     "metadata": {},
     "output_type": "execute_result"
    },
    {
     "data": {
      "image/png": "[encoded data removed]",
      "text/plain": [
       "<matplotlib.figure.Figure at 0x19875710>"
      ]
     },
     "metadata": {},
     "output_type": "display_data"
    }
   ],
   "source": [
    "plt.semilogy(svd.explained_variance_ratio_.cumsum(), '--o')"
   ]
  },
  {
   "cell_type": "code",
   "execution_count": null,
   "metadata": {
    "collapsed": true
   },
   "outputs": [],
   "source": []
  },
  {
   "cell_type": "markdown",
   "metadata": {},
   "source": [
    "# GradientBoostingClassifier"
   ]
  },
  {
   "cell_type": "code",
   "execution_count": 98,
   "metadata": {},
   "outputs": [
    {
     "data": {
      "text/plain": [
       "{'criterion': 'friedman_mse',\n",
       " 'init': None,\n",
       " 'learning_rate': 0.1,\n",
       " 'loss': 'deviance',\n",
       " 'max_depth': 3,\n",
       " 'max_features': None,\n",
       " 'max_leaf_nodes': None,\n",
       " 'min_impurity_split': 1e-07,\n",
       " 'min_samples_leaf': 1,\n",
       " 'min_samples_split': 2,\n",
       " 'min_weight_fraction_leaf': 0.0,\n",
       " 'n_estimators': 100,\n",
       " 'presort': 'auto',\n",
       " 'random_state': 103040,\n",
       " 'subsample': 1.0,\n",
       " 'verbose': 0,\n",
       " 'warm_start': False}"
      ]
     },
     "execution_count": 98,
     "metadata": {},
     "output_type": "execute_result"
    }
   ],
   "source": [
    "gradientboost = GradientBoostingClassifier(random_state=103040)\n",
    "gradientboost.get_params()"
   ]
  },
  {
   "cell_type": "code",
   "execution_count": 99,
   "metadata": {},
   "outputs": [
    {
     "name": "stdout",
     "output_type": "stream",
     "text": [
      "{'loss': 'deviance', 'max_features': 'auto'} 0.717652444709\n"
     ]
    }
   ],
   "source": [
    "param_grid= {'max_features': [\"auto\"], 'loss': ['deviance', 'exponential']}\n",
    "grid_drop = GridSearchCV(gradientboost, param_grid, cv=3, scoring='roc_auc')\n",
    "grid_drop.fit(X_train, y_train)\n",
    "print(grid_drop.best_params_, grid_drop.best_score_)"
   ]
  },
  {
   "cell_type": "code",
   "execution_count": 100,
   "metadata": {
    "collapsed": true
   },
   "outputs": [],
   "source": [
    "result2 = grid_drop.best_estimator_.predict(X_test)"
   ]
  },
  {
   "cell_type": "code",
   "execution_count": 101,
   "metadata": {},
   "outputs": [
    {
     "data": {
      "text/plain": [
       "0.78668376558947539"
      ]
     },
     "execution_count": 101,
     "metadata": {},
     "output_type": "execute_result"
    }
   ],
   "source": [
    "roc_auc_score(y_test, result)"
   ]
  },
  {
   "cell_type": "code",
   "execution_count": null,
   "metadata": {
    "collapsed": true
   },
   "outputs": [],
   "source": []
  },
  {
   "cell_type": "markdown",
   "metadata": {},
   "source": [
    "# Predicción"
   ]
  },
  {
   "cell_type": "code",
   "execution_count": 81,
   "metadata": {
    "collapsed": true
   },
   "outputs": [],
   "source": [
    "to_predict = pd.read_csv('Predecir/test_final_100k.csv')"
   ]
  },
  {
   "cell_type": "code",
   "execution_count": 82,
   "metadata": {},
   "outputs": [
    {
     "data": {
      "text/plain": [
       "(100000, 3)"
      ]
     },
     "execution_count": 82,
     "metadata": {},
     "output_type": "execute_result"
    }
   ],
   "source": [
    "to_predict.shape"
   ]
  },
  {
   "cell_type": "code",
   "execution_count": 83,
   "metadata": {
    "collapsed": true
   },
   "outputs": [],
   "source": [
    "avisos = pd.read_csv('Predecir/avisos_detalles_predict.csv')\n",
    "postulantes = pd.read_csv('Predecir/postulantes_datos_predict.csv')"
   ]
  },
  {
   "cell_type": "code",
   "execution_count": 84,
   "metadata": {
    "collapsed": true
   },
   "outputs": [],
   "source": [
    "to_predict_or = pd.merge(to_predict, avisos, on=['idaviso'], how='inner')"
   ]
  },
  {
   "cell_type": "code",
   "execution_count": 85,
   "metadata": {},
   "outputs": [
    {
     "data": {
      "text/plain": [
       "(100000, 43)"
      ]
     },
     "execution_count": 85,
     "metadata": {},
     "output_type": "execute_result"
    }
   ],
   "source": [
    "to_predict_or.shape"
   ]
  },
  {
   "cell_type": "code",
   "execution_count": 86,
   "metadata": {
    "collapsed": true
   },
   "outputs": [],
   "source": [
    "to_predict_or = pd.merge(to_predict_or, postulantes, on=['idpostulante'], how='inner')"
   ]
  },
  {
   "cell_type": "code",
   "execution_count": 87,
   "metadata": {},
   "outputs": [
    {
     "data": {
      "text/plain": [
       "(100000, 48)"
      ]
     },
     "execution_count": 87,
     "metadata": {},
     "output_type": "execute_result"
    }
   ],
   "source": [
    "to_predict_or.shape"
   ]
  },
  {
   "cell_type": "code",
   "execution_count": 88,
   "metadata": {},
   "outputs": [
    {
     "data": {
      "text/plain": [
       "Index(['tipo_de_trabajo', 'nivel_laboral', 'nombre_area',\n",
       "       'denominacion_empresa', 'web', 'crecimiento', 'capacitacion',\n",
       "       'clima laboral', 'multinacional', 'incorp_inmediata',\n",
       "       'disponibilidad_horaria', 'disponibilidad_viajar', 'flexibilidad',\n",
       "       'secundario', 'terciario', 'ingles', 'estudiantes', 'conoc_informatica',\n",
       "       'experiencia', 'proactivo', 'relaciones_pers', 'desarrollador',\n",
       "       'cajero', 'vendedor', 'ingeniero', 'analista', 'administrativo',\n",
       "       'junior', 'jefe', 'marketing', 'supervisor', 'sexo'],\n",
       "      dtype='object')"
      ]
     },
     "execution_count": 88,
     "metadata": {},
     "output_type": "execute_result"
    }
   ],
   "source": [
    "postulaciones.columns"
   ]
  },
  {
   "cell_type": "code",
   "execution_count": 89,
   "metadata": {},
   "outputs": [
    {
     "data": {
      "text/plain": [
       "Index(['id', 'idaviso', 'idpostulante', 'Unnamed: 0_x', 'tipo_de_trabajo',\n",
       "       'nivel_laboral', 'nombre_area', 'denominacion_empresa', 'web',\n",
       "       'crecimiento', 'capacitacion', 'clima laboral', 'multinacional',\n",
       "       'incorp_inmediata', 'disponibilidad_horaria', 'disponibilidad_viajar',\n",
       "       'flexibilidad', 'secundario', 'terciario', 'ingles', 'estudiantes',\n",
       "       'conoc_informatica', 'experiencia', 'proactivo', 'relaciones_pers',\n",
       "       'desarrollador', 'cajero', 'vendedor', 'ingeniero', 'analista',\n",
       "       'administrativo', 'junior', 'jefe', 'marketing', 'supervisor', 'online',\n",
       "       'postu_total', 'total_vistas', 'vistas_median', 'cant_dias',\n",
       "       'dia_inicio', 'dia_final', 'dia_inicio_semana', 'Unnamed: 0_y',\n",
       "       'nombre', 'estado', 'sexo', 'edad'],\n",
       "      dtype='object')"
      ]
     },
     "execution_count": 89,
     "metadata": {},
     "output_type": "execute_result"
    }
   ],
   "source": [
    "to_predict_or.columns"
   ]
  },
  {
   "cell_type": "code",
   "execution_count": 90,
   "metadata": {
    "collapsed": true
   },
   "outputs": [],
   "source": [
    "del to_predict_or['Unnamed: 0_x']\n",
    "del to_predict_or['Unnamed: 0_y']\n",
    "del to_predict_or['idaviso']\n",
    "del to_predict_or['idpostulante']\n",
    "del to_predict_or['postu_total']\n",
    "del to_predict_or['online']\n",
    "del to_predict_or['edad']\n",
    "del to_predict_or['estado']\n",
    "del to_predict_or['nombre']\n",
    "del to_predict_or['dia_inicio_semana']\n",
    "ids = to_predict_or['id']\n",
    "del to_predict_or['id']\n",
    "del to_predict_or['dia_final']\n",
    "del to_predict_or['dia_inicio']\n",
    "del to_predict_or['cant_dias']\n",
    "del to_predict_or['total_vistas']\n",
    "del to_predict_or['vistas_median']"
   ]
  },
  {
   "cell_type": "code",
   "execution_count": 91,
   "metadata": {},
   "outputs": [
    {
     "data": {
      "text/plain": [
       "tipo_de_trabajo           0\n",
       "nivel_laboral             0\n",
       "nombre_area               0\n",
       "denominacion_empresa      0\n",
       "web                       0\n",
       "crecimiento               0\n",
       "capacitacion              0\n",
       "clima laboral             0\n",
       "multinacional             0\n",
       "incorp_inmediata          0\n",
       "disponibilidad_horaria    0\n",
       "disponibilidad_viajar     0\n",
       "flexibilidad              0\n",
       "secundario                0\n",
       "terciario                 0\n",
       "ingles                    0\n",
       "estudiantes               0\n",
       "conoc_informatica         0\n",
       "experiencia               0\n",
       "proactivo                 0\n",
       "relaciones_pers           0\n",
       "desarrollador             0\n",
       "cajero                    0\n",
       "vendedor                  0\n",
       "ingeniero                 0\n",
       "analista                  0\n",
       "administrativo            0\n",
       "junior                    0\n",
       "jefe                      0\n",
       "marketing                 0\n",
       "supervisor                0\n",
       "sexo                      0\n",
       "dtype: int64"
      ]
     },
     "execution_count": 91,
     "metadata": {},
     "output_type": "execute_result"
    }
   ],
   "source": [
    "to_predict_or.isnull().sum()"
   ]
  },
  {
   "cell_type": "code",
   "execution_count": 66,
   "metadata": {},
   "outputs": [
    {
     "data": {
      "text/plain": [
       "tipo_de_trabajo           False\n",
       "nivel_laboral             False\n",
       "nombre_area               False\n",
       "denominacion_empresa      False\n",
       "web                       False\n",
       "crecimiento               False\n",
       "capacitacion              False\n",
       "clima laboral             False\n",
       "multinacional             False\n",
       "incorp_inmediata          False\n",
       "disponibilidad_horaria    False\n",
       "disponibilidad_viajar     False\n",
       "flexibilidad              False\n",
       "secundario                False\n",
       "terciario                 False\n",
       "ingles                    False\n",
       "estudiantes               False\n",
       "conoc_informatica         False\n",
       "experiencia               False\n",
       "proactivo                 False\n",
       "relaciones_pers           False\n",
       "desarrollador             False\n",
       "cajero                    False\n",
       "vendedor                  False\n",
       "ingeniero                 False\n",
       "analista                  False\n",
       "administrativo            False\n",
       "junior                    False\n",
       "jefe                      False\n",
       "marketing                 False\n",
       "supervisor                False\n",
       "sexo                      False\n",
       "dtype: bool"
      ]
     },
     "execution_count": 66,
     "metadata": {},
     "output_type": "execute_result"
    }
   ],
   "source": [
    "pd.isnull(to_predict_or).sum() > 0"
   ]
  },
  {
   "cell_type": "code",
   "execution_count": 185,
   "metadata": {
    "collapsed": true
   },
   "outputs": [],
   "source": [
    "to_predict_or = to_predict_or.fillna({'total_vistas':avisos_train['total_vistas'].median(), 'vistas_median':avisos_train['vistas_median'].median()})"
   ]
  },
  {
   "cell_type": "code",
   "execution_count": 92,
   "metadata": {
    "collapsed": true
   },
   "outputs": [],
   "source": [
    "prediccion = grid_drop2.best_estimator_.predict(to_predict_or)"
   ]
  },
  {
   "cell_type": "code",
   "execution_count": 93,
   "metadata": {},
   "outputs": [
    {
     "data": {
      "text/plain": [
       "array([ 0.08019845,  0.17222482,  0.08019845, ...,  0.08633916,\n",
       "        0.08633916,  0.02926953])"
      ]
     },
     "execution_count": 93,
     "metadata": {},
     "output_type": "execute_result"
    }
   ],
   "source": [
    "prediccion"
   ]
  },
  {
   "cell_type": "code",
   "execution_count": 94,
   "metadata": {
    "collapsed": true
   },
   "outputs": [],
   "source": [
    "predicciones = pd.DataFrame({'id':ids,'sepostulo':prediccion})"
   ]
  },
  {
   "cell_type": "code",
   "execution_count": 95,
   "metadata": {
    "collapsed": true
   },
   "outputs": [],
   "source": [
    "predicciones.to_csv('Predecir/final_trucho.csv', index=False)"
   ]
  },
  {
   "cell_type": "code",
   "execution_count": 96,
   "metadata": {},
   "outputs": [
    {
     "data": {
      "text/html": [
       "<div>\n",
       "<style>\n",
       "    .dataframe thead tr:only-child th {\n",
       "        text-align: right;\n",
       "    }\n",
       "\n",
       "    .dataframe thead th {\n",
       "        text-align: left;\n",
       "    }\n",
       "\n",
       "    .dataframe tbody tr th {\n",
       "        vertical-align: top;\n",
       "    }\n",
       "</style>\n",
       "<table border=\"1\" class=\"dataframe\">\n",
       "  <thead>\n",
       "    <tr style=\"text-align: right;\">\n",
       "      <th></th>\n",
       "      <th>id</th>\n",
       "      <th>sepostulo</th>\n",
       "    </tr>\n",
       "  </thead>\n",
       "  <tbody>\n",
       "    <tr>\n",
       "      <th>0</th>\n",
       "      <td>0</td>\n",
       "      <td>0.080198</td>\n",
       "    </tr>\n",
       "    <tr>\n",
       "      <th>1</th>\n",
       "      <td>1</td>\n",
       "      <td>0.172225</td>\n",
       "    </tr>\n",
       "    <tr>\n",
       "      <th>2</th>\n",
       "      <td>2</td>\n",
       "      <td>0.080198</td>\n",
       "    </tr>\n",
       "    <tr>\n",
       "      <th>3</th>\n",
       "      <td>3</td>\n",
       "      <td>0.000000</td>\n",
       "    </tr>\n",
       "    <tr>\n",
       "      <th>4</th>\n",
       "      <td>4</td>\n",
       "      <td>0.000000</td>\n",
       "    </tr>\n",
       "  </tbody>\n",
       "</table>\n",
       "</div>"
      ],
      "text/plain": [
       "   id  sepostulo\n",
       "0   0   0.080198\n",
       "1   1   0.172225\n",
       "2   2   0.080198\n",
       "3   3   0.000000\n",
       "4   4   0.000000"
      ]
     },
     "execution_count": 96,
     "metadata": {},
     "output_type": "execute_result"
    }
   ],
   "source": [
    "predicciones.head()"
   ]
  },
  {
   "cell_type": "code",
   "execution_count": 90,
   "metadata": {
    "scrolled": true
   },
   "outputs": [
    {
     "data": {
      "text/plain": [
       "0.000000    19222\n",
       "0.500000      757\n",
       "0.333333      691\n",
       "0.250000      613\n",
       "0.956981      549\n",
       "0.969060      517\n",
       "0.964351      447\n",
       "0.428571      416\n",
       "0.200000      384\n",
       "0.909091      359\n",
       "0.981645      355\n",
       "0.666667      348\n",
       "0.654412      346\n",
       "0.400000      337\n",
       "0.555556      293\n",
       "0.890000      293\n",
       "0.946537      293\n",
       "0.166667      272\n",
       "0.890918      270\n",
       "0.142857      269\n",
       "0.285714      257\n",
       "0.939891      252\n",
       "0.674837      244\n",
       "0.792793      230\n",
       "0.600000      228\n",
       "0.564815      222\n",
       "0.815534      221\n",
       "0.743363      217\n",
       "0.900935      215\n",
       "0.969925      213\n",
       "            ...  \n",
       "0.912037        1\n",
       "0.173184        1\n",
       "0.864407        1\n",
       "0.879310        1\n",
       "0.069231        1\n",
       "0.597701        1\n",
       "0.744444        1\n",
       "0.850340        1\n",
       "0.534653        1\n",
       "0.030769        1\n",
       "0.309859        1\n",
       "0.957647        1\n",
       "0.786260        1\n",
       "0.148936        1\n",
       "0.383721        1\n",
       "0.838384        1\n",
       "0.898990        1\n",
       "0.557143        1\n",
       "0.842697        1\n",
       "0.756522        1\n",
       "0.922794        1\n",
       "0.635659        1\n",
       "0.894366        1\n",
       "0.389381        1\n",
       "0.283784        1\n",
       "0.889362        1\n",
       "0.929368        1\n",
       "0.275510        1\n",
       "0.828829        1\n",
       "0.932099        1\n",
       "Name: sepostulo, Length: 3757, dtype: int64"
      ]
     },
     "execution_count": 90,
     "metadata": {},
     "output_type": "execute_result"
    }
   ],
   "source": [
    "predicciones['sepostulo'].value_counts()"
   ]
  },
  {
   "cell_type": "code",
   "execution_count": 35,
   "metadata": {
    "collapsed": true
   },
   "outputs": [],
   "source": [
    "def asd(row):\n",
    "    if (row['sepostulo']<=0.33):\n",
    "        return 0.0\n",
    "    elif (row['sepostulo']>=0.66):\n",
    "        return 1.0\n",
    "    return row['sepostulo']\n",
    "\n",
    "predicciones['sepostulo'] = predicciones.apply(asd, axis=1)"
   ]
  },
  {
   "cell_type": "code",
   "execution_count": 36,
   "metadata": {
    "collapsed": true
   },
   "outputs": [],
   "source": [
    "predicciones.to_csv('Predecir/final_rounded.csv', index=False)"
   ]
  },
  {
   "cell_type": "code",
   "execution_count": null,
   "metadata": {
    "collapsed": true
   },
   "outputs": [],
   "source": []
  }
 ],
 "metadata": {
  "kernelspec": {
   "display_name": "Python 3",
   "language": "python",
   "name": "python3"
  },
  "language_info": {
   "codemirror_mode": {
    "name": "ipython",
    "version": 3
   },
   "file_extension": ".py",
   "mimetype": "text/x-python",
   "name": "python",
   "nbconvert_exporter": "python",
   "pygments_lexer": "ipython3",
   "version": "3.6.1"
  }
 },
 "nbformat": 4,
 "nbformat_minor": 2
}
