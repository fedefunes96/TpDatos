{
 "cells": [
  {
   "cell_type": "code",
   "execution_count": 1,
   "metadata": {
    "collapsed": true
   },
   "outputs": [],
   "source": [
    "import pandas as pd\n",
    "import numpy as np\n",
    "import random\n",
    "\n",
    "from sklearn import model_selection\n",
    "from sklearn.ensemble import ExtraTreesClassifier\n",
    "from sklearn.model_selection import train_test_split"
   ]
  },
  {
   "cell_type": "code",
   "execution_count": 2,
   "metadata": {
    "collapsed": true
   },
   "outputs": [],
   "source": [
    "avisos = pd.read_csv('Predecir/avisos_detalles_train.csv')\n",
    "postulantes = pd.read_csv('Predecir/postulantes_datos_train.csv')\n",
    "postulaciones = pd.read_csv('Predecir/df_postulaciones.csv')"
   ]
  },
  {
   "cell_type": "code",
   "execution_count": 3,
   "metadata": {
    "collapsed": true
   },
   "outputs": [],
   "source": [
    "del postulantes['Unnamed: 0']\n",
    "del avisos['Unnamed: 0']\n",
    "del postulaciones['Unnamed: 0']"
   ]
  },
  {
   "cell_type": "code",
   "execution_count": 4,
   "metadata": {
    "collapsed": true
   },
   "outputs": [],
   "source": [
    "avisos_si = avisos.copy()\n",
    "avisos_si['se_postulo'] = 1"
   ]
  },
  {
   "cell_type": "code",
   "execution_count": 5,
   "metadata": {
    "collapsed": true
   },
   "outputs": [],
   "source": [
    "postulaciones = postulaciones.sample(frac=0.25)"
   ]
  },
  {
   "cell_type": "code",
   "execution_count": 6,
   "metadata": {
    "collapsed": true
   },
   "outputs": [],
   "source": [
    "postulaciones = pd.merge(postulaciones, avisos_si, how='inner', on=['idaviso'])"
   ]
  },
  {
   "cell_type": "code",
   "execution_count": 7,
   "metadata": {
    "collapsed": true
   },
   "outputs": [],
   "source": [
    "postulaciones = pd.merge(postulaciones, postulantes, how='inner', on=['idpostulante'])"
   ]
  },
  {
   "cell_type": "code",
   "execution_count": 8,
   "metadata": {
    "collapsed": true
   },
   "outputs": [],
   "source": [
    "def random_fill(row):\n",
    "    return np.random.choice(avisos['idaviso'])"
   ]
  },
  {
   "cell_type": "code",
   "execution_count": 9,
   "metadata": {},
   "outputs": [],
   "source": [
    "while (len(postulaciones[postulaciones[\"se_postulo\"]==1])*0.5 > len(postulaciones[postulaciones[\"se_postulo\"]==0])):\n",
    "    relleno = postulantes.sample(frac=0.5).copy()\n",
    "    relleno['idaviso'] = np.nan\n",
    "    relleno['idaviso'] = relleno.apply(random_fill, axis=1)\n",
    "    relleno = pd.merge(relleno, avisos, how='inner', on=['idaviso'])\n",
    "    postulaciones = pd.merge(postulaciones, relleno, how='outer')\n",
    "    postulaciones = postulaciones.fillna({'se_postulo' : 0})"
   ]
  },
  {
   "cell_type": "code",
   "execution_count": 10,
   "metadata": {},
   "outputs": [
    {
     "data": {
      "text/plain": [
       "(2362576, 46)"
      ]
     },
     "execution_count": 10,
     "metadata": {},
     "output_type": "execute_result"
    }
   ],
   "source": [
    "postulaciones.shape"
   ]
  },
  {
   "cell_type": "code",
   "execution_count": 11,
   "metadata": {},
   "outputs": [],
   "source": [
    "postulaciones = postulaciones.dropna()"
   ]
  },
  {
   "cell_type": "code",
   "execution_count": 12,
   "metadata": {
    "collapsed": true
   },
   "outputs": [
    {
     "data": {
      "text/html": [
       "<div>\n",
       "<style scoped>\n",
       "    .dataframe tbody tr th:only-of-type {\n",
       "        vertical-align: middle;\n",
       "    }\n",
       "\n",
       "    .dataframe tbody tr th {\n",
       "        vertical-align: top;\n",
       "    }\n",
       "\n",
       "    .dataframe thead th {\n",
       "        text-align: right;\n",
       "    }\n",
       "</style>\n",
       "<table border=\"1\" class=\"dataframe\">\n",
       "  <thead>\n",
       "    <tr style=\"text-align: right;\">\n",
       "      <th></th>\n",
       "      <th>tipo_de_trabajo</th>\n",
       "      <th>nivel_laboral</th>\n",
       "      <th>nombre_area</th>\n",
       "      <th>denominacion_empresa</th>\n",
       "      <th>web</th>\n",
       "      <th>crecimiento</th>\n",
       "      <th>capacitacion</th>\n",
       "      <th>clima laboral</th>\n",
       "      <th>multinacional</th>\n",
       "      <th>incorp_inmediata</th>\n",
       "      <th>...</th>\n",
       "      <th>total_vistas</th>\n",
       "      <th>vistas_median</th>\n",
       "      <th>cant_dias</th>\n",
       "      <th>nombre</th>\n",
       "      <th>estado</th>\n",
       "      <th>sexo</th>\n",
       "      <th>edad</th>\n",
       "      <th>vistas_postulante</th>\n",
       "      <th>cant_dias_actividad</th>\n",
       "      <th>postu_postulante</th>\n",
       "    </tr>\n",
       "  </thead>\n",
       "  <tbody>\n",
       "    <tr>\n",
       "      <th>0</th>\n",
       "      <td>1</td>\n",
       "      <td>2</td>\n",
       "      <td>45</td>\n",
       "      <td>90</td>\n",
       "      <td>0</td>\n",
       "      <td>1</td>\n",
       "      <td>1</td>\n",
       "      <td>0</td>\n",
       "      <td>0</td>\n",
       "      <td>0</td>\n",
       "      <td>...</td>\n",
       "      <td>5659.0</td>\n",
       "      <td>1.0</td>\n",
       "      <td>86.0</td>\n",
       "      <td>3.0</td>\n",
       "      <td>1.0</td>\n",
       "      <td>1</td>\n",
       "      <td>25.0</td>\n",
       "      <td>50.0</td>\n",
       "      <td>57.0</td>\n",
       "      <td>50.0</td>\n",
       "    </tr>\n",
       "    <tr>\n",
       "      <th>2</th>\n",
       "      <td>2</td>\n",
       "      <td>2</td>\n",
       "      <td>23</td>\n",
       "      <td>38</td>\n",
       "      <td>0</td>\n",
       "      <td>0</td>\n",
       "      <td>0</td>\n",
       "      <td>0</td>\n",
       "      <td>1</td>\n",
       "      <td>0</td>\n",
       "      <td>...</td>\n",
       "      <td>798.0</td>\n",
       "      <td>1.0</td>\n",
       "      <td>32.0</td>\n",
       "      <td>3.0</td>\n",
       "      <td>1.0</td>\n",
       "      <td>1</td>\n",
       "      <td>25.0</td>\n",
       "      <td>50.0</td>\n",
       "      <td>57.0</td>\n",
       "      <td>50.0</td>\n",
       "    </tr>\n",
       "    <tr>\n",
       "      <th>3</th>\n",
       "      <td>1</td>\n",
       "      <td>1</td>\n",
       "      <td>45</td>\n",
       "      <td>166</td>\n",
       "      <td>0</td>\n",
       "      <td>0</td>\n",
       "      <td>1</td>\n",
       "      <td>1</td>\n",
       "      <td>1</td>\n",
       "      <td>0</td>\n",
       "      <td>...</td>\n",
       "      <td>551.0</td>\n",
       "      <td>1.0</td>\n",
       "      <td>51.0</td>\n",
       "      <td>3.0</td>\n",
       "      <td>1.0</td>\n",
       "      <td>1</td>\n",
       "      <td>25.0</td>\n",
       "      <td>50.0</td>\n",
       "      <td>57.0</td>\n",
       "      <td>50.0</td>\n",
       "    </tr>\n",
       "    <tr>\n",
       "      <th>5</th>\n",
       "      <td>1</td>\n",
       "      <td>1</td>\n",
       "      <td>44</td>\n",
       "      <td>1854</td>\n",
       "      <td>0</td>\n",
       "      <td>0</td>\n",
       "      <td>1</td>\n",
       "      <td>0</td>\n",
       "      <td>0</td>\n",
       "      <td>0</td>\n",
       "      <td>...</td>\n",
       "      <td>928.0</td>\n",
       "      <td>2.0</td>\n",
       "      <td>38.0</td>\n",
       "      <td>3.0</td>\n",
       "      <td>1.0</td>\n",
       "      <td>1</td>\n",
       "      <td>25.0</td>\n",
       "      <td>50.0</td>\n",
       "      <td>57.0</td>\n",
       "      <td>50.0</td>\n",
       "    </tr>\n",
       "    <tr>\n",
       "      <th>6</th>\n",
       "      <td>1</td>\n",
       "      <td>1</td>\n",
       "      <td>144</td>\n",
       "      <td>1731</td>\n",
       "      <td>0</td>\n",
       "      <td>0</td>\n",
       "      <td>0</td>\n",
       "      <td>0</td>\n",
       "      <td>0</td>\n",
       "      <td>0</td>\n",
       "      <td>...</td>\n",
       "      <td>1231.0</td>\n",
       "      <td>1.0</td>\n",
       "      <td>67.0</td>\n",
       "      <td>3.0</td>\n",
       "      <td>1.0</td>\n",
       "      <td>1</td>\n",
       "      <td>25.0</td>\n",
       "      <td>50.0</td>\n",
       "      <td>57.0</td>\n",
       "      <td>50.0</td>\n",
       "    </tr>\n",
       "  </tbody>\n",
       "</table>\n",
       "<p>5 rows × 43 columns</p>\n",
       "</div>"
      ],
      "text/plain": [
       "   tipo_de_trabajo  nivel_laboral  nombre_area  denominacion_empresa  web  \\\n",
       "0                1              2           45                    90    0   \n",
       "2                2              2           23                    38    0   \n",
       "3                1              1           45                   166    0   \n",
       "5                1              1           44                  1854    0   \n",
       "6                1              1          144                  1731    0   \n",
       "\n",
       "   crecimiento  capacitacion  clima laboral  multinacional  incorp_inmediata  \\\n",
       "0            1             1              0              0                 0   \n",
       "2            0             0              0              1                 0   \n",
       "3            0             1              1              1                 0   \n",
       "5            0             1              0              0                 0   \n",
       "6            0             0              0              0                 0   \n",
       "\n",
       "         ...         total_vistas  vistas_median  cant_dias  nombre  estado  \\\n",
       "0        ...               5659.0            1.0       86.0     3.0     1.0   \n",
       "2        ...                798.0            1.0       32.0     3.0     1.0   \n",
       "3        ...                551.0            1.0       51.0     3.0     1.0   \n",
       "5        ...                928.0            2.0       38.0     3.0     1.0   \n",
       "6        ...               1231.0            1.0       67.0     3.0     1.0   \n",
       "\n",
       "   sexo  edad  vistas_postulante  cant_dias_actividad  postu_postulante  \n",
       "0     1  25.0               50.0                 57.0              50.0  \n",
       "2     1  25.0               50.0                 57.0              50.0  \n",
       "3     1  25.0               50.0                 57.0              50.0  \n",
       "5     1  25.0               50.0                 57.0              50.0  \n",
       "6     1  25.0               50.0                 57.0              50.0  \n",
       "\n",
       "[5 rows x 43 columns]"
      ]
     },
     "execution_count": 12,
     "metadata": {},
     "output_type": "execute_result"
    }
   ],
   "source": [
    "se_postulo = postulaciones['se_postulo']\n",
    "del postulaciones['se_postulo']\n",
    "del postulaciones['idaviso']\n",
    "del postulaciones['idpostulante']\n",
    "postulaciones.head()"
   ]
  },
  {
   "cell_type": "code",
   "execution_count": 13,
   "metadata": {
    "collapsed": true
   },
   "outputs": [],
   "source": [
    "X_train, X_test, y_train, y_test = train_test_split(postulaciones, se_postulo, test_size=0.20, random_state=7)"
   ]
  },
  {
   "cell_type": "code",
   "execution_count": 14,
   "metadata": {},
   "outputs": [
    {
     "name": "stdout",
     "output_type": "stream",
     "text": [
      "0.8708020483017102\n"
     ]
    }
   ],
   "source": [
    "seed = 52\n",
    "num_trees = 30\n",
    "max_features = 7\n",
    "kfold = model_selection.KFold(n_splits=10, random_state=seed)\n",
    "model = ExtraTreesClassifier(n_estimators=num_trees, max_features=max_features)\n",
    "results = model_selection.cross_val_score(model, X_train, y_train, cv=kfold)\n",
    "print(results.mean())"
   ]
  },
  {
   "cell_type": "code",
   "execution_count": 15,
   "metadata": {},
   "outputs": [
    {
     "data": {
      "text/plain": [
       "ExtraTreesClassifier(bootstrap=False, class_weight=None, criterion='gini',\n",
       "           max_depth=None, max_features=7, max_leaf_nodes=None,\n",
       "           min_impurity_decrease=0.0, min_impurity_split=None,\n",
       "           min_samples_leaf=1, min_samples_split=2,\n",
       "           min_weight_fraction_leaf=0.0, n_estimators=30, n_jobs=1,\n",
       "           oob_score=False, random_state=None, verbose=0, warm_start=False)"
      ]
     },
     "execution_count": 15,
     "metadata": {},
     "output_type": "execute_result"
    }
   ],
   "source": [
    "model.fit(X_train,y_train)"
   ]
  },
  {
   "cell_type": "code",
   "execution_count": 16,
   "metadata": {},
   "outputs": [],
   "source": [
    "to_predict  = pd.read_csv('Predecir/test_final_100k.csv')\n",
    "to_predict  = pd.merge(to_predict, avisos, on = \"idaviso\",how=\"left\")\n",
    "to_predict = pd.merge(to_predict, postulantes, on = \"idpostulante\",how=\"left\")\n",
    "to_predict = to_predict.drop_duplicates([\"idaviso\",\"idpostulante\"])"
   ]
  },
  {
   "cell_type": "code",
   "execution_count": 17,
   "metadata": {},
   "outputs": [
    {
     "data": {
      "text/plain": [
       "(100000, 46)"
      ]
     },
     "execution_count": 17,
     "metadata": {},
     "output_type": "execute_result"
    }
   ],
   "source": [
    "to_predict.shape"
   ]
  },
  {
   "cell_type": "code",
   "execution_count": 18,
   "metadata": {},
   "outputs": [],
   "source": [
    "del to_predict[\"idaviso\"]\n",
    "del to_predict[\"idpostulante\"]\n",
    "to_predict = to_predict.dropna()"
   ]
  },
  {
   "cell_type": "code",
   "execution_count": 19,
   "metadata": {},
   "outputs": [],
   "source": [
    "to_sumit = model.predict(to_predict.drop(\"id\",axis = \"columns\"))"
   ]
  },
  {
   "cell_type": "code",
   "execution_count": 20,
   "metadata": {},
   "outputs": [],
   "source": [
    "to_predict[\"prediccion\"] = to_sumit"
   ]
  },
  {
   "cell_type": "code",
   "execution_count": 21,
   "metadata": {},
   "outputs": [],
   "source": [
    "res  =  pd.read_csv('Predecir/test_final_100k.csv')\n",
    "\n",
    "res = pd.merge(res, avisos, on = \"idaviso\",how=\"left\")\n",
    "res = pd.merge(res, postulantes, on = \"idpostulante\",how=\"left\")\n",
    "res = res.drop_duplicates([\"idaviso\",\"idpostulante\"])"
   ]
  },
  {
   "cell_type": "code",
   "execution_count": 22,
   "metadata": {},
   "outputs": [
    {
     "data": {
      "text/plain": [
       "(100000, 1)"
      ]
     },
     "execution_count": 22,
     "metadata": {},
     "output_type": "execute_result"
    }
   ],
   "source": [
    "to_sumit = pd.merge(res,to_predict,on=\"id\",how=\"left\")[\"prediccion\"]\n",
    "to_sumit = to_sumit.fillna(random.getrandbits(1))\n",
    "df = pd.DataFrame()\n",
    "df[\"sepostulo\"] = to_sumit\n",
    "df[\"id\"] = pd.read_csv('Predecir/test_final_100k.csv')[\"id\"]\n",
    "final = df.set_index(\"id\")\n",
    "final.shape"
   ]
  },
  {
   "cell_type": "code",
   "execution_count": 23,
   "metadata": {},
   "outputs": [],
   "source": [
    "final.to_csv(\"final2.csv\")"
   ]
  },
  {
   "cell_type": "code",
   "execution_count": null,
   "metadata": {},
   "outputs": [],
   "source": []
  }
 ],
 "metadata": {
  "kernelspec": {
   "display_name": "Python 3",
   "language": "python",
   "name": "python3"
  },
  "language_info": {
   "codemirror_mode": {
    "name": "ipython",
    "version": 3
   },
   "file_extension": ".py",
   "mimetype": "text/x-python",
   "name": "python",
   "nbconvert_exporter": "python",
   "pygments_lexer": "ipython3",
   "version": "3.6.4"
  }
 },
 "nbformat": 4,
 "nbformat_minor": 2
}
