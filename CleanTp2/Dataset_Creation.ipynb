{
 "cells": [
  {
   "cell_type": "code",
   "execution_count": 3,
   "metadata": {
    "collapsed": true
   },
   "outputs": [],
   "source": [
    "import pandas as pd\n",
    "import matplotlib.pyplot as plt\n",
    "import numpy as np\n",
    "%matplotlib inline"
   ]
  },
  {
   "cell_type": "code",
   "execution_count": 4,
   "metadata": {
    "collapsed": true
   },
   "outputs": [],
   "source": [
    "TRAIN = 0\n",
    "PREDICT = 1\n",
    "\n",
    "armar_dataset=TRAIN"
   ]
  },
  {
   "cell_type": "code",
   "execution_count": 5,
   "metadata": {
    "collapsed": true
   },
   "outputs": [],
   "source": [
    "df_postulantes_edu_original = pd.read_csv('Originales/fiuba_1_postulantes_educacion.csv')\n",
    "df_postulantes_datos_original = pd.read_csv('Originales/fiuba_2_postulantes_genero_y_edad.csv')\n",
    "df_postulantes_vistas_original = pd.read_csv('Originales/fiuba_3_vistas.csv')\n",
    "df_postulaciones_original = pd.read_csv('Originales/fiuba_4_postulaciones.csv')\n",
    "df_avisos_online_original = pd.read_csv('Originales/fiuba_5_avisos_online.csv')\n",
    "df_avisos_detalles_original = pd.read_csv('Originales/fiuba_6_avisos_detalle.csv')"
   ]
  },
  {
   "cell_type": "code",
   "execution_count": 6,
   "metadata": {
    "collapsed": true
   },
   "outputs": [],
   "source": [
    "df_postulantes_edu_nuevo = pd.read_csv('Nuevos hasta 15 abril/fiuba_1_postulantes_educacion.csv')\n",
    "df_postulantes_datos_nuevo = pd.read_csv('Nuevos hasta 15 abril/fiuba_2_postulantes_genero_y_edad.csv')\n",
    "df_postulantes_vistas_nuevo = pd.read_csv('Nuevos hasta 15 abril/fiuba_3_vistas.csv')\n",
    "df_postulaciones_nuevo = pd.read_csv('Nuevos hasta 15 abril/fiuba_4_postulaciones.csv')\n",
    "df_avisos_online_nuevo = pd.read_csv('Nuevos hasta 15 abril/fiuba_5_avisos_online.csv')\n",
    "df_avisos_detalles_nuevo = pd.read_csv('Nuevos hasta 15 abril/fiuba_6_avisos_detalle.csv')"
   ]
  },
  {
   "cell_type": "code",
   "execution_count": 7,
   "metadata": {
    "collapsed": true
   },
   "outputs": [],
   "source": [
    "if (armar_dataset == PREDICT):\n",
    "    df_postulantes_edu_desde = pd.read_csv('Desde 15 abril/fiuba_1_postulantes_educacion.csv')\n",
    "    df_postulantes_datos_desde = pd.read_csv('Desde 15 abril/fiuba_2_postulantes_genero_y_edad.csv')\n",
    "    df_postulantes_vistas_desde = pd.read_csv('Desde 15 abril/fiuba_3_vistas.csv')\n",
    "    df_avisos_detalles_desde = pd.read_csv('Desde 15 abril/fiuba_6_avisos_detalle.csv')"
   ]
  },
  {
   "cell_type": "code",
   "execution_count": 8,
   "metadata": {
    "collapsed": true
   },
   "outputs": [],
   "source": [
    "df_avisos_detalles_faltantes = pd.read_csv('fiuba_6_avisos_detalle_missing_nivel_laboral.csv')"
   ]
  },
  {
   "cell_type": "markdown",
   "metadata": {},
   "source": [
    "# Detalles de avisos"
   ]
  },
  {
   "cell_type": "markdown",
   "metadata": {},
   "source": [
    "Veamos el tamaño de los detalles de avisos para generar un dataset para entrenar"
   ]
  },
  {
   "cell_type": "code",
   "execution_count": 5,
   "metadata": {},
   "outputs": [
    {
     "data": {
      "text/plain": [
       "(13534, 11)"
      ]
     },
     "execution_count": 5,
     "metadata": {},
     "output_type": "execute_result"
    }
   ],
   "source": [
    "df_avisos_detalles_original.shape"
   ]
  },
  {
   "cell_type": "code",
   "execution_count": 6,
   "metadata": {},
   "outputs": [
    {
     "data": {
      "text/plain": [
       "(18299, 11)"
      ]
     },
     "execution_count": 6,
     "metadata": {},
     "output_type": "execute_result"
    }
   ],
   "source": [
    "df_avisos_detalles_nuevo.shape"
   ]
  },
  {
   "cell_type": "code",
   "execution_count": 8,
   "metadata": {},
   "outputs": [
    {
     "data": {
      "text/plain": [
       "(338, 11)"
      ]
     },
     "execution_count": 8,
     "metadata": {},
     "output_type": "execute_result"
    }
   ],
   "source": [
    "df_avisos_detalles_faltantes.shape"
   ]
  },
  {
   "cell_type": "markdown",
   "metadata": {},
   "source": [
    "Juntamos todo"
   ]
  },
  {
   "cell_type": "code",
   "execution_count": 9,
   "metadata": {
    "collapsed": true
   },
   "outputs": [],
   "source": [
    "if (armar_dataset == PREDICT):\n",
    "    df_avisos_detalles = pd.concat([df_avisos_detalles_original, df_avisos_detalles_nuevo, df_avisos_detalles_desde, df_avisos_detalles_faltantes])\n",
    "else:\n",
    "    df_avisos_detalles = pd.concat([df_avisos_detalles_original, df_avisos_detalles_nuevo, df_avisos_detalles_faltantes])"
   ]
  },
  {
   "cell_type": "code",
   "execution_count": 6,
   "metadata": {},
   "outputs": [
    {
     "data": {
      "text/plain": [
       "(32171, 11)"
      ]
     },
     "execution_count": 6,
     "metadata": {},
     "output_type": "execute_result"
    }
   ],
   "source": [
    "df_avisos_detalles.shape"
   ]
  },
  {
   "cell_type": "markdown",
   "metadata": {},
   "source": [
    "Eliminamos duplicados (No tiene sentido que hayan avisos exactamente iguales, es decir, mismo Id de aviso)"
   ]
  },
  {
   "cell_type": "code",
   "execution_count": 6,
   "metadata": {
    "collapsed": true
   },
   "outputs": [],
   "source": [
    "df_avisos_detalles = df_avisos_detalles.drop_duplicates(subset='idaviso')"
   ]
  },
  {
   "cell_type": "code",
   "execution_count": 8,
   "metadata": {},
   "outputs": [
    {
     "data": {
      "text/plain": [
       "(25288, 11)"
      ]
     },
     "execution_count": 8,
     "metadata": {},
     "output_type": "execute_result"
    }
   ],
   "source": [
    "df_avisos_detalles.shape"
   ]
  },
  {
   "cell_type": "markdown",
   "metadata": {},
   "source": [
    "Veamos las columnas utiles"
   ]
  },
  {
   "cell_type": "code",
   "execution_count": 9,
   "metadata": {},
   "outputs": [
    {
     "data": {
      "text/plain": [
       "Index(['idaviso', 'idpais', 'titulo', 'descripcion', 'nombre_zona', 'ciudad',\n",
       "       'mapacalle', 'tipo_de_trabajo', 'nivel_laboral', 'nombre_area',\n",
       "       'denominacion_empresa'],\n",
       "      dtype='object')"
      ]
     },
     "execution_count": 9,
     "metadata": {},
     "output_type": "execute_result"
    }
   ],
   "source": [
    "df_avisos_detalles.columns"
   ]
  },
  {
   "cell_type": "markdown",
   "metadata": {},
   "source": [
    "Descartamos las que tengan mayoria de valors nulos, no aportan información relevante"
   ]
  },
  {
   "cell_type": "code",
   "execution_count": 13,
   "metadata": {},
   "outputs": [
    {
     "data": {
      "text/plain": [
       "18052"
      ]
     },
     "execution_count": 13,
     "metadata": {},
     "output_type": "execute_result"
    }
   ],
   "source": [
    "df_avisos_detalles['mapacalle'].isnull().sum()"
   ]
  },
  {
   "cell_type": "code",
   "execution_count": 14,
   "metadata": {},
   "outputs": [
    {
     "data": {
      "text/plain": [
       "19598"
      ]
     },
     "execution_count": 14,
     "metadata": {},
     "output_type": "execute_result"
    }
   ],
   "source": [
    "df_avisos_detalles['ciudad'].isnull().sum()"
   ]
  },
  {
   "cell_type": "code",
   "execution_count": 7,
   "metadata": {
    "collapsed": true
   },
   "outputs": [],
   "source": [
    "del df_avisos_detalles['mapacalle']\n",
    "del df_avisos_detalles['ciudad']"
   ]
  },
  {
   "cell_type": "markdown",
   "metadata": {},
   "source": [
    "El pais es único y está en todos los datos, no aporta nada"
   ]
  },
  {
   "cell_type": "code",
   "execution_count": 16,
   "metadata": {},
   "outputs": [
    {
     "data": {
      "text/plain": [
       "1"
      ]
     },
     "execution_count": 16,
     "metadata": {},
     "output_type": "execute_result"
    }
   ],
   "source": [
    "df_avisos_detalles['idpais'].nunique()"
   ]
  },
  {
   "cell_type": "code",
   "execution_count": 17,
   "metadata": {},
   "outputs": [
    {
     "data": {
      "text/plain": [
       "0"
      ]
     },
     "execution_count": 17,
     "metadata": {},
     "output_type": "execute_result"
    }
   ],
   "source": [
    "df_avisos_detalles['idpais'].isnull().sum()"
   ]
  },
  {
   "cell_type": "code",
   "execution_count": 8,
   "metadata": {
    "collapsed": true
   },
   "outputs": [],
   "source": [
    "del df_avisos_detalles['idpais']"
   ]
  },
  {
   "cell_type": "code",
   "execution_count": 19,
   "metadata": {},
   "outputs": [
    {
     "data": {
      "text/plain": [
       "0"
      ]
     },
     "execution_count": 19,
     "metadata": {},
     "output_type": "execute_result"
    }
   ],
   "source": [
    "df_avisos_detalles['nombre_zona'].isnull().sum()"
   ]
  },
  {
   "cell_type": "code",
   "execution_count": 20,
   "metadata": {},
   "outputs": [
    {
     "data": {
      "text/plain": [
       "Gran Buenos Aires              18022\n",
       "Capital Federal                 1645\n",
       "Buenos Aires (fuera de GBA)       17\n",
       "GBA Oeste                         10\n",
       "Corrientes                         1\n",
       "Cordoba                            1\n",
       "Name: nombre_zona, dtype: int64"
      ]
     },
     "execution_count": 20,
     "metadata": {},
     "output_type": "execute_result"
    }
   ],
   "source": [
    "df_avisos_detalles['nombre_zona'].value_counts()"
   ]
  },
  {
   "cell_type": "code",
   "execution_count": 9,
   "metadata": {
    "collapsed": true
   },
   "outputs": [],
   "source": [
    "del df_avisos_detalles['nombre_zona']"
   ]
  },
  {
   "cell_type": "code",
   "execution_count": null,
   "metadata": {
    "collapsed": true
   },
   "outputs": [],
   "source": []
  },
  {
   "cell_type": "code",
   "execution_count": null,
   "metadata": {
    "collapsed": true
   },
   "outputs": [],
   "source": []
  },
  {
   "cell_type": "markdown",
   "metadata": {},
   "source": [
    "Nos quedamos con"
   ]
  },
  {
   "cell_type": "code",
   "execution_count": 22,
   "metadata": {},
   "outputs": [
    {
     "data": {
      "text/plain": [
       "Index(['idaviso', 'titulo', 'descripcion', 'tipo_de_trabajo', 'nivel_laboral',\n",
       "       'nombre_area', 'denominacion_empresa'],\n",
       "      dtype='object')"
      ]
     },
     "execution_count": 22,
     "metadata": {},
     "output_type": "execute_result"
    }
   ],
   "source": [
    "df_avisos_detalles.columns"
   ]
  },
  {
   "cell_type": "markdown",
   "metadata": {},
   "source": [
    "Parseamos el titulo y la descripción para sacar datos relevantes y generar nuevos features"
   ]
  },
  {
   "cell_type": "code",
   "execution_count": 10,
   "metadata": {
    "collapsed": true
   },
   "outputs": [],
   "source": [
    "def lowercase_descripcion(row):\n",
    "    if pd.isnull(row['descripcion']):\n",
    "        return row['descripcion']   \n",
    "    \n",
    "    return row['descripcion'].lower()\n",
    "\n",
    "def lowercase_titulo(row):\n",
    "    if pd.isnull(row['titulo']):\n",
    "        return row['titulo']   \n",
    "    \n",
    "    return row['titulo'].lower()"
   ]
  },
  {
   "cell_type": "code",
   "execution_count": 11,
   "metadata": {
    "collapsed": true
   },
   "outputs": [],
   "source": [
    "df_avisos_detalles['descripcion'] = df_avisos_detalles.apply(lowercase_descripcion, axis=1)\n",
    "df_avisos_detalles['titulo'] = df_avisos_detalles.apply(lowercase_titulo, axis=1)"
   ]
  },
  {
   "cell_type": "code",
   "execution_count": 15,
   "metadata": {},
   "outputs": [
    {
     "data": {
      "text/html": [
       "<div>\n",
       "<style>\n",
       "    .dataframe thead tr:only-child th {\n",
       "        text-align: right;\n",
       "    }\n",
       "\n",
       "    .dataframe thead th {\n",
       "        text-align: left;\n",
       "    }\n",
       "\n",
       "    .dataframe tbody tr th {\n",
       "        vertical-align: top;\n",
       "    }\n",
       "</style>\n",
       "<table border=\"1\" class=\"dataframe\">\n",
       "  <thead>\n",
       "    <tr style=\"text-align: right;\">\n",
       "      <th></th>\n",
       "      <th>idaviso</th>\n",
       "      <th>titulo</th>\n",
       "      <th>descripcion</th>\n",
       "      <th>tipo_de_trabajo</th>\n",
       "      <th>nivel_laboral</th>\n",
       "      <th>nombre_area</th>\n",
       "      <th>denominacion_empresa</th>\n",
       "    </tr>\n",
       "  </thead>\n",
       "  <tbody>\n",
       "    <tr>\n",
       "      <th>0</th>\n",
       "      <td>8725750</td>\n",
       "      <td>vendedor/a provincia de santa fe</td>\n",
       "      <td>&lt;p&gt;&lt;strong&gt;&lt;strong&gt;empresa:&lt;/strong&gt;&lt;/strong&gt; ...</td>\n",
       "      <td>Full-time</td>\n",
       "      <td>Senior / Semi-Senior</td>\n",
       "      <td>Comercial</td>\n",
       "      <td>VENTOR</td>\n",
       "    </tr>\n",
       "    <tr>\n",
       "      <th>1</th>\n",
       "      <td>17903700</td>\n",
       "      <td>enfermeras</td>\n",
       "      <td>&lt;p&gt;solicitamos para importante cadena de farma...</td>\n",
       "      <td>Full-time</td>\n",
       "      <td>Senior / Semi-Senior</td>\n",
       "      <td>Salud</td>\n",
       "      <td>Farmacias Central Oeste</td>\n",
       "    </tr>\n",
       "    <tr>\n",
       "      <th>2</th>\n",
       "      <td>1000150677</td>\n",
       "      <td>chofer de taxi</td>\n",
       "      <td>&lt;p&gt;te gusta manejar? queres ganar plata hacien...</td>\n",
       "      <td>Full-time</td>\n",
       "      <td>Senior / Semi-Senior</td>\n",
       "      <td>Transporte</td>\n",
       "      <td>FAMITAX SRL</td>\n",
       "    </tr>\n",
       "    <tr>\n",
       "      <th>3</th>\n",
       "      <td>1000610287</td>\n",
       "      <td>chofer de camioneta bahia blanca - punta alta</td>\n",
       "      <td>&lt;p&gt;&lt;strong&gt;somos una empresa multinacional que...</td>\n",
       "      <td>Full-time</td>\n",
       "      <td>Senior / Semi-Senior</td>\n",
       "      <td>Transporte</td>\n",
       "      <td>Wurth Argentina S.A</td>\n",
       "    </tr>\n",
       "    <tr>\n",
       "      <th>4</th>\n",
       "      <td>1000872556</td>\n",
       "      <td>operarios de planta - rubro electrodomésticos</td>\n",
       "      <td>&lt;p&gt;&lt;strong&gt;operarios de planta&lt;/strong&gt;&lt;/p&gt;&lt;p&gt;...</td>\n",
       "      <td>Full-time</td>\n",
       "      <td>Senior / Semi-Senior</td>\n",
       "      <td>Producción</td>\n",
       "      <td>ELECTRO OUTLET SRL</td>\n",
       "    </tr>\n",
       "  </tbody>\n",
       "</table>\n",
       "</div>"
      ],
      "text/plain": [
       "      idaviso                                         titulo  \\\n",
       "0     8725750               vendedor/a provincia de santa fe   \n",
       "1    17903700                                     enfermeras   \n",
       "2  1000150677                                 chofer de taxi   \n",
       "3  1000610287  chofer de camioneta bahia blanca - punta alta   \n",
       "4  1000872556  operarios de planta - rubro electrodomésticos   \n",
       "\n",
       "                                         descripcion tipo_de_trabajo  \\\n",
       "0  <p><strong><strong>empresa:</strong></strong> ...       Full-time   \n",
       "1  <p>solicitamos para importante cadena de farma...       Full-time   \n",
       "2  <p>te gusta manejar? queres ganar plata hacien...       Full-time   \n",
       "3  <p><strong>somos una empresa multinacional que...       Full-time   \n",
       "4  <p><strong>operarios de planta</strong></p><p>...       Full-time   \n",
       "\n",
       "          nivel_laboral nombre_area     denominacion_empresa  \n",
       "0  Senior / Semi-Senior   Comercial                   VENTOR  \n",
       "1  Senior / Semi-Senior       Salud  Farmacias Central Oeste  \n",
       "2  Senior / Semi-Senior  Transporte              FAMITAX SRL  \n",
       "3  Senior / Semi-Senior  Transporte      Wurth Argentina S.A  \n",
       "4  Senior / Semi-Senior  Producción       ELECTRO OUTLET SRL  "
      ]
     },
     "execution_count": 15,
     "metadata": {},
     "output_type": "execute_result"
    }
   ],
   "source": [
    "df_avisos_detalles.head()"
   ]
  },
  {
   "cell_type": "code",
   "execution_count": 12,
   "metadata": {
    "collapsed": true
   },
   "outputs": [],
   "source": [
    "def extra(row, list_of_words):\n",
    "    if pd.isnull(row['descripcion']) and pd.isnull(row['titulo']):\n",
    "        return 0\n",
    "    for word in list_of_words:\n",
    "        if word in row['descripcion'] or word in row['titulo']:\n",
    "            return 1\n",
    "    return 0"
   ]
  },
  {
   "cell_type": "code",
   "execution_count": 13,
   "metadata": {
    "collapsed": true
   },
   "outputs": [],
   "source": [
    "pal_claves = {\n",
    "    'web' : ['web', 'pagina', 'página'],\n",
    "    'crecimiento' : ['crecim', 'progre'],\n",
    "    'capacitacion' : ['aprender', 'aprendiza', 'capacitar', 'capacitacion', 'capacitación'],\n",
    "    'clima laboral' : ['excelente cl', 'clima'],\n",
    "    'multinacional' : ['multin', 'internacional'],\n",
    "    'incorp_inmediata' : ['incorporación', 'incorporacion'],\n",
    "    'disponibilidad_horaria' : ['fines de sem', 'sábado', 'sabado', 'domingo', 'feriado', 'rotativo'],\n",
    "    'disponibilidad_viajar' : ['viaje', 'viajar'],\n",
    "    'flexibilidad' : ['flexi'],\n",
    "    'secundario' : ['secundario compl'],\n",
    "    'terciario' : ['terciario'],\n",
    "    'ingles' : ['inglés', 'ingles'],\n",
    "    'estudiantes' : ['universi', 'estudiant'],\n",
    "    'conoc_informatica' : ['excel', 'word', 'office'],\n",
    "    'experiencia' : ['años de exp', 'experiencia'],\n",
    "    'proactivo' : ['proactiv'],\n",
    "    'relaciones_pers' : ['relaciones', 'personales'],\n",
    "    'desarrollador' : ['desarr'],\n",
    "    'cajero' : ['cajero'],\n",
    "    'vendedor' : ['vended'],\n",
    "    'ingeniero' : ['ingeni'],\n",
    "    'analista' : ['analis'],\n",
    "    'administrativo' : ['administra'],\n",
    "    'junior' : ['jr', 'junior'],\n",
    "    'jefe' : ['jefe'],\n",
    "    'marketing' : ['marke', 'tele'],\n",
    "    'supervisor' : ['superv']\n",
    "}\n",
    "\n",
    "for k, v in pal_claves.items():\n",
    "    df_avisos_detalles[k] = df_avisos_detalles.apply((lambda x: extra(x, v)), axis=1)"
   ]
  },
  {
   "cell_type": "code",
   "execution_count": 14,
   "metadata": {
    "collapsed": true
   },
   "outputs": [],
   "source": [
    "del df_avisos_detalles['descripcion']\n",
    "del df_avisos_detalles['titulo']"
   ]
  },
  {
   "cell_type": "code",
   "execution_count": 17,
   "metadata": {},
   "outputs": [
    {
     "data": {
      "text/plain": [
       "(19696, 32)"
      ]
     },
     "execution_count": 17,
     "metadata": {},
     "output_type": "execute_result"
    }
   ],
   "source": [
    "df_avisos_detalles.shape"
   ]
  },
  {
   "cell_type": "code",
   "execution_count": 18,
   "metadata": {},
   "outputs": [
    {
     "data": {
      "text/html": [
       "<div>\n",
       "<style>\n",
       "    .dataframe thead tr:only-child th {\n",
       "        text-align: right;\n",
       "    }\n",
       "\n",
       "    .dataframe thead th {\n",
       "        text-align: left;\n",
       "    }\n",
       "\n",
       "    .dataframe tbody tr th {\n",
       "        vertical-align: top;\n",
       "    }\n",
       "</style>\n",
       "<table border=\"1\" class=\"dataframe\">\n",
       "  <thead>\n",
       "    <tr style=\"text-align: right;\">\n",
       "      <th></th>\n",
       "      <th>idaviso</th>\n",
       "      <th>tipo_de_trabajo</th>\n",
       "      <th>nivel_laboral</th>\n",
       "      <th>nombre_area</th>\n",
       "      <th>denominacion_empresa</th>\n",
       "      <th>web</th>\n",
       "      <th>crecimiento</th>\n",
       "      <th>capacitacion</th>\n",
       "      <th>clima laboral</th>\n",
       "      <th>multinacional</th>\n",
       "      <th>...</th>\n",
       "      <th>desarrollador</th>\n",
       "      <th>cajero</th>\n",
       "      <th>vendedor</th>\n",
       "      <th>ingeniero</th>\n",
       "      <th>analista</th>\n",
       "      <th>administrativo</th>\n",
       "      <th>junior</th>\n",
       "      <th>jefe</th>\n",
       "      <th>marketing</th>\n",
       "      <th>supervisor</th>\n",
       "    </tr>\n",
       "  </thead>\n",
       "  <tbody>\n",
       "    <tr>\n",
       "      <th>0</th>\n",
       "      <td>8725750</td>\n",
       "      <td>Full-time</td>\n",
       "      <td>Senior / Semi-Senior</td>\n",
       "      <td>Comercial</td>\n",
       "      <td>VENTOR</td>\n",
       "      <td>0</td>\n",
       "      <td>0</td>\n",
       "      <td>1</td>\n",
       "      <td>0</td>\n",
       "      <td>0</td>\n",
       "      <td>...</td>\n",
       "      <td>0</td>\n",
       "      <td>0</td>\n",
       "      <td>1</td>\n",
       "      <td>0</td>\n",
       "      <td>0</td>\n",
       "      <td>0</td>\n",
       "      <td>0</td>\n",
       "      <td>0</td>\n",
       "      <td>0</td>\n",
       "      <td>0</td>\n",
       "    </tr>\n",
       "    <tr>\n",
       "      <th>1</th>\n",
       "      <td>17903700</td>\n",
       "      <td>Full-time</td>\n",
       "      <td>Senior / Semi-Senior</td>\n",
       "      <td>Salud</td>\n",
       "      <td>Farmacias Central Oeste</td>\n",
       "      <td>0</td>\n",
       "      <td>0</td>\n",
       "      <td>0</td>\n",
       "      <td>0</td>\n",
       "      <td>0</td>\n",
       "      <td>...</td>\n",
       "      <td>0</td>\n",
       "      <td>0</td>\n",
       "      <td>0</td>\n",
       "      <td>0</td>\n",
       "      <td>0</td>\n",
       "      <td>0</td>\n",
       "      <td>0</td>\n",
       "      <td>0</td>\n",
       "      <td>0</td>\n",
       "      <td>0</td>\n",
       "    </tr>\n",
       "    <tr>\n",
       "      <th>2</th>\n",
       "      <td>1000150677</td>\n",
       "      <td>Full-time</td>\n",
       "      <td>Senior / Semi-Senior</td>\n",
       "      <td>Transporte</td>\n",
       "      <td>FAMITAX SRL</td>\n",
       "      <td>0</td>\n",
       "      <td>0</td>\n",
       "      <td>0</td>\n",
       "      <td>0</td>\n",
       "      <td>0</td>\n",
       "      <td>...</td>\n",
       "      <td>0</td>\n",
       "      <td>0</td>\n",
       "      <td>0</td>\n",
       "      <td>0</td>\n",
       "      <td>0</td>\n",
       "      <td>0</td>\n",
       "      <td>0</td>\n",
       "      <td>0</td>\n",
       "      <td>0</td>\n",
       "      <td>0</td>\n",
       "    </tr>\n",
       "    <tr>\n",
       "      <th>3</th>\n",
       "      <td>1000610287</td>\n",
       "      <td>Full-time</td>\n",
       "      <td>Senior / Semi-Senior</td>\n",
       "      <td>Transporte</td>\n",
       "      <td>Wurth Argentina S.A</td>\n",
       "      <td>0</td>\n",
       "      <td>1</td>\n",
       "      <td>1</td>\n",
       "      <td>0</td>\n",
       "      <td>1</td>\n",
       "      <td>...</td>\n",
       "      <td>0</td>\n",
       "      <td>0</td>\n",
       "      <td>0</td>\n",
       "      <td>0</td>\n",
       "      <td>0</td>\n",
       "      <td>0</td>\n",
       "      <td>0</td>\n",
       "      <td>0</td>\n",
       "      <td>0</td>\n",
       "      <td>0</td>\n",
       "    </tr>\n",
       "    <tr>\n",
       "      <th>4</th>\n",
       "      <td>1000872556</td>\n",
       "      <td>Full-time</td>\n",
       "      <td>Senior / Semi-Senior</td>\n",
       "      <td>Producción</td>\n",
       "      <td>ELECTRO OUTLET SRL</td>\n",
       "      <td>0</td>\n",
       "      <td>0</td>\n",
       "      <td>0</td>\n",
       "      <td>0</td>\n",
       "      <td>0</td>\n",
       "      <td>...</td>\n",
       "      <td>0</td>\n",
       "      <td>0</td>\n",
       "      <td>0</td>\n",
       "      <td>0</td>\n",
       "      <td>0</td>\n",
       "      <td>0</td>\n",
       "      <td>0</td>\n",
       "      <td>0</td>\n",
       "      <td>0</td>\n",
       "      <td>1</td>\n",
       "    </tr>\n",
       "  </tbody>\n",
       "</table>\n",
       "<p>5 rows × 32 columns</p>\n",
       "</div>"
      ],
      "text/plain": [
       "      idaviso tipo_de_trabajo         nivel_laboral nombre_area  \\\n",
       "0     8725750       Full-time  Senior / Semi-Senior   Comercial   \n",
       "1    17903700       Full-time  Senior / Semi-Senior       Salud   \n",
       "2  1000150677       Full-time  Senior / Semi-Senior  Transporte   \n",
       "3  1000610287       Full-time  Senior / Semi-Senior  Transporte   \n",
       "4  1000872556       Full-time  Senior / Semi-Senior  Producción   \n",
       "\n",
       "      denominacion_empresa  web  crecimiento  capacitacion  clima laboral  \\\n",
       "0                   VENTOR    0            0             1              0   \n",
       "1  Farmacias Central Oeste    0            0             0              0   \n",
       "2              FAMITAX SRL    0            0             0              0   \n",
       "3      Wurth Argentina S.A    0            1             1              0   \n",
       "4       ELECTRO OUTLET SRL    0            0             0              0   \n",
       "\n",
       "   multinacional     ...      desarrollador  cajero  vendedor  ingeniero  \\\n",
       "0              0     ...                  0       0         1          0   \n",
       "1              0     ...                  0       0         0          0   \n",
       "2              0     ...                  0       0         0          0   \n",
       "3              1     ...                  0       0         0          0   \n",
       "4              0     ...                  0       0         0          0   \n",
       "\n",
       "   analista  administrativo  junior  jefe  marketing  supervisor  \n",
       "0         0               0       0     0          0           0  \n",
       "1         0               0       0     0          0           0  \n",
       "2         0               0       0     0          0           0  \n",
       "3         0               0       0     0          0           0  \n",
       "4         0               0       0     0          0           1  \n",
       "\n",
       "[5 rows x 32 columns]"
      ]
     },
     "execution_count": 18,
     "metadata": {},
     "output_type": "execute_result"
    }
   ],
   "source": [
    "df_avisos_detalles.head()"
   ]
  },
  {
   "cell_type": "code",
   "execution_count": 15,
   "metadata": {
    "collapsed": true
   },
   "outputs": [],
   "source": [
    "list_tipos_trabajos = []\n",
    "list_nivel_laboral = []\n",
    "list_nombre_area = []\n",
    "list_empresa = []\n",
    "\n",
    "\n",
    "def tipos_trabajos(row):\n",
    "    if pd.isnull(row['tipo_de_trabajo']): #Es nula, seteo valor 0 por defecto\n",
    "        return 0\n",
    "    if row['tipo_de_trabajo'] in list_tipos_trabajos:\n",
    "        return list_tipos_trabajos.index(row['tipo_de_trabajo'])+1\n",
    "    \n",
    "    list_tipos_trabajos.append(row['tipo_de_trabajo'])\n",
    "    \n",
    "    return list_tipos_trabajos.index(row['tipo_de_trabajo'])+1\n",
    "\n",
    "def nivel_laboral(row):\n",
    "    if pd.isnull(row['nivel_laboral']): #Es nula, seteo valor 0 por defecto\n",
    "        return 0\n",
    "    if row['nivel_laboral'] in list_nivel_laboral:\n",
    "        return list_nivel_laboral.index(row['nivel_laboral'])+1\n",
    "    \n",
    "    list_nivel_laboral.append(row['nivel_laboral'])\n",
    "    \n",
    "    return list_nivel_laboral.index(row['nivel_laboral'])+1\n",
    "\n",
    "def nombre_area(row):\n",
    "    if pd.isnull(row['nombre_area']): #Es nula, seteo valor 0 por defecto\n",
    "        return 0\n",
    "    if row['nombre_area'] in list_nombre_area:\n",
    "        return list_nombre_area.index(row['nombre_area'])+1\n",
    "    \n",
    "    list_nombre_area.append(row['nombre_area'])\n",
    "    \n",
    "    return list_nombre_area.index(row['nombre_area'])+1\n",
    "\n",
    "def nombre_empresa(row):\n",
    "    if pd.isnull(row['denominacion_empresa']): #Es nula, seteo valor 0 por defecto\n",
    "        return 0\n",
    "    if row['denominacion_empresa'] in list_empresa:\n",
    "        return list_empresa.index(row['denominacion_empresa'])+1\n",
    "    \n",
    "    list_empresa.append(row['denominacion_empresa'])\n",
    "    \n",
    "    return list_empresa.index(row['denominacion_empresa'])+1\n",
    "\n",
    "df_avisos_detalles['tipo_de_trabajo'] = df_avisos_detalles.apply(tipos_trabajos, axis=1)\n",
    "df_avisos_detalles['nivel_laboral'] = df_avisos_detalles.apply(nivel_laboral, axis=1)\n",
    "df_avisos_detalles['nombre_area'] = df_avisos_detalles.apply(nombre_area, axis=1)\n",
    "df_avisos_detalles['denominacion_empresa'] = df_avisos_detalles.apply(nombre_empresa, axis=1)"
   ]
  },
  {
   "cell_type": "code",
   "execution_count": 20,
   "metadata": {},
   "outputs": [
    {
     "data": {
      "text/html": [
       "<div>\n",
       "<style>\n",
       "    .dataframe thead tr:only-child th {\n",
       "        text-align: right;\n",
       "    }\n",
       "\n",
       "    .dataframe thead th {\n",
       "        text-align: left;\n",
       "    }\n",
       "\n",
       "    .dataframe tbody tr th {\n",
       "        vertical-align: top;\n",
       "    }\n",
       "</style>\n",
       "<table border=\"1\" class=\"dataframe\">\n",
       "  <thead>\n",
       "    <tr style=\"text-align: right;\">\n",
       "      <th></th>\n",
       "      <th>idaviso</th>\n",
       "      <th>tipo_de_trabajo</th>\n",
       "      <th>nivel_laboral</th>\n",
       "      <th>nombre_area</th>\n",
       "      <th>denominacion_empresa</th>\n",
       "      <th>web</th>\n",
       "      <th>crecimiento</th>\n",
       "      <th>capacitacion</th>\n",
       "      <th>clima laboral</th>\n",
       "      <th>multinacional</th>\n",
       "      <th>...</th>\n",
       "      <th>desarrollador</th>\n",
       "      <th>cajero</th>\n",
       "      <th>vendedor</th>\n",
       "      <th>ingeniero</th>\n",
       "      <th>analista</th>\n",
       "      <th>administrativo</th>\n",
       "      <th>junior</th>\n",
       "      <th>jefe</th>\n",
       "      <th>marketing</th>\n",
       "      <th>supervisor</th>\n",
       "    </tr>\n",
       "  </thead>\n",
       "  <tbody>\n",
       "    <tr>\n",
       "      <th>0</th>\n",
       "      <td>8725750</td>\n",
       "      <td>1</td>\n",
       "      <td>1</td>\n",
       "      <td>1</td>\n",
       "      <td>1</td>\n",
       "      <td>0</td>\n",
       "      <td>0</td>\n",
       "      <td>1</td>\n",
       "      <td>0</td>\n",
       "      <td>0</td>\n",
       "      <td>...</td>\n",
       "      <td>0</td>\n",
       "      <td>0</td>\n",
       "      <td>1</td>\n",
       "      <td>0</td>\n",
       "      <td>0</td>\n",
       "      <td>0</td>\n",
       "      <td>0</td>\n",
       "      <td>0</td>\n",
       "      <td>0</td>\n",
       "      <td>0</td>\n",
       "    </tr>\n",
       "    <tr>\n",
       "      <th>1</th>\n",
       "      <td>17903700</td>\n",
       "      <td>1</td>\n",
       "      <td>1</td>\n",
       "      <td>2</td>\n",
       "      <td>2</td>\n",
       "      <td>0</td>\n",
       "      <td>0</td>\n",
       "      <td>0</td>\n",
       "      <td>0</td>\n",
       "      <td>0</td>\n",
       "      <td>...</td>\n",
       "      <td>0</td>\n",
       "      <td>0</td>\n",
       "      <td>0</td>\n",
       "      <td>0</td>\n",
       "      <td>0</td>\n",
       "      <td>0</td>\n",
       "      <td>0</td>\n",
       "      <td>0</td>\n",
       "      <td>0</td>\n",
       "      <td>0</td>\n",
       "    </tr>\n",
       "    <tr>\n",
       "      <th>2</th>\n",
       "      <td>1000150677</td>\n",
       "      <td>1</td>\n",
       "      <td>1</td>\n",
       "      <td>3</td>\n",
       "      <td>3</td>\n",
       "      <td>0</td>\n",
       "      <td>0</td>\n",
       "      <td>0</td>\n",
       "      <td>0</td>\n",
       "      <td>0</td>\n",
       "      <td>...</td>\n",
       "      <td>0</td>\n",
       "      <td>0</td>\n",
       "      <td>0</td>\n",
       "      <td>0</td>\n",
       "      <td>0</td>\n",
       "      <td>0</td>\n",
       "      <td>0</td>\n",
       "      <td>0</td>\n",
       "      <td>0</td>\n",
       "      <td>0</td>\n",
       "    </tr>\n",
       "    <tr>\n",
       "      <th>3</th>\n",
       "      <td>1000610287</td>\n",
       "      <td>1</td>\n",
       "      <td>1</td>\n",
       "      <td>3</td>\n",
       "      <td>4</td>\n",
       "      <td>0</td>\n",
       "      <td>1</td>\n",
       "      <td>1</td>\n",
       "      <td>0</td>\n",
       "      <td>1</td>\n",
       "      <td>...</td>\n",
       "      <td>0</td>\n",
       "      <td>0</td>\n",
       "      <td>0</td>\n",
       "      <td>0</td>\n",
       "      <td>0</td>\n",
       "      <td>0</td>\n",
       "      <td>0</td>\n",
       "      <td>0</td>\n",
       "      <td>0</td>\n",
       "      <td>0</td>\n",
       "    </tr>\n",
       "    <tr>\n",
       "      <th>4</th>\n",
       "      <td>1000872556</td>\n",
       "      <td>1</td>\n",
       "      <td>1</td>\n",
       "      <td>4</td>\n",
       "      <td>5</td>\n",
       "      <td>0</td>\n",
       "      <td>0</td>\n",
       "      <td>0</td>\n",
       "      <td>0</td>\n",
       "      <td>0</td>\n",
       "      <td>...</td>\n",
       "      <td>0</td>\n",
       "      <td>0</td>\n",
       "      <td>0</td>\n",
       "      <td>0</td>\n",
       "      <td>0</td>\n",
       "      <td>0</td>\n",
       "      <td>0</td>\n",
       "      <td>0</td>\n",
       "      <td>0</td>\n",
       "      <td>1</td>\n",
       "    </tr>\n",
       "  </tbody>\n",
       "</table>\n",
       "<p>5 rows × 32 columns</p>\n",
       "</div>"
      ],
      "text/plain": [
       "      idaviso  tipo_de_trabajo  nivel_laboral  nombre_area  \\\n",
       "0     8725750                1              1            1   \n",
       "1    17903700                1              1            2   \n",
       "2  1000150677                1              1            3   \n",
       "3  1000610287                1              1            3   \n",
       "4  1000872556                1              1            4   \n",
       "\n",
       "   denominacion_empresa  web  crecimiento  capacitacion  clima laboral  \\\n",
       "0                     1    0            0             1              0   \n",
       "1                     2    0            0             0              0   \n",
       "2                     3    0            0             0              0   \n",
       "3                     4    0            1             1              0   \n",
       "4                     5    0            0             0              0   \n",
       "\n",
       "   multinacional     ...      desarrollador  cajero  vendedor  ingeniero  \\\n",
       "0              0     ...                  0       0         1          0   \n",
       "1              0     ...                  0       0         0          0   \n",
       "2              0     ...                  0       0         0          0   \n",
       "3              1     ...                  0       0         0          0   \n",
       "4              0     ...                  0       0         0          0   \n",
       "\n",
       "   analista  administrativo  junior  jefe  marketing  supervisor  \n",
       "0         0               0       0     0          0           0  \n",
       "1         0               0       0     0          0           0  \n",
       "2         0               0       0     0          0           0  \n",
       "3         0               0       0     0          0           0  \n",
       "4         0               0       0     0          0           1  \n",
       "\n",
       "[5 rows x 32 columns]"
      ]
     },
     "execution_count": 20,
     "metadata": {},
     "output_type": "execute_result"
    }
   ],
   "source": [
    "df_avisos_detalles.head()"
   ]
  },
  {
   "cell_type": "code",
   "execution_count": 21,
   "metadata": {},
   "outputs": [
    {
     "data": {
      "text/plain": [
       "(19696, 32)"
      ]
     },
     "execution_count": 21,
     "metadata": {},
     "output_type": "execute_result"
    }
   ],
   "source": [
    "df_avisos_detalles.shape"
   ]
  },
  {
   "cell_type": "code",
   "execution_count": 16,
   "metadata": {
    "collapsed": true
   },
   "outputs": [],
   "source": [
    "df_avisos_online = pd.concat([df_avisos_online_original, df_avisos_online_nuevo])\n",
    "df_avisos_online = df_avisos_online.drop_duplicates()"
   ]
  },
  {
   "cell_type": "code",
   "execution_count": 17,
   "metadata": {
    "collapsed": true
   },
   "outputs": [],
   "source": [
    "df_avisos_online['online'] = 1\n",
    "df_avisos_detalles = pd.merge(df_avisos_detalles, df_avisos_online, how='left', on=['idaviso'])"
   ]
  },
  {
   "cell_type": "code",
   "execution_count": 18,
   "metadata": {
    "collapsed": true
   },
   "outputs": [],
   "source": [
    "df_avisos_detalles['online'] = df_avisos_detalles['online'].fillna(value=0)"
   ]
  },
  {
   "cell_type": "code",
   "execution_count": 19,
   "metadata": {},
   "outputs": [
    {
     "data": {
      "text/plain": [
       "(19696, 33)"
      ]
     },
     "execution_count": 19,
     "metadata": {},
     "output_type": "execute_result"
    }
   ],
   "source": [
    "df_avisos_detalles.shape"
   ]
  },
  {
   "cell_type": "markdown",
   "metadata": {},
   "source": [
    "Usar postulaciones para rellenar vistas que no tenga\n"
   ]
  },
  {
   "cell_type": "code",
   "execution_count": 19,
   "metadata": {
    "collapsed": true
   },
   "outputs": [],
   "source": [
    "postulaciones = pd.concat([df_postulaciones_original, df_postulaciones_nuevo])"
   ]
  },
  {
   "cell_type": "code",
   "execution_count": 20,
   "metadata": {},
   "outputs": [
    {
     "data": {
      "text/plain": [
       "(8311264, 3)"
      ]
     },
     "execution_count": 20,
     "metadata": {},
     "output_type": "execute_result"
    }
   ],
   "source": [
    "postulaciones.shape"
   ]
  },
  {
   "cell_type": "code",
   "execution_count": 21,
   "metadata": {
    "collapsed": true
   },
   "outputs": [],
   "source": [
    "postulaciones = postulaciones.drop_duplicates(['idaviso', 'idpostulante'])"
   ]
  },
  {
   "cell_type": "code",
   "execution_count": 23,
   "metadata": {},
   "outputs": [
    {
     "data": {
      "text/plain": [
       "(6603752, 3)"
      ]
     },
     "execution_count": 23,
     "metadata": {},
     "output_type": "execute_result"
    }
   ],
   "source": [
    "postulaciones.shape"
   ]
  },
  {
   "cell_type": "code",
   "execution_count": 22,
   "metadata": {
    "collapsed": true
   },
   "outputs": [],
   "source": [
    "postulaciones_total = postulaciones.loc[:, ['idaviso', 'idpostulante']].rename(columns={'idpostulante':'postu_total'})\\\n",
    "                .groupby('idaviso').count().reset_index()"
   ]
  },
  {
   "cell_type": "code",
   "execution_count": 23,
   "metadata": {
    "collapsed": true
   },
   "outputs": [],
   "source": [
    "df_avisos_detalles = pd.merge(df_avisos_detalles, postulaciones_total, on=['idaviso'], how='left')"
   ]
  },
  {
   "cell_type": "code",
   "execution_count": 26,
   "metadata": {},
   "outputs": [
    {
     "data": {
      "text/plain": [
       "(25288, 34)"
      ]
     },
     "execution_count": 26,
     "metadata": {},
     "output_type": "execute_result"
    }
   ],
   "source": [
    "df_avisos_detalles.shape"
   ]
  },
  {
   "cell_type": "code",
   "execution_count": 24,
   "metadata": {
    "collapsed": true
   },
   "outputs": [],
   "source": [
    "if (armar_dataset == PREDICT):\n",
    "    vistas = pd.concat([df_postulantes_vistas_original, df_postulantes_vistas_nuevo, df_postulantes_vistas_desde])\n",
    "else:\n",
    "    vistas = pd.concat([df_postulantes_vistas_original, df_postulantes_vistas_nuevo])"
   ]
  },
  {
   "cell_type": "code",
   "execution_count": 25,
   "metadata": {},
   "outputs": [
    {
     "data": {
      "text/plain": [
       "(6720583, 3)"
      ]
     },
     "execution_count": 25,
     "metadata": {},
     "output_type": "execute_result"
    }
   ],
   "source": [
    "vistas.shape"
   ]
  },
  {
   "cell_type": "code",
   "execution_count": 26,
   "metadata": {
    "collapsed": true
   },
   "outputs": [],
   "source": [
    "vistas = vistas.drop_duplicates()"
   ]
  },
  {
   "cell_type": "code",
   "execution_count": 33,
   "metadata": {},
   "outputs": [
    {
     "data": {
      "text/plain": [
       "(5073861, 3)"
      ]
     },
     "execution_count": 33,
     "metadata": {},
     "output_type": "execute_result"
    }
   ],
   "source": [
    "vistas.shape"
   ]
  },
  {
   "cell_type": "code",
   "execution_count": 27,
   "metadata": {},
   "outputs": [
    {
     "data": {
      "text/plain": [
       "(6682624, 3)"
      ]
     },
     "execution_count": 27,
     "metadata": {},
     "output_type": "execute_result"
    }
   ],
   "source": [
    "vistas = vistas.rename(columns={'idAviso' : 'idaviso'})\n",
    "vistas.shape"
   ]
  },
  {
   "cell_type": "code",
   "execution_count": 28,
   "metadata": {
    "collapsed": true
   },
   "outputs": [],
   "source": [
    "vistas2 = vistas.loc[:, ['idaviso', 'idpostulante']].groupby('idaviso').count().reset_index()"
   ]
  },
  {
   "cell_type": "code",
   "execution_count": 29,
   "metadata": {
    "collapsed": true
   },
   "outputs": [],
   "source": [
    "vistas2 = vistas2.rename(columns={'idpostulante' : 'total_vistas'})"
   ]
  },
  {
   "cell_type": "code",
   "execution_count": 30,
   "metadata": {
    "collapsed": true
   },
   "outputs": [],
   "source": [
    "df_avisos_detalles = pd.merge(df_avisos_detalles, vistas2, how='left', on=['idaviso'])"
   ]
  },
  {
   "cell_type": "code",
   "execution_count": 39,
   "metadata": {},
   "outputs": [
    {
     "data": {
      "text/html": [
       "<div>\n",
       "<style>\n",
       "    .dataframe thead tr:only-child th {\n",
       "        text-align: right;\n",
       "    }\n",
       "\n",
       "    .dataframe thead th {\n",
       "        text-align: left;\n",
       "    }\n",
       "\n",
       "    .dataframe tbody tr th {\n",
       "        vertical-align: top;\n",
       "    }\n",
       "</style>\n",
       "<table border=\"1\" class=\"dataframe\">\n",
       "  <thead>\n",
       "    <tr style=\"text-align: right;\">\n",
       "      <th></th>\n",
       "      <th>idaviso</th>\n",
       "      <th>idpais</th>\n",
       "      <th>tipo_de_trabajo</th>\n",
       "      <th>nivel_laboral</th>\n",
       "      <th>nombre_area</th>\n",
       "      <th>denominacion_empresa</th>\n",
       "      <th>web</th>\n",
       "      <th>crecimiento</th>\n",
       "      <th>capacitacion</th>\n",
       "      <th>clima laboral</th>\n",
       "      <th>...</th>\n",
       "      <th>ingeniero</th>\n",
       "      <th>analista</th>\n",
       "      <th>administrativo</th>\n",
       "      <th>junior</th>\n",
       "      <th>jefe</th>\n",
       "      <th>marketing</th>\n",
       "      <th>supervisor</th>\n",
       "      <th>online</th>\n",
       "      <th>postu_total</th>\n",
       "      <th>total_vistas</th>\n",
       "    </tr>\n",
       "  </thead>\n",
       "  <tbody>\n",
       "    <tr>\n",
       "      <th>0</th>\n",
       "      <td>8725750</td>\n",
       "      <td>1</td>\n",
       "      <td>1</td>\n",
       "      <td>1</td>\n",
       "      <td>1</td>\n",
       "      <td>1</td>\n",
       "      <td>0</td>\n",
       "      <td>0</td>\n",
       "      <td>1</td>\n",
       "      <td>0</td>\n",
       "      <td>...</td>\n",
       "      <td>0</td>\n",
       "      <td>0</td>\n",
       "      <td>0</td>\n",
       "      <td>0</td>\n",
       "      <td>0</td>\n",
       "      <td>0</td>\n",
       "      <td>0</td>\n",
       "      <td>0.0</td>\n",
       "      <td>37.0</td>\n",
       "      <td>NaN</td>\n",
       "    </tr>\n",
       "    <tr>\n",
       "      <th>1</th>\n",
       "      <td>17903700</td>\n",
       "      <td>1</td>\n",
       "      <td>1</td>\n",
       "      <td>1</td>\n",
       "      <td>2</td>\n",
       "      <td>2</td>\n",
       "      <td>0</td>\n",
       "      <td>0</td>\n",
       "      <td>0</td>\n",
       "      <td>0</td>\n",
       "      <td>...</td>\n",
       "      <td>0</td>\n",
       "      <td>0</td>\n",
       "      <td>0</td>\n",
       "      <td>0</td>\n",
       "      <td>0</td>\n",
       "      <td>0</td>\n",
       "      <td>0</td>\n",
       "      <td>1.0</td>\n",
       "      <td>47.0</td>\n",
       "      <td>1166.0</td>\n",
       "    </tr>\n",
       "    <tr>\n",
       "      <th>2</th>\n",
       "      <td>1000150677</td>\n",
       "      <td>1</td>\n",
       "      <td>1</td>\n",
       "      <td>1</td>\n",
       "      <td>3</td>\n",
       "      <td>3</td>\n",
       "      <td>0</td>\n",
       "      <td>0</td>\n",
       "      <td>0</td>\n",
       "      <td>0</td>\n",
       "      <td>...</td>\n",
       "      <td>0</td>\n",
       "      <td>0</td>\n",
       "      <td>0</td>\n",
       "      <td>0</td>\n",
       "      <td>0</td>\n",
       "      <td>0</td>\n",
       "      <td>0</td>\n",
       "      <td>0.0</td>\n",
       "      <td>NaN</td>\n",
       "      <td>NaN</td>\n",
       "    </tr>\n",
       "    <tr>\n",
       "      <th>3</th>\n",
       "      <td>1000610287</td>\n",
       "      <td>1</td>\n",
       "      <td>1</td>\n",
       "      <td>1</td>\n",
       "      <td>3</td>\n",
       "      <td>4</td>\n",
       "      <td>0</td>\n",
       "      <td>1</td>\n",
       "      <td>1</td>\n",
       "      <td>0</td>\n",
       "      <td>...</td>\n",
       "      <td>0</td>\n",
       "      <td>0</td>\n",
       "      <td>0</td>\n",
       "      <td>0</td>\n",
       "      <td>0</td>\n",
       "      <td>0</td>\n",
       "      <td>0</td>\n",
       "      <td>1.0</td>\n",
       "      <td>45.0</td>\n",
       "      <td>50.0</td>\n",
       "    </tr>\n",
       "    <tr>\n",
       "      <th>4</th>\n",
       "      <td>1000872556</td>\n",
       "      <td>1</td>\n",
       "      <td>1</td>\n",
       "      <td>1</td>\n",
       "      <td>4</td>\n",
       "      <td>5</td>\n",
       "      <td>0</td>\n",
       "      <td>0</td>\n",
       "      <td>0</td>\n",
       "      <td>0</td>\n",
       "      <td>...</td>\n",
       "      <td>0</td>\n",
       "      <td>0</td>\n",
       "      <td>0</td>\n",
       "      <td>0</td>\n",
       "      <td>0</td>\n",
       "      <td>0</td>\n",
       "      <td>1</td>\n",
       "      <td>0.0</td>\n",
       "      <td>NaN</td>\n",
       "      <td>NaN</td>\n",
       "    </tr>\n",
       "  </tbody>\n",
       "</table>\n",
       "<p>5 rows × 36 columns</p>\n",
       "</div>"
      ],
      "text/plain": [
       "      idaviso  idpais  tipo_de_trabajo  nivel_laboral  nombre_area  \\\n",
       "0     8725750       1                1              1            1   \n",
       "1    17903700       1                1              1            2   \n",
       "2  1000150677       1                1              1            3   \n",
       "3  1000610287       1                1              1            3   \n",
       "4  1000872556       1                1              1            4   \n",
       "\n",
       "   denominacion_empresa  web  crecimiento  capacitacion  clima laboral  \\\n",
       "0                     1    0            0             1              0   \n",
       "1                     2    0            0             0              0   \n",
       "2                     3    0            0             0              0   \n",
       "3                     4    0            1             1              0   \n",
       "4                     5    0            0             0              0   \n",
       "\n",
       "       ...       ingeniero  analista  administrativo  junior  jefe  marketing  \\\n",
       "0      ...               0         0               0       0     0          0   \n",
       "1      ...               0         0               0       0     0          0   \n",
       "2      ...               0         0               0       0     0          0   \n",
       "3      ...               0         0               0       0     0          0   \n",
       "4      ...               0         0               0       0     0          0   \n",
       "\n",
       "   supervisor  online  postu_total  total_vistas  \n",
       "0           0     0.0         37.0           NaN  \n",
       "1           0     1.0         47.0        1166.0  \n",
       "2           0     0.0          NaN           NaN  \n",
       "3           0     1.0         45.0          50.0  \n",
       "4           1     0.0          NaN           NaN  \n",
       "\n",
       "[5 rows x 36 columns]"
      ]
     },
     "execution_count": 39,
     "metadata": {},
     "output_type": "execute_result"
    }
   ],
   "source": [
    "df_avisos_detalles.head()"
   ]
  },
  {
   "cell_type": "code",
   "execution_count": 31,
   "metadata": {
    "collapsed": true
   },
   "outputs": [],
   "source": [
    "vistas2 = vistas.groupby(['idaviso', 'idpostulante']).count().reset_index()"
   ]
  },
  {
   "cell_type": "code",
   "execution_count": 32,
   "metadata": {
    "collapsed": true
   },
   "outputs": [],
   "source": [
    "vistas2 = vistas2.loc[:, ['idaviso', 'timestamp']].groupby('idaviso').median().reset_index()"
   ]
  },
  {
   "cell_type": "code",
   "execution_count": 33,
   "metadata": {
    "collapsed": true
   },
   "outputs": [],
   "source": [
    "vistas2 = vistas2.rename(columns={'timestamp' : 'vistas_median'})"
   ]
  },
  {
   "cell_type": "code",
   "execution_count": 34,
   "metadata": {
    "collapsed": true
   },
   "outputs": [],
   "source": [
    "df_avisos_detalles = pd.merge(df_avisos_detalles, vistas2, how='left', on=['idaviso'])"
   ]
  },
  {
   "cell_type": "code",
   "execution_count": 44,
   "metadata": {},
   "outputs": [
    {
     "data": {
      "text/html": [
       "<div>\n",
       "<style>\n",
       "    .dataframe thead tr:only-child th {\n",
       "        text-align: right;\n",
       "    }\n",
       "\n",
       "    .dataframe thead th {\n",
       "        text-align: left;\n",
       "    }\n",
       "\n",
       "    .dataframe tbody tr th {\n",
       "        vertical-align: top;\n",
       "    }\n",
       "</style>\n",
       "<table border=\"1\" class=\"dataframe\">\n",
       "  <thead>\n",
       "    <tr style=\"text-align: right;\">\n",
       "      <th></th>\n",
       "      <th>idaviso</th>\n",
       "      <th>idpais</th>\n",
       "      <th>tipo_de_trabajo</th>\n",
       "      <th>nivel_laboral</th>\n",
       "      <th>nombre_area</th>\n",
       "      <th>denominacion_empresa</th>\n",
       "      <th>web</th>\n",
       "      <th>crecimiento</th>\n",
       "      <th>capacitacion</th>\n",
       "      <th>clima laboral</th>\n",
       "      <th>...</th>\n",
       "      <th>analista</th>\n",
       "      <th>administrativo</th>\n",
       "      <th>junior</th>\n",
       "      <th>jefe</th>\n",
       "      <th>marketing</th>\n",
       "      <th>supervisor</th>\n",
       "      <th>online</th>\n",
       "      <th>postu_total</th>\n",
       "      <th>total_vistas</th>\n",
       "      <th>vistas_median</th>\n",
       "    </tr>\n",
       "  </thead>\n",
       "  <tbody>\n",
       "    <tr>\n",
       "      <th>0</th>\n",
       "      <td>8725750</td>\n",
       "      <td>1</td>\n",
       "      <td>1</td>\n",
       "      <td>1</td>\n",
       "      <td>1</td>\n",
       "      <td>1</td>\n",
       "      <td>0</td>\n",
       "      <td>0</td>\n",
       "      <td>1</td>\n",
       "      <td>0</td>\n",
       "      <td>...</td>\n",
       "      <td>0</td>\n",
       "      <td>0</td>\n",
       "      <td>0</td>\n",
       "      <td>0</td>\n",
       "      <td>0</td>\n",
       "      <td>0</td>\n",
       "      <td>0.0</td>\n",
       "      <td>37.0</td>\n",
       "      <td>NaN</td>\n",
       "      <td>NaN</td>\n",
       "    </tr>\n",
       "    <tr>\n",
       "      <th>1</th>\n",
       "      <td>17903700</td>\n",
       "      <td>1</td>\n",
       "      <td>1</td>\n",
       "      <td>1</td>\n",
       "      <td>2</td>\n",
       "      <td>2</td>\n",
       "      <td>0</td>\n",
       "      <td>0</td>\n",
       "      <td>0</td>\n",
       "      <td>0</td>\n",
       "      <td>...</td>\n",
       "      <td>0</td>\n",
       "      <td>0</td>\n",
       "      <td>0</td>\n",
       "      <td>0</td>\n",
       "      <td>0</td>\n",
       "      <td>0</td>\n",
       "      <td>1.0</td>\n",
       "      <td>47.0</td>\n",
       "      <td>1166.0</td>\n",
       "      <td>2.0</td>\n",
       "    </tr>\n",
       "    <tr>\n",
       "      <th>2</th>\n",
       "      <td>1000150677</td>\n",
       "      <td>1</td>\n",
       "      <td>1</td>\n",
       "      <td>1</td>\n",
       "      <td>3</td>\n",
       "      <td>3</td>\n",
       "      <td>0</td>\n",
       "      <td>0</td>\n",
       "      <td>0</td>\n",
       "      <td>0</td>\n",
       "      <td>...</td>\n",
       "      <td>0</td>\n",
       "      <td>0</td>\n",
       "      <td>0</td>\n",
       "      <td>0</td>\n",
       "      <td>0</td>\n",
       "      <td>0</td>\n",
       "      <td>0.0</td>\n",
       "      <td>NaN</td>\n",
       "      <td>NaN</td>\n",
       "      <td>NaN</td>\n",
       "    </tr>\n",
       "    <tr>\n",
       "      <th>3</th>\n",
       "      <td>1000610287</td>\n",
       "      <td>1</td>\n",
       "      <td>1</td>\n",
       "      <td>1</td>\n",
       "      <td>3</td>\n",
       "      <td>4</td>\n",
       "      <td>0</td>\n",
       "      <td>1</td>\n",
       "      <td>1</td>\n",
       "      <td>0</td>\n",
       "      <td>...</td>\n",
       "      <td>0</td>\n",
       "      <td>0</td>\n",
       "      <td>0</td>\n",
       "      <td>0</td>\n",
       "      <td>0</td>\n",
       "      <td>0</td>\n",
       "      <td>1.0</td>\n",
       "      <td>45.0</td>\n",
       "      <td>50.0</td>\n",
       "      <td>2.0</td>\n",
       "    </tr>\n",
       "    <tr>\n",
       "      <th>4</th>\n",
       "      <td>1000872556</td>\n",
       "      <td>1</td>\n",
       "      <td>1</td>\n",
       "      <td>1</td>\n",
       "      <td>4</td>\n",
       "      <td>5</td>\n",
       "      <td>0</td>\n",
       "      <td>0</td>\n",
       "      <td>0</td>\n",
       "      <td>0</td>\n",
       "      <td>...</td>\n",
       "      <td>0</td>\n",
       "      <td>0</td>\n",
       "      <td>0</td>\n",
       "      <td>0</td>\n",
       "      <td>0</td>\n",
       "      <td>1</td>\n",
       "      <td>0.0</td>\n",
       "      <td>NaN</td>\n",
       "      <td>NaN</td>\n",
       "      <td>NaN</td>\n",
       "    </tr>\n",
       "  </tbody>\n",
       "</table>\n",
       "<p>5 rows × 37 columns</p>\n",
       "</div>"
      ],
      "text/plain": [
       "      idaviso  idpais  tipo_de_trabajo  nivel_laboral  nombre_area  \\\n",
       "0     8725750       1                1              1            1   \n",
       "1    17903700       1                1              1            2   \n",
       "2  1000150677       1                1              1            3   \n",
       "3  1000610287       1                1              1            3   \n",
       "4  1000872556       1                1              1            4   \n",
       "\n",
       "   denominacion_empresa  web  crecimiento  capacitacion  clima laboral  \\\n",
       "0                     1    0            0             1              0   \n",
       "1                     2    0            0             0              0   \n",
       "2                     3    0            0             0              0   \n",
       "3                     4    0            1             1              0   \n",
       "4                     5    0            0             0              0   \n",
       "\n",
       "       ...        analista  administrativo  junior  jefe  marketing  \\\n",
       "0      ...               0               0       0     0          0   \n",
       "1      ...               0               0       0     0          0   \n",
       "2      ...               0               0       0     0          0   \n",
       "3      ...               0               0       0     0          0   \n",
       "4      ...               0               0       0     0          0   \n",
       "\n",
       "   supervisor  online  postu_total  total_vistas  vistas_median  \n",
       "0           0     0.0         37.0           NaN            NaN  \n",
       "1           0     1.0         47.0        1166.0            2.0  \n",
       "2           0     0.0          NaN           NaN            NaN  \n",
       "3           0     1.0         45.0          50.0            2.0  \n",
       "4           1     0.0          NaN           NaN            NaN  \n",
       "\n",
       "[5 rows x 37 columns]"
      ]
     },
     "execution_count": 44,
     "metadata": {},
     "output_type": "execute_result"
    }
   ],
   "source": [
    "df_avisos_detalles.head()"
   ]
  },
  {
   "cell_type": "code",
   "execution_count": 35,
   "metadata": {
    "collapsed": true
   },
   "outputs": [],
   "source": [
    "vistas[\"timestamp\"] = pd.to_datetime(vistas[\"timestamp\"])"
   ]
  },
  {
   "cell_type": "code",
   "execution_count": 36,
   "metadata": {
    "collapsed": true
   },
   "outputs": [],
   "source": [
    "postulaciones['fechapostulacion'] = pd.to_datetime(postulaciones[\"fechapostulacion\"], errors = 'coerce')"
   ]
  },
  {
   "cell_type": "code",
   "execution_count": 37,
   "metadata": {
    "collapsed": true
   },
   "outputs": [],
   "source": [
    "fechas_postulaciones = postulaciones.loc[:, ['idaviso', 'fechapostulacion']].groupby('idaviso').min().reset_index()"
   ]
  },
  {
   "cell_type": "code",
   "execution_count": 38,
   "metadata": {
    "collapsed": true
   },
   "outputs": [],
   "source": [
    "vistas = vistas.rename(columns={'timestamp' : 'fechapostulacion'})"
   ]
  },
  {
   "cell_type": "code",
   "execution_count": 39,
   "metadata": {
    "collapsed": true
   },
   "outputs": [],
   "source": [
    "fechas_vistas_postul = vistas.loc[:, ['idaviso', 'fechapostulacion']].groupby('idaviso').min().reset_index()"
   ]
  },
  {
   "cell_type": "code",
   "execution_count": 40,
   "metadata": {
    "collapsed": true
   },
   "outputs": [],
   "source": [
    "fechas_iniciales = pd.concat([fechas_postulaciones, fechas_vistas_postul])"
   ]
  },
  {
   "cell_type": "code",
   "execution_count": 41,
   "metadata": {},
   "outputs": [
    {
     "data": {
      "text/plain": [
       "(35266, 2)"
      ]
     },
     "execution_count": 41,
     "metadata": {},
     "output_type": "execute_result"
    }
   ],
   "source": [
    "fechas_iniciales.shape"
   ]
  },
  {
   "cell_type": "code",
   "execution_count": 42,
   "metadata": {
    "collapsed": true
   },
   "outputs": [],
   "source": [
    "fechas_iniciales = fechas_iniciales.groupby('idaviso').min().reset_index()"
   ]
  },
  {
   "cell_type": "code",
   "execution_count": 43,
   "metadata": {},
   "outputs": [
    {
     "data": {
      "text/plain": [
       "(21158, 2)"
      ]
     },
     "execution_count": 43,
     "metadata": {},
     "output_type": "execute_result"
    }
   ],
   "source": [
    "fechas_iniciales.shape"
   ]
  },
  {
   "cell_type": "code",
   "execution_count": 44,
   "metadata": {
    "collapsed": true
   },
   "outputs": [],
   "source": [
    "fechas_iniciales = fechas_iniciales.rename(columns={'fechapostulacion' : 'fecha_inicio'})"
   ]
  },
  {
   "cell_type": "code",
   "execution_count": 45,
   "metadata": {
    "collapsed": true
   },
   "outputs": [],
   "source": [
    "fechas_postulaciones = postulaciones.loc[:, ['idaviso', 'fechapostulacion']].groupby('idaviso').max().reset_index()"
   ]
  },
  {
   "cell_type": "code",
   "execution_count": 46,
   "metadata": {
    "collapsed": true
   },
   "outputs": [],
   "source": [
    "fechas_vistas_postul = vistas.loc[:, ['idaviso', 'fechapostulacion']].groupby('idaviso').max().reset_index()"
   ]
  },
  {
   "cell_type": "code",
   "execution_count": 47,
   "metadata": {
    "collapsed": true
   },
   "outputs": [],
   "source": [
    "fechas_finales = pd.concat([fechas_postulaciones, fechas_vistas_postul])"
   ]
  },
  {
   "cell_type": "code",
   "execution_count": 48,
   "metadata": {},
   "outputs": [
    {
     "data": {
      "text/plain": [
       "(35266, 2)"
      ]
     },
     "execution_count": 48,
     "metadata": {},
     "output_type": "execute_result"
    }
   ],
   "source": [
    "fechas_finales.shape"
   ]
  },
  {
   "cell_type": "code",
   "execution_count": 49,
   "metadata": {
    "collapsed": true
   },
   "outputs": [],
   "source": [
    "fechas_finales = fechas_finales.groupby('idaviso').max().reset_index()"
   ]
  },
  {
   "cell_type": "code",
   "execution_count": 50,
   "metadata": {},
   "outputs": [
    {
     "data": {
      "text/plain": [
       "(21158, 2)"
      ]
     },
     "execution_count": 50,
     "metadata": {},
     "output_type": "execute_result"
    }
   ],
   "source": [
    "fechas_finales.shape"
   ]
  },
  {
   "cell_type": "code",
   "execution_count": 51,
   "metadata": {
    "collapsed": true
   },
   "outputs": [],
   "source": [
    "fechas_finales = fechas_finales.rename(columns={'fechapostulacion':'fecha_fin'})"
   ]
  },
  {
   "cell_type": "code",
   "execution_count": 52,
   "metadata": {
    "collapsed": true
   },
   "outputs": [],
   "source": [
    "fechas_totales = pd.merge(fechas_finales, fechas_iniciales, on=['idaviso'], how='inner')"
   ]
  },
  {
   "cell_type": "code",
   "execution_count": 53,
   "metadata": {},
   "outputs": [
    {
     "data": {
      "text/plain": [
       "(21158, 3)"
      ]
     },
     "execution_count": 53,
     "metadata": {},
     "output_type": "execute_result"
    }
   ],
   "source": [
    "fechas_totales.shape"
   ]
  },
  {
   "cell_type": "code",
   "execution_count": 64,
   "metadata": {},
   "outputs": [
    {
     "data": {
      "text/html": [
       "<div>\n",
       "<style>\n",
       "    .dataframe thead tr:only-child th {\n",
       "        text-align: right;\n",
       "    }\n",
       "\n",
       "    .dataframe thead th {\n",
       "        text-align: left;\n",
       "    }\n",
       "\n",
       "    .dataframe tbody tr th {\n",
       "        vertical-align: top;\n",
       "    }\n",
       "</style>\n",
       "<table border=\"1\" class=\"dataframe\">\n",
       "  <thead>\n",
       "    <tr style=\"text-align: right;\">\n",
       "      <th></th>\n",
       "      <th>idaviso</th>\n",
       "      <th>fecha_fin</th>\n",
       "      <th>fecha_inicio</th>\n",
       "    </tr>\n",
       "  </thead>\n",
       "  <tbody>\n",
       "    <tr>\n",
       "      <th>0</th>\n",
       "      <td>8725750</td>\n",
       "      <td>2018-02-08 10:49:43.000</td>\n",
       "      <td>2018-01-15 05:30:03.000</td>\n",
       "    </tr>\n",
       "    <tr>\n",
       "      <th>1</th>\n",
       "      <td>11740890</td>\n",
       "      <td>2018-04-11 21:15:46.000</td>\n",
       "      <td>2018-01-16 08:43:25.000</td>\n",
       "    </tr>\n",
       "    <tr>\n",
       "      <th>2</th>\n",
       "      <td>12543760</td>\n",
       "      <td>2018-04-16 15:27:54.016</td>\n",
       "      <td>2018-01-18 07:56:55.000</td>\n",
       "    </tr>\n",
       "    <tr>\n",
       "      <th>3</th>\n",
       "      <td>12812680</td>\n",
       "      <td>2018-04-09 18:32:49.226</td>\n",
       "      <td>2018-02-20 14:12:52.000</td>\n",
       "    </tr>\n",
       "    <tr>\n",
       "      <th>4</th>\n",
       "      <td>17903700</td>\n",
       "      <td>2018-04-17 08:34:24.000</td>\n",
       "      <td>2018-02-24 17:44:47.891</td>\n",
       "    </tr>\n",
       "  </tbody>\n",
       "</table>\n",
       "</div>"
      ],
      "text/plain": [
       "    idaviso               fecha_fin            fecha_inicio\n",
       "0   8725750 2018-02-08 10:49:43.000 2018-01-15 05:30:03.000\n",
       "1  11740890 2018-04-11 21:15:46.000 2018-01-16 08:43:25.000\n",
       "2  12543760 2018-04-16 15:27:54.016 2018-01-18 07:56:55.000\n",
       "3  12812680 2018-04-09 18:32:49.226 2018-02-20 14:12:52.000\n",
       "4  17903700 2018-04-17 08:34:24.000 2018-02-24 17:44:47.891"
      ]
     },
     "execution_count": 64,
     "metadata": {},
     "output_type": "execute_result"
    }
   ],
   "source": [
    "fechas_totales.head()"
   ]
  },
  {
   "cell_type": "code",
   "execution_count": 54,
   "metadata": {
    "collapsed": true
   },
   "outputs": [],
   "source": [
    "def set_dias(row):\n",
    "    return row.days"
   ]
  },
  {
   "cell_type": "code",
   "execution_count": 55,
   "metadata": {
    "collapsed": true
   },
   "outputs": [],
   "source": [
    "def dia_anio(row):\n",
    "    return row.dayofyear\n",
    "\n",
    "def dia_semana(row):\n",
    "    return row.dayofweek"
   ]
  },
  {
   "cell_type": "code",
   "execution_count": 56,
   "metadata": {
    "collapsed": true
   },
   "outputs": [],
   "source": [
    "segs_day = 86400\n",
    "\n",
    "def cos_hora(row):\n",
    "    return np.cos(2*np.pi*(row.hour*60*60 + row.minute*60 + row.second)/segs_day)\n",
    "\n",
    "def sin_hora(row):\n",
    "    return np.sin(2*np.pi*(row.hour*60*60 + row.minute*60 + row.second)/segs_day)"
   ]
  },
  {
   "cell_type": "code",
   "execution_count": 57,
   "metadata": {
    "collapsed": true
   },
   "outputs": [],
   "source": [
    "def is_month_start(row):\n",
    "    return row.is_month_start\n",
    "\n",
    "def is_month_end(row):\n",
    "    return row.is_month_end"
   ]
  },
  {
   "cell_type": "code",
   "execution_count": 58,
   "metadata": {
    "collapsed": true
   },
   "outputs": [],
   "source": [
    "fechas_totales['cant_dias'] = (fechas_totales['fecha_fin']-fechas_totales['fecha_inicio']).apply(set_dias)"
   ]
  },
  {
   "cell_type": "code",
   "execution_count": 59,
   "metadata": {
    "collapsed": true
   },
   "outputs": [],
   "source": [
    "fechas_totales['dia_semana_inicio'] = (fechas_totales['fecha_inicio']).apply(dia_semana)"
   ]
  },
  {
   "cell_type": "code",
   "execution_count": 60,
   "metadata": {
    "collapsed": true
   },
   "outputs": [],
   "source": [
    "fechas_totales['dia_anio_inicio'] = (fechas_totales['fecha_inicio']).apply(dia_anio)"
   ]
  },
  {
   "cell_type": "code",
   "execution_count": 61,
   "metadata": {
    "collapsed": true
   },
   "outputs": [],
   "source": [
    "fechas_totales['dia_anio_fin'] = (fechas_totales['fecha_fin']).apply(dia_anio)"
   ]
  },
  {
   "cell_type": "code",
   "execution_count": 62,
   "metadata": {
    "collapsed": true
   },
   "outputs": [],
   "source": [
    "fechas_totales['hora_inicio_cos'] = (fechas_totales['fecha_inicio']).apply(cos_hora)"
   ]
  },
  {
   "cell_type": "code",
   "execution_count": 63,
   "metadata": {
    "collapsed": true
   },
   "outputs": [],
   "source": [
    "fechas_totales['hora_inicio_sen'] = (fechas_totales['fecha_inicio']).apply(sin_hora)"
   ]
  },
  {
   "cell_type": "code",
   "execution_count": 64,
   "metadata": {
    "collapsed": true
   },
   "outputs": [],
   "source": [
    "fechas_totales['hora_fin_cos'] = (fechas_totales['fecha_fin']).apply(cos_hora)"
   ]
  },
  {
   "cell_type": "code",
   "execution_count": 65,
   "metadata": {
    "collapsed": true
   },
   "outputs": [],
   "source": [
    "fechas_totales['hora_fin_sen'] = (fechas_totales['fecha_fin']).apply(sin_hora)"
   ]
  },
  {
   "cell_type": "code",
   "execution_count": 66,
   "metadata": {
    "collapsed": true
   },
   "outputs": [],
   "source": [
    "fechas_totales['inicio_mes'] = (fechas_totales['fecha_inicio']).apply(is_month_start)"
   ]
  },
  {
   "cell_type": "code",
   "execution_count": 67,
   "metadata": {
    "collapsed": true
   },
   "outputs": [],
   "source": [
    "fechas_totales['fin_mes'] = (fechas_totales['fecha_inicio']).apply(is_month_end)"
   ]
  },
  {
   "cell_type": "code",
   "execution_count": 82,
   "metadata": {},
   "outputs": [
    {
     "data": {
      "text/html": [
       "<div>\n",
       "<style>\n",
       "    .dataframe thead tr:only-child th {\n",
       "        text-align: right;\n",
       "    }\n",
       "\n",
       "    .dataframe thead th {\n",
       "        text-align: left;\n",
       "    }\n",
       "\n",
       "    .dataframe tbody tr th {\n",
       "        vertical-align: top;\n",
       "    }\n",
       "</style>\n",
       "<table border=\"1\" class=\"dataframe\">\n",
       "  <thead>\n",
       "    <tr style=\"text-align: right;\">\n",
       "      <th></th>\n",
       "      <th>idaviso</th>\n",
       "      <th>fecha_fin</th>\n",
       "      <th>fecha_inicio</th>\n",
       "      <th>cant_dias</th>\n",
       "      <th>dia_semana_inicio</th>\n",
       "      <th>dia_anio_inicio</th>\n",
       "      <th>dia_anio_fin</th>\n",
       "      <th>hora_inicio_cos</th>\n",
       "      <th>hora_inicio_sen</th>\n",
       "      <th>hora_fin_cos</th>\n",
       "      <th>hora_fin_sen</th>\n",
       "      <th>inicio_mes</th>\n",
       "      <th>fin_mes</th>\n",
       "    </tr>\n",
       "  </thead>\n",
       "  <tbody>\n",
       "    <tr>\n",
       "      <th>0</th>\n",
       "      <td>8725750</td>\n",
       "      <td>2018-02-08 10:49:43.000</td>\n",
       "      <td>2018-01-15 05:30:03.000</td>\n",
       "      <td>24</td>\n",
       "      <td>0</td>\n",
       "      <td>15</td>\n",
       "      <td>39</td>\n",
       "      <td>0.130310</td>\n",
       "      <td>0.991473</td>\n",
       "      <td>-0.953344</td>\n",
       "      <td>0.301885</td>\n",
       "      <td>False</td>\n",
       "      <td>False</td>\n",
       "    </tr>\n",
       "    <tr>\n",
       "      <th>1</th>\n",
       "      <td>11740890</td>\n",
       "      <td>2018-04-11 21:15:46.000</td>\n",
       "      <td>2018-01-16 08:43:25.000</td>\n",
       "      <td>85</td>\n",
       "      <td>1</td>\n",
       "      <td>16</td>\n",
       "      <td>101</td>\n",
       "      <td>-0.654136</td>\n",
       "      <td>0.756377</td>\n",
       "      <td>0.754041</td>\n",
       "      <td>-0.656827</td>\n",
       "      <td>False</td>\n",
       "      <td>False</td>\n",
       "    </tr>\n",
       "    <tr>\n",
       "      <th>2</th>\n",
       "      <td>12543760</td>\n",
       "      <td>2018-04-16 15:27:54.016</td>\n",
       "      <td>2018-01-18 07:56:55.000</td>\n",
       "      <td>88</td>\n",
       "      <td>3</td>\n",
       "      <td>18</td>\n",
       "      <td>106</td>\n",
       "      <td>-0.488304</td>\n",
       "      <td>0.872674</td>\n",
       "      <td>-0.616005</td>\n",
       "      <td>-0.787742</td>\n",
       "      <td>False</td>\n",
       "      <td>False</td>\n",
       "    </tr>\n",
       "    <tr>\n",
       "      <th>3</th>\n",
       "      <td>12812680</td>\n",
       "      <td>2018-04-09 18:32:49.226</td>\n",
       "      <td>2018-02-20 14:12:52.000</td>\n",
       "      <td>48</td>\n",
       "      <td>1</td>\n",
       "      <td>51</td>\n",
       "      <td>99</td>\n",
       "      <td>-0.836605</td>\n",
       "      <td>-0.547807</td>\n",
       "      <td>0.142701</td>\n",
       "      <td>-0.989766</td>\n",
       "      <td>False</td>\n",
       "      <td>False</td>\n",
       "    </tr>\n",
       "    <tr>\n",
       "      <th>4</th>\n",
       "      <td>17903700</td>\n",
       "      <td>2018-04-17 08:34:24.000</td>\n",
       "      <td>2018-02-24 17:44:47.891</td>\n",
       "      <td>51</td>\n",
       "      <td>5</td>\n",
       "      <td>55</td>\n",
       "      <td>107</td>\n",
       "      <td>-0.066346</td>\n",
       "      <td>-0.997797</td>\n",
       "      <td>-0.623880</td>\n",
       "      <td>0.781520</td>\n",
       "      <td>False</td>\n",
       "      <td>False</td>\n",
       "    </tr>\n",
       "  </tbody>\n",
       "</table>\n",
       "</div>"
      ],
      "text/plain": [
       "    idaviso               fecha_fin            fecha_inicio  cant_dias  \\\n",
       "0   8725750 2018-02-08 10:49:43.000 2018-01-15 05:30:03.000         24   \n",
       "1  11740890 2018-04-11 21:15:46.000 2018-01-16 08:43:25.000         85   \n",
       "2  12543760 2018-04-16 15:27:54.016 2018-01-18 07:56:55.000         88   \n",
       "3  12812680 2018-04-09 18:32:49.226 2018-02-20 14:12:52.000         48   \n",
       "4  17903700 2018-04-17 08:34:24.000 2018-02-24 17:44:47.891         51   \n",
       "\n",
       "   dia_semana_inicio  dia_anio_inicio  dia_anio_fin  hora_inicio_cos  \\\n",
       "0                  0               15            39         0.130310   \n",
       "1                  1               16           101        -0.654136   \n",
       "2                  3               18           106        -0.488304   \n",
       "3                  1               51            99        -0.836605   \n",
       "4                  5               55           107        -0.066346   \n",
       "\n",
       "   hora_inicio_sen  hora_fin_cos  hora_fin_sen  inicio_mes  fin_mes  \n",
       "0         0.991473     -0.953344      0.301885       False    False  \n",
       "1         0.756377      0.754041     -0.656827       False    False  \n",
       "2         0.872674     -0.616005     -0.787742       False    False  \n",
       "3        -0.547807      0.142701     -0.989766       False    False  \n",
       "4        -0.997797     -0.623880      0.781520       False    False  "
      ]
     },
     "execution_count": 82,
     "metadata": {},
     "output_type": "execute_result"
    }
   ],
   "source": [
    "fechas_totales.head()"
   ]
  },
  {
   "cell_type": "code",
   "execution_count": 65,
   "metadata": {},
   "outputs": [
    {
     "data": {
      "text/html": [
       "<div>\n",
       "<style>\n",
       "    .dataframe thead tr:only-child th {\n",
       "        text-align: right;\n",
       "    }\n",
       "\n",
       "    .dataframe thead th {\n",
       "        text-align: left;\n",
       "    }\n",
       "\n",
       "    .dataframe tbody tr th {\n",
       "        vertical-align: top;\n",
       "    }\n",
       "</style>\n",
       "<table border=\"1\" class=\"dataframe\">\n",
       "  <thead>\n",
       "    <tr style=\"text-align: right;\">\n",
       "      <th></th>\n",
       "      <th>idaviso</th>\n",
       "      <th>fecha_fin</th>\n",
       "      <th>fecha_inicio</th>\n",
       "      <th>cant_dias</th>\n",
       "    </tr>\n",
       "  </thead>\n",
       "  <tbody>\n",
       "    <tr>\n",
       "      <th>0</th>\n",
       "      <td>8725750</td>\n",
       "      <td>2018-02-09 15:15:25.000</td>\n",
       "      <td>2018-01-15 05:30:03.000</td>\n",
       "      <td>25</td>\n",
       "    </tr>\n",
       "    <tr>\n",
       "      <th>1</th>\n",
       "      <td>11740890</td>\n",
       "      <td>2018-03-25 11:03:26.000</td>\n",
       "      <td>2018-01-27 13:41:07.000</td>\n",
       "      <td>56</td>\n",
       "    </tr>\n",
       "    <tr>\n",
       "      <th>2</th>\n",
       "      <td>12543760</td>\n",
       "      <td>2018-04-09 01:43:46.442</td>\n",
       "      <td>2018-01-18 08:00:03.000</td>\n",
       "      <td>80</td>\n",
       "    </tr>\n",
       "    <tr>\n",
       "      <th>3</th>\n",
       "      <td>12812680</td>\n",
       "      <td>2018-04-09 18:32:49.226</td>\n",
       "      <td>2018-02-20 14:12:52.000</td>\n",
       "      <td>48</td>\n",
       "    </tr>\n",
       "    <tr>\n",
       "      <th>4</th>\n",
       "      <td>17903700</td>\n",
       "      <td>2018-04-17 08:34:24.000</td>\n",
       "      <td>2018-02-24 17:44:47.891</td>\n",
       "      <td>51</td>\n",
       "    </tr>\n",
       "  </tbody>\n",
       "</table>\n",
       "</div>"
      ],
      "text/plain": [
       "    idaviso               fecha_fin            fecha_inicio  cant_dias\n",
       "0   8725750 2018-02-09 15:15:25.000 2018-01-15 05:30:03.000         25\n",
       "1  11740890 2018-03-25 11:03:26.000 2018-01-27 13:41:07.000         56\n",
       "2  12543760 2018-04-09 01:43:46.442 2018-01-18 08:00:03.000         80\n",
       "3  12812680 2018-04-09 18:32:49.226 2018-02-20 14:12:52.000         48\n",
       "4  17903700 2018-04-17 08:34:24.000 2018-02-24 17:44:47.891         51"
      ]
     },
     "execution_count": 65,
     "metadata": {},
     "output_type": "execute_result"
    }
   ],
   "source": [
    "fechas_totales.head()"
   ]
  },
  {
   "cell_type": "code",
   "execution_count": 68,
   "metadata": {
    "collapsed": true
   },
   "outputs": [],
   "source": [
    "del fechas_totales['fecha_fin']\n",
    "del fechas_totales['fecha_inicio']"
   ]
  },
  {
   "cell_type": "code",
   "execution_count": 69,
   "metadata": {},
   "outputs": [
    {
     "data": {
      "text/plain": [
       "(19696, 36)"
      ]
     },
     "execution_count": 69,
     "metadata": {},
     "output_type": "execute_result"
    }
   ],
   "source": [
    "df_avisos_detalles.shape"
   ]
  },
  {
   "cell_type": "code",
   "execution_count": 70,
   "metadata": {
    "collapsed": true
   },
   "outputs": [],
   "source": [
    "df_avisos_detalles_final = pd.merge(df_avisos_detalles, fechas_totales, on=['idaviso'], how='left')"
   ]
  },
  {
   "cell_type": "code",
   "execution_count": 88,
   "metadata": {},
   "outputs": [
    {
     "data": {
      "text/plain": [
       "(19696, 47)"
      ]
     },
     "execution_count": 88,
     "metadata": {},
     "output_type": "execute_result"
    }
   ],
   "source": [
    "df_avisos_detalles_final.shape"
   ]
  },
  {
   "cell_type": "code",
   "execution_count": 89,
   "metadata": {},
   "outputs": [
    {
     "data": {
      "text/html": [
       "<div>\n",
       "<style>\n",
       "    .dataframe thead tr:only-child th {\n",
       "        text-align: right;\n",
       "    }\n",
       "\n",
       "    .dataframe thead th {\n",
       "        text-align: left;\n",
       "    }\n",
       "\n",
       "    .dataframe tbody tr th {\n",
       "        vertical-align: top;\n",
       "    }\n",
       "</style>\n",
       "<table border=\"1\" class=\"dataframe\">\n",
       "  <thead>\n",
       "    <tr style=\"text-align: right;\">\n",
       "      <th></th>\n",
       "      <th>idaviso</th>\n",
       "      <th>idpais</th>\n",
       "      <th>tipo_de_trabajo</th>\n",
       "      <th>nivel_laboral</th>\n",
       "      <th>nombre_area</th>\n",
       "      <th>denominacion_empresa</th>\n",
       "      <th>web</th>\n",
       "      <th>crecimiento</th>\n",
       "      <th>capacitacion</th>\n",
       "      <th>clima laboral</th>\n",
       "      <th>...</th>\n",
       "      <th>cant_dias</th>\n",
       "      <th>dia_semana_inicio</th>\n",
       "      <th>dia_anio_inicio</th>\n",
       "      <th>dia_anio_fin</th>\n",
       "      <th>hora_inicio_cos</th>\n",
       "      <th>hora_inicio_sen</th>\n",
       "      <th>hora_fin_cos</th>\n",
       "      <th>hora_fin_sen</th>\n",
       "      <th>inicio_mes</th>\n",
       "      <th>fin_mes</th>\n",
       "    </tr>\n",
       "  </thead>\n",
       "  <tbody>\n",
       "    <tr>\n",
       "      <th>0</th>\n",
       "      <td>8725750</td>\n",
       "      <td>1</td>\n",
       "      <td>1</td>\n",
       "      <td>1</td>\n",
       "      <td>1</td>\n",
       "      <td>1</td>\n",
       "      <td>0</td>\n",
       "      <td>0</td>\n",
       "      <td>1</td>\n",
       "      <td>0</td>\n",
       "      <td>...</td>\n",
       "      <td>24.0</td>\n",
       "      <td>0.0</td>\n",
       "      <td>15.0</td>\n",
       "      <td>39.0</td>\n",
       "      <td>0.130310</td>\n",
       "      <td>0.991473</td>\n",
       "      <td>-0.953344</td>\n",
       "      <td>0.301885</td>\n",
       "      <td>False</td>\n",
       "      <td>False</td>\n",
       "    </tr>\n",
       "    <tr>\n",
       "      <th>1</th>\n",
       "      <td>17903700</td>\n",
       "      <td>1</td>\n",
       "      <td>1</td>\n",
       "      <td>1</td>\n",
       "      <td>2</td>\n",
       "      <td>2</td>\n",
       "      <td>0</td>\n",
       "      <td>0</td>\n",
       "      <td>0</td>\n",
       "      <td>0</td>\n",
       "      <td>...</td>\n",
       "      <td>51.0</td>\n",
       "      <td>5.0</td>\n",
       "      <td>55.0</td>\n",
       "      <td>107.0</td>\n",
       "      <td>-0.066346</td>\n",
       "      <td>-0.997797</td>\n",
       "      <td>-0.623880</td>\n",
       "      <td>0.781520</td>\n",
       "      <td>False</td>\n",
       "      <td>False</td>\n",
       "    </tr>\n",
       "    <tr>\n",
       "      <th>2</th>\n",
       "      <td>1000150677</td>\n",
       "      <td>1</td>\n",
       "      <td>1</td>\n",
       "      <td>1</td>\n",
       "      <td>3</td>\n",
       "      <td>3</td>\n",
       "      <td>0</td>\n",
       "      <td>0</td>\n",
       "      <td>0</td>\n",
       "      <td>0</td>\n",
       "      <td>...</td>\n",
       "      <td>NaN</td>\n",
       "      <td>NaN</td>\n",
       "      <td>NaN</td>\n",
       "      <td>NaN</td>\n",
       "      <td>NaN</td>\n",
       "      <td>NaN</td>\n",
       "      <td>NaN</td>\n",
       "      <td>NaN</td>\n",
       "      <td>NaN</td>\n",
       "      <td>NaN</td>\n",
       "    </tr>\n",
       "    <tr>\n",
       "      <th>3</th>\n",
       "      <td>1000610287</td>\n",
       "      <td>1</td>\n",
       "      <td>1</td>\n",
       "      <td>1</td>\n",
       "      <td>3</td>\n",
       "      <td>4</td>\n",
       "      <td>0</td>\n",
       "      <td>1</td>\n",
       "      <td>1</td>\n",
       "      <td>0</td>\n",
       "      <td>...</td>\n",
       "      <td>83.0</td>\n",
       "      <td>0.0</td>\n",
       "      <td>15.0</td>\n",
       "      <td>99.0</td>\n",
       "      <td>-0.915575</td>\n",
       "      <td>0.402148</td>\n",
       "      <td>0.918734</td>\n",
       "      <td>0.394877</td>\n",
       "      <td>False</td>\n",
       "      <td>False</td>\n",
       "    </tr>\n",
       "    <tr>\n",
       "      <th>4</th>\n",
       "      <td>1000872556</td>\n",
       "      <td>1</td>\n",
       "      <td>1</td>\n",
       "      <td>1</td>\n",
       "      <td>4</td>\n",
       "      <td>5</td>\n",
       "      <td>0</td>\n",
       "      <td>0</td>\n",
       "      <td>0</td>\n",
       "      <td>0</td>\n",
       "      <td>...</td>\n",
       "      <td>NaN</td>\n",
       "      <td>NaN</td>\n",
       "      <td>NaN</td>\n",
       "      <td>NaN</td>\n",
       "      <td>NaN</td>\n",
       "      <td>NaN</td>\n",
       "      <td>NaN</td>\n",
       "      <td>NaN</td>\n",
       "      <td>NaN</td>\n",
       "      <td>NaN</td>\n",
       "    </tr>\n",
       "  </tbody>\n",
       "</table>\n",
       "<p>5 rows × 47 columns</p>\n",
       "</div>"
      ],
      "text/plain": [
       "      idaviso  idpais  tipo_de_trabajo  nivel_laboral  nombre_area  \\\n",
       "0     8725750       1                1              1            1   \n",
       "1    17903700       1                1              1            2   \n",
       "2  1000150677       1                1              1            3   \n",
       "3  1000610287       1                1              1            3   \n",
       "4  1000872556       1                1              1            4   \n",
       "\n",
       "   denominacion_empresa  web  crecimiento  capacitacion  clima laboral  \\\n",
       "0                     1    0            0             1              0   \n",
       "1                     2    0            0             0              0   \n",
       "2                     3    0            0             0              0   \n",
       "3                     4    0            1             1              0   \n",
       "4                     5    0            0             0              0   \n",
       "\n",
       "    ...     cant_dias  dia_semana_inicio  dia_anio_inicio  dia_anio_fin  \\\n",
       "0   ...          24.0                0.0             15.0          39.0   \n",
       "1   ...          51.0                5.0             55.0         107.0   \n",
       "2   ...           NaN                NaN              NaN           NaN   \n",
       "3   ...          83.0                0.0             15.0          99.0   \n",
       "4   ...           NaN                NaN              NaN           NaN   \n",
       "\n",
       "   hora_inicio_cos  hora_inicio_sen  hora_fin_cos  hora_fin_sen  inicio_mes  \\\n",
       "0         0.130310         0.991473     -0.953344      0.301885       False   \n",
       "1        -0.066346        -0.997797     -0.623880      0.781520       False   \n",
       "2              NaN              NaN           NaN           NaN         NaN   \n",
       "3        -0.915575         0.402148      0.918734      0.394877       False   \n",
       "4              NaN              NaN           NaN           NaN         NaN   \n",
       "\n",
       "   fin_mes  \n",
       "0    False  \n",
       "1    False  \n",
       "2      NaN  \n",
       "3    False  \n",
       "4      NaN  \n",
       "\n",
       "[5 rows x 47 columns]"
      ]
     },
     "execution_count": 89,
     "metadata": {},
     "output_type": "execute_result"
    }
   ],
   "source": [
    "df_avisos_detalles_final.head()"
   ]
  },
  {
   "cell_type": "code",
   "execution_count": 90,
   "metadata": {},
   "outputs": [
    {
     "data": {
      "text/plain": [
       "idaviso                      0\n",
       "idpais                       0\n",
       "tipo_de_trabajo              0\n",
       "nivel_laboral                0\n",
       "nombre_area                  0\n",
       "denominacion_empresa         0\n",
       "web                          0\n",
       "crecimiento                  0\n",
       "capacitacion                 0\n",
       "clima laboral                0\n",
       "multinacional                0\n",
       "incorp_inmediata             0\n",
       "disponibilidad_horaria       0\n",
       "disponibilidad_viajar        0\n",
       "flexibilidad                 0\n",
       "secundario                   0\n",
       "terciario                    0\n",
       "ingles                       0\n",
       "estudiantes                  0\n",
       "conoc_informatica            0\n",
       "experiencia                  0\n",
       "proactivo                    0\n",
       "relaciones_pers              0\n",
       "desarrollador                0\n",
       "cajero                       0\n",
       "vendedor                     0\n",
       "ingeniero                    0\n",
       "analista                     0\n",
       "administrativo               0\n",
       "junior                       0\n",
       "jefe                         0\n",
       "marketing                    0\n",
       "supervisor                   0\n",
       "online                       0\n",
       "postu_total               1413\n",
       "total_vistas              5883\n",
       "vistas_median             5883\n",
       "cant_dias                 1413\n",
       "dia_semana_inicio         1413\n",
       "dia_anio_inicio           1413\n",
       "dia_anio_fin              1413\n",
       "hora_inicio_cos           1413\n",
       "hora_inicio_sen           1413\n",
       "hora_fin_cos              1413\n",
       "hora_fin_sen              1413\n",
       "inicio_mes                1413\n",
       "fin_mes                   1413\n",
       "dtype: int64"
      ]
     },
     "execution_count": 90,
     "metadata": {},
     "output_type": "execute_result"
    }
   ],
   "source": [
    "df_avisos_detalles_final.isnull().sum()"
   ]
  },
  {
   "cell_type": "code",
   "execution_count": 71,
   "metadata": {},
   "outputs": [
    {
     "data": {
      "text/plain": [
       "1.3208846025939474"
      ]
     },
     "execution_count": 71,
     "metadata": {},
     "output_type": "execute_result"
    }
   ],
   "source": [
    "a = df_avisos_detalles_final['vistas_median'].mean()\n",
    "a"
   ]
  },
  {
   "cell_type": "code",
   "execution_count": 72,
   "metadata": {
    "collapsed": true
   },
   "outputs": [],
   "source": [
    "def fill_total_vistas(row):\n",
    "    if((np.isnan(row['total_vistas'])) & (np.isnan(row['vistas_median']) == False) & (np.isnan(row['postu_total']) == False)):\n",
    "        return row['postu_total']*row['vistas_median']\n",
    "    elif((np.isnan(row['total_vistas'])) & (np.isnan((row['vistas_median']))) & (np.isnan((row['postu_total']))==False)):\n",
    "        return row['postu_total']*a\n",
    "    elif((np.isnan(row['total_vistas']) == False) & (np.isnan(row['postu_total']) == False) & (np.isnan(row['vistas_median']) == False)):\n",
    "        if(row['total_vistas']<(row['postu_total']*row['vistas_median'])):\n",
    "            return row['postu_total']*row['vistas_median']\n",
    "    elif((np.isnan(row['total_vistas']) == False)&(np.isnan(row['postu_total']) == False)&(np.isnan(row['vistas_median']))):\n",
    "        if(row['total_vistas']<row['postu_total']):\n",
    "            return row['postu_total']\n",
    "        \n",
    "    return row['total_vistas']"
   ]
  },
  {
   "cell_type": "code",
   "execution_count": 73,
   "metadata": {
    "collapsed": true
   },
   "outputs": [],
   "source": [
    "df_avisos_detalles_final['total_vistas'] = df_avisos_detalles_final.apply(fill_total_vistas, axis=1)"
   ]
  },
  {
   "cell_type": "code",
   "execution_count": 94,
   "metadata": {},
   "outputs": [
    {
     "data": {
      "text/plain": [
       "idaviso                      0\n",
       "idpais                       0\n",
       "tipo_de_trabajo              0\n",
       "nivel_laboral                0\n",
       "nombre_area                  0\n",
       "denominacion_empresa         0\n",
       "web                          0\n",
       "crecimiento                  0\n",
       "capacitacion                 0\n",
       "clima laboral                0\n",
       "multinacional                0\n",
       "incorp_inmediata             0\n",
       "disponibilidad_horaria       0\n",
       "disponibilidad_viajar        0\n",
       "flexibilidad                 0\n",
       "secundario                   0\n",
       "terciario                    0\n",
       "ingles                       0\n",
       "estudiantes                  0\n",
       "conoc_informatica            0\n",
       "experiencia                  0\n",
       "proactivo                    0\n",
       "relaciones_pers              0\n",
       "desarrollador                0\n",
       "cajero                       0\n",
       "vendedor                     0\n",
       "ingeniero                    0\n",
       "analista                     0\n",
       "administrativo               0\n",
       "junior                       0\n",
       "jefe                         0\n",
       "marketing                    0\n",
       "supervisor                   0\n",
       "online                       0\n",
       "postu_total               1413\n",
       "total_vistas              1413\n",
       "vistas_median             5883\n",
       "cant_dias                 1413\n",
       "dia_semana_inicio         1413\n",
       "dia_anio_inicio           1413\n",
       "dia_anio_fin              1413\n",
       "hora_inicio_cos           1413\n",
       "hora_inicio_sen           1413\n",
       "hora_fin_cos              1413\n",
       "hora_fin_sen              1413\n",
       "inicio_mes                1413\n",
       "fin_mes                   1413\n",
       "dtype: int64"
      ]
     },
     "execution_count": 94,
     "metadata": {},
     "output_type": "execute_result"
    }
   ],
   "source": [
    "df_avisos_detalles_final.isnull().sum()"
   ]
  },
  {
   "cell_type": "code",
   "execution_count": 76,
   "metadata": {},
   "outputs": [
    {
     "data": {
      "text/html": [
       "<div>\n",
       "<style>\n",
       "    .dataframe thead tr:only-child th {\n",
       "        text-align: right;\n",
       "    }\n",
       "\n",
       "    .dataframe thead th {\n",
       "        text-align: left;\n",
       "    }\n",
       "\n",
       "    .dataframe tbody tr th {\n",
       "        vertical-align: top;\n",
       "    }\n",
       "</style>\n",
       "<table border=\"1\" class=\"dataframe\">\n",
       "  <thead>\n",
       "    <tr style=\"text-align: right;\">\n",
       "      <th></th>\n",
       "      <th>idaviso</th>\n",
       "      <th>tipo_de_trabajo</th>\n",
       "      <th>nivel_laboral</th>\n",
       "      <th>nombre_area</th>\n",
       "      <th>denominacion_empresa</th>\n",
       "      <th>web</th>\n",
       "      <th>crecimiento</th>\n",
       "      <th>capacitacion</th>\n",
       "      <th>clima laboral</th>\n",
       "      <th>multinacional</th>\n",
       "      <th>...</th>\n",
       "      <th>administrativo</th>\n",
       "      <th>junior</th>\n",
       "      <th>jefe</th>\n",
       "      <th>marketing</th>\n",
       "      <th>supervisor</th>\n",
       "      <th>online</th>\n",
       "      <th>postu_total</th>\n",
       "      <th>total_vistas</th>\n",
       "      <th>vistas_median</th>\n",
       "      <th>cant_dias</th>\n",
       "    </tr>\n",
       "  </thead>\n",
       "  <tbody>\n",
       "    <tr>\n",
       "      <th>0</th>\n",
       "      <td>8725750</td>\n",
       "      <td>1</td>\n",
       "      <td>1</td>\n",
       "      <td>1</td>\n",
       "      <td>1</td>\n",
       "      <td>0</td>\n",
       "      <td>0</td>\n",
       "      <td>1</td>\n",
       "      <td>0</td>\n",
       "      <td>0</td>\n",
       "      <td>...</td>\n",
       "      <td>0</td>\n",
       "      <td>0</td>\n",
       "      <td>0</td>\n",
       "      <td>0</td>\n",
       "      <td>0</td>\n",
       "      <td>0.0</td>\n",
       "      <td>31.0</td>\n",
       "      <td>31.0</td>\n",
       "      <td>NaN</td>\n",
       "      <td>26.0</td>\n",
       "    </tr>\n",
       "    <tr>\n",
       "      <th>1</th>\n",
       "      <td>17903700</td>\n",
       "      <td>1</td>\n",
       "      <td>1</td>\n",
       "      <td>2</td>\n",
       "      <td>2</td>\n",
       "      <td>0</td>\n",
       "      <td>0</td>\n",
       "      <td>0</td>\n",
       "      <td>0</td>\n",
       "      <td>0</td>\n",
       "      <td>...</td>\n",
       "      <td>0</td>\n",
       "      <td>0</td>\n",
       "      <td>0</td>\n",
       "      <td>0</td>\n",
       "      <td>0</td>\n",
       "      <td>1.0</td>\n",
       "      <td>38.0</td>\n",
       "      <td>1337.0</td>\n",
       "      <td>2.0</td>\n",
       "      <td>51.0</td>\n",
       "    </tr>\n",
       "    <tr>\n",
       "      <th>2</th>\n",
       "      <td>1000150677</td>\n",
       "      <td>1</td>\n",
       "      <td>1</td>\n",
       "      <td>3</td>\n",
       "      <td>3</td>\n",
       "      <td>0</td>\n",
       "      <td>0</td>\n",
       "      <td>0</td>\n",
       "      <td>0</td>\n",
       "      <td>0</td>\n",
       "      <td>...</td>\n",
       "      <td>0</td>\n",
       "      <td>0</td>\n",
       "      <td>0</td>\n",
       "      <td>0</td>\n",
       "      <td>0</td>\n",
       "      <td>0.0</td>\n",
       "      <td>NaN</td>\n",
       "      <td>NaN</td>\n",
       "      <td>NaN</td>\n",
       "      <td>NaN</td>\n",
       "    </tr>\n",
       "    <tr>\n",
       "      <th>3</th>\n",
       "      <td>1000610287</td>\n",
       "      <td>1</td>\n",
       "      <td>1</td>\n",
       "      <td>3</td>\n",
       "      <td>4</td>\n",
       "      <td>0</td>\n",
       "      <td>1</td>\n",
       "      <td>1</td>\n",
       "      <td>0</td>\n",
       "      <td>1</td>\n",
       "      <td>...</td>\n",
       "      <td>0</td>\n",
       "      <td>0</td>\n",
       "      <td>0</td>\n",
       "      <td>0</td>\n",
       "      <td>0</td>\n",
       "      <td>1.0</td>\n",
       "      <td>41.0</td>\n",
       "      <td>82.0</td>\n",
       "      <td>2.0</td>\n",
       "      <td>51.0</td>\n",
       "    </tr>\n",
       "    <tr>\n",
       "      <th>4</th>\n",
       "      <td>1000872556</td>\n",
       "      <td>1</td>\n",
       "      <td>1</td>\n",
       "      <td>4</td>\n",
       "      <td>5</td>\n",
       "      <td>0</td>\n",
       "      <td>0</td>\n",
       "      <td>0</td>\n",
       "      <td>0</td>\n",
       "      <td>0</td>\n",
       "      <td>...</td>\n",
       "      <td>0</td>\n",
       "      <td>0</td>\n",
       "      <td>0</td>\n",
       "      <td>0</td>\n",
       "      <td>1</td>\n",
       "      <td>0.0</td>\n",
       "      <td>NaN</td>\n",
       "      <td>1.0</td>\n",
       "      <td>1.0</td>\n",
       "      <td>0.0</td>\n",
       "    </tr>\n",
       "  </tbody>\n",
       "</table>\n",
       "<p>5 rows × 37 columns</p>\n",
       "</div>"
      ],
      "text/plain": [
       "      idaviso  tipo_de_trabajo  nivel_laboral  nombre_area  \\\n",
       "0     8725750                1              1            1   \n",
       "1    17903700                1              1            2   \n",
       "2  1000150677                1              1            3   \n",
       "3  1000610287                1              1            3   \n",
       "4  1000872556                1              1            4   \n",
       "\n",
       "   denominacion_empresa  web  crecimiento  capacitacion  clima laboral  \\\n",
       "0                     1    0            0             1              0   \n",
       "1                     2    0            0             0              0   \n",
       "2                     3    0            0             0              0   \n",
       "3                     4    0            1             1              0   \n",
       "4                     5    0            0             0              0   \n",
       "\n",
       "   multinacional    ...      administrativo  junior  jefe  marketing  \\\n",
       "0              0    ...                   0       0     0          0   \n",
       "1              0    ...                   0       0     0          0   \n",
       "2              0    ...                   0       0     0          0   \n",
       "3              1    ...                   0       0     0          0   \n",
       "4              0    ...                   0       0     0          0   \n",
       "\n",
       "   supervisor  online  postu_total  total_vistas  vistas_median  cant_dias  \n",
       "0           0     0.0         31.0          31.0            NaN       26.0  \n",
       "1           0     1.0         38.0        1337.0            2.0       51.0  \n",
       "2           0     0.0          NaN           NaN            NaN        NaN  \n",
       "3           0     1.0         41.0          82.0            2.0       51.0  \n",
       "4           1     0.0          NaN           1.0            1.0        0.0  \n",
       "\n",
       "[5 rows x 37 columns]"
      ]
     },
     "execution_count": 76,
     "metadata": {},
     "output_type": "execute_result"
    }
   ],
   "source": [
    "df_avisos_detalles_final.head()"
   ]
  },
  {
   "cell_type": "code",
   "execution_count": 74,
   "metadata": {
    "collapsed": true
   },
   "outputs": [],
   "source": [
    "if (armar_dataset == PREDICT):\n",
    "    df_avisos_detalles_final.to_csv('Predecir/avisos_detalles_predict.csv')\n",
    "else:\n",
    "    df_avisos_detalles_final.to_csv('Predecir/avisos_detalles_train.csv')"
   ]
  },
  {
   "cell_type": "markdown",
   "metadata": {},
   "source": [
    "# Postulantes"
   ]
  },
  {
   "cell_type": "code",
   "execution_count": 75,
   "metadata": {
    "collapsed": true
   },
   "outputs": [],
   "source": [
    "if (armar_dataset == PREDICT):\n",
    "    df_postulantes_edu = pd.concat([df_postulantes_edu_original, df_postulantes_edu_nuevo, df_postulantes_edu_desde])\n",
    "else:\n",
    "    df_postulantes_edu = pd.concat([df_postulantes_edu_original, df_postulantes_edu_nuevo])"
   ]
  },
  {
   "cell_type": "code",
   "execution_count": 97,
   "metadata": {},
   "outputs": [
    {
     "data": {
      "text/plain": [
       "(705684, 3)"
      ]
     },
     "execution_count": 97,
     "metadata": {},
     "output_type": "execute_result"
    }
   ],
   "source": [
    "df_postulantes_edu.shape"
   ]
  },
  {
   "cell_type": "code",
   "execution_count": 98,
   "metadata": {},
   "outputs": [
    {
     "data": {
      "text/plain": [
       "Index(['idpostulante', 'nombre', 'estado'], dtype='object')"
      ]
     },
     "execution_count": 98,
     "metadata": {},
     "output_type": "execute_result"
    }
   ],
   "source": [
    "df_postulantes_edu.columns"
   ]
  },
  {
   "cell_type": "code",
   "execution_count": 99,
   "metadata": {},
   "outputs": [
    {
     "data": {
      "text/html": [
       "<div>\n",
       "<style>\n",
       "    .dataframe thead tr:only-child th {\n",
       "        text-align: right;\n",
       "    }\n",
       "\n",
       "    .dataframe thead th {\n",
       "        text-align: left;\n",
       "    }\n",
       "\n",
       "    .dataframe tbody tr th {\n",
       "        vertical-align: top;\n",
       "    }\n",
       "</style>\n",
       "<table border=\"1\" class=\"dataframe\">\n",
       "  <thead>\n",
       "    <tr style=\"text-align: right;\">\n",
       "      <th></th>\n",
       "      <th>idpostulante</th>\n",
       "      <th>nombre</th>\n",
       "      <th>estado</th>\n",
       "    </tr>\n",
       "  </thead>\n",
       "  <tbody>\n",
       "    <tr>\n",
       "      <th>0</th>\n",
       "      <td>NdJl</td>\n",
       "      <td>Posgrado</td>\n",
       "      <td>En Curso</td>\n",
       "    </tr>\n",
       "    <tr>\n",
       "      <th>1</th>\n",
       "      <td>8BkL</td>\n",
       "      <td>Universitario</td>\n",
       "      <td>En Curso</td>\n",
       "    </tr>\n",
       "    <tr>\n",
       "      <th>2</th>\n",
       "      <td>1d2B</td>\n",
       "      <td>Universitario</td>\n",
       "      <td>En Curso</td>\n",
       "    </tr>\n",
       "    <tr>\n",
       "      <th>3</th>\n",
       "      <td>NPBx</td>\n",
       "      <td>Universitario</td>\n",
       "      <td>En Curso</td>\n",
       "    </tr>\n",
       "    <tr>\n",
       "      <th>4</th>\n",
       "      <td>NPBx</td>\n",
       "      <td>Master</td>\n",
       "      <td>En Curso</td>\n",
       "    </tr>\n",
       "  </tbody>\n",
       "</table>\n",
       "</div>"
      ],
      "text/plain": [
       "  idpostulante         nombre    estado\n",
       "0         NdJl       Posgrado  En Curso\n",
       "1         8BkL  Universitario  En Curso\n",
       "2         1d2B  Universitario  En Curso\n",
       "3         NPBx  Universitario  En Curso\n",
       "4         NPBx         Master  En Curso"
      ]
     },
     "execution_count": 99,
     "metadata": {},
     "output_type": "execute_result"
    }
   ],
   "source": [
    "df_postulantes_edu.head()"
   ]
  },
  {
   "cell_type": "code",
   "execution_count": 100,
   "metadata": {},
   "outputs": [
    {
     "data": {
      "text/plain": [
       "Universitario        259550\n",
       "Secundario           246012\n",
       "Terciario/Técnico    114815\n",
       "Otro                  53513\n",
       "Posgrado              20885\n",
       "Master                10297\n",
       "Doctorado               612\n",
       "Name: nombre, dtype: int64"
      ]
     },
     "execution_count": 100,
     "metadata": {},
     "output_type": "execute_result"
    }
   ],
   "source": [
    "df_postulantes_edu['nombre'].value_counts()"
   ]
  },
  {
   "cell_type": "code",
   "execution_count": 76,
   "metadata": {
    "collapsed": true
   },
   "outputs": [],
   "source": [
    "df_postulantes_edu = df_postulantes_edu.drop_duplicates()"
   ]
  },
  {
   "cell_type": "code",
   "execution_count": 79,
   "metadata": {},
   "outputs": [
    {
     "data": {
      "text/plain": [
       "(693641, 3)"
      ]
     },
     "execution_count": 79,
     "metadata": {},
     "output_type": "execute_result"
    }
   ],
   "source": [
    "df_postulantes_edu.shape"
   ]
  },
  {
   "cell_type": "code",
   "execution_count": 77,
   "metadata": {
    "collapsed": true
   },
   "outputs": [],
   "source": [
    "nivel_dict = {'Universitario' : 3\n",
    "             , 'Secundario' : 1\n",
    "             , 'Terciario/Técnico' : 2\n",
    "             , 'Otro': 0\n",
    "             , 'Posgrado' : 4\n",
    "             , 'Master' : 5\n",
    "             , 'Doctorado' : 6}\n",
    "\n",
    "def educacion(row):\n",
    "    return nivel_dict[row['nombre']]\n",
    "\n",
    "df_postulantes_edu['nombre'] = df_postulantes_edu.apply(educacion, axis=1)"
   ]
  },
  {
   "cell_type": "code",
   "execution_count": 78,
   "metadata": {},
   "outputs": [
    {
     "data": {
      "text/plain": [
       "Graduado      370213\n",
       "En Curso      149388\n",
       "Abandonado     49011\n",
       "Name: estado, dtype: int64"
      ]
     },
     "execution_count": 78,
     "metadata": {},
     "output_type": "execute_result"
    }
   ],
   "source": [
    "df_postulantes_edu['estado'].value_counts()"
   ]
  },
  {
   "cell_type": "code",
   "execution_count": 79,
   "metadata": {
    "collapsed": true
   },
   "outputs": [],
   "source": [
    "estado_dict = {'Graduado' : 2\n",
    "             , 'En Curso' : 1\n",
    "             , 'Abandonado' : 0}\n",
    "\n",
    "def estado(row):\n",
    "    return estado_dict[row['estado']]\n",
    "\n",
    "df_postulantes_edu['estado'] = df_postulantes_edu.apply(estado, axis=1)"
   ]
  },
  {
   "cell_type": "code",
   "execution_count": 91,
   "metadata": {},
   "outputs": [
    {
     "data": {
      "text/plain": [
       "(568612, 3)"
      ]
     },
     "execution_count": 91,
     "metadata": {},
     "output_type": "execute_result"
    }
   ],
   "source": [
    "df_postulantes_edu.shape"
   ]
  },
  {
   "cell_type": "code",
   "execution_count": 92,
   "metadata": {},
   "outputs": [
    {
     "data": {
      "text/plain": [
       "366395"
      ]
     },
     "execution_count": 92,
     "metadata": {},
     "output_type": "execute_result"
    }
   ],
   "source": [
    "df_postulantes_edu['idpostulante'].nunique()"
   ]
  },
  {
   "cell_type": "markdown",
   "metadata": {},
   "source": [
    "Nos quedamos unicamente con su mayor nivel de estudio"
   ]
  },
  {
   "cell_type": "code",
   "execution_count": 80,
   "metadata": {
    "collapsed": true
   },
   "outputs": [],
   "source": [
    "for_join = df_postulantes_edu.loc[:, ['idpostulante', 'nombre']].groupby('idpostulante').max().reset_index()\n",
    "df_postulantes_edu = pd.merge(df_postulantes_edu, for_join, how='inner', on=['idpostulante', 'nombre'])"
   ]
  },
  {
   "cell_type": "code",
   "execution_count": 81,
   "metadata": {},
   "outputs": [
    {
     "data": {
      "text/plain": [
       "(387698, 3)"
      ]
     },
     "execution_count": 81,
     "metadata": {},
     "output_type": "execute_result"
    }
   ],
   "source": [
    "df_postulantes_edu.shape"
   ]
  },
  {
   "cell_type": "code",
   "execution_count": 82,
   "metadata": {},
   "outputs": [
    {
     "data": {
      "text/plain": [
       "366395"
      ]
     },
     "execution_count": 82,
     "metadata": {},
     "output_type": "execute_result"
    }
   ],
   "source": [
    "df_postulantes_edu['idpostulante'].nunique()"
   ]
  },
  {
   "cell_type": "code",
   "execution_count": 83,
   "metadata": {},
   "outputs": [
    {
     "data": {
      "text/html": [
       "<div>\n",
       "<style>\n",
       "    .dataframe thead tr:only-child th {\n",
       "        text-align: right;\n",
       "    }\n",
       "\n",
       "    .dataframe thead th {\n",
       "        text-align: left;\n",
       "    }\n",
       "\n",
       "    .dataframe tbody tr th {\n",
       "        vertical-align: top;\n",
       "    }\n",
       "</style>\n",
       "<table border=\"1\" class=\"dataframe\">\n",
       "  <thead>\n",
       "    <tr style=\"text-align: right;\">\n",
       "      <th></th>\n",
       "      <th>idpostulante</th>\n",
       "      <th>nombre</th>\n",
       "      <th>estado</th>\n",
       "    </tr>\n",
       "  </thead>\n",
       "  <tbody>\n",
       "    <tr>\n",
       "      <th>0</th>\n",
       "      <td>NdJl</td>\n",
       "      <td>4</td>\n",
       "      <td>1</td>\n",
       "    </tr>\n",
       "    <tr>\n",
       "      <th>1</th>\n",
       "      <td>1d2B</td>\n",
       "      <td>3</td>\n",
       "      <td>1</td>\n",
       "    </tr>\n",
       "    <tr>\n",
       "      <th>2</th>\n",
       "      <td>NPBx</td>\n",
       "      <td>5</td>\n",
       "      <td>1</td>\n",
       "    </tr>\n",
       "    <tr>\n",
       "      <th>3</th>\n",
       "      <td>ZKl5</td>\n",
       "      <td>5</td>\n",
       "      <td>1</td>\n",
       "    </tr>\n",
       "    <tr>\n",
       "      <th>4</th>\n",
       "      <td>Y043Z</td>\n",
       "      <td>3</td>\n",
       "      <td>1</td>\n",
       "    </tr>\n",
       "  </tbody>\n",
       "</table>\n",
       "</div>"
      ],
      "text/plain": [
       "  idpostulante  nombre  estado\n",
       "0         NdJl       4       1\n",
       "1         1d2B       3       1\n",
       "2         NPBx       5       1\n",
       "3         ZKl5       5       1\n",
       "4        Y043Z       3       1"
      ]
     },
     "execution_count": 83,
     "metadata": {},
     "output_type": "execute_result"
    }
   ],
   "source": [
    "df_postulantes_edu.head()"
   ]
  },
  {
   "cell_type": "code",
   "execution_count": 84,
   "metadata": {
    "collapsed": true
   },
   "outputs": [],
   "source": [
    "for_join = df_postulantes_edu.loc[:, ['idpostulante', 'estado']].groupby('idpostulante').max().reset_index()\n",
    "df_postulantes_edu = pd.merge(df_postulantes_edu, for_join, how='inner', on=['idpostulante', 'estado'])"
   ]
  },
  {
   "cell_type": "code",
   "execution_count": 108,
   "metadata": {},
   "outputs": [
    {
     "data": {
      "text/plain": [
       "366395"
      ]
     },
     "execution_count": 108,
     "metadata": {},
     "output_type": "execute_result"
    }
   ],
   "source": [
    "df_postulantes_edu['idpostulante'].nunique()"
   ]
  },
  {
   "cell_type": "code",
   "execution_count": 85,
   "metadata": {
    "collapsed": true
   },
   "outputs": [],
   "source": [
    "if (armar_dataset == PREDICT):\n",
    "    df_postulantes_datos = pd.concat([df_postulantes_datos_original, df_postulantes_datos_nuevo, df_postulantes_datos_desde])\n",
    "else:\n",
    "    df_postulantes_datos = pd.concat([df_postulantes_datos_original, df_postulantes_datos_nuevo])\n",
    "    \n",
    "df_postulantes_datos = df_postulantes_datos.drop_duplicates()"
   ]
  },
  {
   "cell_type": "code",
   "execution_count": 100,
   "metadata": {},
   "outputs": [
    {
     "data": {
      "text/html": [
       "<div>\n",
       "<style>\n",
       "    .dataframe thead tr:only-child th {\n",
       "        text-align: right;\n",
       "    }\n",
       "\n",
       "    .dataframe thead th {\n",
       "        text-align: left;\n",
       "    }\n",
       "\n",
       "    .dataframe tbody tr th {\n",
       "        vertical-align: top;\n",
       "    }\n",
       "</style>\n",
       "<table border=\"1\" class=\"dataframe\">\n",
       "  <thead>\n",
       "    <tr style=\"text-align: right;\">\n",
       "      <th></th>\n",
       "      <th>idpostulante</th>\n",
       "      <th>fechanacimiento</th>\n",
       "      <th>sexo</th>\n",
       "    </tr>\n",
       "  </thead>\n",
       "  <tbody>\n",
       "    <tr>\n",
       "      <th>0</th>\n",
       "      <td>NM5M</td>\n",
       "      <td>1970-12-03</td>\n",
       "      <td>FEM</td>\n",
       "    </tr>\n",
       "    <tr>\n",
       "      <th>1</th>\n",
       "      <td>5awk</td>\n",
       "      <td>1962-12-04</td>\n",
       "      <td>FEM</td>\n",
       "    </tr>\n",
       "    <tr>\n",
       "      <th>2</th>\n",
       "      <td>ZaO5</td>\n",
       "      <td>1978-08-10</td>\n",
       "      <td>FEM</td>\n",
       "    </tr>\n",
       "    <tr>\n",
       "      <th>3</th>\n",
       "      <td>NdJl</td>\n",
       "      <td>1969-05-09</td>\n",
       "      <td>MASC</td>\n",
       "    </tr>\n",
       "    <tr>\n",
       "      <th>4</th>\n",
       "      <td>eo2p</td>\n",
       "      <td>1981-02-16</td>\n",
       "      <td>MASC</td>\n",
       "    </tr>\n",
       "  </tbody>\n",
       "</table>\n",
       "</div>"
      ],
      "text/plain": [
       "  idpostulante fechanacimiento  sexo\n",
       "0         NM5M      1970-12-03   FEM\n",
       "1         5awk      1962-12-04   FEM\n",
       "2         ZaO5      1978-08-10   FEM\n",
       "3         NdJl      1969-05-09  MASC\n",
       "4         eo2p      1981-02-16  MASC"
      ]
     },
     "execution_count": 100,
     "metadata": {},
     "output_type": "execute_result"
    }
   ],
   "source": [
    "df_postulantes_datos.head()"
   ]
  },
  {
   "cell_type": "code",
   "execution_count": 101,
   "metadata": {},
   "outputs": [
    {
     "data": {
      "text/plain": [
       "408146"
      ]
     },
     "execution_count": 101,
     "metadata": {},
     "output_type": "execute_result"
    }
   ],
   "source": [
    "df_postulantes_datos['idpostulante'].nunique()"
   ]
  },
  {
   "cell_type": "code",
   "execution_count": 86,
   "metadata": {
    "collapsed": true
   },
   "outputs": [],
   "source": [
    "df_postulantes_datos['edad'] = pd.to_datetime(df_postulantes_datos[\"fechanacimiento\"], errors = 'coerce')\n",
    "del df_postulantes_datos['fechanacimiento']"
   ]
  },
  {
   "cell_type": "code",
   "execution_count": 87,
   "metadata": {},
   "outputs": [
    {
     "data": {
      "text/plain": [
       "408146"
      ]
     },
     "execution_count": 87,
     "metadata": {},
     "output_type": "execute_result"
    }
   ],
   "source": [
    "df_postulantes_datos['idpostulante'].nunique()"
   ]
  },
  {
   "cell_type": "code",
   "execution_count": 88,
   "metadata": {
    "collapsed": true
   },
   "outputs": [],
   "source": [
    "list_sexos = []\n",
    "\n",
    "def tipo_sexos(row):\n",
    "    if pd.isnull(row['sexo']): #Es nula, seteo valor 0 por defecto\n",
    "        return 0\n",
    "    if row['sexo'] in list_sexos:\n",
    "        return list_sexos.index(row['sexo'])+1\n",
    "    \n",
    "    list_sexos.append(row['sexo'])\n",
    "    \n",
    "    return list_sexos.index(row['sexo'])+1\n",
    "\n",
    "df_postulantes_datos['sexo'] = df_postulantes_datos.apply(tipo_sexos, axis=1)"
   ]
  },
  {
   "cell_type": "code",
   "execution_count": 89,
   "metadata": {
    "collapsed": true
   },
   "outputs": [],
   "source": [
    "def edad(row):\n",
    "    return 2018-row['edad'].year\n",
    "\n",
    "df_postulantes_datos['edad'] = df_postulantes_datos.apply(edad, axis=1)"
   ]
  },
  {
   "cell_type": "code",
   "execution_count": 90,
   "metadata": {},
   "outputs": [
    {
     "data": {
      "text/plain": [
       "(408452, 3)"
      ]
     },
     "execution_count": 90,
     "metadata": {},
     "output_type": "execute_result"
    }
   ],
   "source": [
    "df_postulantes_datos.shape"
   ]
  },
  {
   "cell_type": "code",
   "execution_count": 91,
   "metadata": {
    "collapsed": true
   },
   "outputs": [],
   "source": [
    "df_postulantes_datos = df_postulantes_datos.drop_duplicates('idpostulante')"
   ]
  },
  {
   "cell_type": "code",
   "execution_count": 108,
   "metadata": {},
   "outputs": [
    {
     "data": {
      "text/plain": [
       "(408146, 3)"
      ]
     },
     "execution_count": 108,
     "metadata": {},
     "output_type": "execute_result"
    }
   ],
   "source": [
    "df_postulantes_datos.shape"
   ]
  },
  {
   "cell_type": "code",
   "execution_count": 109,
   "metadata": {},
   "outputs": [
    {
     "data": {
      "text/plain": [
       "408146"
      ]
     },
     "execution_count": 109,
     "metadata": {},
     "output_type": "execute_result"
    }
   ],
   "source": [
    "df_postulantes_datos['idpostulante'].nunique()"
   ]
  },
  {
   "cell_type": "code",
   "execution_count": 110,
   "metadata": {},
   "outputs": [
    {
     "data": {
      "text/plain": [
       "366395"
      ]
     },
     "execution_count": 110,
     "metadata": {},
     "output_type": "execute_result"
    }
   ],
   "source": [
    "df_postulantes_edu['idpostulante'].nunique()"
   ]
  },
  {
   "cell_type": "code",
   "execution_count": 92,
   "metadata": {
    "collapsed": true
   },
   "outputs": [],
   "source": [
    "df_postulantes = pd.merge(df_postulantes_edu, df_postulantes_datos, how='outer', on=['idpostulante'])"
   ]
  },
  {
   "cell_type": "code",
   "execution_count": 93,
   "metadata": {},
   "outputs": [
    {
     "data": {
      "text/plain": [
       "408146"
      ]
     },
     "execution_count": 93,
     "metadata": {},
     "output_type": "execute_result"
    }
   ],
   "source": [
    "df_postulantes['idpostulante'].nunique()"
   ]
  },
  {
   "cell_type": "code",
   "execution_count": 94,
   "metadata": {
    "collapsed": true
   },
   "outputs": [],
   "source": [
    "df_postulantes = df_postulantes.drop_duplicates('idpostulante')"
   ]
  },
  {
   "cell_type": "code",
   "execution_count": 114,
   "metadata": {},
   "outputs": [
    {
     "data": {
      "text/html": [
       "<div>\n",
       "<style>\n",
       "    .dataframe thead tr:only-child th {\n",
       "        text-align: right;\n",
       "    }\n",
       "\n",
       "    .dataframe thead th {\n",
       "        text-align: left;\n",
       "    }\n",
       "\n",
       "    .dataframe tbody tr th {\n",
       "        vertical-align: top;\n",
       "    }\n",
       "</style>\n",
       "<table border=\"1\" class=\"dataframe\">\n",
       "  <thead>\n",
       "    <tr style=\"text-align: right;\">\n",
       "      <th></th>\n",
       "      <th>idpostulante</th>\n",
       "      <th>nombre</th>\n",
       "      <th>estado</th>\n",
       "      <th>sexo</th>\n",
       "      <th>edad</th>\n",
       "    </tr>\n",
       "  </thead>\n",
       "  <tbody>\n",
       "    <tr>\n",
       "      <th>0</th>\n",
       "      <td>NdJl</td>\n",
       "      <td>4.0</td>\n",
       "      <td>1.0</td>\n",
       "      <td>2</td>\n",
       "      <td>49.0</td>\n",
       "    </tr>\n",
       "    <tr>\n",
       "      <th>1</th>\n",
       "      <td>1d2B</td>\n",
       "      <td>3.0</td>\n",
       "      <td>1.0</td>\n",
       "      <td>2</td>\n",
       "      <td>42.0</td>\n",
       "    </tr>\n",
       "    <tr>\n",
       "      <th>2</th>\n",
       "      <td>NPBx</td>\n",
       "      <td>5.0</td>\n",
       "      <td>1.0</td>\n",
       "      <td>2</td>\n",
       "      <td>37.0</td>\n",
       "    </tr>\n",
       "    <tr>\n",
       "      <th>3</th>\n",
       "      <td>ZKl5</td>\n",
       "      <td>5.0</td>\n",
       "      <td>1.0</td>\n",
       "      <td>2</td>\n",
       "      <td>44.0</td>\n",
       "    </tr>\n",
       "    <tr>\n",
       "      <th>4</th>\n",
       "      <td>Y043Z</td>\n",
       "      <td>3.0</td>\n",
       "      <td>1.0</td>\n",
       "      <td>2</td>\n",
       "      <td>39.0</td>\n",
       "    </tr>\n",
       "  </tbody>\n",
       "</table>\n",
       "</div>"
      ],
      "text/plain": [
       "  idpostulante  nombre  estado  sexo  edad\n",
       "0         NdJl     4.0     1.0     2  49.0\n",
       "1         1d2B     3.0     1.0     2  42.0\n",
       "2         NPBx     5.0     1.0     2  37.0\n",
       "3         ZKl5     5.0     1.0     2  44.0\n",
       "4        Y043Z     3.0     1.0     2  39.0"
      ]
     },
     "execution_count": 114,
     "metadata": {},
     "output_type": "execute_result"
    }
   ],
   "source": [
    "df_postulantes.head()"
   ]
  },
  {
   "cell_type": "code",
   "execution_count": 115,
   "metadata": {},
   "outputs": [
    {
     "data": {
      "text/plain": [
       "(408146, 5)"
      ]
     },
     "execution_count": 115,
     "metadata": {},
     "output_type": "execute_result"
    }
   ],
   "source": [
    "df_postulantes.shape"
   ]
  },
  {
   "cell_type": "code",
   "execution_count": 116,
   "metadata": {},
   "outputs": [
    {
     "data": {
      "text/html": [
       "<div>\n",
       "<style>\n",
       "    .dataframe thead tr:only-child th {\n",
       "        text-align: right;\n",
       "    }\n",
       "\n",
       "    .dataframe thead th {\n",
       "        text-align: left;\n",
       "    }\n",
       "\n",
       "    .dataframe tbody tr th {\n",
       "        vertical-align: top;\n",
       "    }\n",
       "</style>\n",
       "<table border=\"1\" class=\"dataframe\">\n",
       "  <thead>\n",
       "    <tr style=\"text-align: right;\">\n",
       "      <th></th>\n",
       "      <th>idaviso</th>\n",
       "      <th>fechapostulacion</th>\n",
       "      <th>idpostulante</th>\n",
       "    </tr>\n",
       "  </thead>\n",
       "  <tbody>\n",
       "    <tr>\n",
       "      <th>0</th>\n",
       "      <td>1111780242</td>\n",
       "      <td>2018-02-23 18:38:13.187</td>\n",
       "      <td>YjVJQ6Z</td>\n",
       "    </tr>\n",
       "    <tr>\n",
       "      <th>1</th>\n",
       "      <td>1112263876</td>\n",
       "      <td>2018-02-23 18:38:14.296</td>\n",
       "      <td>BmVpYoR</td>\n",
       "    </tr>\n",
       "    <tr>\n",
       "      <th>2</th>\n",
       "      <td>1112327963</td>\n",
       "      <td>2018-02-23 18:38:14.329</td>\n",
       "      <td>wVkBzZd</td>\n",
       "    </tr>\n",
       "    <tr>\n",
       "      <th>3</th>\n",
       "      <td>1112318643</td>\n",
       "      <td>2018-02-23 18:38:17.921</td>\n",
       "      <td>OqmP9pv</td>\n",
       "    </tr>\n",
       "    <tr>\n",
       "      <th>4</th>\n",
       "      <td>1111903673</td>\n",
       "      <td>2018-02-23 18:38:18.973</td>\n",
       "      <td>DrpbXDP</td>\n",
       "    </tr>\n",
       "  </tbody>\n",
       "</table>\n",
       "</div>"
      ],
      "text/plain": [
       "      idaviso        fechapostulacion idpostulante\n",
       "0  1111780242 2018-02-23 18:38:13.187      YjVJQ6Z\n",
       "1  1112263876 2018-02-23 18:38:14.296      BmVpYoR\n",
       "2  1112327963 2018-02-23 18:38:14.329      wVkBzZd\n",
       "3  1112318643 2018-02-23 18:38:17.921      OqmP9pv\n",
       "4  1111903673 2018-02-23 18:38:18.973      DrpbXDP"
      ]
     },
     "execution_count": 116,
     "metadata": {},
     "output_type": "execute_result"
    }
   ],
   "source": [
    "vistas.head()"
   ]
  },
  {
   "cell_type": "code",
   "execution_count": 95,
   "metadata": {
    "collapsed": true
   },
   "outputs": [],
   "source": [
    "vistas2 = vistas.loc[:, ['idaviso', 'idpostulante']].groupby('idpostulante').count().reset_index()\n",
    "vistas2 = vistas2.rename(columns={'idaviso' : 'vistas_postulante'})"
   ]
  },
  {
   "cell_type": "code",
   "execution_count": 96,
   "metadata": {
    "collapsed": true
   },
   "outputs": [],
   "source": [
    "df_postulantes = pd.merge(df_postulantes, vistas2, on=['idpostulante'], how='left')"
   ]
  },
  {
   "cell_type": "code",
   "execution_count": 96,
   "metadata": {},
   "outputs": [
    {
     "data": {
      "text/html": [
       "<div>\n",
       "<style>\n",
       "    .dataframe thead tr:only-child th {\n",
       "        text-align: right;\n",
       "    }\n",
       "\n",
       "    .dataframe thead th {\n",
       "        text-align: left;\n",
       "    }\n",
       "\n",
       "    .dataframe tbody tr th {\n",
       "        vertical-align: top;\n",
       "    }\n",
       "</style>\n",
       "<table border=\"1\" class=\"dataframe\">\n",
       "  <thead>\n",
       "    <tr style=\"text-align: right;\">\n",
       "      <th></th>\n",
       "      <th>idpostulante</th>\n",
       "      <th>nombre</th>\n",
       "      <th>estado</th>\n",
       "      <th>sexo</th>\n",
       "      <th>edad</th>\n",
       "      <th>vistas_postulante</th>\n",
       "    </tr>\n",
       "  </thead>\n",
       "  <tbody>\n",
       "    <tr>\n",
       "      <th>0</th>\n",
       "      <td>NdJl</td>\n",
       "      <td>4.0</td>\n",
       "      <td>1.0</td>\n",
       "      <td>2</td>\n",
       "      <td>49.0</td>\n",
       "      <td>60.0</td>\n",
       "    </tr>\n",
       "    <tr>\n",
       "      <th>1</th>\n",
       "      <td>1d2B</td>\n",
       "      <td>3.0</td>\n",
       "      <td>1.0</td>\n",
       "      <td>2</td>\n",
       "      <td>42.0</td>\n",
       "      <td>NaN</td>\n",
       "    </tr>\n",
       "    <tr>\n",
       "      <th>2</th>\n",
       "      <td>NPBx</td>\n",
       "      <td>5.0</td>\n",
       "      <td>1.0</td>\n",
       "      <td>2</td>\n",
       "      <td>37.0</td>\n",
       "      <td>16.0</td>\n",
       "    </tr>\n",
       "    <tr>\n",
       "      <th>3</th>\n",
       "      <td>ZKl5</td>\n",
       "      <td>5.0</td>\n",
       "      <td>1.0</td>\n",
       "      <td>2</td>\n",
       "      <td>44.0</td>\n",
       "      <td>41.0</td>\n",
       "    </tr>\n",
       "    <tr>\n",
       "      <th>4</th>\n",
       "      <td>Y043Z</td>\n",
       "      <td>3.0</td>\n",
       "      <td>1.0</td>\n",
       "      <td>2</td>\n",
       "      <td>39.0</td>\n",
       "      <td>NaN</td>\n",
       "    </tr>\n",
       "  </tbody>\n",
       "</table>\n",
       "</div>"
      ],
      "text/plain": [
       "  idpostulante  nombre  estado  sexo  edad  vistas_postulante\n",
       "0         NdJl     4.0     1.0     2  49.0               60.0\n",
       "1         1d2B     3.0     1.0     2  42.0                NaN\n",
       "2         NPBx     5.0     1.0     2  37.0               16.0\n",
       "3         ZKl5     5.0     1.0     2  44.0               41.0\n",
       "4        Y043Z     3.0     1.0     2  39.0                NaN"
      ]
     },
     "execution_count": 96,
     "metadata": {},
     "output_type": "execute_result"
    }
   ],
   "source": [
    "df_postulantes.head()"
   ]
  },
  {
   "cell_type": "markdown",
   "metadata": {},
   "source": [
    "Considerar agregar vistas por dia!"
   ]
  },
  {
   "cell_type": "code",
   "execution_count": 97,
   "metadata": {
    "collapsed": true
   },
   "outputs": [],
   "source": [
    "fechas_postulaciones = postulaciones.loc[:, ['idpostulante', 'fechapostulacion']].groupby('idpostulante').min().reset_index()"
   ]
  },
  {
   "cell_type": "code",
   "execution_count": 98,
   "metadata": {
    "collapsed": true
   },
   "outputs": [],
   "source": [
    "vistas = vistas.rename(columns={'timestamp' : 'fechapostulacion'})"
   ]
  },
  {
   "cell_type": "code",
   "execution_count": 99,
   "metadata": {
    "collapsed": true
   },
   "outputs": [],
   "source": [
    "fechas_vistas_postul = vistas.loc[:, ['idpostulante', 'fechapostulacion']].groupby('idpostulante').min().reset_index()"
   ]
  },
  {
   "cell_type": "code",
   "execution_count": 100,
   "metadata": {
    "collapsed": true
   },
   "outputs": [],
   "source": [
    "fechas_iniciales = pd.concat([fechas_postulaciones, fechas_vistas_postul])"
   ]
  },
  {
   "cell_type": "code",
   "execution_count": 101,
   "metadata": {},
   "outputs": [
    {
     "data": {
      "text/plain": [
       "(655087, 2)"
      ]
     },
     "execution_count": 101,
     "metadata": {},
     "output_type": "execute_result"
    }
   ],
   "source": [
    "fechas_iniciales.shape"
   ]
  },
  {
   "cell_type": "code",
   "execution_count": 102,
   "metadata": {
    "collapsed": true
   },
   "outputs": [],
   "source": [
    "fechas_iniciales = fechas_iniciales.groupby('idpostulante').min().reset_index()"
   ]
  },
  {
   "cell_type": "code",
   "execution_count": 103,
   "metadata": {},
   "outputs": [
    {
     "data": {
      "text/plain": [
       "(393425, 2)"
      ]
     },
     "execution_count": 103,
     "metadata": {},
     "output_type": "execute_result"
    }
   ],
   "source": [
    "fechas_iniciales.shape"
   ]
  },
  {
   "cell_type": "code",
   "execution_count": 104,
   "metadata": {
    "collapsed": true
   },
   "outputs": [],
   "source": [
    "fechas_iniciales = fechas_iniciales.rename(columns={'fechapostulacion' : 'fecha_inicio_actividad'})"
   ]
  },
  {
   "cell_type": "code",
   "execution_count": 105,
   "metadata": {
    "collapsed": true
   },
   "outputs": [],
   "source": [
    "fechas_postulaciones = postulaciones.loc[:, ['idpostulante', 'fechapostulacion']].groupby('idpostulante').max().reset_index()"
   ]
  },
  {
   "cell_type": "code",
   "execution_count": 106,
   "metadata": {
    "collapsed": true
   },
   "outputs": [],
   "source": [
    "fechas_vistas_postul = vistas.loc[:, ['idpostulante', 'fechapostulacion']].groupby('idpostulante').max().reset_index()"
   ]
  },
  {
   "cell_type": "code",
   "execution_count": 107,
   "metadata": {
    "collapsed": true
   },
   "outputs": [],
   "source": [
    "fechas_finales = pd.concat([fechas_postulaciones, fechas_vistas_postul])"
   ]
  },
  {
   "cell_type": "code",
   "execution_count": 108,
   "metadata": {},
   "outputs": [
    {
     "data": {
      "text/plain": [
       "(655087, 2)"
      ]
     },
     "execution_count": 108,
     "metadata": {},
     "output_type": "execute_result"
    }
   ],
   "source": [
    "fechas_finales.shape"
   ]
  },
  {
   "cell_type": "code",
   "execution_count": 109,
   "metadata": {
    "collapsed": true
   },
   "outputs": [],
   "source": [
    "fechas_finales = fechas_finales.groupby('idpostulante').max().reset_index()"
   ]
  },
  {
   "cell_type": "code",
   "execution_count": 110,
   "metadata": {},
   "outputs": [
    {
     "data": {
      "text/plain": [
       "(393425, 2)"
      ]
     },
     "execution_count": 110,
     "metadata": {},
     "output_type": "execute_result"
    }
   ],
   "source": [
    "fechas_finales.shape"
   ]
  },
  {
   "cell_type": "code",
   "execution_count": 111,
   "metadata": {
    "collapsed": true
   },
   "outputs": [],
   "source": [
    "fechas_finales = fechas_finales.rename(columns={'fechapostulacion' : 'fecha_fin_actividad'})"
   ]
  },
  {
   "cell_type": "code",
   "execution_count": 112,
   "metadata": {
    "collapsed": true
   },
   "outputs": [],
   "source": [
    "fechas_totales = pd.merge(fechas_finales, fechas_iniciales, on=['idpostulante'], how='inner')"
   ]
  },
  {
   "cell_type": "code",
   "execution_count": 110,
   "metadata": {},
   "outputs": [
    {
     "data": {
      "text/html": [
       "<div>\n",
       "<style>\n",
       "    .dataframe thead tr:only-child th {\n",
       "        text-align: right;\n",
       "    }\n",
       "\n",
       "    .dataframe thead th {\n",
       "        text-align: left;\n",
       "    }\n",
       "\n",
       "    .dataframe tbody tr th {\n",
       "        vertical-align: top;\n",
       "    }\n",
       "</style>\n",
       "<table border=\"1\" class=\"dataframe\">\n",
       "  <thead>\n",
       "    <tr style=\"text-align: right;\">\n",
       "      <th></th>\n",
       "      <th>idpostulante</th>\n",
       "      <th>fecha_fin_actividad</th>\n",
       "      <th>fecha_inicio_actividad</th>\n",
       "    </tr>\n",
       "  </thead>\n",
       "  <tbody>\n",
       "    <tr>\n",
       "      <th>0</th>\n",
       "      <td>0002q</td>\n",
       "      <td>2018-04-29 13:59:51.366</td>\n",
       "      <td>2018-04-29 13:41:52.438</td>\n",
       "    </tr>\n",
       "    <tr>\n",
       "      <th>1</th>\n",
       "      <td>0005E</td>\n",
       "      <td>2018-04-27 09:31:30.321</td>\n",
       "      <td>2018-04-22 17:17:57.744</td>\n",
       "    </tr>\n",
       "    <tr>\n",
       "      <th>2</th>\n",
       "      <td>000R8</td>\n",
       "      <td>2018-04-24 07:21:17.140</td>\n",
       "      <td>2018-04-24 02:38:12.731</td>\n",
       "    </tr>\n",
       "    <tr>\n",
       "      <th>3</th>\n",
       "      <td>001XE</td>\n",
       "      <td>2018-04-30 17:22:06.703</td>\n",
       "      <td>2018-04-17 11:49:36.040</td>\n",
       "    </tr>\n",
       "    <tr>\n",
       "      <th>4</th>\n",
       "      <td>003k9</td>\n",
       "      <td>2018-04-25 17:05:47.018</td>\n",
       "      <td>2018-04-16 21:35:18.819</td>\n",
       "    </tr>\n",
       "  </tbody>\n",
       "</table>\n",
       "</div>"
      ],
      "text/plain": [
       "  idpostulante     fecha_fin_actividad  fecha_inicio_actividad\n",
       "0        0002q 2018-04-29 13:59:51.366 2018-04-29 13:41:52.438\n",
       "1        0005E 2018-04-27 09:31:30.321 2018-04-22 17:17:57.744\n",
       "2        000R8 2018-04-24 07:21:17.140 2018-04-24 02:38:12.731\n",
       "3        001XE 2018-04-30 17:22:06.703 2018-04-17 11:49:36.040\n",
       "4        003k9 2018-04-25 17:05:47.018 2018-04-16 21:35:18.819"
      ]
     },
     "execution_count": 110,
     "metadata": {},
     "output_type": "execute_result"
    }
   ],
   "source": [
    "fechas_totales.head()"
   ]
  },
  {
   "cell_type": "code",
   "execution_count": 113,
   "metadata": {
    "collapsed": true
   },
   "outputs": [],
   "source": [
    "fechas_totales['cant_dias_actividad'] = (fechas_totales['fecha_fin_actividad']-fechas_totales['fecha_inicio_actividad']).apply(set_dias)"
   ]
  },
  {
   "cell_type": "code",
   "execution_count": 114,
   "metadata": {
    "collapsed": true
   },
   "outputs": [],
   "source": [
    "fechas_totales['dia_inicio_actividad'] = fechas_totales['fecha_inicio_actividad'].apply(dia_anio)"
   ]
  },
  {
   "cell_type": "code",
   "execution_count": 115,
   "metadata": {
    "collapsed": true
   },
   "outputs": [],
   "source": [
    "fechas_totales['dia_fin_actividad'] = fechas_totales['fecha_fin_actividad'].apply(dia_anio)"
   ]
  },
  {
   "cell_type": "code",
   "execution_count": null,
   "metadata": {
    "collapsed": true
   },
   "outputs": [],
   "source": []
  },
  {
   "cell_type": "code",
   "execution_count": 114,
   "metadata": {},
   "outputs": [
    {
     "data": {
      "text/html": [
       "<div>\n",
       "<style>\n",
       "    .dataframe thead tr:only-child th {\n",
       "        text-align: right;\n",
       "    }\n",
       "\n",
       "    .dataframe thead th {\n",
       "        text-align: left;\n",
       "    }\n",
       "\n",
       "    .dataframe tbody tr th {\n",
       "        vertical-align: top;\n",
       "    }\n",
       "</style>\n",
       "<table border=\"1\" class=\"dataframe\">\n",
       "  <thead>\n",
       "    <tr style=\"text-align: right;\">\n",
       "      <th></th>\n",
       "      <th>idpostulante</th>\n",
       "      <th>fecha_fin_actividad</th>\n",
       "      <th>fecha_inicio_actividad</th>\n",
       "      <th>cant_dias_actividad</th>\n",
       "      <th>dia_inicio_actividad</th>\n",
       "      <th>dia_fin_actividad</th>\n",
       "    </tr>\n",
       "  </thead>\n",
       "  <tbody>\n",
       "    <tr>\n",
       "      <th>0</th>\n",
       "      <td>0002q</td>\n",
       "      <td>2018-04-29 13:59:51.366</td>\n",
       "      <td>2018-04-29 13:41:52.438</td>\n",
       "      <td>0</td>\n",
       "      <td>119</td>\n",
       "      <td>119</td>\n",
       "    </tr>\n",
       "    <tr>\n",
       "      <th>1</th>\n",
       "      <td>0005E</td>\n",
       "      <td>2018-04-27 09:31:30.321</td>\n",
       "      <td>2018-04-22 17:17:57.744</td>\n",
       "      <td>4</td>\n",
       "      <td>112</td>\n",
       "      <td>117</td>\n",
       "    </tr>\n",
       "    <tr>\n",
       "      <th>2</th>\n",
       "      <td>000R8</td>\n",
       "      <td>2018-04-24 07:21:17.140</td>\n",
       "      <td>2018-04-24 02:38:12.731</td>\n",
       "      <td>0</td>\n",
       "      <td>114</td>\n",
       "      <td>114</td>\n",
       "    </tr>\n",
       "    <tr>\n",
       "      <th>3</th>\n",
       "      <td>001XE</td>\n",
       "      <td>2018-04-30 17:22:06.703</td>\n",
       "      <td>2018-04-17 11:49:36.040</td>\n",
       "      <td>13</td>\n",
       "      <td>107</td>\n",
       "      <td>120</td>\n",
       "    </tr>\n",
       "    <tr>\n",
       "      <th>4</th>\n",
       "      <td>003k9</td>\n",
       "      <td>2018-04-25 17:05:47.018</td>\n",
       "      <td>2018-04-16 21:35:18.819</td>\n",
       "      <td>8</td>\n",
       "      <td>106</td>\n",
       "      <td>115</td>\n",
       "    </tr>\n",
       "  </tbody>\n",
       "</table>\n",
       "</div>"
      ],
      "text/plain": [
       "  idpostulante     fecha_fin_actividad  fecha_inicio_actividad  \\\n",
       "0        0002q 2018-04-29 13:59:51.366 2018-04-29 13:41:52.438   \n",
       "1        0005E 2018-04-27 09:31:30.321 2018-04-22 17:17:57.744   \n",
       "2        000R8 2018-04-24 07:21:17.140 2018-04-24 02:38:12.731   \n",
       "3        001XE 2018-04-30 17:22:06.703 2018-04-17 11:49:36.040   \n",
       "4        003k9 2018-04-25 17:05:47.018 2018-04-16 21:35:18.819   \n",
       "\n",
       "   cant_dias_actividad  dia_inicio_actividad  dia_fin_actividad  \n",
       "0                    0                   119                119  \n",
       "1                    4                   112                117  \n",
       "2                    0                   114                114  \n",
       "3                   13                   107                120  \n",
       "4                    8                   106                115  "
      ]
     },
     "execution_count": 114,
     "metadata": {},
     "output_type": "execute_result"
    }
   ],
   "source": [
    "fechas_totales.head()"
   ]
  },
  {
   "cell_type": "code",
   "execution_count": 116,
   "metadata": {
    "collapsed": true
   },
   "outputs": [],
   "source": [
    "del fechas_totales['fecha_fin_actividad']\n",
    "del fechas_totales['fecha_inicio_actividad']"
   ]
  },
  {
   "cell_type": "code",
   "execution_count": 117,
   "metadata": {
    "collapsed": true
   },
   "outputs": [],
   "source": [
    "df_postulantes = pd.merge(df_postulantes, fechas_totales, on=['idpostulante'], how='left')"
   ]
  },
  {
   "cell_type": "code",
   "execution_count": 139,
   "metadata": {},
   "outputs": [
    {
     "data": {
      "text/plain": [
       "(408146, 9)"
      ]
     },
     "execution_count": 139,
     "metadata": {},
     "output_type": "execute_result"
    }
   ],
   "source": [
    "df_postulantes.shape"
   ]
  },
  {
   "cell_type": "markdown",
   "metadata": {},
   "source": [
    "Agregamos tipo de aviso más popular por postulante, empresa popular y nombre de area popular"
   ]
  },
  {
   "cell_type": "code",
   "execution_count": 140,
   "metadata": {},
   "outputs": [
    {
     "data": {
      "text/html": [
       "<div>\n",
       "<style>\n",
       "    .dataframe thead tr:only-child th {\n",
       "        text-align: right;\n",
       "    }\n",
       "\n",
       "    .dataframe thead th {\n",
       "        text-align: left;\n",
       "    }\n",
       "\n",
       "    .dataframe tbody tr th {\n",
       "        vertical-align: top;\n",
       "    }\n",
       "</style>\n",
       "<table border=\"1\" class=\"dataframe\">\n",
       "  <thead>\n",
       "    <tr style=\"text-align: right;\">\n",
       "      <th></th>\n",
       "      <th>idaviso</th>\n",
       "      <th>idpais</th>\n",
       "      <th>tipo_de_trabajo</th>\n",
       "      <th>nivel_laboral</th>\n",
       "      <th>nombre_area</th>\n",
       "      <th>denominacion_empresa</th>\n",
       "      <th>web</th>\n",
       "      <th>crecimiento</th>\n",
       "      <th>capacitacion</th>\n",
       "      <th>clima laboral</th>\n",
       "      <th>...</th>\n",
       "      <th>cant_dias</th>\n",
       "      <th>dia_semana_inicio</th>\n",
       "      <th>dia_anio_inicio</th>\n",
       "      <th>dia_anio_fin</th>\n",
       "      <th>hora_inicio_cos</th>\n",
       "      <th>hora_inicio_sen</th>\n",
       "      <th>hora_fin_cos</th>\n",
       "      <th>hora_fin_sen</th>\n",
       "      <th>inicio_mes</th>\n",
       "      <th>fin_mes</th>\n",
       "    </tr>\n",
       "  </thead>\n",
       "  <tbody>\n",
       "    <tr>\n",
       "      <th>0</th>\n",
       "      <td>8725750</td>\n",
       "      <td>1</td>\n",
       "      <td>1</td>\n",
       "      <td>1</td>\n",
       "      <td>1</td>\n",
       "      <td>1</td>\n",
       "      <td>0</td>\n",
       "      <td>0</td>\n",
       "      <td>1</td>\n",
       "      <td>0</td>\n",
       "      <td>...</td>\n",
       "      <td>24.0</td>\n",
       "      <td>0.0</td>\n",
       "      <td>15.0</td>\n",
       "      <td>39.0</td>\n",
       "      <td>0.130310</td>\n",
       "      <td>0.991473</td>\n",
       "      <td>-0.953344</td>\n",
       "      <td>0.301885</td>\n",
       "      <td>False</td>\n",
       "      <td>False</td>\n",
       "    </tr>\n",
       "    <tr>\n",
       "      <th>1</th>\n",
       "      <td>17903700</td>\n",
       "      <td>1</td>\n",
       "      <td>1</td>\n",
       "      <td>1</td>\n",
       "      <td>2</td>\n",
       "      <td>2</td>\n",
       "      <td>0</td>\n",
       "      <td>0</td>\n",
       "      <td>0</td>\n",
       "      <td>0</td>\n",
       "      <td>...</td>\n",
       "      <td>51.0</td>\n",
       "      <td>5.0</td>\n",
       "      <td>55.0</td>\n",
       "      <td>107.0</td>\n",
       "      <td>-0.066346</td>\n",
       "      <td>-0.997797</td>\n",
       "      <td>-0.623880</td>\n",
       "      <td>0.781520</td>\n",
       "      <td>False</td>\n",
       "      <td>False</td>\n",
       "    </tr>\n",
       "    <tr>\n",
       "      <th>2</th>\n",
       "      <td>1000150677</td>\n",
       "      <td>1</td>\n",
       "      <td>1</td>\n",
       "      <td>1</td>\n",
       "      <td>3</td>\n",
       "      <td>3</td>\n",
       "      <td>0</td>\n",
       "      <td>0</td>\n",
       "      <td>0</td>\n",
       "      <td>0</td>\n",
       "      <td>...</td>\n",
       "      <td>NaN</td>\n",
       "      <td>NaN</td>\n",
       "      <td>NaN</td>\n",
       "      <td>NaN</td>\n",
       "      <td>NaN</td>\n",
       "      <td>NaN</td>\n",
       "      <td>NaN</td>\n",
       "      <td>NaN</td>\n",
       "      <td>NaN</td>\n",
       "      <td>NaN</td>\n",
       "    </tr>\n",
       "    <tr>\n",
       "      <th>3</th>\n",
       "      <td>1000610287</td>\n",
       "      <td>1</td>\n",
       "      <td>1</td>\n",
       "      <td>1</td>\n",
       "      <td>3</td>\n",
       "      <td>4</td>\n",
       "      <td>0</td>\n",
       "      <td>1</td>\n",
       "      <td>1</td>\n",
       "      <td>0</td>\n",
       "      <td>...</td>\n",
       "      <td>83.0</td>\n",
       "      <td>0.0</td>\n",
       "      <td>15.0</td>\n",
       "      <td>99.0</td>\n",
       "      <td>-0.915575</td>\n",
       "      <td>0.402148</td>\n",
       "      <td>0.918734</td>\n",
       "      <td>0.394877</td>\n",
       "      <td>False</td>\n",
       "      <td>False</td>\n",
       "    </tr>\n",
       "    <tr>\n",
       "      <th>4</th>\n",
       "      <td>1000872556</td>\n",
       "      <td>1</td>\n",
       "      <td>1</td>\n",
       "      <td>1</td>\n",
       "      <td>4</td>\n",
       "      <td>5</td>\n",
       "      <td>0</td>\n",
       "      <td>0</td>\n",
       "      <td>0</td>\n",
       "      <td>0</td>\n",
       "      <td>...</td>\n",
       "      <td>NaN</td>\n",
       "      <td>NaN</td>\n",
       "      <td>NaN</td>\n",
       "      <td>NaN</td>\n",
       "      <td>NaN</td>\n",
       "      <td>NaN</td>\n",
       "      <td>NaN</td>\n",
       "      <td>NaN</td>\n",
       "      <td>NaN</td>\n",
       "      <td>NaN</td>\n",
       "    </tr>\n",
       "  </tbody>\n",
       "</table>\n",
       "<p>5 rows × 47 columns</p>\n",
       "</div>"
      ],
      "text/plain": [
       "      idaviso  idpais  tipo_de_trabajo  nivel_laboral  nombre_area  \\\n",
       "0     8725750       1                1              1            1   \n",
       "1    17903700       1                1              1            2   \n",
       "2  1000150677       1                1              1            3   \n",
       "3  1000610287       1                1              1            3   \n",
       "4  1000872556       1                1              1            4   \n",
       "\n",
       "   denominacion_empresa  web  crecimiento  capacitacion  clima laboral  \\\n",
       "0                     1    0            0             1              0   \n",
       "1                     2    0            0             0              0   \n",
       "2                     3    0            0             0              0   \n",
       "3                     4    0            1             1              0   \n",
       "4                     5    0            0             0              0   \n",
       "\n",
       "    ...     cant_dias  dia_semana_inicio  dia_anio_inicio  dia_anio_fin  \\\n",
       "0   ...          24.0                0.0             15.0          39.0   \n",
       "1   ...          51.0                5.0             55.0         107.0   \n",
       "2   ...           NaN                NaN              NaN           NaN   \n",
       "3   ...          83.0                0.0             15.0          99.0   \n",
       "4   ...           NaN                NaN              NaN           NaN   \n",
       "\n",
       "   hora_inicio_cos  hora_inicio_sen  hora_fin_cos  hora_fin_sen  inicio_mes  \\\n",
       "0         0.130310         0.991473     -0.953344      0.301885       False   \n",
       "1        -0.066346        -0.997797     -0.623880      0.781520       False   \n",
       "2              NaN              NaN           NaN           NaN         NaN   \n",
       "3        -0.915575         0.402148      0.918734      0.394877       False   \n",
       "4              NaN              NaN           NaN           NaN         NaN   \n",
       "\n",
       "   fin_mes  \n",
       "0    False  \n",
       "1    False  \n",
       "2      NaN  \n",
       "3    False  \n",
       "4      NaN  \n",
       "\n",
       "[5 rows x 47 columns]"
      ]
     },
     "execution_count": 140,
     "metadata": {},
     "output_type": "execute_result"
    }
   ],
   "source": [
    "df_avisos_detalles_final.head()"
   ]
  },
  {
   "cell_type": "code",
   "execution_count": 118,
   "metadata": {
    "collapsed": true
   },
   "outputs": [],
   "source": [
    "postulaciones_total = postulaciones.loc[:, ['idaviso', 'idpostulante']].rename(columns={'idaviso':'postu_postulante'})\\\n",
    "                .groupby('idpostulante').count().reset_index()"
   ]
  },
  {
   "cell_type": "code",
   "execution_count": 120,
   "metadata": {
    "collapsed": true
   },
   "outputs": [],
   "source": [
    "df_postulantes = pd.merge(df_postulantes, postulaciones_total, on=['idpostulante'], how='left')"
   ]
  },
  {
   "cell_type": "code",
   "execution_count": 121,
   "metadata": {
    "collapsed": true
   },
   "outputs": [],
   "source": [
    "def fill_vistas_postu(row):\n",
    "    if((np.isnan(row['vistas_postulante'])) & (np.isnan(row['postu_postulante']) == False)):\n",
    "        return row['postu_postulante']\n",
    "    elif((np.isnan(row['vistas_postulante']) == False) & (np.isnan(row['postu_postulante']) == False)):\n",
    "        if(row['postu_postulante']>row['vistas_postulante']):\n",
    "            return row['postu_postulante']\n",
    "        \n",
    "    return row['vistas_postulante']"
   ]
  },
  {
   "cell_type": "code",
   "execution_count": 122,
   "metadata": {
    "collapsed": true
   },
   "outputs": [],
   "source": [
    "df_postulantes['vistas_postulante'] = df_postulantes.apply(fill_vistas_postu, axis=1)"
   ]
  },
  {
   "cell_type": "code",
   "execution_count": 122,
   "metadata": {},
   "outputs": [
    {
     "data": {
      "text/html": [
       "<div>\n",
       "<style>\n",
       "    .dataframe thead tr:only-child th {\n",
       "        text-align: right;\n",
       "    }\n",
       "\n",
       "    .dataframe thead th {\n",
       "        text-align: left;\n",
       "    }\n",
       "\n",
       "    .dataframe tbody tr th {\n",
       "        vertical-align: top;\n",
       "    }\n",
       "</style>\n",
       "<table border=\"1\" class=\"dataframe\">\n",
       "  <thead>\n",
       "    <tr style=\"text-align: right;\">\n",
       "      <th></th>\n",
       "      <th>idpostulante</th>\n",
       "      <th>nombre</th>\n",
       "      <th>estado</th>\n",
       "      <th>sexo</th>\n",
       "      <th>edad</th>\n",
       "      <th>vistas_postulante</th>\n",
       "      <th>cant_dias_actividad</th>\n",
       "      <th>dia_inicio_actividad</th>\n",
       "      <th>dia_fin_actividad</th>\n",
       "      <th>postu_postulante</th>\n",
       "    </tr>\n",
       "  </thead>\n",
       "  <tbody>\n",
       "    <tr>\n",
       "      <th>0</th>\n",
       "      <td>NdJl</td>\n",
       "      <td>4.0</td>\n",
       "      <td>1.0</td>\n",
       "      <td>2</td>\n",
       "      <td>49.0</td>\n",
       "      <td>141.0</td>\n",
       "      <td>103.0</td>\n",
       "      <td>16.0</td>\n",
       "      <td>120.0</td>\n",
       "      <td>30.0</td>\n",
       "    </tr>\n",
       "    <tr>\n",
       "      <th>1</th>\n",
       "      <td>1d2B</td>\n",
       "      <td>3.0</td>\n",
       "      <td>1.0</td>\n",
       "      <td>2</td>\n",
       "      <td>42.0</td>\n",
       "      <td>4.0</td>\n",
       "      <td>7.0</td>\n",
       "      <td>50.0</td>\n",
       "      <td>57.0</td>\n",
       "      <td>4.0</td>\n",
       "    </tr>\n",
       "    <tr>\n",
       "      <th>2</th>\n",
       "      <td>NPBx</td>\n",
       "      <td>5.0</td>\n",
       "      <td>1.0</td>\n",
       "      <td>2</td>\n",
       "      <td>37.0</td>\n",
       "      <td>34.0</td>\n",
       "      <td>99.0</td>\n",
       "      <td>19.0</td>\n",
       "      <td>118.0</td>\n",
       "      <td>34.0</td>\n",
       "    </tr>\n",
       "    <tr>\n",
       "      <th>3</th>\n",
       "      <td>ZKl5</td>\n",
       "      <td>5.0</td>\n",
       "      <td>1.0</td>\n",
       "      <td>2</td>\n",
       "      <td>44.0</td>\n",
       "      <td>47.0</td>\n",
       "      <td>89.0</td>\n",
       "      <td>18.0</td>\n",
       "      <td>107.0</td>\n",
       "      <td>11.0</td>\n",
       "    </tr>\n",
       "    <tr>\n",
       "      <th>4</th>\n",
       "      <td>Y043Z</td>\n",
       "      <td>3.0</td>\n",
       "      <td>1.0</td>\n",
       "      <td>2</td>\n",
       "      <td>39.0</td>\n",
       "      <td>12.0</td>\n",
       "      <td>50.0</td>\n",
       "      <td>45.0</td>\n",
       "      <td>95.0</td>\n",
       "      <td>4.0</td>\n",
       "    </tr>\n",
       "  </tbody>\n",
       "</table>\n",
       "</div>"
      ],
      "text/plain": [
       "  idpostulante  nombre  estado  sexo  edad  vistas_postulante  \\\n",
       "0         NdJl     4.0     1.0     2  49.0              141.0   \n",
       "1         1d2B     3.0     1.0     2  42.0                4.0   \n",
       "2         NPBx     5.0     1.0     2  37.0               34.0   \n",
       "3         ZKl5     5.0     1.0     2  44.0               47.0   \n",
       "4        Y043Z     3.0     1.0     2  39.0               12.0   \n",
       "\n",
       "   cant_dias_actividad  dia_inicio_actividad  dia_fin_actividad  \\\n",
       "0                103.0                  16.0              120.0   \n",
       "1                  7.0                  50.0               57.0   \n",
       "2                 99.0                  19.0              118.0   \n",
       "3                 89.0                  18.0              107.0   \n",
       "4                 50.0                  45.0               95.0   \n",
       "\n",
       "   postu_postulante  \n",
       "0              30.0  \n",
       "1               4.0  \n",
       "2              34.0  \n",
       "3              11.0  \n",
       "4               4.0  "
      ]
     },
     "execution_count": 122,
     "metadata": {},
     "output_type": "execute_result"
    }
   ],
   "source": [
    "df_postulantes.head()"
   ]
  },
  {
   "cell_type": "code",
   "execution_count": 123,
   "metadata": {
    "collapsed": true
   },
   "outputs": [],
   "source": [
    "if (armar_dataset == PREDICT):\n",
    "    df_postulantes.to_csv('Predecir/postulantes_datos_predict.csv')\n",
    "else:\n",
    "    df_postulantes.to_csv('Predecir/postulantes_datos_train.csv')"
   ]
  },
  {
   "cell_type": "markdown",
   "metadata": {},
   "source": [
    "# Postulaciones con postulantes (To train)"
   ]
  },
  {
   "cell_type": "code",
   "execution_count": 124,
   "metadata": {},
   "outputs": [
    {
     "data": {
      "text/html": [
       "<div>\n",
       "<style>\n",
       "    .dataframe thead tr:only-child th {\n",
       "        text-align: right;\n",
       "    }\n",
       "\n",
       "    .dataframe thead th {\n",
       "        text-align: left;\n",
       "    }\n",
       "\n",
       "    .dataframe tbody tr th {\n",
       "        vertical-align: top;\n",
       "    }\n",
       "</style>\n",
       "<table border=\"1\" class=\"dataframe\">\n",
       "  <thead>\n",
       "    <tr style=\"text-align: right;\">\n",
       "      <th></th>\n",
       "      <th>idaviso</th>\n",
       "      <th>idpostulante</th>\n",
       "      <th>fechapostulacion</th>\n",
       "    </tr>\n",
       "  </thead>\n",
       "  <tbody>\n",
       "    <tr>\n",
       "      <th>0</th>\n",
       "      <td>1112257047</td>\n",
       "      <td>NM5M</td>\n",
       "      <td>2018-01-15 16:22:34</td>\n",
       "    </tr>\n",
       "    <tr>\n",
       "      <th>1</th>\n",
       "      <td>1111920714</td>\n",
       "      <td>NM5M</td>\n",
       "      <td>2018-02-06 09:04:50</td>\n",
       "    </tr>\n",
       "    <tr>\n",
       "      <th>2</th>\n",
       "      <td>1112346945</td>\n",
       "      <td>NM5M</td>\n",
       "      <td>2018-02-22 09:04:47</td>\n",
       "    </tr>\n",
       "    <tr>\n",
       "      <th>3</th>\n",
       "      <td>1112345547</td>\n",
       "      <td>NM5M</td>\n",
       "      <td>2018-02-22 09:04:59</td>\n",
       "    </tr>\n",
       "    <tr>\n",
       "      <th>4</th>\n",
       "      <td>1112237522</td>\n",
       "      <td>5awk</td>\n",
       "      <td>2018-01-25 18:55:03</td>\n",
       "    </tr>\n",
       "  </tbody>\n",
       "</table>\n",
       "</div>"
      ],
      "text/plain": [
       "      idaviso idpostulante    fechapostulacion\n",
       "0  1112257047         NM5M 2018-01-15 16:22:34\n",
       "1  1111920714         NM5M 2018-02-06 09:04:50\n",
       "2  1112346945         NM5M 2018-02-22 09:04:47\n",
       "3  1112345547         NM5M 2018-02-22 09:04:59\n",
       "4  1112237522         5awk 2018-01-25 18:55:03"
      ]
     },
     "execution_count": 124,
     "metadata": {},
     "output_type": "execute_result"
    }
   ],
   "source": [
    "postulaciones.head()"
   ]
  },
  {
   "cell_type": "code",
   "execution_count": 122,
   "metadata": {
    "collapsed": true
   },
   "outputs": [],
   "source": [
    "del postulaciones['fechapostulacion']"
   ]
  },
  {
   "cell_type": "code",
   "execution_count": 123,
   "metadata": {
    "collapsed": true
   },
   "outputs": [],
   "source": [
    "postulaciones.to_csv('Predecir/postulaciones_train.csv')"
   ]
  },
  {
   "cell_type": "code",
   "execution_count": 124,
   "metadata": {
    "collapsed": true
   },
   "outputs": [],
   "source": [
    "if (armar_dataset == PREDICT):\n",
    "    vistas.to_csv('Predecir/vistas_predict.csv')\n",
    "else:\n",
    "    vistas.to_csv('Predecir/vistas_train.csv')"
   ]
  }
 ],
 "metadata": {
  "kernelspec": {
   "display_name": "Python 3",
   "language": "python",
   "name": "python3"
  },
  "language_info": {
   "codemirror_mode": {
    "name": "ipython",
    "version": 3
   },
   "file_extension": ".py",
   "mimetype": "text/x-python",
   "name": "python",
   "nbconvert_exporter": "python",
   "pygments_lexer": "ipython3",
   "version": "3.6.1"
  }
 },
 "nbformat": 4,
 "nbformat_minor": 2
}
