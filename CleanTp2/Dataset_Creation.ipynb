{
 "cells": [
  {
   "cell_type": "code",
   "execution_count": 1,
   "metadata": {
    "collapsed": true
   },
   "outputs": [],
   "source": [
    "import pandas as pd\n",
    "import matplotlib.pyplot as plt\n",
    "import numpy as np\n",
    "%matplotlib inline"
   ]
  },
  {
   "cell_type": "code",
   "execution_count": 2,
   "metadata": {
    "collapsed": true
   },
   "outputs": [],
   "source": [
    "df_postulantes_edu_original = pd.read_csv('Originales/fiuba_1_postulantes_educacion.csv')\n",
    "df_postulantes_datos_original = pd.read_csv('Originales/fiuba_2_postulantes_genero_y_edad.csv')\n",
    "df_postulantes_vistas_original = pd.read_csv('Originales/fiuba_3_vistas.csv')\n",
    "df_postulaciones_original = pd.read_csv('Originales/fiuba_4_postulaciones.csv')\n",
    "df_avisos_online_original = pd.read_csv('Originales/fiuba_5_avisos_online.csv')\n",
    "df_avisos_detalles_original = pd.read_csv('Originales/fiuba_6_avisos_detalle.csv')"
   ]
  },
  {
   "cell_type": "code",
   "execution_count": 3,
   "metadata": {
    "collapsed": true
   },
   "outputs": [],
   "source": [
    "df_postulantes_edu_nuevo = pd.read_csv('Nuevos hasta 15 abril/fiuba_1_postulantes_educacion.csv')\n",
    "df_postulantes_datos_nuevo = pd.read_csv('Nuevos hasta 15 abril/fiuba_2_postulantes_genero_y_edad.csv')\n",
    "df_postulantes_vistas_nuevo = pd.read_csv('Nuevos hasta 15 abril/fiuba_3_vistas.csv')\n",
    "df_postulaciones_nuevo = pd.read_csv('Nuevos hasta 15 abril/fiuba_4_postulaciones.csv')\n",
    "df_avisos_online_nuevo = pd.read_csv('Nuevos hasta 15 abril/fiuba_5_avisos_online.csv')\n",
    "df_avisos_detalles_nuevo = pd.read_csv('Nuevos hasta 15 abril/fiuba_6_avisos_detalle.csv')"
   ]
  },
  {
   "cell_type": "code",
   "execution_count": 4,
   "metadata": {
    "collapsed": true
   },
   "outputs": [],
   "source": [
    "df_postulantes_edu_desde = pd.read_csv('Desde 15 abril/fiuba_1_postulantes_educacion.csv')\n",
    "df_postulantes_datos_desde = pd.read_csv('Desde 15 abril/fiuba_2_postulantes_genero_y_edad.csv')\n",
    "df_postulantes_vistas_desde = pd.read_csv('Desde 15 abril/fiuba_3_vistas.csv')\n",
    "df_avisos_detalles_desde = pd.read_csv('Desde 15 abril/fiuba_6_avisos_detalle.csv')"
   ]
  },
  {
   "cell_type": "code",
   "execution_count": 4,
   "metadata": {
    "collapsed": true
   },
   "outputs": [],
   "source": [
    "df_avisos_detalles_faltantes = pd.read_csv('fiuba_6_avisos_detalle_missing_nivel_laboral.csv')"
   ]
  },
  {
   "cell_type": "markdown",
   "metadata": {},
   "source": [
    "# Detalles de avisos"
   ]
  },
  {
   "cell_type": "markdown",
   "metadata": {},
   "source": [
    "Veamos el tamaño de los detalles de avisos para generar un dataset para entrenar"
   ]
  },
  {
   "cell_type": "code",
   "execution_count": 5,
   "metadata": {},
   "outputs": [
    {
     "data": {
      "text/plain": [
       "(13534, 11)"
      ]
     },
     "execution_count": 5,
     "metadata": {},
     "output_type": "execute_result"
    }
   ],
   "source": [
    "df_avisos_detalles_original.shape"
   ]
  },
  {
   "cell_type": "code",
   "execution_count": 6,
   "metadata": {},
   "outputs": [
    {
     "data": {
      "text/plain": [
       "(18299, 11)"
      ]
     },
     "execution_count": 6,
     "metadata": {},
     "output_type": "execute_result"
    }
   ],
   "source": [
    "df_avisos_detalles_nuevo.shape"
   ]
  },
  {
   "cell_type": "code",
   "execution_count": 8,
   "metadata": {},
   "outputs": [
    {
     "data": {
      "text/plain": [
       "(338, 11)"
      ]
     },
     "execution_count": 8,
     "metadata": {},
     "output_type": "execute_result"
    }
   ],
   "source": [
    "df_avisos_detalles_faltantes.shape"
   ]
  },
  {
   "cell_type": "markdown",
   "metadata": {},
   "source": [
    "Juntamos todo"
   ]
  },
  {
   "cell_type": "code",
   "execution_count": 5,
   "metadata": {
    "collapsed": true
   },
   "outputs": [],
   "source": [
    "df_avisos_detalles = pd.concat([df_avisos_detalles_original, df_avisos_detalles_nuevo, df_avisos_detalles_faltantes])"
   ]
  },
  {
   "cell_type": "code",
   "execution_count": 6,
   "metadata": {},
   "outputs": [
    {
     "data": {
      "text/plain": [
       "(32171, 11)"
      ]
     },
     "execution_count": 6,
     "metadata": {},
     "output_type": "execute_result"
    }
   ],
   "source": [
    "df_avisos_detalles.shape"
   ]
  },
  {
   "cell_type": "markdown",
   "metadata": {},
   "source": [
    "Eliminamos duplicados (No tiene sentido que hayan avisos exactamente iguales, es decir, mismo Id de aviso)"
   ]
  },
  {
   "cell_type": "code",
   "execution_count": 7,
   "metadata": {
    "collapsed": true
   },
   "outputs": [],
   "source": [
    "df_avisos_detalles = df_avisos_detalles.drop_duplicates(subset='idaviso')"
   ]
  },
  {
   "cell_type": "code",
   "execution_count": 11,
   "metadata": {},
   "outputs": [
    {
     "data": {
      "text/plain": [
       "(19696, 11)"
      ]
     },
     "execution_count": 11,
     "metadata": {},
     "output_type": "execute_result"
    }
   ],
   "source": [
    "df_avisos_detalles.shape"
   ]
  },
  {
   "cell_type": "markdown",
   "metadata": {},
   "source": [
    "Veamos las columnas utiles"
   ]
  },
  {
   "cell_type": "code",
   "execution_count": 12,
   "metadata": {},
   "outputs": [
    {
     "data": {
      "text/plain": [
       "Index(['idaviso', 'idpais', 'titulo', 'descripcion', 'nombre_zona', 'ciudad',\n",
       "       'mapacalle', 'tipo_de_trabajo', 'nivel_laboral', 'nombre_area',\n",
       "       'denominacion_empresa'],\n",
       "      dtype='object')"
      ]
     },
     "execution_count": 12,
     "metadata": {},
     "output_type": "execute_result"
    }
   ],
   "source": [
    "df_avisos_detalles.columns"
   ]
  },
  {
   "cell_type": "markdown",
   "metadata": {},
   "source": [
    "Descartamos las que tengan mayoria de valors nulos, no aportan información relevante"
   ]
  },
  {
   "cell_type": "code",
   "execution_count": 13,
   "metadata": {},
   "outputs": [
    {
     "data": {
      "text/plain": [
       "18052"
      ]
     },
     "execution_count": 13,
     "metadata": {},
     "output_type": "execute_result"
    }
   ],
   "source": [
    "df_avisos_detalles['mapacalle'].isnull().sum()"
   ]
  },
  {
   "cell_type": "code",
   "execution_count": 14,
   "metadata": {},
   "outputs": [
    {
     "data": {
      "text/plain": [
       "19598"
      ]
     },
     "execution_count": 14,
     "metadata": {},
     "output_type": "execute_result"
    }
   ],
   "source": [
    "df_avisos_detalles['ciudad'].isnull().sum()"
   ]
  },
  {
   "cell_type": "code",
   "execution_count": 8,
   "metadata": {
    "collapsed": true
   },
   "outputs": [],
   "source": [
    "del df_avisos_detalles['mapacalle']\n",
    "del df_avisos_detalles['ciudad']"
   ]
  },
  {
   "cell_type": "markdown",
   "metadata": {},
   "source": [
    "El pais es único y está en todos los datos, no aporta nada"
   ]
  },
  {
   "cell_type": "code",
   "execution_count": 16,
   "metadata": {},
   "outputs": [
    {
     "data": {
      "text/plain": [
       "1"
      ]
     },
     "execution_count": 16,
     "metadata": {},
     "output_type": "execute_result"
    }
   ],
   "source": [
    "df_avisos_detalles['idpais'].nunique()"
   ]
  },
  {
   "cell_type": "code",
   "execution_count": 17,
   "metadata": {},
   "outputs": [
    {
     "data": {
      "text/plain": [
       "0"
      ]
     },
     "execution_count": 17,
     "metadata": {},
     "output_type": "execute_result"
    }
   ],
   "source": [
    "df_avisos_detalles['idpais'].isnull().sum()"
   ]
  },
  {
   "cell_type": "code",
   "execution_count": 9,
   "metadata": {
    "collapsed": true
   },
   "outputs": [],
   "source": [
    "del df_avisos_detalles['idpais']"
   ]
  },
  {
   "cell_type": "code",
   "execution_count": 19,
   "metadata": {},
   "outputs": [
    {
     "data": {
      "text/plain": [
       "0"
      ]
     },
     "execution_count": 19,
     "metadata": {},
     "output_type": "execute_result"
    }
   ],
   "source": [
    "df_avisos_detalles['nombre_zona'].isnull().sum()"
   ]
  },
  {
   "cell_type": "code",
   "execution_count": 20,
   "metadata": {},
   "outputs": [
    {
     "data": {
      "text/plain": [
       "Gran Buenos Aires              18022\n",
       "Capital Federal                 1645\n",
       "Buenos Aires (fuera de GBA)       17\n",
       "GBA Oeste                         10\n",
       "Corrientes                         1\n",
       "Cordoba                            1\n",
       "Name: nombre_zona, dtype: int64"
      ]
     },
     "execution_count": 20,
     "metadata": {},
     "output_type": "execute_result"
    }
   ],
   "source": [
    "df_avisos_detalles['nombre_zona'].value_counts()"
   ]
  },
  {
   "cell_type": "code",
   "execution_count": 10,
   "metadata": {
    "collapsed": true
   },
   "outputs": [],
   "source": [
    "del df_avisos_detalles['nombre_zona']"
   ]
  },
  {
   "cell_type": "code",
   "execution_count": null,
   "metadata": {
    "collapsed": true
   },
   "outputs": [],
   "source": []
  },
  {
   "cell_type": "code",
   "execution_count": null,
   "metadata": {
    "collapsed": true
   },
   "outputs": [],
   "source": []
  },
  {
   "cell_type": "markdown",
   "metadata": {},
   "source": [
    "Nos quedamos con"
   ]
  },
  {
   "cell_type": "code",
   "execution_count": 22,
   "metadata": {},
   "outputs": [
    {
     "data": {
      "text/plain": [
       "Index(['idaviso', 'titulo', 'descripcion', 'tipo_de_trabajo', 'nivel_laboral',\n",
       "       'nombre_area', 'denominacion_empresa'],\n",
       "      dtype='object')"
      ]
     },
     "execution_count": 22,
     "metadata": {},
     "output_type": "execute_result"
    }
   ],
   "source": [
    "df_avisos_detalles.columns"
   ]
  },
  {
   "cell_type": "markdown",
   "metadata": {},
   "source": [
    "Parseamos el titulo y la descripción para sacar datos relevantes y generar nuevos features"
   ]
  },
  {
   "cell_type": "code",
   "execution_count": 11,
   "metadata": {
    "collapsed": true
   },
   "outputs": [],
   "source": [
    "def lowercase_descripcion(row):\n",
    "    if pd.isnull(row['descripcion']):\n",
    "        return row['descripcion']   \n",
    "    \n",
    "    return row['descripcion'].lower()\n",
    "\n",
    "def lowercase_titulo(row):\n",
    "    if pd.isnull(row['titulo']):\n",
    "        return row['titulo']   \n",
    "    \n",
    "    return row['titulo'].lower()"
   ]
  },
  {
   "cell_type": "code",
   "execution_count": 12,
   "metadata": {
    "collapsed": true
   },
   "outputs": [],
   "source": [
    "df_avisos_detalles['descripcion'] = df_avisos_detalles.apply(lowercase_descripcion, axis=1)\n",
    "df_avisos_detalles['titulo'] = df_avisos_detalles.apply(lowercase_titulo, axis=1)"
   ]
  },
  {
   "cell_type": "code",
   "execution_count": 13,
   "metadata": {},
   "outputs": [
    {
     "data": {
      "text/html": [
       "<div>\n",
       "<style>\n",
       "    .dataframe thead tr:only-child th {\n",
       "        text-align: right;\n",
       "    }\n",
       "\n",
       "    .dataframe thead th {\n",
       "        text-align: left;\n",
       "    }\n",
       "\n",
       "    .dataframe tbody tr th {\n",
       "        vertical-align: top;\n",
       "    }\n",
       "</style>\n",
       "<table border=\"1\" class=\"dataframe\">\n",
       "  <thead>\n",
       "    <tr style=\"text-align: right;\">\n",
       "      <th></th>\n",
       "      <th>idaviso</th>\n",
       "      <th>titulo</th>\n",
       "      <th>descripcion</th>\n",
       "      <th>tipo_de_trabajo</th>\n",
       "      <th>nivel_laboral</th>\n",
       "      <th>nombre_area</th>\n",
       "      <th>denominacion_empresa</th>\n",
       "    </tr>\n",
       "  </thead>\n",
       "  <tbody>\n",
       "    <tr>\n",
       "      <th>0</th>\n",
       "      <td>8725750</td>\n",
       "      <td>vendedor/a provincia de santa fe</td>\n",
       "      <td>&lt;p&gt;&lt;strong&gt;&lt;strong&gt;empresa:&lt;/strong&gt;&lt;/strong&gt; ...</td>\n",
       "      <td>Full-time</td>\n",
       "      <td>Senior / Semi-Senior</td>\n",
       "      <td>Comercial</td>\n",
       "      <td>VENTOR</td>\n",
       "    </tr>\n",
       "    <tr>\n",
       "      <th>1</th>\n",
       "      <td>17903700</td>\n",
       "      <td>enfermeras</td>\n",
       "      <td>&lt;p&gt;solicitamos para importante cadena de farma...</td>\n",
       "      <td>Full-time</td>\n",
       "      <td>Senior / Semi-Senior</td>\n",
       "      <td>Salud</td>\n",
       "      <td>Farmacias Central Oeste</td>\n",
       "    </tr>\n",
       "    <tr>\n",
       "      <th>2</th>\n",
       "      <td>1000150677</td>\n",
       "      <td>chofer de taxi</td>\n",
       "      <td>&lt;p&gt;te gusta manejar? queres ganar plata hacien...</td>\n",
       "      <td>Full-time</td>\n",
       "      <td>Senior / Semi-Senior</td>\n",
       "      <td>Transporte</td>\n",
       "      <td>FAMITAX SRL</td>\n",
       "    </tr>\n",
       "    <tr>\n",
       "      <th>3</th>\n",
       "      <td>1000610287</td>\n",
       "      <td>chofer de camioneta bahia blanca - punta alta</td>\n",
       "      <td>&lt;p&gt;&lt;strong&gt;somos una empresa multinacional que...</td>\n",
       "      <td>Full-time</td>\n",
       "      <td>Senior / Semi-Senior</td>\n",
       "      <td>Transporte</td>\n",
       "      <td>Wurth Argentina S.A</td>\n",
       "    </tr>\n",
       "    <tr>\n",
       "      <th>4</th>\n",
       "      <td>1000872556</td>\n",
       "      <td>operarios de planta - rubro electrodomésticos</td>\n",
       "      <td>&lt;p&gt;&lt;strong&gt;operarios de planta&lt;/strong&gt;&lt;/p&gt;&lt;p&gt;...</td>\n",
       "      <td>Full-time</td>\n",
       "      <td>Senior / Semi-Senior</td>\n",
       "      <td>Producción</td>\n",
       "      <td>ELECTRO OUTLET SRL</td>\n",
       "    </tr>\n",
       "  </tbody>\n",
       "</table>\n",
       "</div>"
      ],
      "text/plain": [
       "      idaviso                                         titulo  \\\n",
       "0     8725750               vendedor/a provincia de santa fe   \n",
       "1    17903700                                     enfermeras   \n",
       "2  1000150677                                 chofer de taxi   \n",
       "3  1000610287  chofer de camioneta bahia blanca - punta alta   \n",
       "4  1000872556  operarios de planta - rubro electrodomésticos   \n",
       "\n",
       "                                         descripcion tipo_de_trabajo  \\\n",
       "0  <p><strong><strong>empresa:</strong></strong> ...       Full-time   \n",
       "1  <p>solicitamos para importante cadena de farma...       Full-time   \n",
       "2  <p>te gusta manejar? queres ganar plata hacien...       Full-time   \n",
       "3  <p><strong>somos una empresa multinacional que...       Full-time   \n",
       "4  <p><strong>operarios de planta</strong></p><p>...       Full-time   \n",
       "\n",
       "          nivel_laboral nombre_area     denominacion_empresa  \n",
       "0  Senior / Semi-Senior   Comercial                   VENTOR  \n",
       "1  Senior / Semi-Senior       Salud  Farmacias Central Oeste  \n",
       "2  Senior / Semi-Senior  Transporte              FAMITAX SRL  \n",
       "3  Senior / Semi-Senior  Transporte      Wurth Argentina S.A  \n",
       "4  Senior / Semi-Senior  Producción       ELECTRO OUTLET SRL  "
      ]
     },
     "execution_count": 13,
     "metadata": {},
     "output_type": "execute_result"
    }
   ],
   "source": [
    "df_avisos_detalles.head()"
   ]
  },
  {
   "cell_type": "code",
   "execution_count": 14,
   "metadata": {
    "collapsed": true
   },
   "outputs": [],
   "source": [
    "def extra(row, list_of_words):\n",
    "    if pd.isnull(row['descripcion']) and pd.isnull(row['titulo']):\n",
    "        return 0\n",
    "    for word in list_of_words:\n",
    "        if word in row['descripcion'] or word in row['titulo']:\n",
    "            return 1\n",
    "    return 0"
   ]
  },
  {
   "cell_type": "code",
   "execution_count": 15,
   "metadata": {
    "collapsed": true
   },
   "outputs": [],
   "source": [
    "pal_claves = {\n",
    "    'web' : ['web', 'pagina', 'página'],\n",
    "    'crecimiento' : ['crecim', 'progre'],\n",
    "    'capacitacion' : ['aprender', 'aprendiza', 'capacitar', 'capacitacion', 'capacitación'],\n",
    "    'clima laboral' : ['excelente cl', 'clima'],\n",
    "    'multinacional' : ['multin', 'internacional'],\n",
    "    'incorp_inmediata' : ['incorporación', 'incorporacion'],\n",
    "    'disponibilidad_horaria' : ['fines de sem', 'sábado', 'sabado', 'domingo', 'feriado', 'rotativo'],\n",
    "    'disponibilidad_viajar' : ['viaje', 'viajar'],\n",
    "    'flexibilidad' : ['flexi'],\n",
    "    'secundario' : ['secundario compl'],\n",
    "    'terciario' : ['terciario'],\n",
    "    'ingles' : ['inglés', 'ingles'],\n",
    "    'estudiantes' : ['universi', 'estudiant'],\n",
    "    'conoc_informatica' : ['excel', 'word', 'office'],\n",
    "    'experiencia' : ['años de exp', 'experiencia'],\n",
    "    'proactivo' : ['proactiv'],\n",
    "    'relaciones_pers' : ['relaciones', 'personales'],\n",
    "    'desarrollador' : ['desarr'],\n",
    "    'cajero' : ['cajero'],\n",
    "    'vendedor' : ['vended'],\n",
    "    'ingeniero' : ['ingeni'],\n",
    "    'analista' : ['analis'],\n",
    "    'administrativo' : ['administra'],\n",
    "    'junior' : ['jr', 'junior'],\n",
    "    'jefe' : ['jefe'],\n",
    "    'marketing' : ['marke', 'tele'],\n",
    "    'supervisor' : ['superv']\n",
    "}\n",
    "\n",
    "for k, v in pal_claves.items():\n",
    "    df_avisos_detalles[k] = df_avisos_detalles.apply((lambda x: extra(x, v)), axis=1)"
   ]
  },
  {
   "cell_type": "code",
   "execution_count": 16,
   "metadata": {
    "collapsed": true
   },
   "outputs": [],
   "source": [
    "del df_avisos_detalles['descripcion']\n",
    "del df_avisos_detalles['titulo']"
   ]
  },
  {
   "cell_type": "code",
   "execution_count": 17,
   "metadata": {},
   "outputs": [
    {
     "data": {
      "text/plain": [
       "(19696, 32)"
      ]
     },
     "execution_count": 17,
     "metadata": {},
     "output_type": "execute_result"
    }
   ],
   "source": [
    "df_avisos_detalles.shape"
   ]
  },
  {
   "cell_type": "code",
   "execution_count": 18,
   "metadata": {},
   "outputs": [
    {
     "data": {
      "text/html": [
       "<div>\n",
       "<style>\n",
       "    .dataframe thead tr:only-child th {\n",
       "        text-align: right;\n",
       "    }\n",
       "\n",
       "    .dataframe thead th {\n",
       "        text-align: left;\n",
       "    }\n",
       "\n",
       "    .dataframe tbody tr th {\n",
       "        vertical-align: top;\n",
       "    }\n",
       "</style>\n",
       "<table border=\"1\" class=\"dataframe\">\n",
       "  <thead>\n",
       "    <tr style=\"text-align: right;\">\n",
       "      <th></th>\n",
       "      <th>idaviso</th>\n",
       "      <th>tipo_de_trabajo</th>\n",
       "      <th>nivel_laboral</th>\n",
       "      <th>nombre_area</th>\n",
       "      <th>denominacion_empresa</th>\n",
       "      <th>web</th>\n",
       "      <th>crecimiento</th>\n",
       "      <th>capacitacion</th>\n",
       "      <th>clima laboral</th>\n",
       "      <th>multinacional</th>\n",
       "      <th>...</th>\n",
       "      <th>desarrollador</th>\n",
       "      <th>cajero</th>\n",
       "      <th>vendedor</th>\n",
       "      <th>ingeniero</th>\n",
       "      <th>analista</th>\n",
       "      <th>administrativo</th>\n",
       "      <th>junior</th>\n",
       "      <th>jefe</th>\n",
       "      <th>marketing</th>\n",
       "      <th>supervisor</th>\n",
       "    </tr>\n",
       "  </thead>\n",
       "  <tbody>\n",
       "    <tr>\n",
       "      <th>0</th>\n",
       "      <td>8725750</td>\n",
       "      <td>Full-time</td>\n",
       "      <td>Senior / Semi-Senior</td>\n",
       "      <td>Comercial</td>\n",
       "      <td>VENTOR</td>\n",
       "      <td>0</td>\n",
       "      <td>0</td>\n",
       "      <td>1</td>\n",
       "      <td>0</td>\n",
       "      <td>0</td>\n",
       "      <td>...</td>\n",
       "      <td>0</td>\n",
       "      <td>0</td>\n",
       "      <td>1</td>\n",
       "      <td>0</td>\n",
       "      <td>0</td>\n",
       "      <td>0</td>\n",
       "      <td>0</td>\n",
       "      <td>0</td>\n",
       "      <td>0</td>\n",
       "      <td>0</td>\n",
       "    </tr>\n",
       "    <tr>\n",
       "      <th>1</th>\n",
       "      <td>17903700</td>\n",
       "      <td>Full-time</td>\n",
       "      <td>Senior / Semi-Senior</td>\n",
       "      <td>Salud</td>\n",
       "      <td>Farmacias Central Oeste</td>\n",
       "      <td>0</td>\n",
       "      <td>0</td>\n",
       "      <td>0</td>\n",
       "      <td>0</td>\n",
       "      <td>0</td>\n",
       "      <td>...</td>\n",
       "      <td>0</td>\n",
       "      <td>0</td>\n",
       "      <td>0</td>\n",
       "      <td>0</td>\n",
       "      <td>0</td>\n",
       "      <td>0</td>\n",
       "      <td>0</td>\n",
       "      <td>0</td>\n",
       "      <td>0</td>\n",
       "      <td>0</td>\n",
       "    </tr>\n",
       "    <tr>\n",
       "      <th>2</th>\n",
       "      <td>1000150677</td>\n",
       "      <td>Full-time</td>\n",
       "      <td>Senior / Semi-Senior</td>\n",
       "      <td>Transporte</td>\n",
       "      <td>FAMITAX SRL</td>\n",
       "      <td>0</td>\n",
       "      <td>0</td>\n",
       "      <td>0</td>\n",
       "      <td>0</td>\n",
       "      <td>0</td>\n",
       "      <td>...</td>\n",
       "      <td>0</td>\n",
       "      <td>0</td>\n",
       "      <td>0</td>\n",
       "      <td>0</td>\n",
       "      <td>0</td>\n",
       "      <td>0</td>\n",
       "      <td>0</td>\n",
       "      <td>0</td>\n",
       "      <td>0</td>\n",
       "      <td>0</td>\n",
       "    </tr>\n",
       "    <tr>\n",
       "      <th>3</th>\n",
       "      <td>1000610287</td>\n",
       "      <td>Full-time</td>\n",
       "      <td>Senior / Semi-Senior</td>\n",
       "      <td>Transporte</td>\n",
       "      <td>Wurth Argentina S.A</td>\n",
       "      <td>0</td>\n",
       "      <td>1</td>\n",
       "      <td>1</td>\n",
       "      <td>0</td>\n",
       "      <td>1</td>\n",
       "      <td>...</td>\n",
       "      <td>0</td>\n",
       "      <td>0</td>\n",
       "      <td>0</td>\n",
       "      <td>0</td>\n",
       "      <td>0</td>\n",
       "      <td>0</td>\n",
       "      <td>0</td>\n",
       "      <td>0</td>\n",
       "      <td>0</td>\n",
       "      <td>0</td>\n",
       "    </tr>\n",
       "    <tr>\n",
       "      <th>4</th>\n",
       "      <td>1000872556</td>\n",
       "      <td>Full-time</td>\n",
       "      <td>Senior / Semi-Senior</td>\n",
       "      <td>Producción</td>\n",
       "      <td>ELECTRO OUTLET SRL</td>\n",
       "      <td>0</td>\n",
       "      <td>0</td>\n",
       "      <td>0</td>\n",
       "      <td>0</td>\n",
       "      <td>0</td>\n",
       "      <td>...</td>\n",
       "      <td>0</td>\n",
       "      <td>0</td>\n",
       "      <td>0</td>\n",
       "      <td>0</td>\n",
       "      <td>0</td>\n",
       "      <td>0</td>\n",
       "      <td>0</td>\n",
       "      <td>0</td>\n",
       "      <td>0</td>\n",
       "      <td>1</td>\n",
       "    </tr>\n",
       "  </tbody>\n",
       "</table>\n",
       "<p>5 rows × 32 columns</p>\n",
       "</div>"
      ],
      "text/plain": [
       "      idaviso tipo_de_trabajo         nivel_laboral nombre_area  \\\n",
       "0     8725750       Full-time  Senior / Semi-Senior   Comercial   \n",
       "1    17903700       Full-time  Senior / Semi-Senior       Salud   \n",
       "2  1000150677       Full-time  Senior / Semi-Senior  Transporte   \n",
       "3  1000610287       Full-time  Senior / Semi-Senior  Transporte   \n",
       "4  1000872556       Full-time  Senior / Semi-Senior  Producción   \n",
       "\n",
       "      denominacion_empresa  web  crecimiento  capacitacion  clima laboral  \\\n",
       "0                   VENTOR    0            0             1              0   \n",
       "1  Farmacias Central Oeste    0            0             0              0   \n",
       "2              FAMITAX SRL    0            0             0              0   \n",
       "3      Wurth Argentina S.A    0            1             1              0   \n",
       "4       ELECTRO OUTLET SRL    0            0             0              0   \n",
       "\n",
       "   multinacional     ...      desarrollador  cajero  vendedor  ingeniero  \\\n",
       "0              0     ...                  0       0         1          0   \n",
       "1              0     ...                  0       0         0          0   \n",
       "2              0     ...                  0       0         0          0   \n",
       "3              1     ...                  0       0         0          0   \n",
       "4              0     ...                  0       0         0          0   \n",
       "\n",
       "   analista  administrativo  junior  jefe  marketing  supervisor  \n",
       "0         0               0       0     0          0           0  \n",
       "1         0               0       0     0          0           0  \n",
       "2         0               0       0     0          0           0  \n",
       "3         0               0       0     0          0           0  \n",
       "4         0               0       0     0          0           1  \n",
       "\n",
       "[5 rows x 32 columns]"
      ]
     },
     "execution_count": 18,
     "metadata": {},
     "output_type": "execute_result"
    }
   ],
   "source": [
    "df_avisos_detalles.head()"
   ]
  },
  {
   "cell_type": "code",
   "execution_count": 19,
   "metadata": {
    "collapsed": true
   },
   "outputs": [],
   "source": [
    "list_tipos_trabajos = []\n",
    "list_nivel_laboral = []\n",
    "list_nombre_area = []\n",
    "list_empresa = []\n",
    "\n",
    "\n",
    "def tipos_trabajos(row):\n",
    "    if pd.isnull(row['tipo_de_trabajo']): #Es nula, seteo valor 0 por defecto\n",
    "        return 0\n",
    "    if row['tipo_de_trabajo'] in list_tipos_trabajos:\n",
    "        return list_tipos_trabajos.index(row['tipo_de_trabajo'])+1\n",
    "    \n",
    "    list_tipos_trabajos.append(row['tipo_de_trabajo'])\n",
    "    \n",
    "    return list_tipos_trabajos.index(row['tipo_de_trabajo'])+1\n",
    "\n",
    "def nivel_laboral(row):\n",
    "    if pd.isnull(row['nivel_laboral']): #Es nula, seteo valor 0 por defecto\n",
    "        return 0\n",
    "    if row['nivel_laboral'] in list_nivel_laboral:\n",
    "        return list_nivel_laboral.index(row['nivel_laboral'])+1\n",
    "    \n",
    "    list_nivel_laboral.append(row['nivel_laboral'])\n",
    "    \n",
    "    return list_nivel_laboral.index(row['nivel_laboral'])+1\n",
    "\n",
    "def nombre_area(row):\n",
    "    if pd.isnull(row['nombre_area']): #Es nula, seteo valor 0 por defecto\n",
    "        return 0\n",
    "    if row['nombre_area'] in list_nombre_area:\n",
    "        return list_nombre_area.index(row['nombre_area'])+1\n",
    "    \n",
    "    list_nombre_area.append(row['nombre_area'])\n",
    "    \n",
    "    return list_nombre_area.index(row['nombre_area'])+1\n",
    "\n",
    "def nombre_empresa(row):\n",
    "    if pd.isnull(row['denominacion_empresa']): #Es nula, seteo valor 0 por defecto\n",
    "        return 0\n",
    "    if row['denominacion_empresa'] in list_empresa:\n",
    "        return list_empresa.index(row['denominacion_empresa'])+1\n",
    "    \n",
    "    list_empresa.append(row['denominacion_empresa'])\n",
    "    \n",
    "    return list_empresa.index(row['denominacion_empresa'])+1\n",
    "\n",
    "df_avisos_detalles['tipo_de_trabajo'] = df_avisos_detalles.apply(tipos_trabajos, axis=1)\n",
    "df_avisos_detalles['nivel_laboral'] = df_avisos_detalles.apply(nivel_laboral, axis=1)\n",
    "df_avisos_detalles['nombre_area'] = df_avisos_detalles.apply(nombre_area, axis=1)\n",
    "df_avisos_detalles['denominacion_empresa'] = df_avisos_detalles.apply(nombre_empresa, axis=1)"
   ]
  },
  {
   "cell_type": "code",
   "execution_count": 20,
   "metadata": {},
   "outputs": [
    {
     "data": {
      "text/html": [
       "<div>\n",
       "<style>\n",
       "    .dataframe thead tr:only-child th {\n",
       "        text-align: right;\n",
       "    }\n",
       "\n",
       "    .dataframe thead th {\n",
       "        text-align: left;\n",
       "    }\n",
       "\n",
       "    .dataframe tbody tr th {\n",
       "        vertical-align: top;\n",
       "    }\n",
       "</style>\n",
       "<table border=\"1\" class=\"dataframe\">\n",
       "  <thead>\n",
       "    <tr style=\"text-align: right;\">\n",
       "      <th></th>\n",
       "      <th>idaviso</th>\n",
       "      <th>tipo_de_trabajo</th>\n",
       "      <th>nivel_laboral</th>\n",
       "      <th>nombre_area</th>\n",
       "      <th>denominacion_empresa</th>\n",
       "      <th>web</th>\n",
       "      <th>crecimiento</th>\n",
       "      <th>capacitacion</th>\n",
       "      <th>clima laboral</th>\n",
       "      <th>multinacional</th>\n",
       "      <th>...</th>\n",
       "      <th>desarrollador</th>\n",
       "      <th>cajero</th>\n",
       "      <th>vendedor</th>\n",
       "      <th>ingeniero</th>\n",
       "      <th>analista</th>\n",
       "      <th>administrativo</th>\n",
       "      <th>junior</th>\n",
       "      <th>jefe</th>\n",
       "      <th>marketing</th>\n",
       "      <th>supervisor</th>\n",
       "    </tr>\n",
       "  </thead>\n",
       "  <tbody>\n",
       "    <tr>\n",
       "      <th>0</th>\n",
       "      <td>8725750</td>\n",
       "      <td>1</td>\n",
       "      <td>1</td>\n",
       "      <td>1</td>\n",
       "      <td>1</td>\n",
       "      <td>0</td>\n",
       "      <td>0</td>\n",
       "      <td>1</td>\n",
       "      <td>0</td>\n",
       "      <td>0</td>\n",
       "      <td>...</td>\n",
       "      <td>0</td>\n",
       "      <td>0</td>\n",
       "      <td>1</td>\n",
       "      <td>0</td>\n",
       "      <td>0</td>\n",
       "      <td>0</td>\n",
       "      <td>0</td>\n",
       "      <td>0</td>\n",
       "      <td>0</td>\n",
       "      <td>0</td>\n",
       "    </tr>\n",
       "    <tr>\n",
       "      <th>1</th>\n",
       "      <td>17903700</td>\n",
       "      <td>1</td>\n",
       "      <td>1</td>\n",
       "      <td>2</td>\n",
       "      <td>2</td>\n",
       "      <td>0</td>\n",
       "      <td>0</td>\n",
       "      <td>0</td>\n",
       "      <td>0</td>\n",
       "      <td>0</td>\n",
       "      <td>...</td>\n",
       "      <td>0</td>\n",
       "      <td>0</td>\n",
       "      <td>0</td>\n",
       "      <td>0</td>\n",
       "      <td>0</td>\n",
       "      <td>0</td>\n",
       "      <td>0</td>\n",
       "      <td>0</td>\n",
       "      <td>0</td>\n",
       "      <td>0</td>\n",
       "    </tr>\n",
       "    <tr>\n",
       "      <th>2</th>\n",
       "      <td>1000150677</td>\n",
       "      <td>1</td>\n",
       "      <td>1</td>\n",
       "      <td>3</td>\n",
       "      <td>3</td>\n",
       "      <td>0</td>\n",
       "      <td>0</td>\n",
       "      <td>0</td>\n",
       "      <td>0</td>\n",
       "      <td>0</td>\n",
       "      <td>...</td>\n",
       "      <td>0</td>\n",
       "      <td>0</td>\n",
       "      <td>0</td>\n",
       "      <td>0</td>\n",
       "      <td>0</td>\n",
       "      <td>0</td>\n",
       "      <td>0</td>\n",
       "      <td>0</td>\n",
       "      <td>0</td>\n",
       "      <td>0</td>\n",
       "    </tr>\n",
       "    <tr>\n",
       "      <th>3</th>\n",
       "      <td>1000610287</td>\n",
       "      <td>1</td>\n",
       "      <td>1</td>\n",
       "      <td>3</td>\n",
       "      <td>4</td>\n",
       "      <td>0</td>\n",
       "      <td>1</td>\n",
       "      <td>1</td>\n",
       "      <td>0</td>\n",
       "      <td>1</td>\n",
       "      <td>...</td>\n",
       "      <td>0</td>\n",
       "      <td>0</td>\n",
       "      <td>0</td>\n",
       "      <td>0</td>\n",
       "      <td>0</td>\n",
       "      <td>0</td>\n",
       "      <td>0</td>\n",
       "      <td>0</td>\n",
       "      <td>0</td>\n",
       "      <td>0</td>\n",
       "    </tr>\n",
       "    <tr>\n",
       "      <th>4</th>\n",
       "      <td>1000872556</td>\n",
       "      <td>1</td>\n",
       "      <td>1</td>\n",
       "      <td>4</td>\n",
       "      <td>5</td>\n",
       "      <td>0</td>\n",
       "      <td>0</td>\n",
       "      <td>0</td>\n",
       "      <td>0</td>\n",
       "      <td>0</td>\n",
       "      <td>...</td>\n",
       "      <td>0</td>\n",
       "      <td>0</td>\n",
       "      <td>0</td>\n",
       "      <td>0</td>\n",
       "      <td>0</td>\n",
       "      <td>0</td>\n",
       "      <td>0</td>\n",
       "      <td>0</td>\n",
       "      <td>0</td>\n",
       "      <td>1</td>\n",
       "    </tr>\n",
       "  </tbody>\n",
       "</table>\n",
       "<p>5 rows × 32 columns</p>\n",
       "</div>"
      ],
      "text/plain": [
       "      idaviso  tipo_de_trabajo  nivel_laboral  nombre_area  \\\n",
       "0     8725750                1              1            1   \n",
       "1    17903700                1              1            2   \n",
       "2  1000150677                1              1            3   \n",
       "3  1000610287                1              1            3   \n",
       "4  1000872556                1              1            4   \n",
       "\n",
       "   denominacion_empresa  web  crecimiento  capacitacion  clima laboral  \\\n",
       "0                     1    0            0             1              0   \n",
       "1                     2    0            0             0              0   \n",
       "2                     3    0            0             0              0   \n",
       "3                     4    0            1             1              0   \n",
       "4                     5    0            0             0              0   \n",
       "\n",
       "   multinacional     ...      desarrollador  cajero  vendedor  ingeniero  \\\n",
       "0              0     ...                  0       0         1          0   \n",
       "1              0     ...                  0       0         0          0   \n",
       "2              0     ...                  0       0         0          0   \n",
       "3              1     ...                  0       0         0          0   \n",
       "4              0     ...                  0       0         0          0   \n",
       "\n",
       "   analista  administrativo  junior  jefe  marketing  supervisor  \n",
       "0         0               0       0     0          0           0  \n",
       "1         0               0       0     0          0           0  \n",
       "2         0               0       0     0          0           0  \n",
       "3         0               0       0     0          0           0  \n",
       "4         0               0       0     0          0           1  \n",
       "\n",
       "[5 rows x 32 columns]"
      ]
     },
     "execution_count": 20,
     "metadata": {},
     "output_type": "execute_result"
    }
   ],
   "source": [
    "df_avisos_detalles.head()"
   ]
  },
  {
   "cell_type": "code",
   "execution_count": 21,
   "metadata": {},
   "outputs": [
    {
     "data": {
      "text/plain": [
       "(19696, 32)"
      ]
     },
     "execution_count": 21,
     "metadata": {},
     "output_type": "execute_result"
    }
   ],
   "source": [
    "df_avisos_detalles.shape"
   ]
  },
  {
   "cell_type": "code",
   "execution_count": 22,
   "metadata": {
    "collapsed": true
   },
   "outputs": [],
   "source": [
    "df_avisos_online = pd.concat([df_avisos_online_original, df_avisos_online_nuevo])\n",
    "df_avisos_online = df_avisos_online.drop_duplicates()"
   ]
  },
  {
   "cell_type": "code",
   "execution_count": 23,
   "metadata": {
    "collapsed": true
   },
   "outputs": [],
   "source": [
    "df_avisos_online['online'] = 1\n",
    "df_avisos_detalles = pd.merge(df_avisos_detalles, df_avisos_online, how='left', on=['idaviso'])"
   ]
  },
  {
   "cell_type": "code",
   "execution_count": 24,
   "metadata": {
    "collapsed": true
   },
   "outputs": [],
   "source": [
    "df_avisos_detalles['online'] = df_avisos_detalles['online'].fillna(value=0)"
   ]
  },
  {
   "cell_type": "code",
   "execution_count": 25,
   "metadata": {},
   "outputs": [
    {
     "data": {
      "text/plain": [
       "(19696, 33)"
      ]
     },
     "execution_count": 25,
     "metadata": {},
     "output_type": "execute_result"
    }
   ],
   "source": [
    "df_avisos_detalles.shape"
   ]
  },
  {
   "cell_type": "markdown",
   "metadata": {},
   "source": [
    "Usar postulaciones para rellenar vistas que no tenga\n"
   ]
  },
  {
   "cell_type": "code",
   "execution_count": 26,
   "metadata": {
    "collapsed": true
   },
   "outputs": [],
   "source": [
    "postulaciones = pd.concat([df_postulaciones_original, df_postulaciones_nuevo])"
   ]
  },
  {
   "cell_type": "code",
   "execution_count": 27,
   "metadata": {},
   "outputs": [
    {
     "data": {
      "text/plain": [
       "(8311264, 3)"
      ]
     },
     "execution_count": 27,
     "metadata": {},
     "output_type": "execute_result"
    }
   ],
   "source": [
    "postulaciones.shape"
   ]
  },
  {
   "cell_type": "code",
   "execution_count": 28,
   "metadata": {
    "collapsed": true
   },
   "outputs": [],
   "source": [
    "postulaciones = postulaciones.drop_duplicates(['idaviso', 'idpostulante'])"
   ]
  },
  {
   "cell_type": "code",
   "execution_count": 143,
   "metadata": {},
   "outputs": [
    {
     "data": {
      "text/plain": [
       "(6603752, 3)"
      ]
     },
     "execution_count": 143,
     "metadata": {},
     "output_type": "execute_result"
    }
   ],
   "source": [
    "postulaciones.shape"
   ]
  },
  {
   "cell_type": "code",
   "execution_count": 30,
   "metadata": {
    "collapsed": true
   },
   "outputs": [],
   "source": [
    "postulaciones_total = postulaciones.loc[:, ['idaviso', 'idpostulante']].rename(columns={'idpostulante':'postu_total'})\\\n",
    "                .groupby('idaviso').count().reset_index()"
   ]
  },
  {
   "cell_type": "code",
   "execution_count": 31,
   "metadata": {
    "collapsed": true
   },
   "outputs": [],
   "source": [
    "df_avisos_detalles = pd.merge(df_avisos_detalles, postulaciones_total, on=['idaviso'], how='left')"
   ]
  },
  {
   "cell_type": "code",
   "execution_count": 32,
   "metadata": {},
   "outputs": [
    {
     "data": {
      "text/plain": [
       "(19696, 34)"
      ]
     },
     "execution_count": 32,
     "metadata": {},
     "output_type": "execute_result"
    }
   ],
   "source": [
    "df_avisos_detalles.shape"
   ]
  },
  {
   "cell_type": "code",
   "execution_count": 33,
   "metadata": {
    "collapsed": true
   },
   "outputs": [],
   "source": [
    "vistas = pd.concat([df_postulantes_vistas_original, df_postulantes_vistas_nuevo])"
   ]
  },
  {
   "cell_type": "code",
   "execution_count": 34,
   "metadata": {},
   "outputs": [
    {
     "data": {
      "text/plain": [
       "(6720583, 3)"
      ]
     },
     "execution_count": 34,
     "metadata": {},
     "output_type": "execute_result"
    }
   ],
   "source": [
    "vistas.shape"
   ]
  },
  {
   "cell_type": "code",
   "execution_count": 35,
   "metadata": {
    "collapsed": true
   },
   "outputs": [],
   "source": [
    "vistas = vistas.drop_duplicates()"
   ]
  },
  {
   "cell_type": "code",
   "execution_count": 36,
   "metadata": {},
   "outputs": [
    {
     "data": {
      "text/plain": [
       "(6682624, 3)"
      ]
     },
     "execution_count": 36,
     "metadata": {},
     "output_type": "execute_result"
    }
   ],
   "source": [
    "vistas = vistas.rename(columns={'idAviso' : 'idaviso'})\n",
    "vistas.shape"
   ]
  },
  {
   "cell_type": "code",
   "execution_count": 37,
   "metadata": {
    "collapsed": true
   },
   "outputs": [],
   "source": [
    "vistas2 = vistas.loc[:, ['idaviso', 'idpostulante']].groupby('idaviso').count().reset_index()"
   ]
  },
  {
   "cell_type": "code",
   "execution_count": 38,
   "metadata": {
    "collapsed": true
   },
   "outputs": [],
   "source": [
    "vistas2 = vistas2.rename(columns={'idpostulante' : 'total_vistas'})"
   ]
  },
  {
   "cell_type": "code",
   "execution_count": 39,
   "metadata": {
    "collapsed": true
   },
   "outputs": [],
   "source": [
    "df_avisos_detalles = pd.merge(df_avisos_detalles, vistas2, how='left', on=['idaviso'])"
   ]
  },
  {
   "cell_type": "code",
   "execution_count": 40,
   "metadata": {},
   "outputs": [
    {
     "data": {
      "text/html": [
       "<div>\n",
       "<style>\n",
       "    .dataframe thead tr:only-child th {\n",
       "        text-align: right;\n",
       "    }\n",
       "\n",
       "    .dataframe thead th {\n",
       "        text-align: left;\n",
       "    }\n",
       "\n",
       "    .dataframe tbody tr th {\n",
       "        vertical-align: top;\n",
       "    }\n",
       "</style>\n",
       "<table border=\"1\" class=\"dataframe\">\n",
       "  <thead>\n",
       "    <tr style=\"text-align: right;\">\n",
       "      <th></th>\n",
       "      <th>idaviso</th>\n",
       "      <th>tipo_de_trabajo</th>\n",
       "      <th>nivel_laboral</th>\n",
       "      <th>nombre_area</th>\n",
       "      <th>denominacion_empresa</th>\n",
       "      <th>web</th>\n",
       "      <th>crecimiento</th>\n",
       "      <th>capacitacion</th>\n",
       "      <th>clima laboral</th>\n",
       "      <th>multinacional</th>\n",
       "      <th>...</th>\n",
       "      <th>ingeniero</th>\n",
       "      <th>analista</th>\n",
       "      <th>administrativo</th>\n",
       "      <th>junior</th>\n",
       "      <th>jefe</th>\n",
       "      <th>marketing</th>\n",
       "      <th>supervisor</th>\n",
       "      <th>online</th>\n",
       "      <th>postu_total</th>\n",
       "      <th>total_vistas</th>\n",
       "    </tr>\n",
       "  </thead>\n",
       "  <tbody>\n",
       "    <tr>\n",
       "      <th>0</th>\n",
       "      <td>8725750</td>\n",
       "      <td>1</td>\n",
       "      <td>1</td>\n",
       "      <td>1</td>\n",
       "      <td>1</td>\n",
       "      <td>0</td>\n",
       "      <td>0</td>\n",
       "      <td>1</td>\n",
       "      <td>0</td>\n",
       "      <td>0</td>\n",
       "      <td>...</td>\n",
       "      <td>0</td>\n",
       "      <td>0</td>\n",
       "      <td>0</td>\n",
       "      <td>0</td>\n",
       "      <td>0</td>\n",
       "      <td>0</td>\n",
       "      <td>0</td>\n",
       "      <td>0.0</td>\n",
       "      <td>137.0</td>\n",
       "      <td>NaN</td>\n",
       "    </tr>\n",
       "    <tr>\n",
       "      <th>1</th>\n",
       "      <td>17903700</td>\n",
       "      <td>1</td>\n",
       "      <td>1</td>\n",
       "      <td>2</td>\n",
       "      <td>2</td>\n",
       "      <td>0</td>\n",
       "      <td>0</td>\n",
       "      <td>0</td>\n",
       "      <td>0</td>\n",
       "      <td>0</td>\n",
       "      <td>...</td>\n",
       "      <td>0</td>\n",
       "      <td>0</td>\n",
       "      <td>0</td>\n",
       "      <td>0</td>\n",
       "      <td>0</td>\n",
       "      <td>0</td>\n",
       "      <td>0</td>\n",
       "      <td>1.0</td>\n",
       "      <td>175.0</td>\n",
       "      <td>1935.0</td>\n",
       "    </tr>\n",
       "    <tr>\n",
       "      <th>2</th>\n",
       "      <td>1000150677</td>\n",
       "      <td>1</td>\n",
       "      <td>1</td>\n",
       "      <td>3</td>\n",
       "      <td>3</td>\n",
       "      <td>0</td>\n",
       "      <td>0</td>\n",
       "      <td>0</td>\n",
       "      <td>0</td>\n",
       "      <td>0</td>\n",
       "      <td>...</td>\n",
       "      <td>0</td>\n",
       "      <td>0</td>\n",
       "      <td>0</td>\n",
       "      <td>0</td>\n",
       "      <td>0</td>\n",
       "      <td>0</td>\n",
       "      <td>0</td>\n",
       "      <td>0.0</td>\n",
       "      <td>NaN</td>\n",
       "      <td>2.0</td>\n",
       "    </tr>\n",
       "    <tr>\n",
       "      <th>3</th>\n",
       "      <td>1000610287</td>\n",
       "      <td>1</td>\n",
       "      <td>1</td>\n",
       "      <td>3</td>\n",
       "      <td>4</td>\n",
       "      <td>0</td>\n",
       "      <td>1</td>\n",
       "      <td>1</td>\n",
       "      <td>0</td>\n",
       "      <td>1</td>\n",
       "      <td>...</td>\n",
       "      <td>0</td>\n",
       "      <td>0</td>\n",
       "      <td>0</td>\n",
       "      <td>0</td>\n",
       "      <td>0</td>\n",
       "      <td>0</td>\n",
       "      <td>0</td>\n",
       "      <td>1.0</td>\n",
       "      <td>197.0</td>\n",
       "      <td>72.0</td>\n",
       "    </tr>\n",
       "    <tr>\n",
       "      <th>4</th>\n",
       "      <td>1000872556</td>\n",
       "      <td>1</td>\n",
       "      <td>1</td>\n",
       "      <td>4</td>\n",
       "      <td>5</td>\n",
       "      <td>0</td>\n",
       "      <td>0</td>\n",
       "      <td>0</td>\n",
       "      <td>0</td>\n",
       "      <td>0</td>\n",
       "      <td>...</td>\n",
       "      <td>0</td>\n",
       "      <td>0</td>\n",
       "      <td>0</td>\n",
       "      <td>0</td>\n",
       "      <td>0</td>\n",
       "      <td>0</td>\n",
       "      <td>1</td>\n",
       "      <td>0.0</td>\n",
       "      <td>NaN</td>\n",
       "      <td>1.0</td>\n",
       "    </tr>\n",
       "  </tbody>\n",
       "</table>\n",
       "<p>5 rows × 35 columns</p>\n",
       "</div>"
      ],
      "text/plain": [
       "      idaviso  tipo_de_trabajo  nivel_laboral  nombre_area  \\\n",
       "0     8725750                1              1            1   \n",
       "1    17903700                1              1            2   \n",
       "2  1000150677                1              1            3   \n",
       "3  1000610287                1              1            3   \n",
       "4  1000872556                1              1            4   \n",
       "\n",
       "   denominacion_empresa  web  crecimiento  capacitacion  clima laboral  \\\n",
       "0                     1    0            0             1              0   \n",
       "1                     2    0            0             0              0   \n",
       "2                     3    0            0             0              0   \n",
       "3                     4    0            1             1              0   \n",
       "4                     5    0            0             0              0   \n",
       "\n",
       "   multinacional      ...       ingeniero  analista  administrativo  junior  \\\n",
       "0              0      ...               0         0               0       0   \n",
       "1              0      ...               0         0               0       0   \n",
       "2              0      ...               0         0               0       0   \n",
       "3              1      ...               0         0               0       0   \n",
       "4              0      ...               0         0               0       0   \n",
       "\n",
       "   jefe  marketing  supervisor  online  postu_total  total_vistas  \n",
       "0     0          0           0     0.0        137.0           NaN  \n",
       "1     0          0           0     1.0        175.0        1935.0  \n",
       "2     0          0           0     0.0          NaN           2.0  \n",
       "3     0          0           0     1.0        197.0          72.0  \n",
       "4     0          0           1     0.0          NaN           1.0  \n",
       "\n",
       "[5 rows x 35 columns]"
      ]
     },
     "execution_count": 40,
     "metadata": {},
     "output_type": "execute_result"
    }
   ],
   "source": [
    "df_avisos_detalles.head()"
   ]
  },
  {
   "cell_type": "code",
   "execution_count": 41,
   "metadata": {
    "collapsed": true
   },
   "outputs": [],
   "source": [
    "vistas2 = vistas.groupby(['idaviso', 'idpostulante']).count().reset_index()"
   ]
  },
  {
   "cell_type": "code",
   "execution_count": 42,
   "metadata": {
    "collapsed": true
   },
   "outputs": [],
   "source": [
    "vistas2 = vistas2.loc[:, ['idaviso', 'timestamp']].groupby('idaviso').median().reset_index()"
   ]
  },
  {
   "cell_type": "code",
   "execution_count": 43,
   "metadata": {
    "collapsed": true
   },
   "outputs": [],
   "source": [
    "vistas2 = vistas2.rename(columns={'timestamp' : 'vistas_median'})"
   ]
  },
  {
   "cell_type": "code",
   "execution_count": 44,
   "metadata": {
    "collapsed": true
   },
   "outputs": [],
   "source": [
    "df_avisos_detalles = pd.merge(df_avisos_detalles, vistas2, how='left', on=['idaviso'])"
   ]
  },
  {
   "cell_type": "code",
   "execution_count": 45,
   "metadata": {},
   "outputs": [
    {
     "data": {
      "text/html": [
       "<div>\n",
       "<style>\n",
       "    .dataframe thead tr:only-child th {\n",
       "        text-align: right;\n",
       "    }\n",
       "\n",
       "    .dataframe thead th {\n",
       "        text-align: left;\n",
       "    }\n",
       "\n",
       "    .dataframe tbody tr th {\n",
       "        vertical-align: top;\n",
       "    }\n",
       "</style>\n",
       "<table border=\"1\" class=\"dataframe\">\n",
       "  <thead>\n",
       "    <tr style=\"text-align: right;\">\n",
       "      <th></th>\n",
       "      <th>idaviso</th>\n",
       "      <th>tipo_de_trabajo</th>\n",
       "      <th>nivel_laboral</th>\n",
       "      <th>nombre_area</th>\n",
       "      <th>denominacion_empresa</th>\n",
       "      <th>web</th>\n",
       "      <th>crecimiento</th>\n",
       "      <th>capacitacion</th>\n",
       "      <th>clima laboral</th>\n",
       "      <th>multinacional</th>\n",
       "      <th>...</th>\n",
       "      <th>analista</th>\n",
       "      <th>administrativo</th>\n",
       "      <th>junior</th>\n",
       "      <th>jefe</th>\n",
       "      <th>marketing</th>\n",
       "      <th>supervisor</th>\n",
       "      <th>online</th>\n",
       "      <th>postu_total</th>\n",
       "      <th>total_vistas</th>\n",
       "      <th>vistas_median</th>\n",
       "    </tr>\n",
       "  </thead>\n",
       "  <tbody>\n",
       "    <tr>\n",
       "      <th>0</th>\n",
       "      <td>8725750</td>\n",
       "      <td>1</td>\n",
       "      <td>1</td>\n",
       "      <td>1</td>\n",
       "      <td>1</td>\n",
       "      <td>0</td>\n",
       "      <td>0</td>\n",
       "      <td>1</td>\n",
       "      <td>0</td>\n",
       "      <td>0</td>\n",
       "      <td>...</td>\n",
       "      <td>0</td>\n",
       "      <td>0</td>\n",
       "      <td>0</td>\n",
       "      <td>0</td>\n",
       "      <td>0</td>\n",
       "      <td>0</td>\n",
       "      <td>0.0</td>\n",
       "      <td>137.0</td>\n",
       "      <td>NaN</td>\n",
       "      <td>NaN</td>\n",
       "    </tr>\n",
       "    <tr>\n",
       "      <th>1</th>\n",
       "      <td>17903700</td>\n",
       "      <td>1</td>\n",
       "      <td>1</td>\n",
       "      <td>2</td>\n",
       "      <td>2</td>\n",
       "      <td>0</td>\n",
       "      <td>0</td>\n",
       "      <td>0</td>\n",
       "      <td>0</td>\n",
       "      <td>0</td>\n",
       "      <td>...</td>\n",
       "      <td>0</td>\n",
       "      <td>0</td>\n",
       "      <td>0</td>\n",
       "      <td>0</td>\n",
       "      <td>0</td>\n",
       "      <td>0</td>\n",
       "      <td>1.0</td>\n",
       "      <td>175.0</td>\n",
       "      <td>1935.0</td>\n",
       "      <td>2.0</td>\n",
       "    </tr>\n",
       "    <tr>\n",
       "      <th>2</th>\n",
       "      <td>1000150677</td>\n",
       "      <td>1</td>\n",
       "      <td>1</td>\n",
       "      <td>3</td>\n",
       "      <td>3</td>\n",
       "      <td>0</td>\n",
       "      <td>0</td>\n",
       "      <td>0</td>\n",
       "      <td>0</td>\n",
       "      <td>0</td>\n",
       "      <td>...</td>\n",
       "      <td>0</td>\n",
       "      <td>0</td>\n",
       "      <td>0</td>\n",
       "      <td>0</td>\n",
       "      <td>0</td>\n",
       "      <td>0</td>\n",
       "      <td>0.0</td>\n",
       "      <td>NaN</td>\n",
       "      <td>2.0</td>\n",
       "      <td>2.0</td>\n",
       "    </tr>\n",
       "    <tr>\n",
       "      <th>3</th>\n",
       "      <td>1000610287</td>\n",
       "      <td>1</td>\n",
       "      <td>1</td>\n",
       "      <td>3</td>\n",
       "      <td>4</td>\n",
       "      <td>0</td>\n",
       "      <td>1</td>\n",
       "      <td>1</td>\n",
       "      <td>0</td>\n",
       "      <td>1</td>\n",
       "      <td>...</td>\n",
       "      <td>0</td>\n",
       "      <td>0</td>\n",
       "      <td>0</td>\n",
       "      <td>0</td>\n",
       "      <td>0</td>\n",
       "      <td>0</td>\n",
       "      <td>1.0</td>\n",
       "      <td>197.0</td>\n",
       "      <td>72.0</td>\n",
       "      <td>2.0</td>\n",
       "    </tr>\n",
       "    <tr>\n",
       "      <th>4</th>\n",
       "      <td>1000872556</td>\n",
       "      <td>1</td>\n",
       "      <td>1</td>\n",
       "      <td>4</td>\n",
       "      <td>5</td>\n",
       "      <td>0</td>\n",
       "      <td>0</td>\n",
       "      <td>0</td>\n",
       "      <td>0</td>\n",
       "      <td>0</td>\n",
       "      <td>...</td>\n",
       "      <td>0</td>\n",
       "      <td>0</td>\n",
       "      <td>0</td>\n",
       "      <td>0</td>\n",
       "      <td>0</td>\n",
       "      <td>1</td>\n",
       "      <td>0.0</td>\n",
       "      <td>NaN</td>\n",
       "      <td>1.0</td>\n",
       "      <td>1.0</td>\n",
       "    </tr>\n",
       "  </tbody>\n",
       "</table>\n",
       "<p>5 rows × 36 columns</p>\n",
       "</div>"
      ],
      "text/plain": [
       "      idaviso  tipo_de_trabajo  nivel_laboral  nombre_area  \\\n",
       "0     8725750                1              1            1   \n",
       "1    17903700                1              1            2   \n",
       "2  1000150677                1              1            3   \n",
       "3  1000610287                1              1            3   \n",
       "4  1000872556                1              1            4   \n",
       "\n",
       "   denominacion_empresa  web  crecimiento  capacitacion  clima laboral  \\\n",
       "0                     1    0            0             1              0   \n",
       "1                     2    0            0             0              0   \n",
       "2                     3    0            0             0              0   \n",
       "3                     4    0            1             1              0   \n",
       "4                     5    0            0             0              0   \n",
       "\n",
       "   multinacional      ...        analista  administrativo  junior  jefe  \\\n",
       "0              0      ...               0               0       0     0   \n",
       "1              0      ...               0               0       0     0   \n",
       "2              0      ...               0               0       0     0   \n",
       "3              1      ...               0               0       0     0   \n",
       "4              0      ...               0               0       0     0   \n",
       "\n",
       "   marketing  supervisor  online  postu_total  total_vistas  vistas_median  \n",
       "0          0           0     0.0        137.0           NaN            NaN  \n",
       "1          0           0     1.0        175.0        1935.0            2.0  \n",
       "2          0           0     0.0          NaN           2.0            2.0  \n",
       "3          0           0     1.0        197.0          72.0            2.0  \n",
       "4          0           1     0.0          NaN           1.0            1.0  \n",
       "\n",
       "[5 rows x 36 columns]"
      ]
     },
     "execution_count": 45,
     "metadata": {},
     "output_type": "execute_result"
    }
   ],
   "source": [
    "df_avisos_detalles.head()"
   ]
  },
  {
   "cell_type": "code",
   "execution_count": 46,
   "metadata": {
    "collapsed": true
   },
   "outputs": [],
   "source": [
    "vistas[\"timestamp\"] = pd.to_datetime(vistas[\"timestamp\"])"
   ]
  },
  {
   "cell_type": "code",
   "execution_count": 47,
   "metadata": {
    "collapsed": true
   },
   "outputs": [],
   "source": [
    "df_postulaciones = pd.concat([df_postulaciones_nuevo, df_postulaciones_original])"
   ]
  },
  {
   "cell_type": "code",
   "execution_count": 48,
   "metadata": {},
   "outputs": [
    {
     "data": {
      "text/plain": [
       "(8311264, 3)"
      ]
     },
     "execution_count": 48,
     "metadata": {},
     "output_type": "execute_result"
    }
   ],
   "source": [
    "df_postulaciones.shape"
   ]
  },
  {
   "cell_type": "code",
   "execution_count": 49,
   "metadata": {
    "collapsed": true
   },
   "outputs": [],
   "source": [
    "df_postulaciones = df_postulaciones.drop_duplicates(['idaviso', 'idpostulante'])"
   ]
  },
  {
   "cell_type": "code",
   "execution_count": 50,
   "metadata": {},
   "outputs": [
    {
     "data": {
      "text/plain": [
       "(6603752, 3)"
      ]
     },
     "execution_count": 50,
     "metadata": {},
     "output_type": "execute_result"
    }
   ],
   "source": [
    "df_postulaciones.shape"
   ]
  },
  {
   "cell_type": "code",
   "execution_count": 51,
   "metadata": {
    "collapsed": true
   },
   "outputs": [],
   "source": [
    "df_postulaciones['fechapostulacion'] = pd.to_datetime(df_postulaciones[\"fechapostulacion\"], errors = 'coerce')"
   ]
  },
  {
   "cell_type": "code",
   "execution_count": 52,
   "metadata": {
    "collapsed": true
   },
   "outputs": [],
   "source": [
    "fechas_postulaciones = df_postulaciones.loc[:, ['idaviso', 'fechapostulacion']].groupby('idaviso').min().reset_index()"
   ]
  },
  {
   "cell_type": "code",
   "execution_count": 53,
   "metadata": {
    "collapsed": true
   },
   "outputs": [],
   "source": [
    "vistas = vistas.rename(columns={'timestamp' : 'fechapostulacion'})"
   ]
  },
  {
   "cell_type": "code",
   "execution_count": 54,
   "metadata": {
    "collapsed": true
   },
   "outputs": [],
   "source": [
    "fechas_vistas_postul = vistas.loc[:, ['idaviso', 'fechapostulacion']].groupby('idaviso').min().reset_index()"
   ]
  },
  {
   "cell_type": "code",
   "execution_count": 55,
   "metadata": {
    "collapsed": true
   },
   "outputs": [],
   "source": [
    "fechas_iniciales = pd.concat([fechas_postulaciones, fechas_vistas_postul])"
   ]
  },
  {
   "cell_type": "code",
   "execution_count": 56,
   "metadata": {},
   "outputs": [
    {
     "data": {
      "text/plain": [
       "(35266, 2)"
      ]
     },
     "execution_count": 56,
     "metadata": {},
     "output_type": "execute_result"
    }
   ],
   "source": [
    "fechas_iniciales.shape"
   ]
  },
  {
   "cell_type": "code",
   "execution_count": 57,
   "metadata": {
    "collapsed": true
   },
   "outputs": [],
   "source": [
    "fechas_iniciales = fechas_iniciales.groupby('idaviso').min().reset_index()"
   ]
  },
  {
   "cell_type": "code",
   "execution_count": 58,
   "metadata": {},
   "outputs": [
    {
     "data": {
      "text/plain": [
       "(21158, 2)"
      ]
     },
     "execution_count": 58,
     "metadata": {},
     "output_type": "execute_result"
    }
   ],
   "source": [
    "fechas_iniciales.shape"
   ]
  },
  {
   "cell_type": "code",
   "execution_count": 59,
   "metadata": {
    "collapsed": true
   },
   "outputs": [],
   "source": [
    "fechas_iniciales = fechas_iniciales.rename(columns={'fechapostulacion' : 'fecha_inicio'})"
   ]
  },
  {
   "cell_type": "code",
   "execution_count": 60,
   "metadata": {
    "collapsed": true
   },
   "outputs": [],
   "source": [
    "fechas_postulaciones = df_postulaciones.loc[:, ['idaviso', 'fechapostulacion']].groupby('idaviso').max().reset_index()"
   ]
  },
  {
   "cell_type": "code",
   "execution_count": 61,
   "metadata": {
    "collapsed": true
   },
   "outputs": [],
   "source": [
    "fechas_vistas_postul = vistas.loc[:, ['idaviso', 'fechapostulacion']].groupby('idaviso').max().reset_index()"
   ]
  },
  {
   "cell_type": "code",
   "execution_count": 62,
   "metadata": {
    "collapsed": true
   },
   "outputs": [],
   "source": [
    "fechas_finales = pd.concat([fechas_postulaciones, fechas_vistas_postul])"
   ]
  },
  {
   "cell_type": "code",
   "execution_count": 63,
   "metadata": {},
   "outputs": [
    {
     "data": {
      "text/plain": [
       "(35266, 2)"
      ]
     },
     "execution_count": 63,
     "metadata": {},
     "output_type": "execute_result"
    }
   ],
   "source": [
    "fechas_finales.shape"
   ]
  },
  {
   "cell_type": "code",
   "execution_count": 64,
   "metadata": {
    "collapsed": true
   },
   "outputs": [],
   "source": [
    "fechas_finales = fechas_finales.groupby('idaviso').max().reset_index()"
   ]
  },
  {
   "cell_type": "code",
   "execution_count": 65,
   "metadata": {},
   "outputs": [
    {
     "data": {
      "text/plain": [
       "(21158, 2)"
      ]
     },
     "execution_count": 65,
     "metadata": {},
     "output_type": "execute_result"
    }
   ],
   "source": [
    "fechas_finales.shape"
   ]
  },
  {
   "cell_type": "code",
   "execution_count": 66,
   "metadata": {
    "collapsed": true
   },
   "outputs": [],
   "source": [
    "fechas_finales = fechas_finales.rename(columns={'fechapostulacion':'fecha_fin'})"
   ]
  },
  {
   "cell_type": "code",
   "execution_count": 67,
   "metadata": {
    "collapsed": true
   },
   "outputs": [],
   "source": [
    "fechas_totales = pd.merge(fechas_finales, fechas_iniciales, on=['idaviso'], how='inner')"
   ]
  },
  {
   "cell_type": "code",
   "execution_count": 68,
   "metadata": {},
   "outputs": [
    {
     "data": {
      "text/plain": [
       "(21158, 3)"
      ]
     },
     "execution_count": 68,
     "metadata": {},
     "output_type": "execute_result"
    }
   ],
   "source": [
    "fechas_totales.shape"
   ]
  },
  {
   "cell_type": "code",
   "execution_count": 69,
   "metadata": {},
   "outputs": [
    {
     "data": {
      "text/html": [
       "<div>\n",
       "<style>\n",
       "    .dataframe thead tr:only-child th {\n",
       "        text-align: right;\n",
       "    }\n",
       "\n",
       "    .dataframe thead th {\n",
       "        text-align: left;\n",
       "    }\n",
       "\n",
       "    .dataframe tbody tr th {\n",
       "        vertical-align: top;\n",
       "    }\n",
       "</style>\n",
       "<table border=\"1\" class=\"dataframe\">\n",
       "  <thead>\n",
       "    <tr style=\"text-align: right;\">\n",
       "      <th></th>\n",
       "      <th>idaviso</th>\n",
       "      <th>fecha_fin</th>\n",
       "      <th>fecha_inicio</th>\n",
       "    </tr>\n",
       "  </thead>\n",
       "  <tbody>\n",
       "    <tr>\n",
       "      <th>0</th>\n",
       "      <td>1585950</td>\n",
       "      <td>2018-02-26 00:27:07.739</td>\n",
       "      <td>2018-02-26 00:27:07.739</td>\n",
       "    </tr>\n",
       "    <tr>\n",
       "      <th>1</th>\n",
       "      <td>1672250</td>\n",
       "      <td>2018-02-27 00:19:37.075</td>\n",
       "      <td>2018-02-26 16:42:16.493</td>\n",
       "    </tr>\n",
       "    <tr>\n",
       "      <th>2</th>\n",
       "      <td>1799300</td>\n",
       "      <td>2018-02-25 22:13:34.379</td>\n",
       "      <td>2018-02-25 22:13:34.379</td>\n",
       "    </tr>\n",
       "    <tr>\n",
       "      <th>3</th>\n",
       "      <td>2613010</td>\n",
       "      <td>2018-02-28 17:31:59.425</td>\n",
       "      <td>2018-02-26 21:39:47.129</td>\n",
       "    </tr>\n",
       "    <tr>\n",
       "      <th>4</th>\n",
       "      <td>3006520</td>\n",
       "      <td>2018-02-27 23:26:44.163</td>\n",
       "      <td>2018-02-27 23:26:44.163</td>\n",
       "    </tr>\n",
       "  </tbody>\n",
       "</table>\n",
       "</div>"
      ],
      "text/plain": [
       "   idaviso               fecha_fin            fecha_inicio\n",
       "0  1585950 2018-02-26 00:27:07.739 2018-02-26 00:27:07.739\n",
       "1  1672250 2018-02-27 00:19:37.075 2018-02-26 16:42:16.493\n",
       "2  1799300 2018-02-25 22:13:34.379 2018-02-25 22:13:34.379\n",
       "3  2613010 2018-02-28 17:31:59.425 2018-02-26 21:39:47.129\n",
       "4  3006520 2018-02-27 23:26:44.163 2018-02-27 23:26:44.163"
      ]
     },
     "execution_count": 69,
     "metadata": {},
     "output_type": "execute_result"
    }
   ],
   "source": [
    "fechas_totales.head()"
   ]
  },
  {
   "cell_type": "code",
   "execution_count": 70,
   "metadata": {
    "collapsed": true
   },
   "outputs": [],
   "source": [
    "def set_dias(row):\n",
    "    return row.days"
   ]
  },
  {
   "cell_type": "code",
   "execution_count": 71,
   "metadata": {
    "collapsed": true
   },
   "outputs": [],
   "source": [
    "fechas_totales['cant_dias'] = (fechas_totales['fecha_fin']-fechas_totales['fecha_inicio']).apply(set_dias)"
   ]
  },
  {
   "cell_type": "code",
   "execution_count": 72,
   "metadata": {},
   "outputs": [
    {
     "data": {
      "text/html": [
       "<div>\n",
       "<style>\n",
       "    .dataframe thead tr:only-child th {\n",
       "        text-align: right;\n",
       "    }\n",
       "\n",
       "    .dataframe thead th {\n",
       "        text-align: left;\n",
       "    }\n",
       "\n",
       "    .dataframe tbody tr th {\n",
       "        vertical-align: top;\n",
       "    }\n",
       "</style>\n",
       "<table border=\"1\" class=\"dataframe\">\n",
       "  <thead>\n",
       "    <tr style=\"text-align: right;\">\n",
       "      <th></th>\n",
       "      <th>idaviso</th>\n",
       "      <th>fecha_fin</th>\n",
       "      <th>fecha_inicio</th>\n",
       "      <th>cant_dias</th>\n",
       "    </tr>\n",
       "  </thead>\n",
       "  <tbody>\n",
       "    <tr>\n",
       "      <th>0</th>\n",
       "      <td>1585950</td>\n",
       "      <td>2018-02-26 00:27:07.739</td>\n",
       "      <td>2018-02-26 00:27:07.739</td>\n",
       "      <td>0</td>\n",
       "    </tr>\n",
       "    <tr>\n",
       "      <th>1</th>\n",
       "      <td>1672250</td>\n",
       "      <td>2018-02-27 00:19:37.075</td>\n",
       "      <td>2018-02-26 16:42:16.493</td>\n",
       "      <td>0</td>\n",
       "    </tr>\n",
       "    <tr>\n",
       "      <th>2</th>\n",
       "      <td>1799300</td>\n",
       "      <td>2018-02-25 22:13:34.379</td>\n",
       "      <td>2018-02-25 22:13:34.379</td>\n",
       "      <td>0</td>\n",
       "    </tr>\n",
       "    <tr>\n",
       "      <th>3</th>\n",
       "      <td>2613010</td>\n",
       "      <td>2018-02-28 17:31:59.425</td>\n",
       "      <td>2018-02-26 21:39:47.129</td>\n",
       "      <td>1</td>\n",
       "    </tr>\n",
       "    <tr>\n",
       "      <th>4</th>\n",
       "      <td>3006520</td>\n",
       "      <td>2018-02-27 23:26:44.163</td>\n",
       "      <td>2018-02-27 23:26:44.163</td>\n",
       "      <td>0</td>\n",
       "    </tr>\n",
       "  </tbody>\n",
       "</table>\n",
       "</div>"
      ],
      "text/plain": [
       "   idaviso               fecha_fin            fecha_inicio  cant_dias\n",
       "0  1585950 2018-02-26 00:27:07.739 2018-02-26 00:27:07.739          0\n",
       "1  1672250 2018-02-27 00:19:37.075 2018-02-26 16:42:16.493          0\n",
       "2  1799300 2018-02-25 22:13:34.379 2018-02-25 22:13:34.379          0\n",
       "3  2613010 2018-02-28 17:31:59.425 2018-02-26 21:39:47.129          1\n",
       "4  3006520 2018-02-27 23:26:44.163 2018-02-27 23:26:44.163          0"
      ]
     },
     "execution_count": 72,
     "metadata": {},
     "output_type": "execute_result"
    }
   ],
   "source": [
    "fechas_totales.head()"
   ]
  },
  {
   "cell_type": "code",
   "execution_count": 73,
   "metadata": {},
   "outputs": [
    {
     "data": {
      "text/html": [
       "<div>\n",
       "<style>\n",
       "    .dataframe thead tr:only-child th {\n",
       "        text-align: right;\n",
       "    }\n",
       "\n",
       "    .dataframe thead th {\n",
       "        text-align: left;\n",
       "    }\n",
       "\n",
       "    .dataframe tbody tr th {\n",
       "        vertical-align: top;\n",
       "    }\n",
       "</style>\n",
       "<table border=\"1\" class=\"dataframe\">\n",
       "  <thead>\n",
       "    <tr style=\"text-align: right;\">\n",
       "      <th></th>\n",
       "      <th>idaviso</th>\n",
       "      <th>fecha_fin</th>\n",
       "      <th>fecha_inicio</th>\n",
       "      <th>cant_dias</th>\n",
       "    </tr>\n",
       "  </thead>\n",
       "  <tbody>\n",
       "    <tr>\n",
       "      <th>0</th>\n",
       "      <td>1585950</td>\n",
       "      <td>2018-02-26 00:27:07.739</td>\n",
       "      <td>2018-02-26 00:27:07.739</td>\n",
       "      <td>0</td>\n",
       "    </tr>\n",
       "    <tr>\n",
       "      <th>1</th>\n",
       "      <td>1672250</td>\n",
       "      <td>2018-02-27 00:19:37.075</td>\n",
       "      <td>2018-02-26 16:42:16.493</td>\n",
       "      <td>0</td>\n",
       "    </tr>\n",
       "    <tr>\n",
       "      <th>2</th>\n",
       "      <td>1799300</td>\n",
       "      <td>2018-02-25 22:13:34.379</td>\n",
       "      <td>2018-02-25 22:13:34.379</td>\n",
       "      <td>0</td>\n",
       "    </tr>\n",
       "    <tr>\n",
       "      <th>3</th>\n",
       "      <td>2613010</td>\n",
       "      <td>2018-02-28 17:31:59.425</td>\n",
       "      <td>2018-02-26 21:39:47.129</td>\n",
       "      <td>1</td>\n",
       "    </tr>\n",
       "    <tr>\n",
       "      <th>4</th>\n",
       "      <td>3006520</td>\n",
       "      <td>2018-02-27 23:26:44.163</td>\n",
       "      <td>2018-02-27 23:26:44.163</td>\n",
       "      <td>0</td>\n",
       "    </tr>\n",
       "  </tbody>\n",
       "</table>\n",
       "</div>"
      ],
      "text/plain": [
       "   idaviso               fecha_fin            fecha_inicio  cant_dias\n",
       "0  1585950 2018-02-26 00:27:07.739 2018-02-26 00:27:07.739          0\n",
       "1  1672250 2018-02-27 00:19:37.075 2018-02-26 16:42:16.493          0\n",
       "2  1799300 2018-02-25 22:13:34.379 2018-02-25 22:13:34.379          0\n",
       "3  2613010 2018-02-28 17:31:59.425 2018-02-26 21:39:47.129          1\n",
       "4  3006520 2018-02-27 23:26:44.163 2018-02-27 23:26:44.163          0"
      ]
     },
     "execution_count": 73,
     "metadata": {},
     "output_type": "execute_result"
    }
   ],
   "source": [
    "fechas_totales.head()"
   ]
  },
  {
   "cell_type": "code",
   "execution_count": 74,
   "metadata": {
    "collapsed": true
   },
   "outputs": [],
   "source": [
    "del fechas_totales['fecha_fin']\n",
    "del fechas_totales['fecha_inicio']"
   ]
  },
  {
   "cell_type": "code",
   "execution_count": 75,
   "metadata": {},
   "outputs": [
    {
     "data": {
      "text/plain": [
       "(19696, 36)"
      ]
     },
     "execution_count": 75,
     "metadata": {},
     "output_type": "execute_result"
    }
   ],
   "source": [
    "df_avisos_detalles.shape"
   ]
  },
  {
   "cell_type": "code",
   "execution_count": 76,
   "metadata": {
    "collapsed": true
   },
   "outputs": [],
   "source": [
    "df_avisos_detalles_final = pd.merge(df_avisos_detalles, fechas_totales, on=['idaviso'], how='left')"
   ]
  },
  {
   "cell_type": "code",
   "execution_count": 73,
   "metadata": {},
   "outputs": [
    {
     "data": {
      "text/plain": [
       "(19696, 37)"
      ]
     },
     "execution_count": 73,
     "metadata": {},
     "output_type": "execute_result"
    }
   ],
   "source": [
    "df_avisos_detalles_final.shape"
   ]
  },
  {
   "cell_type": "code",
   "execution_count": 74,
   "metadata": {},
   "outputs": [
    {
     "data": {
      "text/html": [
       "<div>\n",
       "<style>\n",
       "    .dataframe thead tr:only-child th {\n",
       "        text-align: right;\n",
       "    }\n",
       "\n",
       "    .dataframe thead th {\n",
       "        text-align: left;\n",
       "    }\n",
       "\n",
       "    .dataframe tbody tr th {\n",
       "        vertical-align: top;\n",
       "    }\n",
       "</style>\n",
       "<table border=\"1\" class=\"dataframe\">\n",
       "  <thead>\n",
       "    <tr style=\"text-align: right;\">\n",
       "      <th></th>\n",
       "      <th>idaviso</th>\n",
       "      <th>tipo_de_trabajo</th>\n",
       "      <th>nivel_laboral</th>\n",
       "      <th>nombre_area</th>\n",
       "      <th>denominacion_empresa</th>\n",
       "      <th>web</th>\n",
       "      <th>crecimiento</th>\n",
       "      <th>capacitacion</th>\n",
       "      <th>clima laboral</th>\n",
       "      <th>multinacional</th>\n",
       "      <th>...</th>\n",
       "      <th>administrativo</th>\n",
       "      <th>junior</th>\n",
       "      <th>jefe</th>\n",
       "      <th>marketing</th>\n",
       "      <th>supervisor</th>\n",
       "      <th>online</th>\n",
       "      <th>postu_total</th>\n",
       "      <th>total_vistas</th>\n",
       "      <th>vistas_median</th>\n",
       "      <th>cant_dias</th>\n",
       "    </tr>\n",
       "  </thead>\n",
       "  <tbody>\n",
       "    <tr>\n",
       "      <th>0</th>\n",
       "      <td>8725750</td>\n",
       "      <td>1</td>\n",
       "      <td>1</td>\n",
       "      <td>1</td>\n",
       "      <td>1</td>\n",
       "      <td>0</td>\n",
       "      <td>0</td>\n",
       "      <td>1</td>\n",
       "      <td>0</td>\n",
       "      <td>0</td>\n",
       "      <td>...</td>\n",
       "      <td>0</td>\n",
       "      <td>0</td>\n",
       "      <td>0</td>\n",
       "      <td>0</td>\n",
       "      <td>0</td>\n",
       "      <td>0.0</td>\n",
       "      <td>137.0</td>\n",
       "      <td>NaN</td>\n",
       "      <td>NaN</td>\n",
       "      <td>26.0</td>\n",
       "    </tr>\n",
       "    <tr>\n",
       "      <th>1</th>\n",
       "      <td>17903700</td>\n",
       "      <td>1</td>\n",
       "      <td>1</td>\n",
       "      <td>2</td>\n",
       "      <td>2</td>\n",
       "      <td>0</td>\n",
       "      <td>0</td>\n",
       "      <td>0</td>\n",
       "      <td>0</td>\n",
       "      <td>0</td>\n",
       "      <td>...</td>\n",
       "      <td>0</td>\n",
       "      <td>0</td>\n",
       "      <td>0</td>\n",
       "      <td>0</td>\n",
       "      <td>0</td>\n",
       "      <td>1.0</td>\n",
       "      <td>175.0</td>\n",
       "      <td>1935.0</td>\n",
       "      <td>2.0</td>\n",
       "      <td>51.0</td>\n",
       "    </tr>\n",
       "    <tr>\n",
       "      <th>2</th>\n",
       "      <td>1000150677</td>\n",
       "      <td>1</td>\n",
       "      <td>1</td>\n",
       "      <td>3</td>\n",
       "      <td>3</td>\n",
       "      <td>0</td>\n",
       "      <td>0</td>\n",
       "      <td>0</td>\n",
       "      <td>0</td>\n",
       "      <td>0</td>\n",
       "      <td>...</td>\n",
       "      <td>0</td>\n",
       "      <td>0</td>\n",
       "      <td>0</td>\n",
       "      <td>0</td>\n",
       "      <td>0</td>\n",
       "      <td>0.0</td>\n",
       "      <td>NaN</td>\n",
       "      <td>2.0</td>\n",
       "      <td>2.0</td>\n",
       "      <td>3.0</td>\n",
       "    </tr>\n",
       "    <tr>\n",
       "      <th>3</th>\n",
       "      <td>1000610287</td>\n",
       "      <td>1</td>\n",
       "      <td>1</td>\n",
       "      <td>3</td>\n",
       "      <td>4</td>\n",
       "      <td>0</td>\n",
       "      <td>1</td>\n",
       "      <td>1</td>\n",
       "      <td>0</td>\n",
       "      <td>1</td>\n",
       "      <td>...</td>\n",
       "      <td>0</td>\n",
       "      <td>0</td>\n",
       "      <td>0</td>\n",
       "      <td>0</td>\n",
       "      <td>0</td>\n",
       "      <td>1.0</td>\n",
       "      <td>197.0</td>\n",
       "      <td>72.0</td>\n",
       "      <td>2.0</td>\n",
       "      <td>83.0</td>\n",
       "    </tr>\n",
       "    <tr>\n",
       "      <th>4</th>\n",
       "      <td>1000872556</td>\n",
       "      <td>1</td>\n",
       "      <td>1</td>\n",
       "      <td>4</td>\n",
       "      <td>5</td>\n",
       "      <td>0</td>\n",
       "      <td>0</td>\n",
       "      <td>0</td>\n",
       "      <td>0</td>\n",
       "      <td>0</td>\n",
       "      <td>...</td>\n",
       "      <td>0</td>\n",
       "      <td>0</td>\n",
       "      <td>0</td>\n",
       "      <td>0</td>\n",
       "      <td>1</td>\n",
       "      <td>0.0</td>\n",
       "      <td>NaN</td>\n",
       "      <td>1.0</td>\n",
       "      <td>1.0</td>\n",
       "      <td>0.0</td>\n",
       "    </tr>\n",
       "  </tbody>\n",
       "</table>\n",
       "<p>5 rows × 37 columns</p>\n",
       "</div>"
      ],
      "text/plain": [
       "      idaviso  tipo_de_trabajo  nivel_laboral  nombre_area  \\\n",
       "0     8725750                1              1            1   \n",
       "1    17903700                1              1            2   \n",
       "2  1000150677                1              1            3   \n",
       "3  1000610287                1              1            3   \n",
       "4  1000872556                1              1            4   \n",
       "\n",
       "   denominacion_empresa  web  crecimiento  capacitacion  clima laboral  \\\n",
       "0                     1    0            0             1              0   \n",
       "1                     2    0            0             0              0   \n",
       "2                     3    0            0             0              0   \n",
       "3                     4    0            1             1              0   \n",
       "4                     5    0            0             0              0   \n",
       "\n",
       "   multinacional    ...      administrativo  junior  jefe  marketing  \\\n",
       "0              0    ...                   0       0     0          0   \n",
       "1              0    ...                   0       0     0          0   \n",
       "2              0    ...                   0       0     0          0   \n",
       "3              1    ...                   0       0     0          0   \n",
       "4              0    ...                   0       0     0          0   \n",
       "\n",
       "   supervisor  online  postu_total  total_vistas  vistas_median  cant_dias  \n",
       "0           0     0.0        137.0           NaN            NaN       26.0  \n",
       "1           0     1.0        175.0        1935.0            2.0       51.0  \n",
       "2           0     0.0          NaN           2.0            2.0        3.0  \n",
       "3           0     1.0        197.0          72.0            2.0       83.0  \n",
       "4           1     0.0          NaN           1.0            1.0        0.0  \n",
       "\n",
       "[5 rows x 37 columns]"
      ]
     },
     "execution_count": 74,
     "metadata": {},
     "output_type": "execute_result"
    }
   ],
   "source": [
    "df_avisos_detalles_final.head()"
   ]
  },
  {
   "cell_type": "code",
   "execution_count": 75,
   "metadata": {},
   "outputs": [
    {
     "data": {
      "text/plain": [
       "idaviso                      0\n",
       "tipo_de_trabajo              0\n",
       "nivel_laboral                0\n",
       "nombre_area                  0\n",
       "denominacion_empresa         0\n",
       "web                          0\n",
       "crecimiento                  0\n",
       "capacitacion                 0\n",
       "clima laboral                0\n",
       "multinacional                0\n",
       "incorp_inmediata             0\n",
       "disponibilidad_horaria       0\n",
       "disponibilidad_viajar        0\n",
       "flexibilidad                 0\n",
       "secundario                   0\n",
       "terciario                    0\n",
       "ingles                       0\n",
       "estudiantes                  0\n",
       "conoc_informatica            0\n",
       "experiencia                  0\n",
       "proactivo                    0\n",
       "relaciones_pers              0\n",
       "desarrollador                0\n",
       "cajero                       0\n",
       "vendedor                     0\n",
       "ingeniero                    0\n",
       "analista                     0\n",
       "administrativo               0\n",
       "junior                       0\n",
       "jefe                         0\n",
       "marketing                    0\n",
       "supervisor                   0\n",
       "online                       0\n",
       "postu_total               1005\n",
       "total_vistas              4661\n",
       "vistas_median             4661\n",
       "cant_dias                   78\n",
       "dtype: int64"
      ]
     },
     "execution_count": 75,
     "metadata": {},
     "output_type": "execute_result"
    }
   ],
   "source": [
    "df_avisos_detalles_final.isnull().sum()"
   ]
  },
  {
   "cell_type": "code",
   "execution_count": 77,
   "metadata": {},
   "outputs": [
    {
     "data": {
      "text/plain": [
       "1.0"
      ]
     },
     "execution_count": 77,
     "metadata": {},
     "output_type": "execute_result"
    }
   ],
   "source": [
    "a = df_avisos_detalles_final['vistas_median'].median()\n",
    "a"
   ]
  },
  {
   "cell_type": "code",
   "execution_count": 78,
   "metadata": {
    "collapsed": true
   },
   "outputs": [],
   "source": [
    "def fill_total_vistas(row):\n",
    "    if((np.isnan(row['total_vistas'])) & (np.isnan(row['vistas_median']) == False) & (np.isnan(row['postu_total']) == False)):\n",
    "        return row['postu_total']*row['vistas_median']\n",
    "    elif((np.isnan(row['total_vistas'])) & (np.isnan((row['vistas_median']))) & (np.isnan((row['postu_total']))==False)):\n",
    "        return row['postu_total']*a\n",
    "    elif((np.isnan(row['total_vistas']) == False) & (np.isnan(row['postu_total']) == False) & (np.isnan(row['vistas_median']) == False)):\n",
    "        if(row['total_vistas']<(row['postu_total']*row['vistas_median'])):\n",
    "            return row['postu_total']*row['vistas_median']\n",
    "    elif((np.isnan(row['total_vistas']) == False)&(np.isnan(row['postu_total']) == False)&(np.isnan(row['vistas_median']))):\n",
    "        if(row['total_vistas']<row['postu_total']):\n",
    "            return row['postu_total']\n",
    "        \n",
    "    return row['total_vistas']"
   ]
  },
  {
   "cell_type": "code",
   "execution_count": 79,
   "metadata": {
    "collapsed": true
   },
   "outputs": [],
   "source": [
    "df_avisos_detalles_final['total_vistas'] = df_avisos_detalles_final.apply(fill_total_vistas, axis=1)"
   ]
  },
  {
   "cell_type": "code",
   "execution_count": 79,
   "metadata": {},
   "outputs": [
    {
     "data": {
      "text/plain": [
       "idaviso                      0\n",
       "tipo_de_trabajo              0\n",
       "nivel_laboral                0\n",
       "nombre_area                  0\n",
       "denominacion_empresa         0\n",
       "web                          0\n",
       "crecimiento                  0\n",
       "capacitacion                 0\n",
       "clima laboral                0\n",
       "multinacional                0\n",
       "incorp_inmediata             0\n",
       "disponibilidad_horaria       0\n",
       "disponibilidad_viajar        0\n",
       "flexibilidad                 0\n",
       "secundario                   0\n",
       "terciario                    0\n",
       "ingles                       0\n",
       "estudiantes                  0\n",
       "conoc_informatica            0\n",
       "experiencia                  0\n",
       "proactivo                    0\n",
       "relaciones_pers              0\n",
       "desarrollador                0\n",
       "cajero                       0\n",
       "vendedor                     0\n",
       "ingeniero                    0\n",
       "analista                     0\n",
       "administrativo               0\n",
       "junior                       0\n",
       "jefe                         0\n",
       "marketing                    0\n",
       "supervisor                   0\n",
       "online                       0\n",
       "postu_total               1005\n",
       "total_vistas                78\n",
       "vistas_median             4661\n",
       "cant_dias                   78\n",
       "dtype: int64"
      ]
     },
     "execution_count": 79,
     "metadata": {},
     "output_type": "execute_result"
    }
   ],
   "source": [
    "df_avisos_detalles_final.isnull().sum()"
   ]
  },
  {
   "cell_type": "code",
   "execution_count": 81,
   "metadata": {},
   "outputs": [
    {
     "data": {
      "text/html": [
       "<div>\n",
       "<style>\n",
       "    .dataframe thead tr:only-child th {\n",
       "        text-align: right;\n",
       "    }\n",
       "\n",
       "    .dataframe thead th {\n",
       "        text-align: left;\n",
       "    }\n",
       "\n",
       "    .dataframe tbody tr th {\n",
       "        vertical-align: top;\n",
       "    }\n",
       "</style>\n",
       "<table border=\"1\" class=\"dataframe\">\n",
       "  <thead>\n",
       "    <tr style=\"text-align: right;\">\n",
       "      <th></th>\n",
       "      <th>idaviso</th>\n",
       "      <th>tipo_de_trabajo</th>\n",
       "      <th>nivel_laboral</th>\n",
       "      <th>nombre_area</th>\n",
       "      <th>denominacion_empresa</th>\n",
       "      <th>web</th>\n",
       "      <th>crecimiento</th>\n",
       "      <th>capacitacion</th>\n",
       "      <th>clima laboral</th>\n",
       "      <th>multinacional</th>\n",
       "      <th>...</th>\n",
       "      <th>administrativo</th>\n",
       "      <th>junior</th>\n",
       "      <th>jefe</th>\n",
       "      <th>marketing</th>\n",
       "      <th>supervisor</th>\n",
       "      <th>online</th>\n",
       "      <th>postu_total</th>\n",
       "      <th>total_vistas</th>\n",
       "      <th>vistas_median</th>\n",
       "      <th>cant_dias</th>\n",
       "    </tr>\n",
       "  </thead>\n",
       "  <tbody>\n",
       "    <tr>\n",
       "      <th>0</th>\n",
       "      <td>8725750</td>\n",
       "      <td>1</td>\n",
       "      <td>1</td>\n",
       "      <td>1</td>\n",
       "      <td>1</td>\n",
       "      <td>0</td>\n",
       "      <td>0</td>\n",
       "      <td>1</td>\n",
       "      <td>0</td>\n",
       "      <td>0</td>\n",
       "      <td>...</td>\n",
       "      <td>0</td>\n",
       "      <td>0</td>\n",
       "      <td>0</td>\n",
       "      <td>0</td>\n",
       "      <td>0</td>\n",
       "      <td>0.0</td>\n",
       "      <td>137.0</td>\n",
       "      <td>137.0</td>\n",
       "      <td>NaN</td>\n",
       "      <td>26.0</td>\n",
       "    </tr>\n",
       "    <tr>\n",
       "      <th>1</th>\n",
       "      <td>17903700</td>\n",
       "      <td>1</td>\n",
       "      <td>1</td>\n",
       "      <td>2</td>\n",
       "      <td>2</td>\n",
       "      <td>0</td>\n",
       "      <td>0</td>\n",
       "      <td>0</td>\n",
       "      <td>0</td>\n",
       "      <td>0</td>\n",
       "      <td>...</td>\n",
       "      <td>0</td>\n",
       "      <td>0</td>\n",
       "      <td>0</td>\n",
       "      <td>0</td>\n",
       "      <td>0</td>\n",
       "      <td>1.0</td>\n",
       "      <td>175.0</td>\n",
       "      <td>1935.0</td>\n",
       "      <td>2.0</td>\n",
       "      <td>51.0</td>\n",
       "    </tr>\n",
       "    <tr>\n",
       "      <th>2</th>\n",
       "      <td>1000150677</td>\n",
       "      <td>1</td>\n",
       "      <td>1</td>\n",
       "      <td>3</td>\n",
       "      <td>3</td>\n",
       "      <td>0</td>\n",
       "      <td>0</td>\n",
       "      <td>0</td>\n",
       "      <td>0</td>\n",
       "      <td>0</td>\n",
       "      <td>...</td>\n",
       "      <td>0</td>\n",
       "      <td>0</td>\n",
       "      <td>0</td>\n",
       "      <td>0</td>\n",
       "      <td>0</td>\n",
       "      <td>0.0</td>\n",
       "      <td>NaN</td>\n",
       "      <td>2.0</td>\n",
       "      <td>2.0</td>\n",
       "      <td>3.0</td>\n",
       "    </tr>\n",
       "    <tr>\n",
       "      <th>3</th>\n",
       "      <td>1000610287</td>\n",
       "      <td>1</td>\n",
       "      <td>1</td>\n",
       "      <td>3</td>\n",
       "      <td>4</td>\n",
       "      <td>0</td>\n",
       "      <td>1</td>\n",
       "      <td>1</td>\n",
       "      <td>0</td>\n",
       "      <td>1</td>\n",
       "      <td>...</td>\n",
       "      <td>0</td>\n",
       "      <td>0</td>\n",
       "      <td>0</td>\n",
       "      <td>0</td>\n",
       "      <td>0</td>\n",
       "      <td>1.0</td>\n",
       "      <td>197.0</td>\n",
       "      <td>394.0</td>\n",
       "      <td>2.0</td>\n",
       "      <td>83.0</td>\n",
       "    </tr>\n",
       "    <tr>\n",
       "      <th>4</th>\n",
       "      <td>1000872556</td>\n",
       "      <td>1</td>\n",
       "      <td>1</td>\n",
       "      <td>4</td>\n",
       "      <td>5</td>\n",
       "      <td>0</td>\n",
       "      <td>0</td>\n",
       "      <td>0</td>\n",
       "      <td>0</td>\n",
       "      <td>0</td>\n",
       "      <td>...</td>\n",
       "      <td>0</td>\n",
       "      <td>0</td>\n",
       "      <td>0</td>\n",
       "      <td>0</td>\n",
       "      <td>1</td>\n",
       "      <td>0.0</td>\n",
       "      <td>NaN</td>\n",
       "      <td>1.0</td>\n",
       "      <td>1.0</td>\n",
       "      <td>0.0</td>\n",
       "    </tr>\n",
       "  </tbody>\n",
       "</table>\n",
       "<p>5 rows × 37 columns</p>\n",
       "</div>"
      ],
      "text/plain": [
       "      idaviso  tipo_de_trabajo  nivel_laboral  nombre_area  \\\n",
       "0     8725750                1              1            1   \n",
       "1    17903700                1              1            2   \n",
       "2  1000150677                1              1            3   \n",
       "3  1000610287                1              1            3   \n",
       "4  1000872556                1              1            4   \n",
       "\n",
       "   denominacion_empresa  web  crecimiento  capacitacion  clima laboral  \\\n",
       "0                     1    0            0             1              0   \n",
       "1                     2    0            0             0              0   \n",
       "2                     3    0            0             0              0   \n",
       "3                     4    0            1             1              0   \n",
       "4                     5    0            0             0              0   \n",
       "\n",
       "   multinacional    ...      administrativo  junior  jefe  marketing  \\\n",
       "0              0    ...                   0       0     0          0   \n",
       "1              0    ...                   0       0     0          0   \n",
       "2              0    ...                   0       0     0          0   \n",
       "3              1    ...                   0       0     0          0   \n",
       "4              0    ...                   0       0     0          0   \n",
       "\n",
       "   supervisor  online  postu_total  total_vistas  vistas_median  cant_dias  \n",
       "0           0     0.0        137.0         137.0            NaN       26.0  \n",
       "1           0     1.0        175.0        1935.0            2.0       51.0  \n",
       "2           0     0.0          NaN           2.0            2.0        3.0  \n",
       "3           0     1.0        197.0         394.0            2.0       83.0  \n",
       "4           1     0.0          NaN           1.0            1.0        0.0  \n",
       "\n",
       "[5 rows x 37 columns]"
      ]
     },
     "execution_count": 81,
     "metadata": {},
     "output_type": "execute_result"
    }
   ],
   "source": [
    "df_avisos_detalles_final.head()"
   ]
  },
  {
   "cell_type": "code",
   "execution_count": 80,
   "metadata": {
    "collapsed": true
   },
   "outputs": [],
   "source": [
    "df_avisos_detalles_final.to_csv('Predecir/avisos_detalles_train.csv')"
   ]
  },
  {
   "cell_type": "markdown",
   "metadata": {},
   "source": [
    "# Postulantes"
   ]
  },
  {
   "cell_type": "code",
   "execution_count": 81,
   "metadata": {
    "collapsed": true
   },
   "outputs": [],
   "source": [
    "df_postulantes_edu = pd.concat([df_postulantes_edu_original, df_postulantes_edu_nuevo])"
   ]
  },
  {
   "cell_type": "code",
   "execution_count": 82,
   "metadata": {},
   "outputs": [
    {
     "data": {
      "text/plain": [
       "(705684, 3)"
      ]
     },
     "execution_count": 82,
     "metadata": {},
     "output_type": "execute_result"
    }
   ],
   "source": [
    "df_postulantes_edu.shape"
   ]
  },
  {
   "cell_type": "code",
   "execution_count": 83,
   "metadata": {},
   "outputs": [
    {
     "data": {
      "text/plain": [
       "Index(['idpostulante', 'nombre', 'estado'], dtype='object')"
      ]
     },
     "execution_count": 83,
     "metadata": {},
     "output_type": "execute_result"
    }
   ],
   "source": [
    "df_postulantes_edu.columns"
   ]
  },
  {
   "cell_type": "code",
   "execution_count": 84,
   "metadata": {},
   "outputs": [
    {
     "data": {
      "text/html": [
       "<div>\n",
       "<style>\n",
       "    .dataframe thead tr:only-child th {\n",
       "        text-align: right;\n",
       "    }\n",
       "\n",
       "    .dataframe thead th {\n",
       "        text-align: left;\n",
       "    }\n",
       "\n",
       "    .dataframe tbody tr th {\n",
       "        vertical-align: top;\n",
       "    }\n",
       "</style>\n",
       "<table border=\"1\" class=\"dataframe\">\n",
       "  <thead>\n",
       "    <tr style=\"text-align: right;\">\n",
       "      <th></th>\n",
       "      <th>idpostulante</th>\n",
       "      <th>nombre</th>\n",
       "      <th>estado</th>\n",
       "    </tr>\n",
       "  </thead>\n",
       "  <tbody>\n",
       "    <tr>\n",
       "      <th>0</th>\n",
       "      <td>NdJl</td>\n",
       "      <td>Posgrado</td>\n",
       "      <td>En Curso</td>\n",
       "    </tr>\n",
       "    <tr>\n",
       "      <th>1</th>\n",
       "      <td>8BkL</td>\n",
       "      <td>Universitario</td>\n",
       "      <td>En Curso</td>\n",
       "    </tr>\n",
       "    <tr>\n",
       "      <th>2</th>\n",
       "      <td>1d2B</td>\n",
       "      <td>Universitario</td>\n",
       "      <td>En Curso</td>\n",
       "    </tr>\n",
       "    <tr>\n",
       "      <th>3</th>\n",
       "      <td>NPBx</td>\n",
       "      <td>Universitario</td>\n",
       "      <td>En Curso</td>\n",
       "    </tr>\n",
       "    <tr>\n",
       "      <th>4</th>\n",
       "      <td>NPBx</td>\n",
       "      <td>Master</td>\n",
       "      <td>En Curso</td>\n",
       "    </tr>\n",
       "  </tbody>\n",
       "</table>\n",
       "</div>"
      ],
      "text/plain": [
       "  idpostulante         nombre    estado\n",
       "0         NdJl       Posgrado  En Curso\n",
       "1         8BkL  Universitario  En Curso\n",
       "2         1d2B  Universitario  En Curso\n",
       "3         NPBx  Universitario  En Curso\n",
       "4         NPBx         Master  En Curso"
      ]
     },
     "execution_count": 84,
     "metadata": {},
     "output_type": "execute_result"
    }
   ],
   "source": [
    "df_postulantes_edu.head()"
   ]
  },
  {
   "cell_type": "code",
   "execution_count": 85,
   "metadata": {},
   "outputs": [
    {
     "data": {
      "text/plain": [
       "Universitario        259550\n",
       "Secundario           246012\n",
       "Terciario/Técnico    114815\n",
       "Otro                  53513\n",
       "Posgrado              20885\n",
       "Master                10297\n",
       "Doctorado               612\n",
       "Name: nombre, dtype: int64"
      ]
     },
     "execution_count": 85,
     "metadata": {},
     "output_type": "execute_result"
    }
   ],
   "source": [
    "df_postulantes_edu['nombre'].value_counts()"
   ]
  },
  {
   "cell_type": "code",
   "execution_count": 86,
   "metadata": {
    "collapsed": true
   },
   "outputs": [],
   "source": [
    "df_postulantes_edu = df_postulantes_edu.drop_duplicates()"
   ]
  },
  {
   "cell_type": "code",
   "execution_count": 87,
   "metadata": {},
   "outputs": [
    {
     "data": {
      "text/plain": [
       "(568612, 3)"
      ]
     },
     "execution_count": 87,
     "metadata": {},
     "output_type": "execute_result"
    }
   ],
   "source": [
    "df_postulantes_edu.shape"
   ]
  },
  {
   "cell_type": "code",
   "execution_count": 88,
   "metadata": {
    "collapsed": true
   },
   "outputs": [],
   "source": [
    "nivel_dict = {'Universitario' : 3\n",
    "             , 'Secundario' : 1\n",
    "             , 'Terciario/Técnico' : 2\n",
    "             , 'Otro': 0\n",
    "             , 'Posgrado' : 4\n",
    "             , 'Master' : 5\n",
    "             , 'Doctorado' : 6}\n",
    "\n",
    "def educacion(row):\n",
    "    return nivel_dict[row['nombre']]\n",
    "\n",
    "df_postulantes_edu['nombre'] = df_postulantes_edu.apply(educacion, axis=1)"
   ]
  },
  {
   "cell_type": "code",
   "execution_count": 89,
   "metadata": {},
   "outputs": [
    {
     "data": {
      "text/plain": [
       "Graduado      370213\n",
       "En Curso      149388\n",
       "Abandonado     49011\n",
       "Name: estado, dtype: int64"
      ]
     },
     "execution_count": 89,
     "metadata": {},
     "output_type": "execute_result"
    }
   ],
   "source": [
    "df_postulantes_edu['estado'].value_counts()"
   ]
  },
  {
   "cell_type": "code",
   "execution_count": 90,
   "metadata": {
    "collapsed": true
   },
   "outputs": [],
   "source": [
    "estado_dict = {'Graduado' : 2\n",
    "             , 'En Curso' : 1\n",
    "             , 'Abandonado' : 0}\n",
    "\n",
    "def estado(row):\n",
    "    return estado_dict[row['estado']]\n",
    "\n",
    "df_postulantes_edu['estado'] = df_postulantes_edu.apply(estado, axis=1)"
   ]
  },
  {
   "cell_type": "code",
   "execution_count": 91,
   "metadata": {},
   "outputs": [
    {
     "data": {
      "text/plain": [
       "(568612, 3)"
      ]
     },
     "execution_count": 91,
     "metadata": {},
     "output_type": "execute_result"
    }
   ],
   "source": [
    "df_postulantes_edu.shape"
   ]
  },
  {
   "cell_type": "code",
   "execution_count": 92,
   "metadata": {},
   "outputs": [
    {
     "data": {
      "text/plain": [
       "366395"
      ]
     },
     "execution_count": 92,
     "metadata": {},
     "output_type": "execute_result"
    }
   ],
   "source": [
    "df_postulantes_edu['idpostulante'].nunique()"
   ]
  },
  {
   "cell_type": "markdown",
   "metadata": {},
   "source": [
    "Nos quedamos unicamente con su mayor nivel de estudio"
   ]
  },
  {
   "cell_type": "code",
   "execution_count": 93,
   "metadata": {
    "collapsed": true
   },
   "outputs": [],
   "source": [
    "for_join = df_postulantes_edu.loc[:, ['idpostulante', 'nombre']].groupby('idpostulante').max().reset_index()\n",
    "df_postulantes_edu = pd.merge(df_postulantes_edu, for_join, how='inner', on=['idpostulante', 'nombre'])"
   ]
  },
  {
   "cell_type": "code",
   "execution_count": 94,
   "metadata": {},
   "outputs": [
    {
     "data": {
      "text/plain": [
       "(387698, 3)"
      ]
     },
     "execution_count": 94,
     "metadata": {},
     "output_type": "execute_result"
    }
   ],
   "source": [
    "df_postulantes_edu.shape"
   ]
  },
  {
   "cell_type": "code",
   "execution_count": 95,
   "metadata": {},
   "outputs": [
    {
     "data": {
      "text/plain": [
       "366395"
      ]
     },
     "execution_count": 95,
     "metadata": {},
     "output_type": "execute_result"
    }
   ],
   "source": [
    "df_postulantes_edu['idpostulante'].nunique()"
   ]
  },
  {
   "cell_type": "code",
   "execution_count": 96,
   "metadata": {},
   "outputs": [
    {
     "data": {
      "text/html": [
       "<div>\n",
       "<style>\n",
       "    .dataframe thead tr:only-child th {\n",
       "        text-align: right;\n",
       "    }\n",
       "\n",
       "    .dataframe thead th {\n",
       "        text-align: left;\n",
       "    }\n",
       "\n",
       "    .dataframe tbody tr th {\n",
       "        vertical-align: top;\n",
       "    }\n",
       "</style>\n",
       "<table border=\"1\" class=\"dataframe\">\n",
       "  <thead>\n",
       "    <tr style=\"text-align: right;\">\n",
       "      <th></th>\n",
       "      <th>idpostulante</th>\n",
       "      <th>nombre</th>\n",
       "      <th>estado</th>\n",
       "    </tr>\n",
       "  </thead>\n",
       "  <tbody>\n",
       "    <tr>\n",
       "      <th>0</th>\n",
       "      <td>NdJl</td>\n",
       "      <td>4</td>\n",
       "      <td>1</td>\n",
       "    </tr>\n",
       "    <tr>\n",
       "      <th>1</th>\n",
       "      <td>1d2B</td>\n",
       "      <td>3</td>\n",
       "      <td>1</td>\n",
       "    </tr>\n",
       "    <tr>\n",
       "      <th>2</th>\n",
       "      <td>NPBx</td>\n",
       "      <td>5</td>\n",
       "      <td>1</td>\n",
       "    </tr>\n",
       "    <tr>\n",
       "      <th>3</th>\n",
       "      <td>ZKl5</td>\n",
       "      <td>5</td>\n",
       "      <td>1</td>\n",
       "    </tr>\n",
       "    <tr>\n",
       "      <th>4</th>\n",
       "      <td>Y043Z</td>\n",
       "      <td>3</td>\n",
       "      <td>1</td>\n",
       "    </tr>\n",
       "  </tbody>\n",
       "</table>\n",
       "</div>"
      ],
      "text/plain": [
       "  idpostulante  nombre  estado\n",
       "0         NdJl       4       1\n",
       "1         1d2B       3       1\n",
       "2         NPBx       5       1\n",
       "3         ZKl5       5       1\n",
       "4        Y043Z       3       1"
      ]
     },
     "execution_count": 96,
     "metadata": {},
     "output_type": "execute_result"
    }
   ],
   "source": [
    "df_postulantes_edu.head()"
   ]
  },
  {
   "cell_type": "code",
   "execution_count": 97,
   "metadata": {
    "collapsed": true
   },
   "outputs": [],
   "source": [
    "for_join = df_postulantes_edu.loc[:, ['idpostulante', 'estado']].groupby('idpostulante').max().reset_index()\n",
    "df_postulantes_edu = pd.merge(df_postulantes_edu, for_join, how='inner', on=['idpostulante', 'estado'])"
   ]
  },
  {
   "cell_type": "code",
   "execution_count": 98,
   "metadata": {},
   "outputs": [
    {
     "data": {
      "text/plain": [
       "366395"
      ]
     },
     "execution_count": 98,
     "metadata": {},
     "output_type": "execute_result"
    }
   ],
   "source": [
    "df_postulantes_edu['idpostulante'].nunique()"
   ]
  },
  {
   "cell_type": "code",
   "execution_count": 99,
   "metadata": {
    "collapsed": true
   },
   "outputs": [],
   "source": [
    "df_postulantes_datos = pd.concat([df_postulantes_datos_original, df_postulantes_datos_nuevo])\n",
    "df_postulantes_datos = df_postulantes_datos.drop_duplicates()"
   ]
  },
  {
   "cell_type": "code",
   "execution_count": 100,
   "metadata": {},
   "outputs": [
    {
     "data": {
      "text/html": [
       "<div>\n",
       "<style>\n",
       "    .dataframe thead tr:only-child th {\n",
       "        text-align: right;\n",
       "    }\n",
       "\n",
       "    .dataframe thead th {\n",
       "        text-align: left;\n",
       "    }\n",
       "\n",
       "    .dataframe tbody tr th {\n",
       "        vertical-align: top;\n",
       "    }\n",
       "</style>\n",
       "<table border=\"1\" class=\"dataframe\">\n",
       "  <thead>\n",
       "    <tr style=\"text-align: right;\">\n",
       "      <th></th>\n",
       "      <th>idpostulante</th>\n",
       "      <th>fechanacimiento</th>\n",
       "      <th>sexo</th>\n",
       "    </tr>\n",
       "  </thead>\n",
       "  <tbody>\n",
       "    <tr>\n",
       "      <th>0</th>\n",
       "      <td>NM5M</td>\n",
       "      <td>1970-12-03</td>\n",
       "      <td>FEM</td>\n",
       "    </tr>\n",
       "    <tr>\n",
       "      <th>1</th>\n",
       "      <td>5awk</td>\n",
       "      <td>1962-12-04</td>\n",
       "      <td>FEM</td>\n",
       "    </tr>\n",
       "    <tr>\n",
       "      <th>2</th>\n",
       "      <td>ZaO5</td>\n",
       "      <td>1978-08-10</td>\n",
       "      <td>FEM</td>\n",
       "    </tr>\n",
       "    <tr>\n",
       "      <th>3</th>\n",
       "      <td>NdJl</td>\n",
       "      <td>1969-05-09</td>\n",
       "      <td>MASC</td>\n",
       "    </tr>\n",
       "    <tr>\n",
       "      <th>4</th>\n",
       "      <td>eo2p</td>\n",
       "      <td>1981-02-16</td>\n",
       "      <td>MASC</td>\n",
       "    </tr>\n",
       "  </tbody>\n",
       "</table>\n",
       "</div>"
      ],
      "text/plain": [
       "  idpostulante fechanacimiento  sexo\n",
       "0         NM5M      1970-12-03   FEM\n",
       "1         5awk      1962-12-04   FEM\n",
       "2         ZaO5      1978-08-10   FEM\n",
       "3         NdJl      1969-05-09  MASC\n",
       "4         eo2p      1981-02-16  MASC"
      ]
     },
     "execution_count": 100,
     "metadata": {},
     "output_type": "execute_result"
    }
   ],
   "source": [
    "df_postulantes_datos.head()"
   ]
  },
  {
   "cell_type": "code",
   "execution_count": 101,
   "metadata": {},
   "outputs": [
    {
     "data": {
      "text/plain": [
       "408146"
      ]
     },
     "execution_count": 101,
     "metadata": {},
     "output_type": "execute_result"
    }
   ],
   "source": [
    "df_postulantes_datos['idpostulante'].nunique()"
   ]
  },
  {
   "cell_type": "code",
   "execution_count": 102,
   "metadata": {
    "collapsed": true
   },
   "outputs": [],
   "source": [
    "df_postulantes_datos['edad'] = pd.to_datetime(df_postulantes_datos[\"fechanacimiento\"], errors = 'coerce')\n",
    "del df_postulantes_datos['fechanacimiento']"
   ]
  },
  {
   "cell_type": "code",
   "execution_count": 103,
   "metadata": {},
   "outputs": [
    {
     "data": {
      "text/plain": [
       "408146"
      ]
     },
     "execution_count": 103,
     "metadata": {},
     "output_type": "execute_result"
    }
   ],
   "source": [
    "df_postulantes_datos['idpostulante'].nunique()"
   ]
  },
  {
   "cell_type": "code",
   "execution_count": 104,
   "metadata": {
    "collapsed": true
   },
   "outputs": [],
   "source": [
    "list_sexos = []\n",
    "\n",
    "def tipo_sexos(row):\n",
    "    if pd.isnull(row['sexo']): #Es nula, seteo valor 0 por defecto\n",
    "        return 0\n",
    "    if row['sexo'] in list_sexos:\n",
    "        return list_sexos.index(row['sexo'])+1\n",
    "    \n",
    "    list_sexos.append(row['sexo'])\n",
    "    \n",
    "    return list_sexos.index(row['sexo'])+1\n",
    "\n",
    "df_postulantes_datos['sexo'] = df_postulantes_datos.apply(tipo_sexos, axis=1)"
   ]
  },
  {
   "cell_type": "code",
   "execution_count": 105,
   "metadata": {
    "collapsed": true
   },
   "outputs": [],
   "source": [
    "def edad(row):\n",
    "    return 2018-row['edad'].year\n",
    "\n",
    "df_postulantes_datos['edad'] = df_postulantes_datos.apply(edad, axis=1)"
   ]
  },
  {
   "cell_type": "code",
   "execution_count": 106,
   "metadata": {},
   "outputs": [
    {
     "data": {
      "text/plain": [
       "(408452, 3)"
      ]
     },
     "execution_count": 106,
     "metadata": {},
     "output_type": "execute_result"
    }
   ],
   "source": [
    "df_postulantes_datos.shape"
   ]
  },
  {
   "cell_type": "code",
   "execution_count": 107,
   "metadata": {
    "collapsed": true
   },
   "outputs": [],
   "source": [
    "df_postulantes_datos = df_postulantes_datos.drop_duplicates('idpostulante')"
   ]
  },
  {
   "cell_type": "code",
   "execution_count": 108,
   "metadata": {},
   "outputs": [
    {
     "data": {
      "text/plain": [
       "(408146, 3)"
      ]
     },
     "execution_count": 108,
     "metadata": {},
     "output_type": "execute_result"
    }
   ],
   "source": [
    "df_postulantes_datos.shape"
   ]
  },
  {
   "cell_type": "code",
   "execution_count": 109,
   "metadata": {},
   "outputs": [
    {
     "data": {
      "text/plain": [
       "408146"
      ]
     },
     "execution_count": 109,
     "metadata": {},
     "output_type": "execute_result"
    }
   ],
   "source": [
    "df_postulantes_datos['idpostulante'].nunique()"
   ]
  },
  {
   "cell_type": "code",
   "execution_count": 110,
   "metadata": {},
   "outputs": [
    {
     "data": {
      "text/plain": [
       "366395"
      ]
     },
     "execution_count": 110,
     "metadata": {},
     "output_type": "execute_result"
    }
   ],
   "source": [
    "df_postulantes_edu['idpostulante'].nunique()"
   ]
  },
  {
   "cell_type": "code",
   "execution_count": 111,
   "metadata": {
    "collapsed": true
   },
   "outputs": [],
   "source": [
    "df_postulantes = pd.merge(df_postulantes_edu, df_postulantes_datos, how='outer', on=['idpostulante'])"
   ]
  },
  {
   "cell_type": "code",
   "execution_count": 112,
   "metadata": {},
   "outputs": [
    {
     "data": {
      "text/plain": [
       "408146"
      ]
     },
     "execution_count": 112,
     "metadata": {},
     "output_type": "execute_result"
    }
   ],
   "source": [
    "df_postulantes['idpostulante'].nunique()"
   ]
  },
  {
   "cell_type": "code",
   "execution_count": 113,
   "metadata": {
    "collapsed": true
   },
   "outputs": [],
   "source": [
    "df_postulantes = df_postulantes.drop_duplicates('idpostulante')"
   ]
  },
  {
   "cell_type": "code",
   "execution_count": 114,
   "metadata": {},
   "outputs": [
    {
     "data": {
      "text/html": [
       "<div>\n",
       "<style>\n",
       "    .dataframe thead tr:only-child th {\n",
       "        text-align: right;\n",
       "    }\n",
       "\n",
       "    .dataframe thead th {\n",
       "        text-align: left;\n",
       "    }\n",
       "\n",
       "    .dataframe tbody tr th {\n",
       "        vertical-align: top;\n",
       "    }\n",
       "</style>\n",
       "<table border=\"1\" class=\"dataframe\">\n",
       "  <thead>\n",
       "    <tr style=\"text-align: right;\">\n",
       "      <th></th>\n",
       "      <th>idpostulante</th>\n",
       "      <th>nombre</th>\n",
       "      <th>estado</th>\n",
       "      <th>sexo</th>\n",
       "      <th>edad</th>\n",
       "    </tr>\n",
       "  </thead>\n",
       "  <tbody>\n",
       "    <tr>\n",
       "      <th>0</th>\n",
       "      <td>NdJl</td>\n",
       "      <td>4.0</td>\n",
       "      <td>1.0</td>\n",
       "      <td>2</td>\n",
       "      <td>49.0</td>\n",
       "    </tr>\n",
       "    <tr>\n",
       "      <th>1</th>\n",
       "      <td>1d2B</td>\n",
       "      <td>3.0</td>\n",
       "      <td>1.0</td>\n",
       "      <td>2</td>\n",
       "      <td>42.0</td>\n",
       "    </tr>\n",
       "    <tr>\n",
       "      <th>2</th>\n",
       "      <td>NPBx</td>\n",
       "      <td>5.0</td>\n",
       "      <td>1.0</td>\n",
       "      <td>2</td>\n",
       "      <td>37.0</td>\n",
       "    </tr>\n",
       "    <tr>\n",
       "      <th>3</th>\n",
       "      <td>ZKl5</td>\n",
       "      <td>5.0</td>\n",
       "      <td>1.0</td>\n",
       "      <td>2</td>\n",
       "      <td>44.0</td>\n",
       "    </tr>\n",
       "    <tr>\n",
       "      <th>4</th>\n",
       "      <td>Y043Z</td>\n",
       "      <td>3.0</td>\n",
       "      <td>1.0</td>\n",
       "      <td>2</td>\n",
       "      <td>39.0</td>\n",
       "    </tr>\n",
       "  </tbody>\n",
       "</table>\n",
       "</div>"
      ],
      "text/plain": [
       "  idpostulante  nombre  estado  sexo  edad\n",
       "0         NdJl     4.0     1.0     2  49.0\n",
       "1         1d2B     3.0     1.0     2  42.0\n",
       "2         NPBx     5.0     1.0     2  37.0\n",
       "3         ZKl5     5.0     1.0     2  44.0\n",
       "4        Y043Z     3.0     1.0     2  39.0"
      ]
     },
     "execution_count": 114,
     "metadata": {},
     "output_type": "execute_result"
    }
   ],
   "source": [
    "df_postulantes.head()"
   ]
  },
  {
   "cell_type": "code",
   "execution_count": 115,
   "metadata": {},
   "outputs": [
    {
     "data": {
      "text/plain": [
       "(408146, 5)"
      ]
     },
     "execution_count": 115,
     "metadata": {},
     "output_type": "execute_result"
    }
   ],
   "source": [
    "df_postulantes.shape"
   ]
  },
  {
   "cell_type": "code",
   "execution_count": 116,
   "metadata": {},
   "outputs": [
    {
     "data": {
      "text/html": [
       "<div>\n",
       "<style>\n",
       "    .dataframe thead tr:only-child th {\n",
       "        text-align: right;\n",
       "    }\n",
       "\n",
       "    .dataframe thead th {\n",
       "        text-align: left;\n",
       "    }\n",
       "\n",
       "    .dataframe tbody tr th {\n",
       "        vertical-align: top;\n",
       "    }\n",
       "</style>\n",
       "<table border=\"1\" class=\"dataframe\">\n",
       "  <thead>\n",
       "    <tr style=\"text-align: right;\">\n",
       "      <th></th>\n",
       "      <th>idaviso</th>\n",
       "      <th>fechapostulacion</th>\n",
       "      <th>idpostulante</th>\n",
       "    </tr>\n",
       "  </thead>\n",
       "  <tbody>\n",
       "    <tr>\n",
       "      <th>0</th>\n",
       "      <td>1111780242</td>\n",
       "      <td>2018-02-23 18:38:13.187</td>\n",
       "      <td>YjVJQ6Z</td>\n",
       "    </tr>\n",
       "    <tr>\n",
       "      <th>1</th>\n",
       "      <td>1112263876</td>\n",
       "      <td>2018-02-23 18:38:14.296</td>\n",
       "      <td>BmVpYoR</td>\n",
       "    </tr>\n",
       "    <tr>\n",
       "      <th>2</th>\n",
       "      <td>1112327963</td>\n",
       "      <td>2018-02-23 18:38:14.329</td>\n",
       "      <td>wVkBzZd</td>\n",
       "    </tr>\n",
       "    <tr>\n",
       "      <th>3</th>\n",
       "      <td>1112318643</td>\n",
       "      <td>2018-02-23 18:38:17.921</td>\n",
       "      <td>OqmP9pv</td>\n",
       "    </tr>\n",
       "    <tr>\n",
       "      <th>4</th>\n",
       "      <td>1111903673</td>\n",
       "      <td>2018-02-23 18:38:18.973</td>\n",
       "      <td>DrpbXDP</td>\n",
       "    </tr>\n",
       "  </tbody>\n",
       "</table>\n",
       "</div>"
      ],
      "text/plain": [
       "      idaviso        fechapostulacion idpostulante\n",
       "0  1111780242 2018-02-23 18:38:13.187      YjVJQ6Z\n",
       "1  1112263876 2018-02-23 18:38:14.296      BmVpYoR\n",
       "2  1112327963 2018-02-23 18:38:14.329      wVkBzZd\n",
       "3  1112318643 2018-02-23 18:38:17.921      OqmP9pv\n",
       "4  1111903673 2018-02-23 18:38:18.973      DrpbXDP"
      ]
     },
     "execution_count": 116,
     "metadata": {},
     "output_type": "execute_result"
    }
   ],
   "source": [
    "vistas.head()"
   ]
  },
  {
   "cell_type": "code",
   "execution_count": 117,
   "metadata": {
    "collapsed": true
   },
   "outputs": [],
   "source": [
    "vistas2 = vistas.loc[:, ['idaviso', 'idpostulante']].groupby('idpostulante').count().reset_index()\n",
    "vistas2 = vistas2.rename(columns={'idaviso' : 'vistas_postulante'})"
   ]
  },
  {
   "cell_type": "code",
   "execution_count": 118,
   "metadata": {
    "collapsed": true
   },
   "outputs": [],
   "source": [
    "df_postulantes = pd.merge(df_postulantes, vistas2, on=['idpostulante'], how='left')"
   ]
  },
  {
   "cell_type": "code",
   "execution_count": 119,
   "metadata": {},
   "outputs": [
    {
     "data": {
      "text/html": [
       "<div>\n",
       "<style>\n",
       "    .dataframe thead tr:only-child th {\n",
       "        text-align: right;\n",
       "    }\n",
       "\n",
       "    .dataframe thead th {\n",
       "        text-align: left;\n",
       "    }\n",
       "\n",
       "    .dataframe tbody tr th {\n",
       "        vertical-align: top;\n",
       "    }\n",
       "</style>\n",
       "<table border=\"1\" class=\"dataframe\">\n",
       "  <thead>\n",
       "    <tr style=\"text-align: right;\">\n",
       "      <th></th>\n",
       "      <th>idpostulante</th>\n",
       "      <th>nombre</th>\n",
       "      <th>estado</th>\n",
       "      <th>sexo</th>\n",
       "      <th>edad</th>\n",
       "      <th>vistas_postulante</th>\n",
       "    </tr>\n",
       "  </thead>\n",
       "  <tbody>\n",
       "    <tr>\n",
       "      <th>0</th>\n",
       "      <td>NdJl</td>\n",
       "      <td>4.0</td>\n",
       "      <td>1.0</td>\n",
       "      <td>2</td>\n",
       "      <td>49.0</td>\n",
       "      <td>60.0</td>\n",
       "    </tr>\n",
       "    <tr>\n",
       "      <th>1</th>\n",
       "      <td>1d2B</td>\n",
       "      <td>3.0</td>\n",
       "      <td>1.0</td>\n",
       "      <td>2</td>\n",
       "      <td>42.0</td>\n",
       "      <td>NaN</td>\n",
       "    </tr>\n",
       "    <tr>\n",
       "      <th>2</th>\n",
       "      <td>NPBx</td>\n",
       "      <td>5.0</td>\n",
       "      <td>1.0</td>\n",
       "      <td>2</td>\n",
       "      <td>37.0</td>\n",
       "      <td>16.0</td>\n",
       "    </tr>\n",
       "    <tr>\n",
       "      <th>3</th>\n",
       "      <td>ZKl5</td>\n",
       "      <td>5.0</td>\n",
       "      <td>1.0</td>\n",
       "      <td>2</td>\n",
       "      <td>44.0</td>\n",
       "      <td>41.0</td>\n",
       "    </tr>\n",
       "    <tr>\n",
       "      <th>4</th>\n",
       "      <td>Y043Z</td>\n",
       "      <td>3.0</td>\n",
       "      <td>1.0</td>\n",
       "      <td>2</td>\n",
       "      <td>39.0</td>\n",
       "      <td>12.0</td>\n",
       "    </tr>\n",
       "  </tbody>\n",
       "</table>\n",
       "</div>"
      ],
      "text/plain": [
       "  idpostulante  nombre  estado  sexo  edad  vistas_postulante\n",
       "0         NdJl     4.0     1.0     2  49.0               60.0\n",
       "1         1d2B     3.0     1.0     2  42.0                NaN\n",
       "2         NPBx     5.0     1.0     2  37.0               16.0\n",
       "3         ZKl5     5.0     1.0     2  44.0               41.0\n",
       "4        Y043Z     3.0     1.0     2  39.0               12.0"
      ]
     },
     "execution_count": 119,
     "metadata": {},
     "output_type": "execute_result"
    }
   ],
   "source": [
    "df_postulantes.head()"
   ]
  },
  {
   "cell_type": "markdown",
   "metadata": {},
   "source": [
    "Considerar agregar vistas por dia!"
   ]
  },
  {
   "cell_type": "code",
   "execution_count": 120,
   "metadata": {
    "collapsed": true
   },
   "outputs": [],
   "source": [
    "fechas_postulaciones = df_postulaciones.loc[:, ['idpostulante', 'fechapostulacion']].groupby('idpostulante').min().reset_index()"
   ]
  },
  {
   "cell_type": "code",
   "execution_count": 121,
   "metadata": {
    "collapsed": true
   },
   "outputs": [],
   "source": [
    "vistas = vistas.rename(columns={'timestamp' : 'fechapostulacion'})"
   ]
  },
  {
   "cell_type": "code",
   "execution_count": 122,
   "metadata": {
    "collapsed": true
   },
   "outputs": [],
   "source": [
    "fechas_vistas_postul = vistas.loc[:, ['idpostulante', 'fechapostulacion']].groupby('idpostulante').min().reset_index()"
   ]
  },
  {
   "cell_type": "code",
   "execution_count": 123,
   "metadata": {
    "collapsed": true
   },
   "outputs": [],
   "source": [
    "fechas_iniciales = pd.concat([fechas_postulaciones, fechas_vistas_postul])"
   ]
  },
  {
   "cell_type": "code",
   "execution_count": 124,
   "metadata": {},
   "outputs": [
    {
     "data": {
      "text/plain": [
       "(655087, 2)"
      ]
     },
     "execution_count": 124,
     "metadata": {},
     "output_type": "execute_result"
    }
   ],
   "source": [
    "fechas_iniciales.shape"
   ]
  },
  {
   "cell_type": "code",
   "execution_count": 125,
   "metadata": {
    "collapsed": true
   },
   "outputs": [],
   "source": [
    "fechas_iniciales = fechas_iniciales.groupby('idpostulante').min().reset_index()"
   ]
  },
  {
   "cell_type": "code",
   "execution_count": 126,
   "metadata": {},
   "outputs": [
    {
     "data": {
      "text/plain": [
       "(393425, 2)"
      ]
     },
     "execution_count": 126,
     "metadata": {},
     "output_type": "execute_result"
    }
   ],
   "source": [
    "fechas_iniciales.shape"
   ]
  },
  {
   "cell_type": "code",
   "execution_count": 127,
   "metadata": {
    "collapsed": true
   },
   "outputs": [],
   "source": [
    "fechas_iniciales = fechas_iniciales.rename(columns={'fechapostulacion' : 'fecha_inicio_actividad'})"
   ]
  },
  {
   "cell_type": "code",
   "execution_count": 128,
   "metadata": {
    "collapsed": true
   },
   "outputs": [],
   "source": [
    "fechas_postulaciones = df_postulaciones.loc[:, ['idpostulante', 'fechapostulacion']].groupby('idpostulante').max().reset_index()"
   ]
  },
  {
   "cell_type": "code",
   "execution_count": 129,
   "metadata": {
    "collapsed": true
   },
   "outputs": [],
   "source": [
    "fechas_vistas_postul = vistas.loc[:, ['idpostulante', 'fechapostulacion']].groupby('idpostulante').max().reset_index()"
   ]
  },
  {
   "cell_type": "code",
   "execution_count": 130,
   "metadata": {
    "collapsed": true
   },
   "outputs": [],
   "source": [
    "fechas_finales = pd.concat([fechas_postulaciones, fechas_vistas_postul])"
   ]
  },
  {
   "cell_type": "code",
   "execution_count": 131,
   "metadata": {},
   "outputs": [
    {
     "data": {
      "text/plain": [
       "(655087, 2)"
      ]
     },
     "execution_count": 131,
     "metadata": {},
     "output_type": "execute_result"
    }
   ],
   "source": [
    "fechas_finales.shape"
   ]
  },
  {
   "cell_type": "code",
   "execution_count": 132,
   "metadata": {
    "collapsed": true
   },
   "outputs": [],
   "source": [
    "fechas_finales = fechas_finales.groupby('idpostulante').max().reset_index()"
   ]
  },
  {
   "cell_type": "code",
   "execution_count": 133,
   "metadata": {},
   "outputs": [
    {
     "data": {
      "text/plain": [
       "(393425, 2)"
      ]
     },
     "execution_count": 133,
     "metadata": {},
     "output_type": "execute_result"
    }
   ],
   "source": [
    "fechas_finales.shape"
   ]
  },
  {
   "cell_type": "code",
   "execution_count": 134,
   "metadata": {
    "collapsed": true
   },
   "outputs": [],
   "source": [
    "fechas_finales = fechas_finales.rename(columns={'fechapostulacion' : 'fecha_fin_actividad'})"
   ]
  },
  {
   "cell_type": "code",
   "execution_count": 135,
   "metadata": {
    "collapsed": true
   },
   "outputs": [],
   "source": [
    "fechas_totales = pd.merge(fechas_finales, fechas_iniciales, on=['idpostulante'], how='inner')"
   ]
  },
  {
   "cell_type": "code",
   "execution_count": 136,
   "metadata": {},
   "outputs": [
    {
     "data": {
      "text/html": [
       "<div>\n",
       "<style>\n",
       "    .dataframe thead tr:only-child th {\n",
       "        text-align: right;\n",
       "    }\n",
       "\n",
       "    .dataframe thead th {\n",
       "        text-align: left;\n",
       "    }\n",
       "\n",
       "    .dataframe tbody tr th {\n",
       "        vertical-align: top;\n",
       "    }\n",
       "</style>\n",
       "<table border=\"1\" class=\"dataframe\">\n",
       "  <thead>\n",
       "    <tr style=\"text-align: right;\">\n",
       "      <th></th>\n",
       "      <th>idpostulante</th>\n",
       "      <th>fecha_fin_actividad</th>\n",
       "      <th>fecha_inicio_actividad</th>\n",
       "    </tr>\n",
       "  </thead>\n",
       "  <tbody>\n",
       "    <tr>\n",
       "      <th>0</th>\n",
       "      <td>0z5Dmrd</td>\n",
       "      <td>2018-03-28 20:25:03.849</td>\n",
       "      <td>2018-03-28 16:24:37</td>\n",
       "    </tr>\n",
       "    <tr>\n",
       "      <th>1</th>\n",
       "      <td>0z5JW1r</td>\n",
       "      <td>2018-04-16 13:39:49.985</td>\n",
       "      <td>2018-01-16 07:45:20</td>\n",
       "    </tr>\n",
       "    <tr>\n",
       "      <th>2</th>\n",
       "      <td>0z5VvGv</td>\n",
       "      <td>2018-04-01 02:02:18.809</td>\n",
       "      <td>2018-01-18 10:00:58</td>\n",
       "    </tr>\n",
       "    <tr>\n",
       "      <th>3</th>\n",
       "      <td>0zB01pE</td>\n",
       "      <td>2018-04-10 01:03:21.756</td>\n",
       "      <td>2018-04-09 21:00:48</td>\n",
       "    </tr>\n",
       "    <tr>\n",
       "      <th>4</th>\n",
       "      <td>0zB026d</td>\n",
       "      <td>2018-03-28 20:53:38.480</td>\n",
       "      <td>2018-02-01 17:00:24</td>\n",
       "    </tr>\n",
       "  </tbody>\n",
       "</table>\n",
       "</div>"
      ],
      "text/plain": [
       "  idpostulante     fecha_fin_actividad fecha_inicio_actividad\n",
       "0      0z5Dmrd 2018-03-28 20:25:03.849    2018-03-28 16:24:37\n",
       "1      0z5JW1r 2018-04-16 13:39:49.985    2018-01-16 07:45:20\n",
       "2      0z5VvGv 2018-04-01 02:02:18.809    2018-01-18 10:00:58\n",
       "3      0zB01pE 2018-04-10 01:03:21.756    2018-04-09 21:00:48\n",
       "4      0zB026d 2018-03-28 20:53:38.480    2018-02-01 17:00:24"
      ]
     },
     "execution_count": 136,
     "metadata": {},
     "output_type": "execute_result"
    }
   ],
   "source": [
    "fechas_totales.head()"
   ]
  },
  {
   "cell_type": "code",
   "execution_count": 137,
   "metadata": {
    "collapsed": true
   },
   "outputs": [],
   "source": [
    "fechas_totales['cant_dias_actividad'] = (fechas_totales['fecha_fin_actividad']-fechas_totales['fecha_inicio_actividad']).apply(set_dias)"
   ]
  },
  {
   "cell_type": "code",
   "execution_count": 138,
   "metadata": {},
   "outputs": [
    {
     "data": {
      "text/html": [
       "<div>\n",
       "<style>\n",
       "    .dataframe thead tr:only-child th {\n",
       "        text-align: right;\n",
       "    }\n",
       "\n",
       "    .dataframe thead th {\n",
       "        text-align: left;\n",
       "    }\n",
       "\n",
       "    .dataframe tbody tr th {\n",
       "        vertical-align: top;\n",
       "    }\n",
       "</style>\n",
       "<table border=\"1\" class=\"dataframe\">\n",
       "  <thead>\n",
       "    <tr style=\"text-align: right;\">\n",
       "      <th></th>\n",
       "      <th>idpostulante</th>\n",
       "      <th>fecha_fin_actividad</th>\n",
       "      <th>fecha_inicio_actividad</th>\n",
       "      <th>cant_dias_actividad</th>\n",
       "    </tr>\n",
       "  </thead>\n",
       "  <tbody>\n",
       "    <tr>\n",
       "      <th>0</th>\n",
       "      <td>0z5Dmrd</td>\n",
       "      <td>2018-03-28 20:25:03.849</td>\n",
       "      <td>2018-03-28 16:24:37</td>\n",
       "      <td>0</td>\n",
       "    </tr>\n",
       "    <tr>\n",
       "      <th>1</th>\n",
       "      <td>0z5JW1r</td>\n",
       "      <td>2018-04-16 13:39:49.985</td>\n",
       "      <td>2018-01-16 07:45:20</td>\n",
       "      <td>90</td>\n",
       "    </tr>\n",
       "    <tr>\n",
       "      <th>2</th>\n",
       "      <td>0z5VvGv</td>\n",
       "      <td>2018-04-01 02:02:18.809</td>\n",
       "      <td>2018-01-18 10:00:58</td>\n",
       "      <td>72</td>\n",
       "    </tr>\n",
       "    <tr>\n",
       "      <th>3</th>\n",
       "      <td>0zB01pE</td>\n",
       "      <td>2018-04-10 01:03:21.756</td>\n",
       "      <td>2018-04-09 21:00:48</td>\n",
       "      <td>0</td>\n",
       "    </tr>\n",
       "    <tr>\n",
       "      <th>4</th>\n",
       "      <td>0zB026d</td>\n",
       "      <td>2018-03-28 20:53:38.480</td>\n",
       "      <td>2018-02-01 17:00:24</td>\n",
       "      <td>55</td>\n",
       "    </tr>\n",
       "  </tbody>\n",
       "</table>\n",
       "</div>"
      ],
      "text/plain": [
       "  idpostulante     fecha_fin_actividad fecha_inicio_actividad  \\\n",
       "0      0z5Dmrd 2018-03-28 20:25:03.849    2018-03-28 16:24:37   \n",
       "1      0z5JW1r 2018-04-16 13:39:49.985    2018-01-16 07:45:20   \n",
       "2      0z5VvGv 2018-04-01 02:02:18.809    2018-01-18 10:00:58   \n",
       "3      0zB01pE 2018-04-10 01:03:21.756    2018-04-09 21:00:48   \n",
       "4      0zB026d 2018-03-28 20:53:38.480    2018-02-01 17:00:24   \n",
       "\n",
       "   cant_dias_actividad  \n",
       "0                    0  \n",
       "1                   90  \n",
       "2                   72  \n",
       "3                    0  \n",
       "4                   55  "
      ]
     },
     "execution_count": 138,
     "metadata": {},
     "output_type": "execute_result"
    }
   ],
   "source": [
    "fechas_totales.head()"
   ]
  },
  {
   "cell_type": "code",
   "execution_count": 139,
   "metadata": {
    "collapsed": true
   },
   "outputs": [],
   "source": [
    "del fechas_totales['fecha_fin_actividad']\n",
    "del fechas_totales['fecha_inicio_actividad']"
   ]
  },
  {
   "cell_type": "code",
   "execution_count": 140,
   "metadata": {
    "collapsed": true
   },
   "outputs": [],
   "source": [
    "df_postulantes = pd.merge(df_postulantes, fechas_totales, on=['idpostulante'], how='left')"
   ]
  },
  {
   "cell_type": "code",
   "execution_count": 139,
   "metadata": {},
   "outputs": [
    {
     "data": {
      "text/plain": [
       "(408146, 7)"
      ]
     },
     "execution_count": 139,
     "metadata": {},
     "output_type": "execute_result"
    }
   ],
   "source": [
    "df_postulantes.shape"
   ]
  },
  {
   "cell_type": "markdown",
   "metadata": {},
   "source": [
    "Agregamos tipo de aviso más popular por postulante, empresa popular y nombre de area popular"
   ]
  },
  {
   "cell_type": "code",
   "execution_count": 140,
   "metadata": {},
   "outputs": [
    {
     "data": {
      "text/html": [
       "<div>\n",
       "<style>\n",
       "    .dataframe thead tr:only-child th {\n",
       "        text-align: right;\n",
       "    }\n",
       "\n",
       "    .dataframe thead th {\n",
       "        text-align: left;\n",
       "    }\n",
       "\n",
       "    .dataframe tbody tr th {\n",
       "        vertical-align: top;\n",
       "    }\n",
       "</style>\n",
       "<table border=\"1\" class=\"dataframe\">\n",
       "  <thead>\n",
       "    <tr style=\"text-align: right;\">\n",
       "      <th></th>\n",
       "      <th>idaviso</th>\n",
       "      <th>tipo_de_trabajo</th>\n",
       "      <th>nivel_laboral</th>\n",
       "      <th>nombre_area</th>\n",
       "      <th>denominacion_empresa</th>\n",
       "      <th>web</th>\n",
       "      <th>crecimiento</th>\n",
       "      <th>capacitacion</th>\n",
       "      <th>clima laboral</th>\n",
       "      <th>multinacional</th>\n",
       "      <th>...</th>\n",
       "      <th>administrativo</th>\n",
       "      <th>junior</th>\n",
       "      <th>jefe</th>\n",
       "      <th>marketing</th>\n",
       "      <th>supervisor</th>\n",
       "      <th>online</th>\n",
       "      <th>postu_total</th>\n",
       "      <th>total_vistas</th>\n",
       "      <th>vistas_median</th>\n",
       "      <th>cant_dias</th>\n",
       "    </tr>\n",
       "  </thead>\n",
       "  <tbody>\n",
       "    <tr>\n",
       "      <th>0</th>\n",
       "      <td>8725750</td>\n",
       "      <td>1</td>\n",
       "      <td>1</td>\n",
       "      <td>1</td>\n",
       "      <td>1</td>\n",
       "      <td>0</td>\n",
       "      <td>0</td>\n",
       "      <td>1</td>\n",
       "      <td>0</td>\n",
       "      <td>0</td>\n",
       "      <td>...</td>\n",
       "      <td>0</td>\n",
       "      <td>0</td>\n",
       "      <td>0</td>\n",
       "      <td>0</td>\n",
       "      <td>0</td>\n",
       "      <td>0.0</td>\n",
       "      <td>137.0</td>\n",
       "      <td>137.0</td>\n",
       "      <td>NaN</td>\n",
       "      <td>26.0</td>\n",
       "    </tr>\n",
       "    <tr>\n",
       "      <th>1</th>\n",
       "      <td>17903700</td>\n",
       "      <td>1</td>\n",
       "      <td>1</td>\n",
       "      <td>2</td>\n",
       "      <td>2</td>\n",
       "      <td>0</td>\n",
       "      <td>0</td>\n",
       "      <td>0</td>\n",
       "      <td>0</td>\n",
       "      <td>0</td>\n",
       "      <td>...</td>\n",
       "      <td>0</td>\n",
       "      <td>0</td>\n",
       "      <td>0</td>\n",
       "      <td>0</td>\n",
       "      <td>0</td>\n",
       "      <td>1.0</td>\n",
       "      <td>175.0</td>\n",
       "      <td>1935.0</td>\n",
       "      <td>2.0</td>\n",
       "      <td>51.0</td>\n",
       "    </tr>\n",
       "    <tr>\n",
       "      <th>2</th>\n",
       "      <td>1000150677</td>\n",
       "      <td>1</td>\n",
       "      <td>1</td>\n",
       "      <td>3</td>\n",
       "      <td>3</td>\n",
       "      <td>0</td>\n",
       "      <td>0</td>\n",
       "      <td>0</td>\n",
       "      <td>0</td>\n",
       "      <td>0</td>\n",
       "      <td>...</td>\n",
       "      <td>0</td>\n",
       "      <td>0</td>\n",
       "      <td>0</td>\n",
       "      <td>0</td>\n",
       "      <td>0</td>\n",
       "      <td>0.0</td>\n",
       "      <td>NaN</td>\n",
       "      <td>2.0</td>\n",
       "      <td>2.0</td>\n",
       "      <td>3.0</td>\n",
       "    </tr>\n",
       "    <tr>\n",
       "      <th>3</th>\n",
       "      <td>1000610287</td>\n",
       "      <td>1</td>\n",
       "      <td>1</td>\n",
       "      <td>3</td>\n",
       "      <td>4</td>\n",
       "      <td>0</td>\n",
       "      <td>1</td>\n",
       "      <td>1</td>\n",
       "      <td>0</td>\n",
       "      <td>1</td>\n",
       "      <td>...</td>\n",
       "      <td>0</td>\n",
       "      <td>0</td>\n",
       "      <td>0</td>\n",
       "      <td>0</td>\n",
       "      <td>0</td>\n",
       "      <td>1.0</td>\n",
       "      <td>197.0</td>\n",
       "      <td>394.0</td>\n",
       "      <td>2.0</td>\n",
       "      <td>83.0</td>\n",
       "    </tr>\n",
       "    <tr>\n",
       "      <th>4</th>\n",
       "      <td>1000872556</td>\n",
       "      <td>1</td>\n",
       "      <td>1</td>\n",
       "      <td>4</td>\n",
       "      <td>5</td>\n",
       "      <td>0</td>\n",
       "      <td>0</td>\n",
       "      <td>0</td>\n",
       "      <td>0</td>\n",
       "      <td>0</td>\n",
       "      <td>...</td>\n",
       "      <td>0</td>\n",
       "      <td>0</td>\n",
       "      <td>0</td>\n",
       "      <td>0</td>\n",
       "      <td>1</td>\n",
       "      <td>0.0</td>\n",
       "      <td>NaN</td>\n",
       "      <td>1.0</td>\n",
       "      <td>1.0</td>\n",
       "      <td>0.0</td>\n",
       "    </tr>\n",
       "  </tbody>\n",
       "</table>\n",
       "<p>5 rows × 37 columns</p>\n",
       "</div>"
      ],
      "text/plain": [
       "      idaviso  tipo_de_trabajo  nivel_laboral  nombre_area  \\\n",
       "0     8725750                1              1            1   \n",
       "1    17903700                1              1            2   \n",
       "2  1000150677                1              1            3   \n",
       "3  1000610287                1              1            3   \n",
       "4  1000872556                1              1            4   \n",
       "\n",
       "   denominacion_empresa  web  crecimiento  capacitacion  clima laboral  \\\n",
       "0                     1    0            0             1              0   \n",
       "1                     2    0            0             0              0   \n",
       "2                     3    0            0             0              0   \n",
       "3                     4    0            1             1              0   \n",
       "4                     5    0            0             0              0   \n",
       "\n",
       "   multinacional    ...      administrativo  junior  jefe  marketing  \\\n",
       "0              0    ...                   0       0     0          0   \n",
       "1              0    ...                   0       0     0          0   \n",
       "2              0    ...                   0       0     0          0   \n",
       "3              1    ...                   0       0     0          0   \n",
       "4              0    ...                   0       0     0          0   \n",
       "\n",
       "   supervisor  online  postu_total  total_vistas  vistas_median  cant_dias  \n",
       "0           0     0.0        137.0         137.0            NaN       26.0  \n",
       "1           0     1.0        175.0        1935.0            2.0       51.0  \n",
       "2           0     0.0          NaN           2.0            2.0        3.0  \n",
       "3           0     1.0        197.0         394.0            2.0       83.0  \n",
       "4           1     0.0          NaN           1.0            1.0        0.0  \n",
       "\n",
       "[5 rows x 37 columns]"
      ]
     },
     "execution_count": 140,
     "metadata": {},
     "output_type": "execute_result"
    }
   ],
   "source": [
    "df_avisos_detalles_final.head()"
   ]
  },
  {
   "cell_type": "code",
   "execution_count": 141,
   "metadata": {},
   "outputs": [
    {
     "data": {
      "text/html": [
       "<div>\n",
       "<style>\n",
       "    .dataframe thead tr:only-child th {\n",
       "        text-align: right;\n",
       "    }\n",
       "\n",
       "    .dataframe thead th {\n",
       "        text-align: left;\n",
       "    }\n",
       "\n",
       "    .dataframe tbody tr th {\n",
       "        vertical-align: top;\n",
       "    }\n",
       "</style>\n",
       "<table border=\"1\" class=\"dataframe\">\n",
       "  <thead>\n",
       "    <tr style=\"text-align: right;\">\n",
       "      <th></th>\n",
       "      <th>idaviso</th>\n",
       "      <th>idpostulante</th>\n",
       "      <th>fechapostulacion</th>\n",
       "    </tr>\n",
       "  </thead>\n",
       "  <tbody>\n",
       "    <tr>\n",
       "      <th>0</th>\n",
       "      <td>1112248724</td>\n",
       "      <td>NjlD</td>\n",
       "      <td>2018-01-19 07:39:16</td>\n",
       "    </tr>\n",
       "    <tr>\n",
       "      <th>1</th>\n",
       "      <td>1112286523</td>\n",
       "      <td>ZaO5</td>\n",
       "      <td>2018-01-24 15:07:39</td>\n",
       "    </tr>\n",
       "    <tr>\n",
       "      <th>2</th>\n",
       "      <td>1112272060</td>\n",
       "      <td>ZaO5</td>\n",
       "      <td>2018-01-24 15:20:10</td>\n",
       "    </tr>\n",
       "    <tr>\n",
       "      <th>3</th>\n",
       "      <td>1112288401</td>\n",
       "      <td>ZaO5</td>\n",
       "      <td>2018-01-26 08:37:04</td>\n",
       "    </tr>\n",
       "    <tr>\n",
       "      <th>4</th>\n",
       "      <td>1112300563</td>\n",
       "      <td>ZaO5</td>\n",
       "      <td>2018-01-30 13:35:48</td>\n",
       "    </tr>\n",
       "  </tbody>\n",
       "</table>\n",
       "</div>"
      ],
      "text/plain": [
       "      idaviso idpostulante    fechapostulacion\n",
       "0  1112248724         NjlD 2018-01-19 07:39:16\n",
       "1  1112286523         ZaO5 2018-01-24 15:07:39\n",
       "2  1112272060         ZaO5 2018-01-24 15:20:10\n",
       "3  1112288401         ZaO5 2018-01-26 08:37:04\n",
       "4  1112300563         ZaO5 2018-01-30 13:35:48"
      ]
     },
     "execution_count": 141,
     "metadata": {},
     "output_type": "execute_result"
    }
   ],
   "source": [
    "df_postulaciones.head()"
   ]
  },
  {
   "cell_type": "code",
   "execution_count": 144,
   "metadata": {
    "collapsed": true
   },
   "outputs": [],
   "source": [
    "postulaciones_total = postulaciones.loc[:, ['idaviso', 'idpostulante']].rename(columns={'idaviso':'postu_postulante'})\\\n",
    "                .groupby('idpostulante').count().reset_index()"
   ]
  },
  {
   "cell_type": "code",
   "execution_count": 142,
   "metadata": {},
   "outputs": [
    {
     "data": {
      "text/html": [
       "<div>\n",
       "<style>\n",
       "    .dataframe thead tr:only-child th {\n",
       "        text-align: right;\n",
       "    }\n",
       "\n",
       "    .dataframe thead th {\n",
       "        text-align: left;\n",
       "    }\n",
       "\n",
       "    .dataframe tbody tr th {\n",
       "        vertical-align: top;\n",
       "    }\n",
       "</style>\n",
       "<table border=\"1\" class=\"dataframe\">\n",
       "  <thead>\n",
       "    <tr style=\"text-align: right;\">\n",
       "      <th></th>\n",
       "      <th>idpostulante</th>\n",
       "      <th>nombre</th>\n",
       "      <th>estado</th>\n",
       "      <th>sexo</th>\n",
       "      <th>edad</th>\n",
       "      <th>vistas_postulante</th>\n",
       "      <th>cant_dias_actividad</th>\n",
       "    </tr>\n",
       "  </thead>\n",
       "  <tbody>\n",
       "    <tr>\n",
       "      <th>0</th>\n",
       "      <td>NdJl</td>\n",
       "      <td>4.0</td>\n",
       "      <td>1.0</td>\n",
       "      <td>2</td>\n",
       "      <td>49.0</td>\n",
       "      <td>60.0</td>\n",
       "      <td>88.0</td>\n",
       "    </tr>\n",
       "    <tr>\n",
       "      <th>1</th>\n",
       "      <td>1d2B</td>\n",
       "      <td>3.0</td>\n",
       "      <td>1.0</td>\n",
       "      <td>2</td>\n",
       "      <td>42.0</td>\n",
       "      <td>NaN</td>\n",
       "      <td>7.0</td>\n",
       "    </tr>\n",
       "    <tr>\n",
       "      <th>2</th>\n",
       "      <td>NPBx</td>\n",
       "      <td>5.0</td>\n",
       "      <td>1.0</td>\n",
       "      <td>2</td>\n",
       "      <td>37.0</td>\n",
       "      <td>16.0</td>\n",
       "      <td>81.0</td>\n",
       "    </tr>\n",
       "    <tr>\n",
       "      <th>3</th>\n",
       "      <td>ZKl5</td>\n",
       "      <td>5.0</td>\n",
       "      <td>1.0</td>\n",
       "      <td>2</td>\n",
       "      <td>44.0</td>\n",
       "      <td>41.0</td>\n",
       "      <td>89.0</td>\n",
       "    </tr>\n",
       "    <tr>\n",
       "      <th>4</th>\n",
       "      <td>Y043Z</td>\n",
       "      <td>3.0</td>\n",
       "      <td>1.0</td>\n",
       "      <td>2</td>\n",
       "      <td>39.0</td>\n",
       "      <td>12.0</td>\n",
       "      <td>50.0</td>\n",
       "    </tr>\n",
       "  </tbody>\n",
       "</table>\n",
       "</div>"
      ],
      "text/plain": [
       "  idpostulante  nombre  estado  sexo  edad  vistas_postulante  \\\n",
       "0         NdJl     4.0     1.0     2  49.0               60.0   \n",
       "1         1d2B     3.0     1.0     2  42.0                NaN   \n",
       "2         NPBx     5.0     1.0     2  37.0               16.0   \n",
       "3         ZKl5     5.0     1.0     2  44.0               41.0   \n",
       "4        Y043Z     3.0     1.0     2  39.0               12.0   \n",
       "\n",
       "   cant_dias_actividad  \n",
       "0                 88.0  \n",
       "1                  7.0  \n",
       "2                 81.0  \n",
       "3                 89.0  \n",
       "4                 50.0  "
      ]
     },
     "execution_count": 142,
     "metadata": {},
     "output_type": "execute_result"
    }
   ],
   "source": [
    "df_postulantes.head()"
   ]
  },
  {
   "cell_type": "code",
   "execution_count": 145,
   "metadata": {
    "collapsed": true
   },
   "outputs": [],
   "source": [
    "df_postulantes = pd.merge(df_postulantes, postulaciones_total, on=['idpostulante'], how='left')"
   ]
  },
  {
   "cell_type": "code",
   "execution_count": 149,
   "metadata": {
    "collapsed": true
   },
   "outputs": [],
   "source": [
    "def fill_vistas_postu(row):\n",
    "    if((np.isnan(row['vistas_postulante'])) & (np.isnan(row['postu_postulante']) == False)):\n",
    "        return row['postu_postulante']\n",
    "    elif((np.isnan(row['vistas_postulante']) == False) & (np.isnan(row['postu_postulante']) == False)):\n",
    "        if(row['postu_postulante']>row['vistas_postulante']):\n",
    "            return row['postu_postulante']\n",
    "        \n",
    "    return row['vistas_postulante']"
   ]
  },
  {
   "cell_type": "code",
   "execution_count": 150,
   "metadata": {
    "collapsed": true
   },
   "outputs": [],
   "source": [
    "df_postulantes['vistas_postulante'] = df_postulantes.apply(fill_vistas_postu, axis=1)"
   ]
  },
  {
   "cell_type": "code",
   "execution_count": 151,
   "metadata": {},
   "outputs": [
    {
     "data": {
      "text/html": [
       "<div>\n",
       "<style>\n",
       "    .dataframe thead tr:only-child th {\n",
       "        text-align: right;\n",
       "    }\n",
       "\n",
       "    .dataframe thead th {\n",
       "        text-align: left;\n",
       "    }\n",
       "\n",
       "    .dataframe tbody tr th {\n",
       "        vertical-align: top;\n",
       "    }\n",
       "</style>\n",
       "<table border=\"1\" class=\"dataframe\">\n",
       "  <thead>\n",
       "    <tr style=\"text-align: right;\">\n",
       "      <th></th>\n",
       "      <th>idpostulante</th>\n",
       "      <th>nombre</th>\n",
       "      <th>estado</th>\n",
       "      <th>sexo</th>\n",
       "      <th>edad</th>\n",
       "      <th>vistas_postulante</th>\n",
       "      <th>cant_dias_actividad</th>\n",
       "      <th>postu_postulante</th>\n",
       "    </tr>\n",
       "  </thead>\n",
       "  <tbody>\n",
       "    <tr>\n",
       "      <th>0</th>\n",
       "      <td>NdJl</td>\n",
       "      <td>4.0</td>\n",
       "      <td>1.0</td>\n",
       "      <td>2</td>\n",
       "      <td>49.0</td>\n",
       "      <td>60.0</td>\n",
       "      <td>88.0</td>\n",
       "      <td>30.0</td>\n",
       "    </tr>\n",
       "    <tr>\n",
       "      <th>1</th>\n",
       "      <td>1d2B</td>\n",
       "      <td>3.0</td>\n",
       "      <td>1.0</td>\n",
       "      <td>2</td>\n",
       "      <td>42.0</td>\n",
       "      <td>4.0</td>\n",
       "      <td>7.0</td>\n",
       "      <td>4.0</td>\n",
       "    </tr>\n",
       "    <tr>\n",
       "      <th>2</th>\n",
       "      <td>NPBx</td>\n",
       "      <td>5.0</td>\n",
       "      <td>1.0</td>\n",
       "      <td>2</td>\n",
       "      <td>37.0</td>\n",
       "      <td>34.0</td>\n",
       "      <td>81.0</td>\n",
       "      <td>34.0</td>\n",
       "    </tr>\n",
       "    <tr>\n",
       "      <th>3</th>\n",
       "      <td>ZKl5</td>\n",
       "      <td>5.0</td>\n",
       "      <td>1.0</td>\n",
       "      <td>2</td>\n",
       "      <td>44.0</td>\n",
       "      <td>41.0</td>\n",
       "      <td>89.0</td>\n",
       "      <td>11.0</td>\n",
       "    </tr>\n",
       "    <tr>\n",
       "      <th>4</th>\n",
       "      <td>Y043Z</td>\n",
       "      <td>3.0</td>\n",
       "      <td>1.0</td>\n",
       "      <td>2</td>\n",
       "      <td>39.0</td>\n",
       "      <td>12.0</td>\n",
       "      <td>50.0</td>\n",
       "      <td>4.0</td>\n",
       "    </tr>\n",
       "  </tbody>\n",
       "</table>\n",
       "</div>"
      ],
      "text/plain": [
       "  idpostulante  nombre  estado  sexo  edad  vistas_postulante  \\\n",
       "0         NdJl     4.0     1.0     2  49.0               60.0   \n",
       "1         1d2B     3.0     1.0     2  42.0                4.0   \n",
       "2         NPBx     5.0     1.0     2  37.0               34.0   \n",
       "3         ZKl5     5.0     1.0     2  44.0               41.0   \n",
       "4        Y043Z     3.0     1.0     2  39.0               12.0   \n",
       "\n",
       "   cant_dias_actividad  postu_postulante  \n",
       "0                 88.0              30.0  \n",
       "1                  7.0               4.0  \n",
       "2                 81.0              34.0  \n",
       "3                 89.0              11.0  \n",
       "4                 50.0               4.0  "
      ]
     },
     "execution_count": 151,
     "metadata": {},
     "output_type": "execute_result"
    }
   ],
   "source": [
    "df_postulantes.head()"
   ]
  },
  {
   "cell_type": "code",
   "execution_count": 152,
   "metadata": {
    "collapsed": true
   },
   "outputs": [],
   "source": [
    "df_postulantes.to_csv('Predecir/postulantes_datos_train.csv')"
   ]
  },
  {
   "cell_type": "markdown",
   "metadata": {},
   "source": [
    "# Postulaciones con postulantes (To train)"
   ]
  },
  {
   "cell_type": "code",
   "execution_count": 70,
   "metadata": {
    "collapsed": true
   },
   "outputs": [],
   "source": [
    "df_postulaciones = pd.concat([df_postulaciones_nuevo, df_postulaciones_original])"
   ]
  },
  {
   "cell_type": "code",
   "execution_count": 71,
   "metadata": {},
   "outputs": [
    {
     "data": {
      "text/plain": [
       "(8311264, 3)"
      ]
     },
     "execution_count": 71,
     "metadata": {},
     "output_type": "execute_result"
    }
   ],
   "source": [
    "df_postulaciones.shape"
   ]
  },
  {
   "cell_type": "code",
   "execution_count": 72,
   "metadata": {},
   "outputs": [
    {
     "data": {
      "text/plain": [
       "Index(['idaviso', 'idpostulante', 'fechapostulacion'], dtype='object')"
      ]
     },
     "execution_count": 72,
     "metadata": {},
     "output_type": "execute_result"
    }
   ],
   "source": [
    "df_postulaciones.columns"
   ]
  },
  {
   "cell_type": "markdown",
   "metadata": {},
   "source": [
    "Elimino duplicados"
   ]
  },
  {
   "cell_type": "code",
   "execution_count": 73,
   "metadata": {
    "collapsed": true
   },
   "outputs": [],
   "source": [
    "df_postulaciones = df_postulaciones.drop_duplicates()"
   ]
  },
  {
   "cell_type": "code",
   "execution_count": 74,
   "metadata": {},
   "outputs": [
    {
     "data": {
      "text/plain": [
       "(6604534, 3)"
      ]
     },
     "execution_count": 74,
     "metadata": {},
     "output_type": "execute_result"
    }
   ],
   "source": [
    "df_postulaciones.shape"
   ]
  },
  {
   "cell_type": "code",
   "execution_count": 75,
   "metadata": {
    "collapsed": true
   },
   "outputs": [],
   "source": [
    "df_postulaciones['fechapostulacion'] = pd.to_datetime(df_postulaciones[\"fechapostulacion\"], errors = 'coerce')"
   ]
  },
  {
   "cell_type": "code",
   "execution_count": 79,
   "metadata": {},
   "outputs": [
    {
     "data": {
      "text/plain": [
       "Timestamp('2018-01-15 00:00:01')"
      ]
     },
     "execution_count": 79,
     "metadata": {},
     "output_type": "execute_result"
    }
   ],
   "source": [
    "df_postulaciones['fechapostulacion'].min()"
   ]
  },
  {
   "cell_type": "code",
   "execution_count": 78,
   "metadata": {},
   "outputs": [
    {
     "data": {
      "text/plain": [
       "Timestamp('2018-04-17 10:42:39')"
      ]
     },
     "execution_count": 78,
     "metadata": {},
     "output_type": "execute_result"
    }
   ],
   "source": [
    "df_postulaciones['fechapostulacion'].max()"
   ]
  },
  {
   "cell_type": "code",
   "execution_count": 82,
   "metadata": {
    "collapsed": true
   },
   "outputs": [],
   "source": [
    "def get_hour(row):\n",
    "    return row['fechapostulacion'].hour\n",
    "\n",
    "def get_day(row):\n",
    "    return row['fechapostulacion'].day\n",
    "\n",
    "def get_month(row):\n",
    "    return row['fechapostulacion'].month\n",
    "\n",
    "\n",
    "df_postulaciones['hora'] = df_postulaciones.apply(get_hour, axis=1)\n",
    "df_postulaciones['dia'] = df_postulaciones.apply(get_day, axis=1)\n",
    "df_postulaciones['mes'] = df_postulaciones.apply(get_month, axis=1)"
   ]
  },
  {
   "cell_type": "code",
   "execution_count": 84,
   "metadata": {
    "collapsed": true
   },
   "outputs": [],
   "source": [
    "del df_postulaciones['fechapostulacion']"
   ]
  },
  {
   "cell_type": "code",
   "execution_count": 85,
   "metadata": {},
   "outputs": [
    {
     "data": {
      "text/html": [
       "<div>\n",
       "<style>\n",
       "    .dataframe thead tr:only-child th {\n",
       "        text-align: right;\n",
       "    }\n",
       "\n",
       "    .dataframe thead th {\n",
       "        text-align: left;\n",
       "    }\n",
       "\n",
       "    .dataframe tbody tr th {\n",
       "        vertical-align: top;\n",
       "    }\n",
       "</style>\n",
       "<table border=\"1\" class=\"dataframe\">\n",
       "  <thead>\n",
       "    <tr style=\"text-align: right;\">\n",
       "      <th></th>\n",
       "      <th>idaviso</th>\n",
       "      <th>idpostulante</th>\n",
       "      <th>hora</th>\n",
       "      <th>dia</th>\n",
       "      <th>mes</th>\n",
       "    </tr>\n",
       "  </thead>\n",
       "  <tbody>\n",
       "    <tr>\n",
       "      <th>0</th>\n",
       "      <td>1112248724</td>\n",
       "      <td>NjlD</td>\n",
       "      <td>7</td>\n",
       "      <td>19</td>\n",
       "      <td>1</td>\n",
       "    </tr>\n",
       "    <tr>\n",
       "      <th>1</th>\n",
       "      <td>1112286523</td>\n",
       "      <td>ZaO5</td>\n",
       "      <td>15</td>\n",
       "      <td>24</td>\n",
       "      <td>1</td>\n",
       "    </tr>\n",
       "    <tr>\n",
       "      <th>2</th>\n",
       "      <td>1112272060</td>\n",
       "      <td>ZaO5</td>\n",
       "      <td>15</td>\n",
       "      <td>24</td>\n",
       "      <td>1</td>\n",
       "    </tr>\n",
       "    <tr>\n",
       "      <th>3</th>\n",
       "      <td>1112288401</td>\n",
       "      <td>ZaO5</td>\n",
       "      <td>8</td>\n",
       "      <td>26</td>\n",
       "      <td>1</td>\n",
       "    </tr>\n",
       "    <tr>\n",
       "      <th>4</th>\n",
       "      <td>1112300563</td>\n",
       "      <td>ZaO5</td>\n",
       "      <td>13</td>\n",
       "      <td>30</td>\n",
       "      <td>1</td>\n",
       "    </tr>\n",
       "  </tbody>\n",
       "</table>\n",
       "</div>"
      ],
      "text/plain": [
       "      idaviso idpostulante  hora  dia  mes\n",
       "0  1112248724         NjlD     7   19    1\n",
       "1  1112286523         ZaO5    15   24    1\n",
       "2  1112272060         ZaO5    15   24    1\n",
       "3  1112288401         ZaO5     8   26    1\n",
       "4  1112300563         ZaO5    13   30    1"
      ]
     },
     "execution_count": 85,
     "metadata": {},
     "output_type": "execute_result"
    }
   ],
   "source": [
    "df_postulaciones.head()"
   ]
  },
  {
   "cell_type": "code",
   "execution_count": 86,
   "metadata": {
    "collapsed": true
   },
   "outputs": [],
   "source": [
    "df_postulaciones.to_csv('df_postulaciones.csv')"
   ]
  },
  {
   "cell_type": "code",
   "execution_count": 87,
   "metadata": {},
   "outputs": [
    {
     "data": {
      "text/plain": [
       "(6604534, 5)"
      ]
     },
     "execution_count": 87,
     "metadata": {},
     "output_type": "execute_result"
    }
   ],
   "source": [
    "df_postulaciones.shape"
   ]
  },
  {
   "cell_type": "code",
   "execution_count": 88,
   "metadata": {
    "collapsed": true
   },
   "outputs": [],
   "source": [
    "del df_postulaciones['hora']\n",
    "del df_postulaciones['dia']\n",
    "del df_postulaciones['mes']"
   ]
  },
  {
   "cell_type": "code",
   "execution_count": 89,
   "metadata": {
    "collapsed": true
   },
   "outputs": [],
   "source": [
    "df_postulaciones.to_csv('Predecir/df_postulaciones.csv')"
   ]
  },
  {
   "cell_type": "code",
   "execution_count": null,
   "metadata": {
    "collapsed": true
   },
   "outputs": [],
   "source": []
  }
 ],
 "metadata": {
  "kernelspec": {
   "display_name": "Python 3",
   "language": "python",
   "name": "python3"
  },
  "language_info": {
   "codemirror_mode": {
    "name": "ipython",
    "version": 3
   },
   "file_extension": ".py",
   "mimetype": "text/x-python",
   "name": "python",
   "nbconvert_exporter": "python",
   "pygments_lexer": "ipython3",
   "version": "3.6.1"
  }
 },
 "nbformat": 4,
 "nbformat_minor": 2
}
