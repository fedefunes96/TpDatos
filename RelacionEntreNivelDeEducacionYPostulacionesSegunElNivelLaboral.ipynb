{
 "cells": [
  {
   "cell_type": "markdown",
   "metadata": {},
   "source": [
    "Importo librerias a ultilizar\n"
   ]
  },
  {
   "cell_type": "code",
   "execution_count": 49,
   "metadata": {},
   "outputs": [
    {
     "data": {
      "text/html": [
       "<style>.container { width:90% !important; }</style>"
      ],
      "text/plain": [
       "<IPython.core.display.HTML object>"
      ]
     },
     "metadata": {},
     "output_type": "display_data"
    }
   ],
   "source": [
    "from IPython.core.display import display, HTML\n",
    "display(HTML(\"<style>.container { width:90% !important; }</style>\"))"
   ]
  },
  {
   "cell_type": "code",
   "execution_count": 26,
   "metadata": {
    "collapsed": true
   },
   "outputs": [],
   "source": [
    "import pandas as pd\n",
    "import numpy  as np\n",
    "import matplotlib as plt\n",
    "import seaborn as sbn\n",
    "from datetime import datetime as dt"
   ]
  },
  {
   "cell_type": "code",
   "execution_count": 46,
   "metadata": {
    "collapsed": true
   },
   "outputs": [],
   "source": [
    "%matplotlib inline "
   ]
  },
  {
   "cell_type": "markdown",
   "metadata": {},
   "source": [
    "### ¿Existe relación entre el nivel de educación y el nivel laboral requerido en las postulaciones?"
   ]
  },
  {
   "cell_type": "markdown",
   "metadata": {},
   "source": [
    "Para este análisis procedemos a cargar, inicialmente, en un dataframe los datos del nivel educativo de los postulantes.\n"
   ]
  },
  {
   "cell_type": "code",
   "execution_count": 3,
   "metadata": {
    "collapsed": true
   },
   "outputs": [],
   "source": [
    "educacion_postulantes = pd.read_csv('../datos_navent_fiuba/fiuba_1_postulantes_educacion.csv', low_memory=False)"
   ]
  },
  {
   "cell_type": "markdown",
   "metadata": {},
   "source": [
    "Echamos un vistazo general de los datos:"
   ]
  },
  {
   "cell_type": "code",
   "execution_count": 4,
   "metadata": {},
   "outputs": [
    {
     "data": {
      "text/html": [
       "<div>\n",
       "<style>\n",
       "    .dataframe thead tr:only-child th {\n",
       "        text-align: right;\n",
       "    }\n",
       "\n",
       "    .dataframe thead th {\n",
       "        text-align: left;\n",
       "    }\n",
       "\n",
       "    .dataframe tbody tr th {\n",
       "        vertical-align: top;\n",
       "    }\n",
       "</style>\n",
       "<table border=\"1\" class=\"dataframe\">\n",
       "  <thead>\n",
       "    <tr style=\"text-align: right;\">\n",
       "      <th></th>\n",
       "      <th>idpostulante</th>\n",
       "      <th>nombre</th>\n",
       "      <th>estado</th>\n",
       "    </tr>\n",
       "  </thead>\n",
       "  <tbody>\n",
       "    <tr>\n",
       "      <th>0</th>\n",
       "      <td>NdJl</td>\n",
       "      <td>Posgrado</td>\n",
       "      <td>En Curso</td>\n",
       "    </tr>\n",
       "    <tr>\n",
       "      <th>1</th>\n",
       "      <td>8BkL</td>\n",
       "      <td>Universitario</td>\n",
       "      <td>En Curso</td>\n",
       "    </tr>\n",
       "    <tr>\n",
       "      <th>2</th>\n",
       "      <td>1d2B</td>\n",
       "      <td>Universitario</td>\n",
       "      <td>En Curso</td>\n",
       "    </tr>\n",
       "    <tr>\n",
       "      <th>3</th>\n",
       "      <td>NPBx</td>\n",
       "      <td>Universitario</td>\n",
       "      <td>En Curso</td>\n",
       "    </tr>\n",
       "    <tr>\n",
       "      <th>4</th>\n",
       "      <td>NPBx</td>\n",
       "      <td>Master</td>\n",
       "      <td>En Curso</td>\n",
       "    </tr>\n",
       "  </tbody>\n",
       "</table>\n",
       "</div>"
      ],
      "text/plain": [
       "  idpostulante         nombre    estado\n",
       "0         NdJl       Posgrado  En Curso\n",
       "1         8BkL  Universitario  En Curso\n",
       "2         1d2B  Universitario  En Curso\n",
       "3         NPBx  Universitario  En Curso\n",
       "4         NPBx         Master  En Curso"
      ]
     },
     "execution_count": 4,
     "metadata": {},
     "output_type": "execute_result"
    }
   ],
   "source": [
    "educacion_postulantes.head()"
   ]
  },
  {
   "cell_type": "code",
   "execution_count": 7,
   "metadata": {},
   "outputs": [
    {
     "data": {
      "text/html": [
       "<div>\n",
       "<style>\n",
       "    .dataframe thead tr:only-child th {\n",
       "        text-align: right;\n",
       "    }\n",
       "\n",
       "    .dataframe thead th {\n",
       "        text-align: left;\n",
       "    }\n",
       "\n",
       "    .dataframe tbody tr th {\n",
       "        vertical-align: top;\n",
       "    }\n",
       "</style>\n",
       "<table border=\"1\" class=\"dataframe\">\n",
       "  <thead>\n",
       "    <tr style=\"text-align: right;\">\n",
       "      <th></th>\n",
       "      <th>idpostulante</th>\n",
       "      <th>nombre</th>\n",
       "      <th>estado</th>\n",
       "    </tr>\n",
       "  </thead>\n",
       "  <tbody>\n",
       "    <tr>\n",
       "      <th>298226</th>\n",
       "      <td>GNZqARp</td>\n",
       "      <td>Terciario/Técnico</td>\n",
       "      <td>Abandonado</td>\n",
       "    </tr>\n",
       "    <tr>\n",
       "      <th>298227</th>\n",
       "      <td>ow2p8vk</td>\n",
       "      <td>Universitario</td>\n",
       "      <td>Abandonado</td>\n",
       "    </tr>\n",
       "    <tr>\n",
       "      <th>298228</th>\n",
       "      <td>6rPEvwv</td>\n",
       "      <td>Universitario</td>\n",
       "      <td>Abandonado</td>\n",
       "    </tr>\n",
       "    <tr>\n",
       "      <th>298229</th>\n",
       "      <td>vVja45X</td>\n",
       "      <td>Universitario</td>\n",
       "      <td>Abandonado</td>\n",
       "    </tr>\n",
       "    <tr>\n",
       "      <th>298230</th>\n",
       "      <td>1QPMbX3</td>\n",
       "      <td>Universitario</td>\n",
       "      <td>Abandonado</td>\n",
       "    </tr>\n",
       "  </tbody>\n",
       "</table>\n",
       "</div>"
      ],
      "text/plain": [
       "       idpostulante             nombre      estado\n",
       "298226      GNZqARp  Terciario/Técnico  Abandonado\n",
       "298227      ow2p8vk      Universitario  Abandonado\n",
       "298228      6rPEvwv      Universitario  Abandonado\n",
       "298229      vVja45X      Universitario  Abandonado\n",
       "298230      1QPMbX3      Universitario  Abandonado"
      ]
     },
     "execution_count": 7,
     "metadata": {},
     "output_type": "execute_result"
    }
   ],
   "source": [
    "educacion_postulantes.tail()"
   ]
  },
  {
   "cell_type": "markdown",
   "metadata": {},
   "source": [
    "Nos preguntamos la dimension de este data frame:\n"
   ]
  },
  {
   "cell_type": "code",
   "execution_count": 8,
   "metadata": {},
   "outputs": [
    {
     "data": {
      "text/plain": [
       "(298231, 3)"
      ]
     },
     "execution_count": 8,
     "metadata": {},
     "output_type": "execute_result"
    }
   ],
   "source": [
    "educacion_postulantes.shape"
   ]
  },
  {
   "cell_type": "markdown",
   "metadata": {},
   "source": [
    "Vemos si existe algun dato nulo"
   ]
  },
  {
   "cell_type": "code",
   "execution_count": 9,
   "metadata": {},
   "outputs": [
    {
     "data": {
      "text/plain": [
       "idpostulante    False\n",
       "nombre          False\n",
       "estado          False\n",
       "dtype: bool"
      ]
     },
     "execution_count": 9,
     "metadata": {},
     "output_type": "execute_result"
    }
   ],
   "source": [
    "educacion_postulantes.isnull().any()"
   ]
  },
  {
   "cell_type": "markdown",
   "metadata": {},
   "source": [
    "Como hemos obtuvimos False en cada columna podemos estar seguros de que tenemos la informacion completa en este data frame. Con lo cual no limpiamos nada. "
   ]
  },
  {
   "cell_type": "markdown",
   "metadata": {},
   "source": [
    "Ahora procedemos a obtener la información de las postulaciones:\n",
    "    "
   ]
  },
  {
   "cell_type": "code",
   "execution_count": 5,
   "metadata": {
    "collapsed": true
   },
   "outputs": [],
   "source": [
    "postulaciones = pd.read_csv('../datos_navent_fiuba/fiuba_4_postulaciones.csv')"
   ]
  },
  {
   "cell_type": "markdown",
   "metadata": {},
   "source": [
    "vemos alguno de los datos para saber la estructura de nuestro data frame"
   ]
  },
  {
   "cell_type": "code",
   "execution_count": 11,
   "metadata": {},
   "outputs": [
    {
     "data": {
      "text/html": [
       "<div>\n",
       "<style>\n",
       "    .dataframe thead tr:only-child th {\n",
       "        text-align: right;\n",
       "    }\n",
       "\n",
       "    .dataframe thead th {\n",
       "        text-align: left;\n",
       "    }\n",
       "\n",
       "    .dataframe tbody tr th {\n",
       "        vertical-align: top;\n",
       "    }\n",
       "</style>\n",
       "<table border=\"1\" class=\"dataframe\">\n",
       "  <thead>\n",
       "    <tr style=\"text-align: right;\">\n",
       "      <th></th>\n",
       "      <th>idaviso</th>\n",
       "      <th>idpostulante</th>\n",
       "      <th>fechapostulacion</th>\n",
       "    </tr>\n",
       "  </thead>\n",
       "  <tbody>\n",
       "    <tr>\n",
       "      <th>0</th>\n",
       "      <td>1112257047</td>\n",
       "      <td>NM5M</td>\n",
       "      <td>2018-01-15 16:22:34</td>\n",
       "    </tr>\n",
       "    <tr>\n",
       "      <th>1</th>\n",
       "      <td>1111920714</td>\n",
       "      <td>NM5M</td>\n",
       "      <td>2018-02-06 09:04:50</td>\n",
       "    </tr>\n",
       "    <tr>\n",
       "      <th>2</th>\n",
       "      <td>1112346945</td>\n",
       "      <td>NM5M</td>\n",
       "      <td>2018-02-22 09:04:47</td>\n",
       "    </tr>\n",
       "    <tr>\n",
       "      <th>3</th>\n",
       "      <td>1112345547</td>\n",
       "      <td>NM5M</td>\n",
       "      <td>2018-02-22 09:04:59</td>\n",
       "    </tr>\n",
       "    <tr>\n",
       "      <th>4</th>\n",
       "      <td>1112237522</td>\n",
       "      <td>5awk</td>\n",
       "      <td>2018-01-25 18:55:03</td>\n",
       "    </tr>\n",
       "  </tbody>\n",
       "</table>\n",
       "</div>"
      ],
      "text/plain": [
       "      idaviso idpostulante     fechapostulacion\n",
       "0  1112257047         NM5M  2018-01-15 16:22:34\n",
       "1  1111920714         NM5M  2018-02-06 09:04:50\n",
       "2  1112346945         NM5M  2018-02-22 09:04:47\n",
       "3  1112345547         NM5M  2018-02-22 09:04:59\n",
       "4  1112237522         5awk  2018-01-25 18:55:03"
      ]
     },
     "execution_count": 11,
     "metadata": {},
     "output_type": "execute_result"
    }
   ],
   "source": [
    "postulaciones.head()"
   ]
  },
  {
   "cell_type": "markdown",
   "metadata": {},
   "source": [
    "Para el análisis propuesto creemos de importancia las columnas \"idaviso\" y \"idpostulante\" con lo cual procedemos a ver si estas poseen datos nulos para poder limpiarlos y tambien nos quedamos unicamente con esas columnas."
   ]
  },
  {
   "cell_type": "code",
   "execution_count": null,
   "metadata": {
    "collapsed": true
   },
   "outputs": [],
   "source": [
    "postulaciones.isnull().any()"
   ]
  },
  {
   "cell_type": "markdown",
   "metadata": {},
   "source": [
    "Vemos que las columnas no tienen información nula.\n",
    "Nos quedamos con las columnas de interes:"
   ]
  },
  {
   "cell_type": "code",
   "execution_count": 6,
   "metadata": {
    "collapsed": true
   },
   "outputs": [],
   "source": [
    "postulaciones = postulaciones[['idaviso','idpostulante']]"
   ]
  },
  {
   "cell_type": "markdown",
   "metadata": {},
   "source": [
    "Vemos el tamaño de nuestro data frame:"
   ]
  },
  {
   "cell_type": "code",
   "execution_count": 12,
   "metadata": {},
   "outputs": [
    {
     "data": {
      "text/plain": [
       "(3401623, 2)"
      ]
     },
     "execution_count": 12,
     "metadata": {},
     "output_type": "execute_result"
    }
   ],
   "source": [
    "postulaciones.shape"
   ]
  },
  {
   "cell_type": "markdown",
   "metadata": {},
   "source": [
    "Para saber el nivel laboral de las publicaciones a las cuales las personas se postulan procedemos a cargar los datos de los detalles de los avisos :"
   ]
  },
  {
   "cell_type": "code",
   "execution_count": 7,
   "metadata": {
    "collapsed": true
   },
   "outputs": [],
   "source": [
    "detalles_avisos = pd.read_csv('../datos_navent_fiuba/fiuba_6_avisos_detalle.csv')"
   ]
  },
  {
   "cell_type": "markdown",
   "metadata": {},
   "source": [
    "Procedemos a dar un vistazo a este data frame:"
   ]
  },
  {
   "cell_type": "code",
   "execution_count": 14,
   "metadata": {},
   "outputs": [
    {
     "data": {
      "text/html": [
       "<div>\n",
       "<style>\n",
       "    .dataframe thead tr:only-child th {\n",
       "        text-align: right;\n",
       "    }\n",
       "\n",
       "    .dataframe thead th {\n",
       "        text-align: left;\n",
       "    }\n",
       "\n",
       "    .dataframe tbody tr th {\n",
       "        vertical-align: top;\n",
       "    }\n",
       "</style>\n",
       "<table border=\"1\" class=\"dataframe\">\n",
       "  <thead>\n",
       "    <tr style=\"text-align: right;\">\n",
       "      <th></th>\n",
       "      <th>idaviso</th>\n",
       "      <th>idpais</th>\n",
       "      <th>titulo</th>\n",
       "      <th>descripcion</th>\n",
       "      <th>nombre_zona</th>\n",
       "      <th>ciudad</th>\n",
       "      <th>mapacalle</th>\n",
       "      <th>tipo_de_trabajo</th>\n",
       "      <th>nivel_laboral</th>\n",
       "      <th>nombre_area</th>\n",
       "      <th>denominacion_empresa</th>\n",
       "    </tr>\n",
       "  </thead>\n",
       "  <tbody>\n",
       "    <tr>\n",
       "      <th>0</th>\n",
       "      <td>8725750</td>\n",
       "      <td>1</td>\n",
       "      <td>VENDEDOR/A PROVINCIA DE SANTA FE</td>\n",
       "      <td>&lt;p&gt;&lt;strong&gt;&lt;strong&gt;Empresa:&lt;/strong&gt;&lt;/strong&gt; ...</td>\n",
       "      <td>Gran Buenos Aires</td>\n",
       "      <td>NaN</td>\n",
       "      <td>NaN</td>\n",
       "      <td>Full-time</td>\n",
       "      <td>Senior / Semi-Senior</td>\n",
       "      <td>Comercial</td>\n",
       "      <td>VENTOR</td>\n",
       "    </tr>\n",
       "    <tr>\n",
       "      <th>1</th>\n",
       "      <td>17903700</td>\n",
       "      <td>1</td>\n",
       "      <td>Enfermeras</td>\n",
       "      <td>&lt;p&gt;Solicitamos para importante cadena de farma...</td>\n",
       "      <td>Gran Buenos Aires</td>\n",
       "      <td>NaN</td>\n",
       "      <td>NaN</td>\n",
       "      <td>Full-time</td>\n",
       "      <td>Senior / Semi-Senior</td>\n",
       "      <td>Salud</td>\n",
       "      <td>Farmacias Central Oeste</td>\n",
       "    </tr>\n",
       "    <tr>\n",
       "      <th>2</th>\n",
       "      <td>1000150677</td>\n",
       "      <td>1</td>\n",
       "      <td>Chofer de taxi</td>\n",
       "      <td>&lt;p&gt;TE GUSTA MANEJAR? QUERES GANAR PLATA HACIEN...</td>\n",
       "      <td>Capital Federal</td>\n",
       "      <td>NaN</td>\n",
       "      <td>Empedrado 2336</td>\n",
       "      <td>Full-time</td>\n",
       "      <td>Senior / Semi-Senior</td>\n",
       "      <td>Transporte</td>\n",
       "      <td>FAMITAX SRL</td>\n",
       "    </tr>\n",
       "    <tr>\n",
       "      <th>3</th>\n",
       "      <td>1000610287</td>\n",
       "      <td>1</td>\n",
       "      <td>CHOFER DE CAMIONETA BAHIA BLANCA - PUNTA ALTA</td>\n",
       "      <td>&lt;p&gt;&lt;strong&gt;Somos una empresa multinacional que...</td>\n",
       "      <td>Gran Buenos Aires</td>\n",
       "      <td>NaN</td>\n",
       "      <td>NaN</td>\n",
       "      <td>Full-time</td>\n",
       "      <td>Senior / Semi-Senior</td>\n",
       "      <td>Transporte</td>\n",
       "      <td>Wurth Argentina S.A</td>\n",
       "    </tr>\n",
       "    <tr>\n",
       "      <th>4</th>\n",
       "      <td>1000872556</td>\n",
       "      <td>1</td>\n",
       "      <td>Operarios de Planta - Rubro Electrodomésticos</td>\n",
       "      <td>&lt;p&gt;&lt;strong&gt;OPERARIOS DE PLANTA&lt;/strong&gt;&lt;/p&gt;&lt;p&gt;...</td>\n",
       "      <td>Gran Buenos Aires</td>\n",
       "      <td>NaN</td>\n",
       "      <td>NaN</td>\n",
       "      <td>Full-time</td>\n",
       "      <td>Senior / Semi-Senior</td>\n",
       "      <td>Producción</td>\n",
       "      <td>ELECTRO OUTLET SRL</td>\n",
       "    </tr>\n",
       "  </tbody>\n",
       "</table>\n",
       "</div>"
      ],
      "text/plain": [
       "      idaviso  idpais                                         titulo  \\\n",
       "0     8725750       1               VENDEDOR/A PROVINCIA DE SANTA FE   \n",
       "1    17903700       1                                     Enfermeras   \n",
       "2  1000150677       1                                 Chofer de taxi   \n",
       "3  1000610287       1  CHOFER DE CAMIONETA BAHIA BLANCA - PUNTA ALTA   \n",
       "4  1000872556       1  Operarios de Planta - Rubro Electrodomésticos   \n",
       "\n",
       "                                         descripcion        nombre_zona  \\\n",
       "0  <p><strong><strong>Empresa:</strong></strong> ...  Gran Buenos Aires   \n",
       "1  <p>Solicitamos para importante cadena de farma...  Gran Buenos Aires   \n",
       "2  <p>TE GUSTA MANEJAR? QUERES GANAR PLATA HACIEN...    Capital Federal   \n",
       "3  <p><strong>Somos una empresa multinacional que...  Gran Buenos Aires   \n",
       "4  <p><strong>OPERARIOS DE PLANTA</strong></p><p>...  Gran Buenos Aires   \n",
       "\n",
       "  ciudad       mapacalle tipo_de_trabajo         nivel_laboral nombre_area  \\\n",
       "0    NaN             NaN       Full-time  Senior / Semi-Senior   Comercial   \n",
       "1    NaN             NaN       Full-time  Senior / Semi-Senior       Salud   \n",
       "2    NaN  Empedrado 2336       Full-time  Senior / Semi-Senior  Transporte   \n",
       "3    NaN             NaN       Full-time  Senior / Semi-Senior  Transporte   \n",
       "4    NaN             NaN       Full-time  Senior / Semi-Senior  Producción   \n",
       "\n",
       "      denominacion_empresa  \n",
       "0                   VENTOR  \n",
       "1  Farmacias Central Oeste  \n",
       "2              FAMITAX SRL  \n",
       "3      Wurth Argentina S.A  \n",
       "4       ELECTRO OUTLET SRL  "
      ]
     },
     "execution_count": 14,
     "metadata": {},
     "output_type": "execute_result"
    }
   ],
   "source": [
    "detalles_avisos.head()"
   ]
  },
  {
   "cell_type": "markdown",
   "metadata": {},
   "source": [
    "Nos preguntamos si hay datos nulos:"
   ]
  },
  {
   "cell_type": "code",
   "execution_count": 15,
   "metadata": {},
   "outputs": [
    {
     "data": {
      "text/plain": [
       "idaviso                 False\n",
       "idpais                  False\n",
       "titulo                  False\n",
       "descripcion             False\n",
       "nombre_zona             False\n",
       "ciudad                   True\n",
       "mapacalle                True\n",
       "tipo_de_trabajo         False\n",
       "nivel_laboral           False\n",
       "nombre_area             False\n",
       "denominacion_empresa     True\n",
       "dtype: bool"
      ]
     },
     "execution_count": 15,
     "metadata": {},
     "output_type": "execute_result"
    }
   ],
   "source": [
    "detalles_avisos.isnull().any()"
   ]
  },
  {
   "cell_type": "markdown",
   "metadata": {},
   "source": [
    "Vemos que no hay nulos en el nivel laboral,nos quedamos solamente con las columnas de interes."
   ]
  },
  {
   "cell_type": "code",
   "execution_count": 9,
   "metadata": {
    "collapsed": true
   },
   "outputs": [],
   "source": [
    "nivel_laboral = detalles_avisos[['idaviso','nivel_laboral','descripcion','nombre_area']]"
   ]
  },
  {
   "cell_type": "code",
   "execution_count": 10,
   "metadata": {},
   "outputs": [
    {
     "data": {
      "text/html": [
       "<div>\n",
       "<style>\n",
       "    .dataframe thead tr:only-child th {\n",
       "        text-align: right;\n",
       "    }\n",
       "\n",
       "    .dataframe thead th {\n",
       "        text-align: left;\n",
       "    }\n",
       "\n",
       "    .dataframe tbody tr th {\n",
       "        vertical-align: top;\n",
       "    }\n",
       "</style>\n",
       "<table border=\"1\" class=\"dataframe\">\n",
       "  <thead>\n",
       "    <tr style=\"text-align: right;\">\n",
       "      <th></th>\n",
       "      <th>idaviso</th>\n",
       "      <th>nivel_laboral</th>\n",
       "      <th>descripcion</th>\n",
       "      <th>nombre_area</th>\n",
       "    </tr>\n",
       "  </thead>\n",
       "  <tbody>\n",
       "    <tr>\n",
       "      <th>0</th>\n",
       "      <td>8725750</td>\n",
       "      <td>Senior / Semi-Senior</td>\n",
       "      <td>&lt;p&gt;&lt;strong&gt;&lt;strong&gt;Empresa:&lt;/strong&gt;&lt;/strong&gt; ...</td>\n",
       "      <td>Comercial</td>\n",
       "    </tr>\n",
       "    <tr>\n",
       "      <th>1</th>\n",
       "      <td>17903700</td>\n",
       "      <td>Senior / Semi-Senior</td>\n",
       "      <td>&lt;p&gt;Solicitamos para importante cadena de farma...</td>\n",
       "      <td>Salud</td>\n",
       "    </tr>\n",
       "    <tr>\n",
       "      <th>2</th>\n",
       "      <td>1000150677</td>\n",
       "      <td>Senior / Semi-Senior</td>\n",
       "      <td>&lt;p&gt;TE GUSTA MANEJAR? QUERES GANAR PLATA HACIEN...</td>\n",
       "      <td>Transporte</td>\n",
       "    </tr>\n",
       "    <tr>\n",
       "      <th>3</th>\n",
       "      <td>1000610287</td>\n",
       "      <td>Senior / Semi-Senior</td>\n",
       "      <td>&lt;p&gt;&lt;strong&gt;Somos una empresa multinacional que...</td>\n",
       "      <td>Transporte</td>\n",
       "    </tr>\n",
       "    <tr>\n",
       "      <th>4</th>\n",
       "      <td>1000872556</td>\n",
       "      <td>Senior / Semi-Senior</td>\n",
       "      <td>&lt;p&gt;&lt;strong&gt;OPERARIOS DE PLANTA&lt;/strong&gt;&lt;/p&gt;&lt;p&gt;...</td>\n",
       "      <td>Producción</td>\n",
       "    </tr>\n",
       "  </tbody>\n",
       "</table>\n",
       "</div>"
      ],
      "text/plain": [
       "      idaviso         nivel_laboral  \\\n",
       "0     8725750  Senior / Semi-Senior   \n",
       "1    17903700  Senior / Semi-Senior   \n",
       "2  1000150677  Senior / Semi-Senior   \n",
       "3  1000610287  Senior / Semi-Senior   \n",
       "4  1000872556  Senior / Semi-Senior   \n",
       "\n",
       "                                         descripcion nombre_area  \n",
       "0  <p><strong><strong>Empresa:</strong></strong> ...   Comercial  \n",
       "1  <p>Solicitamos para importante cadena de farma...       Salud  \n",
       "2  <p>TE GUSTA MANEJAR? QUERES GANAR PLATA HACIEN...  Transporte  \n",
       "3  <p><strong>Somos una empresa multinacional que...  Transporte  \n",
       "4  <p><strong>OPERARIOS DE PLANTA</strong></p><p>...  Producción  "
      ]
     },
     "execution_count": 10,
     "metadata": {},
     "output_type": "execute_result"
    }
   ],
   "source": [
    "nivel_laboral.head()"
   ]
  },
  {
   "cell_type": "code",
   "execution_count": 18,
   "metadata": {},
   "outputs": [
    {
     "data": {
      "text/plain": [
       "(13534, 4)"
      ]
     },
     "execution_count": 18,
     "metadata": {},
     "output_type": "execute_result"
    }
   ],
   "source": [
    "nivel_laboral.shape"
   ]
  },
  {
   "cell_type": "markdown",
   "metadata": {},
   "source": [
    "Para poder ver el nivel laboral de los avisos a los cuales las personas se postulan procedemos a unir el data frame que contiene las postulaciones con el del nivel laboral de ese aviso."
   ]
  },
  {
   "cell_type": "code",
   "execution_count": 11,
   "metadata": {
    "collapsed": true
   },
   "outputs": [],
   "source": [
    "postulaciones_por_nivel = pd.merge(postulaciones, nivel_laboral, how='left', on= 'idaviso')"
   ]
  },
  {
   "cell_type": "markdown",
   "metadata": {},
   "source": [
    "Le damos una mirada a nuestro nuevo data frame:"
   ]
  },
  {
   "cell_type": "code",
   "execution_count": 20,
   "metadata": {
    "scrolled": true
   },
   "outputs": [
    {
     "data": {
      "text/html": [
       "<div>\n",
       "<style>\n",
       "    .dataframe thead tr:only-child th {\n",
       "        text-align: right;\n",
       "    }\n",
       "\n",
       "    .dataframe thead th {\n",
       "        text-align: left;\n",
       "    }\n",
       "\n",
       "    .dataframe tbody tr th {\n",
       "        vertical-align: top;\n",
       "    }\n",
       "</style>\n",
       "<table border=\"1\" class=\"dataframe\">\n",
       "  <thead>\n",
       "    <tr style=\"text-align: right;\">\n",
       "      <th></th>\n",
       "      <th>idaviso</th>\n",
       "      <th>idpostulante</th>\n",
       "      <th>nivel_laboral</th>\n",
       "      <th>descripcion</th>\n",
       "      <th>nombre_area</th>\n",
       "    </tr>\n",
       "  </thead>\n",
       "  <tbody>\n",
       "    <tr>\n",
       "      <th>0</th>\n",
       "      <td>1112257047</td>\n",
       "      <td>NM5M</td>\n",
       "      <td>Otro</td>\n",
       "      <td>&lt;p&gt;&lt;strong&gt;&lt;em&gt;&lt;span style=\"\"&gt;En &lt;/span&gt;&lt;/em&gt;&lt;...</td>\n",
       "      <td>Atención al Cliente</td>\n",
       "    </tr>\n",
       "    <tr>\n",
       "      <th>1</th>\n",
       "      <td>1111920714</td>\n",
       "      <td>NM5M</td>\n",
       "      <td>Senior / Semi-Senior</td>\n",
       "      <td>&lt;p&gt;En Randstad Argentina nos encontramos en bú...</td>\n",
       "      <td>Telemarketing</td>\n",
       "    </tr>\n",
       "    <tr>\n",
       "      <th>2</th>\n",
       "      <td>1112346945</td>\n",
       "      <td>NM5M</td>\n",
       "      <td>Senior / Semi-Senior</td>\n",
       "      <td>&lt;p style=\"\"&gt;4 Finance, importante empresa fina...</td>\n",
       "      <td>Telemarketing</td>\n",
       "    </tr>\n",
       "    <tr>\n",
       "      <th>3</th>\n",
       "      <td>1112345547</td>\n",
       "      <td>NM5M</td>\n",
       "      <td>Senior / Semi-Senior</td>\n",
       "      <td>&lt;p&gt;En Randstad Argentina nos encontramos en bú...</td>\n",
       "      <td>Telemarketing</td>\n",
       "    </tr>\n",
       "    <tr>\n",
       "      <th>4</th>\n",
       "      <td>1112237522</td>\n",
       "      <td>5awk</td>\n",
       "      <td>Senior / Semi-Senior</td>\n",
       "      <td>&lt;p&gt;Para Empresa Pyme ubicada en zona de Barrac...</td>\n",
       "      <td>Contabilidad</td>\n",
       "    </tr>\n",
       "  </tbody>\n",
       "</table>\n",
       "</div>"
      ],
      "text/plain": [
       "      idaviso idpostulante         nivel_laboral  \\\n",
       "0  1112257047         NM5M                  Otro   \n",
       "1  1111920714         NM5M  Senior / Semi-Senior   \n",
       "2  1112346945         NM5M  Senior / Semi-Senior   \n",
       "3  1112345547         NM5M  Senior / Semi-Senior   \n",
       "4  1112237522         5awk  Senior / Semi-Senior   \n",
       "\n",
       "                                         descripcion          nombre_area  \n",
       "0  <p><strong><em><span style=\"\">En </span></em><...  Atención al Cliente  \n",
       "1  <p>En Randstad Argentina nos encontramos en bú...        Telemarketing  \n",
       "2  <p style=\"\">4 Finance, importante empresa fina...        Telemarketing  \n",
       "3  <p>En Randstad Argentina nos encontramos en bú...        Telemarketing  \n",
       "4  <p>Para Empresa Pyme ubicada en zona de Barrac...         Contabilidad  "
      ]
     },
     "execution_count": 20,
     "metadata": {},
     "output_type": "execute_result"
    }
   ],
   "source": [
    "postulaciones_por_nivel.head()"
   ]
  },
  {
   "cell_type": "markdown",
   "metadata": {},
   "source": [
    "Vemos si hay campos nulos luego del merge, debidos a que no contemos con la informacion del nivel requerido para las postulaciones que hayan realizado los aspitantes."
   ]
  },
  {
   "cell_type": "code",
   "execution_count": 21,
   "metadata": {},
   "outputs": [
    {
     "data": {
      "text/plain": [
       "idaviso          False\n",
       "idpostulante     False\n",
       "nivel_laboral     True\n",
       "descripcion       True\n",
       "nombre_area       True\n",
       "dtype: bool"
      ]
     },
     "execution_count": 21,
     "metadata": {},
     "output_type": "execute_result"
    }
   ],
   "source": [
    "postulaciones_por_nivel.isnull().any()"
   ]
  },
  {
   "cell_type": "markdown",
   "metadata": {},
   "source": [
    "Vemos que hay postulaciones en las cuales el nivel laboral no era dato, nos preguntamos cuantas son:"
   ]
  },
  {
   "cell_type": "code",
   "execution_count": 22,
   "metadata": {},
   "outputs": [
    {
     "data": {
      "text/plain": [
       "idaviso               0\n",
       "idpostulante          0\n",
       "nivel_laboral    327417\n",
       "descripcion      327417\n",
       "nombre_area      327417\n",
       "dtype: int64"
      ]
     },
     "execution_count": 22,
     "metadata": {},
     "output_type": "execute_result"
    }
   ],
   "source": [
    "postulaciones_por_nivel.isnull().sum()"
   ]
  },
  {
   "cell_type": "markdown",
   "metadata": {},
   "source": [
    "Vemos que son pocas las publicaciones que no tienen información del nivel laboral requerido, en comparacion con la cantidad total de postulaciones. "
   ]
  },
  {
   "cell_type": "markdown",
   "metadata": {},
   "source": [
    "Para poder ver la relacion entre las postulaciones y la educación realizamos un merge con el data frame educacion_postulantes:"
   ]
  },
  {
   "cell_type": "code",
   "execution_count": 12,
   "metadata": {
    "collapsed": true
   },
   "outputs": [],
   "source": [
    " postulaciones_edu_niv = pd.merge(educacion_postulantes, postulaciones_por_nivel, how='left',on='idpostulante')"
   ]
  },
  {
   "cell_type": "markdown",
   "metadata": {},
   "source": [
    "Vemos los datos nulos:"
   ]
  },
  {
   "cell_type": "code",
   "execution_count": 29,
   "metadata": {},
   "outputs": [
    {
     "data": {
      "text/plain": [
       "idpostulante     False\n",
       "nombre           False\n",
       "estado           False\n",
       "idaviso          False\n",
       "nivel_laboral     True\n",
       "descripcion       True\n",
       "nombre_area       True\n",
       "dtype: bool"
      ]
     },
     "execution_count": 29,
     "metadata": {},
     "output_type": "execute_result"
    }
   ],
   "source": [
    "postulaciones_edu_niv.isnull().any()"
   ]
  },
  {
   "cell_type": "markdown",
   "metadata": {},
   "source": [
    "Cambiamos el nombre de la columna \"nombre\" para que sea mas significativo:"
   ]
  },
  {
   "cell_type": "code",
   "execution_count": 13,
   "metadata": {
    "collapsed": true
   },
   "outputs": [],
   "source": [
    "postulaciones_edu_niv.rename(columns={'nombre': 'nivel_educacion'}, inplace = True) "
   ]
  },
  {
   "cell_type": "code",
   "execution_count": 14,
   "metadata": {},
   "outputs": [
    {
     "data": {
      "text/html": [
       "<div>\n",
       "<style>\n",
       "    .dataframe thead tr:only-child th {\n",
       "        text-align: right;\n",
       "    }\n",
       "\n",
       "    .dataframe thead th {\n",
       "        text-align: left;\n",
       "    }\n",
       "\n",
       "    .dataframe tbody tr th {\n",
       "        vertical-align: top;\n",
       "    }\n",
       "</style>\n",
       "<table border=\"1\" class=\"dataframe\">\n",
       "  <thead>\n",
       "    <tr style=\"text-align: right;\">\n",
       "      <th></th>\n",
       "      <th>idpostulante</th>\n",
       "      <th>nivel_educacion</th>\n",
       "      <th>estado</th>\n",
       "      <th>idaviso</th>\n",
       "      <th>nivel_laboral</th>\n",
       "      <th>descripcion</th>\n",
       "      <th>nombre_area</th>\n",
       "    </tr>\n",
       "  </thead>\n",
       "  <tbody>\n",
       "    <tr>\n",
       "      <th>0</th>\n",
       "      <td>NdJl</td>\n",
       "      <td>Posgrado</td>\n",
       "      <td>En Curso</td>\n",
       "      <td>1112261212</td>\n",
       "      <td>Jefe / Supervisor / Responsable</td>\n",
       "      <td>&lt;p&gt;Nos encontramos en la búsqueda de un&lt;strong...</td>\n",
       "      <td>Administración</td>\n",
       "    </tr>\n",
       "    <tr>\n",
       "      <th>1</th>\n",
       "      <td>NdJl</td>\n",
       "      <td>Posgrado</td>\n",
       "      <td>En Curso</td>\n",
       "      <td>1112273308</td>\n",
       "      <td>Jefe / Supervisor / Responsable</td>\n",
       "      <td>&lt;p style=\"\"&gt;&lt;span style=\"\"&gt;Nos encontramos en ...</td>\n",
       "      <td>Finanzas</td>\n",
       "    </tr>\n",
       "    <tr>\n",
       "      <th>2</th>\n",
       "      <td>NdJl</td>\n",
       "      <td>Posgrado</td>\n",
       "      <td>En Curso</td>\n",
       "      <td>1112281548</td>\n",
       "      <td>Gerencia / Alta Gerencia / Dirección</td>\n",
       "      <td>&lt;p&gt;Importante empresa de Diagnóstico por Imáge...</td>\n",
       "      <td>Planeamiento económico-financiero</td>\n",
       "    </tr>\n",
       "    <tr>\n",
       "      <th>3</th>\n",
       "      <td>NdJl</td>\n",
       "      <td>Posgrado</td>\n",
       "      <td>En Curso</td>\n",
       "      <td>1112260409</td>\n",
       "      <td>Senior / Semi-Senior</td>\n",
       "      <td>&lt;p&gt;En &lt;strong&gt;New Talent&lt;/strong&gt; buscamos par...</td>\n",
       "      <td>Control de Gestión</td>\n",
       "    </tr>\n",
       "    <tr>\n",
       "      <th>4</th>\n",
       "      <td>NdJl</td>\n",
       "      <td>Posgrado</td>\n",
       "      <td>En Curso</td>\n",
       "      <td>1112293547</td>\n",
       "      <td>NaN</td>\n",
       "      <td>NaN</td>\n",
       "      <td>NaN</td>\n",
       "    </tr>\n",
       "    <tr>\n",
       "      <th>5</th>\n",
       "      <td>NdJl</td>\n",
       "      <td>Posgrado</td>\n",
       "      <td>En Curso</td>\n",
       "      <td>1112287915</td>\n",
       "      <td>NaN</td>\n",
       "      <td>NaN</td>\n",
       "      <td>NaN</td>\n",
       "    </tr>\n",
       "    <tr>\n",
       "      <th>6</th>\n",
       "      <td>NdJl</td>\n",
       "      <td>Posgrado</td>\n",
       "      <td>En Curso</td>\n",
       "      <td>1112303880</td>\n",
       "      <td>Jefe / Supervisor / Responsable</td>\n",
       "      <td>&lt;p&gt;La busqueda esta orientada a personal con a...</td>\n",
       "      <td>Tesorería</td>\n",
       "    </tr>\n",
       "    <tr>\n",
       "      <th>7</th>\n",
       "      <td>NdJl</td>\n",
       "      <td>Posgrado</td>\n",
       "      <td>En Curso</td>\n",
       "      <td>1112304011</td>\n",
       "      <td>Senior / Semi-Senior</td>\n",
       "      <td>&lt;p&gt;Empresa de Gerenciamiento de Proyectos de C...</td>\n",
       "      <td>Administración</td>\n",
       "    </tr>\n",
       "    <tr>\n",
       "      <th>8</th>\n",
       "      <td>NdJl</td>\n",
       "      <td>Posgrado</td>\n",
       "      <td>En Curso</td>\n",
       "      <td>1112302347</td>\n",
       "      <td>Jefe / Supervisor / Responsable</td>\n",
       "      <td>&lt;p&gt;Empresa de telecomunicaciones incorporará a...</td>\n",
       "      <td>Impuestos</td>\n",
       "    </tr>\n",
       "    <tr>\n",
       "      <th>9</th>\n",
       "      <td>NdJl</td>\n",
       "      <td>Posgrado</td>\n",
       "      <td>En Curso</td>\n",
       "      <td>1112308241</td>\n",
       "      <td>Jefe / Supervisor / Responsable</td>\n",
       "      <td>&lt;div style=\"\"&gt;&lt;p align=\"center\" style=\"\"&gt;&lt;stro...</td>\n",
       "      <td>Administración</td>\n",
       "    </tr>\n",
       "    <tr>\n",
       "      <th>10</th>\n",
       "      <td>NdJl</td>\n",
       "      <td>Posgrado</td>\n",
       "      <td>En Curso</td>\n",
       "      <td>1112315188</td>\n",
       "      <td>Senior / Semi-Senior</td>\n",
       "      <td>&lt;p style=\"\"&gt;&lt;span style=\"\"&gt;Se requiere 3 / 4 a...</td>\n",
       "      <td>Contabilidad</td>\n",
       "    </tr>\n",
       "    <tr>\n",
       "      <th>11</th>\n",
       "      <td>NdJl</td>\n",
       "      <td>Posgrado</td>\n",
       "      <td>En Curso</td>\n",
       "      <td>1112308247</td>\n",
       "      <td>Jefe / Supervisor / Responsable</td>\n",
       "      <td>&lt;p&gt;Perfil graduado de la carrera para Contador...</td>\n",
       "      <td>Administración</td>\n",
       "    </tr>\n",
       "    <tr>\n",
       "      <th>12</th>\n",
       "      <td>NdJl</td>\n",
       "      <td>Posgrado</td>\n",
       "      <td>En Curso</td>\n",
       "      <td>1112334932</td>\n",
       "      <td>Gerencia / Alta Gerencia / Dirección</td>\n",
       "      <td>&lt;p style=\"\"&gt;&lt;span style=\"\"&gt;Para empresa multin...</td>\n",
       "      <td>Finanzas</td>\n",
       "    </tr>\n",
       "    <tr>\n",
       "      <th>13</th>\n",
       "      <td>NdJl</td>\n",
       "      <td>Posgrado</td>\n",
       "      <td>En Curso</td>\n",
       "      <td>1112306543</td>\n",
       "      <td>Senior / Semi-Senior</td>\n",
       "      <td>&lt;p&gt;Para importante empresa de origen Nacional ...</td>\n",
       "      <td>Corporate Finance / Banca Inversión</td>\n",
       "    </tr>\n",
       "    <tr>\n",
       "      <th>14</th>\n",
       "      <td>NdJl</td>\n",
       "      <td>Posgrado</td>\n",
       "      <td>En Curso</td>\n",
       "      <td>1112349723</td>\n",
       "      <td>Gerencia / Alta Gerencia / Dirección</td>\n",
       "      <td>&lt;p&gt;Importante PyME de Olivos especializada en ...</td>\n",
       "      <td>Administración</td>\n",
       "    </tr>\n",
       "    <tr>\n",
       "      <th>15</th>\n",
       "      <td>NdJl</td>\n",
       "      <td>Posgrado</td>\n",
       "      <td>En Curso</td>\n",
       "      <td>1112364750</td>\n",
       "      <td>Jefe / Supervisor / Responsable</td>\n",
       "      <td>&lt;p&gt;Importante PyME de Olivos especializada en ...</td>\n",
       "      <td>Administración</td>\n",
       "    </tr>\n",
       "    <tr>\n",
       "      <th>16</th>\n",
       "      <td>8BkL</td>\n",
       "      <td>Universitario</td>\n",
       "      <td>En Curso</td>\n",
       "      <td>1112266605</td>\n",
       "      <td>Senior / Semi-Senior</td>\n",
       "      <td>&lt;p&gt;&lt;strong&gt;&lt;span style=\"\"&gt;Thomson Reuters&lt;/spa...</td>\n",
       "      <td>Comercial</td>\n",
       "    </tr>\n",
       "    <tr>\n",
       "      <th>17</th>\n",
       "      <td>8BkL</td>\n",
       "      <td>Universitario</td>\n",
       "      <td>En Curso</td>\n",
       "      <td>1112283039</td>\n",
       "      <td>Senior / Semi-Senior</td>\n",
       "      <td>&lt;p style=\"\"&gt;Somos GIRE, empresa de servicios f...</td>\n",
       "      <td>Análisis de Riesgos</td>\n",
       "    </tr>\n",
       "    <tr>\n",
       "      <th>18</th>\n",
       "      <td>8BkL</td>\n",
       "      <td>Universitario</td>\n",
       "      <td>En Curso</td>\n",
       "      <td>1112264774</td>\n",
       "      <td>Senior / Semi-Senior</td>\n",
       "      <td>&lt;p&gt;Para Ministerio del Gobierno de la Ciudad d...</td>\n",
       "      <td>Legal</td>\n",
       "    </tr>\n",
       "    <tr>\n",
       "      <th>19</th>\n",
       "      <td>8BkL</td>\n",
       "      <td>Universitario</td>\n",
       "      <td>En Curso</td>\n",
       "      <td>1112283631</td>\n",
       "      <td>NaN</td>\n",
       "      <td>NaN</td>\n",
       "      <td>NaN</td>\n",
       "    </tr>\n",
       "    <tr>\n",
       "      <th>20</th>\n",
       "      <td>8BkL</td>\n",
       "      <td>Universitario</td>\n",
       "      <td>En Curso</td>\n",
       "      <td>1112342608</td>\n",
       "      <td>Junior</td>\n",
       "      <td>&lt;p&gt;Orientamos nuestra búsqueda a estudiantes d...</td>\n",
       "      <td>Administración</td>\n",
       "    </tr>\n",
       "    <tr>\n",
       "      <th>21</th>\n",
       "      <td>8BkL</td>\n",
       "      <td>Universitario</td>\n",
       "      <td>En Curso</td>\n",
       "      <td>1112352365</td>\n",
       "      <td>Jefe / Supervisor / Responsable</td>\n",
       "      <td>&lt;p&gt;Nos encontramos en la búsqueda de un &lt;stron...</td>\n",
       "      <td>Call Center</td>\n",
       "    </tr>\n",
       "    <tr>\n",
       "      <th>22</th>\n",
       "      <td>8BkL</td>\n",
       "      <td>Universitario</td>\n",
       "      <td>En Curso</td>\n",
       "      <td>1112351910</td>\n",
       "      <td>Senior / Semi-Senior</td>\n",
       "      <td>&lt;p style=\"\"&gt;&lt;span style=\"\"&gt;La misión será gest...</td>\n",
       "      <td>Créditos y Cobranzas</td>\n",
       "    </tr>\n",
       "    <tr>\n",
       "      <th>23</th>\n",
       "      <td>8BkL</td>\n",
       "      <td>Universitario</td>\n",
       "      <td>En Curso</td>\n",
       "      <td>1112348379</td>\n",
       "      <td>Senior / Semi-Senior</td>\n",
       "      <td>&lt;p&gt;En Diaverum, nuestra misión es mejorar la c...</td>\n",
       "      <td>Administración</td>\n",
       "    </tr>\n",
       "    <tr>\n",
       "      <th>24</th>\n",
       "      <td>8BkL</td>\n",
       "      <td>Universitario</td>\n",
       "      <td>En Curso</td>\n",
       "      <td>1112363539</td>\n",
       "      <td>Junior</td>\n",
       "      <td>&lt;p style=\"\"&gt;&lt;span style=\"\"&gt;Importante estudio ...</td>\n",
       "      <td>Legal</td>\n",
       "    </tr>\n",
       "    <tr>\n",
       "      <th>25</th>\n",
       "      <td>8BkL</td>\n",
       "      <td>Universitario</td>\n",
       "      <td>En Curso</td>\n",
       "      <td>1112355191</td>\n",
       "      <td>Junior</td>\n",
       "      <td>&lt;p style=\"\"&gt;&lt;span&gt;&lt;span style=\"\"&gt;En &lt;strong&gt;Ta...</td>\n",
       "      <td>Legal</td>\n",
       "    </tr>\n",
       "    <tr>\n",
       "      <th>26</th>\n",
       "      <td>8BkL</td>\n",
       "      <td>Universitario</td>\n",
       "      <td>En Curso</td>\n",
       "      <td>1111908252</td>\n",
       "      <td>Otro</td>\n",
       "      <td>&lt;p&gt;Obra Social Unión Personal se encuentra  en...</td>\n",
       "      <td>Legal</td>\n",
       "    </tr>\n",
       "    <tr>\n",
       "      <th>27</th>\n",
       "      <td>8BkL</td>\n",
       "      <td>Universitario</td>\n",
       "      <td>En Curso</td>\n",
       "      <td>1112149552</td>\n",
       "      <td>Junior</td>\n",
       "      <td>&lt;p&gt;SMG ART seleccionará para su Gerencia de Si...</td>\n",
       "      <td>Legal</td>\n",
       "    </tr>\n",
       "    <tr>\n",
       "      <th>28</th>\n",
       "      <td>1d2B</td>\n",
       "      <td>Universitario</td>\n",
       "      <td>En Curso</td>\n",
       "      <td>1112020573</td>\n",
       "      <td>Senior / Semi-Senior</td>\n",
       "      <td>&lt;p style=\"\"&gt;&lt;span style=\"\"&gt;Para importante com...</td>\n",
       "      <td>Administración</td>\n",
       "    </tr>\n",
       "    <tr>\n",
       "      <th>29</th>\n",
       "      <td>1d2B</td>\n",
       "      <td>Universitario</td>\n",
       "      <td>En Curso</td>\n",
       "      <td>1112337915</td>\n",
       "      <td>NaN</td>\n",
       "      <td>NaN</td>\n",
       "      <td>NaN</td>\n",
       "    </tr>\n",
       "    <tr>\n",
       "      <th>...</th>\n",
       "      <td>...</td>\n",
       "      <td>...</td>\n",
       "      <td>...</td>\n",
       "      <td>...</td>\n",
       "      <td>...</td>\n",
       "      <td>...</td>\n",
       "      <td>...</td>\n",
       "    </tr>\n",
       "    <tr>\n",
       "      <th>5528638</th>\n",
       "      <td>JBrNMZ3</td>\n",
       "      <td>Universitario</td>\n",
       "      <td>Abandonado</td>\n",
       "      <td>1112212639</td>\n",
       "      <td>Junior</td>\n",
       "      <td>&lt;p&gt;Nos encontramos en la búsqueda de jovenes p...</td>\n",
       "      <td>Administración</td>\n",
       "    </tr>\n",
       "    <tr>\n",
       "      <th>5528639</th>\n",
       "      <td>JBrNMZ3</td>\n",
       "      <td>Universitario</td>\n",
       "      <td>Abandonado</td>\n",
       "      <td>1110391074</td>\n",
       "      <td>NaN</td>\n",
       "      <td>NaN</td>\n",
       "      <td>NaN</td>\n",
       "    </tr>\n",
       "    <tr>\n",
       "      <th>5528640</th>\n",
       "      <td>JBrNMZ3</td>\n",
       "      <td>Universitario</td>\n",
       "      <td>Abandonado</td>\n",
       "      <td>1112349451</td>\n",
       "      <td>Junior</td>\n",
       "      <td>&lt;p&gt;&lt;strong&gt;¡En FRÁVEGA tenemos nuevas OPORTUNI...</td>\n",
       "      <td>Créditos y Cobranzas</td>\n",
       "    </tr>\n",
       "    <tr>\n",
       "      <th>5528641</th>\n",
       "      <td>GNZqARp</td>\n",
       "      <td>Terciario/Técnico</td>\n",
       "      <td>Abandonado</td>\n",
       "      <td>1112353575</td>\n",
       "      <td>Gerencia / Alta Gerencia / Dirección</td>\n",
       "      <td>&lt;p&gt;La búsqueda se orienta a candidatos con mas...</td>\n",
       "      <td>Gerencia / Dirección General</td>\n",
       "    </tr>\n",
       "    <tr>\n",
       "      <th>5528642</th>\n",
       "      <td>GNZqARp</td>\n",
       "      <td>Terciario/Técnico</td>\n",
       "      <td>Abandonado</td>\n",
       "      <td>1112363594</td>\n",
       "      <td>Jefe / Supervisor / Responsable</td>\n",
       "      <td>&lt;p&gt;&lt;span&gt;&lt;span style=\"\"&gt;Nos encontramos en la ...</td>\n",
       "      <td>Gerencia / Dirección General</td>\n",
       "    </tr>\n",
       "    <tr>\n",
       "      <th>5528643</th>\n",
       "      <td>GNZqARp</td>\n",
       "      <td>Terciario/Técnico</td>\n",
       "      <td>Abandonado</td>\n",
       "      <td>1112044666</td>\n",
       "      <td>Senior / Semi-Senior</td>\n",
       "      <td>&lt;p&gt;&lt;em&gt;Si buscas formar parte del área comerci...</td>\n",
       "      <td>Comercial</td>\n",
       "    </tr>\n",
       "    <tr>\n",
       "      <th>5528644</th>\n",
       "      <td>GNZqARp</td>\n",
       "      <td>Terciario/Técnico</td>\n",
       "      <td>Abandonado</td>\n",
       "      <td>1112239103</td>\n",
       "      <td>Jefe / Supervisor / Responsable</td>\n",
       "      <td>&lt;p&gt;Reconocida Empresa del rubro Retail se encu...</td>\n",
       "      <td>Atención al Cliente</td>\n",
       "    </tr>\n",
       "    <tr>\n",
       "      <th>5528645</th>\n",
       "      <td>GNZqARp</td>\n",
       "      <td>Terciario/Técnico</td>\n",
       "      <td>Abandonado</td>\n",
       "      <td>1112361432</td>\n",
       "      <td>Senior / Semi-Senior</td>\n",
       "      <td>&lt;p&gt;Para nuestra sucursal del Shopping en la ci...</td>\n",
       "      <td>Ventas</td>\n",
       "    </tr>\n",
       "    <tr>\n",
       "      <th>5528646</th>\n",
       "      <td>ow2p8vk</td>\n",
       "      <td>Universitario</td>\n",
       "      <td>Abandonado</td>\n",
       "      <td>1112368214</td>\n",
       "      <td>Junior</td>\n",
       "      <td>&lt;p&gt;Si querés sumarte a un equipo talentoso, lí...</td>\n",
       "      <td>Pasantía / Trainee</td>\n",
       "    </tr>\n",
       "    <tr>\n",
       "      <th>5528647</th>\n",
       "      <td>6rPEvwv</td>\n",
       "      <td>Universitario</td>\n",
       "      <td>Abandonado</td>\n",
       "      <td>1112338122</td>\n",
       "      <td>Senior / Semi-Senior</td>\n",
       "      <td>&lt;p style=\"\"&gt;Para importate industria, seleccio...</td>\n",
       "      <td>Abastecimiento</td>\n",
       "    </tr>\n",
       "    <tr>\n",
       "      <th>5528648</th>\n",
       "      <td>6rPEvwv</td>\n",
       "      <td>Universitario</td>\n",
       "      <td>Abandonado</td>\n",
       "      <td>1112341981</td>\n",
       "      <td>Senior / Semi-Senior</td>\n",
       "      <td>&lt;p&gt;Estamos buscando un  ADMINISTRATIVO PARA CO...</td>\n",
       "      <td>Administración</td>\n",
       "    </tr>\n",
       "    <tr>\n",
       "      <th>5528649</th>\n",
       "      <td>6rPEvwv</td>\n",
       "      <td>Universitario</td>\n",
       "      <td>Abandonado</td>\n",
       "      <td>1112352017</td>\n",
       "      <td>Senior / Semi-Senior</td>\n",
       "      <td>&lt;p&gt;Importante industria alimenticia ubicada en...</td>\n",
       "      <td>Producción</td>\n",
       "    </tr>\n",
       "    <tr>\n",
       "      <th>5528650</th>\n",
       "      <td>6rPEvwv</td>\n",
       "      <td>Universitario</td>\n",
       "      <td>Abandonado</td>\n",
       "      <td>1112339621</td>\n",
       "      <td>Otro</td>\n",
       "      <td>&lt;p style=\"\"&gt;&lt;span style=\"\"&gt;Adecco Industrial e...</td>\n",
       "      <td>Producción</td>\n",
       "    </tr>\n",
       "    <tr>\n",
       "      <th>5528651</th>\n",
       "      <td>6rPEvwv</td>\n",
       "      <td>Universitario</td>\n",
       "      <td>Abandonado</td>\n",
       "      <td>1112336894</td>\n",
       "      <td>Senior / Semi-Senior</td>\n",
       "      <td>&lt;p&gt;Para importante empresa de consumo masivo, ...</td>\n",
       "      <td>Abastecimiento</td>\n",
       "    </tr>\n",
       "    <tr>\n",
       "      <th>5528652</th>\n",
       "      <td>6rPEvwv</td>\n",
       "      <td>Universitario</td>\n",
       "      <td>Abandonado</td>\n",
       "      <td>1112323293</td>\n",
       "      <td>Junior</td>\n",
       "      <td>&lt;p&gt;&lt;strong&gt;Adecco Outsourcing&lt;/strong&gt; es la l...</td>\n",
       "      <td>Producción</td>\n",
       "    </tr>\n",
       "    <tr>\n",
       "      <th>5528653</th>\n",
       "      <td>6rPEvwv</td>\n",
       "      <td>Universitario</td>\n",
       "      <td>Abandonado</td>\n",
       "      <td>1112367927</td>\n",
       "      <td>Senior / Semi-Senior</td>\n",
       "      <td>&lt;p style=\"\"&gt;&lt;strong&gt;&lt;span style=\"\"&gt;Manpower &lt;/...</td>\n",
       "      <td>Almacén / Depósito / Expedición</td>\n",
       "    </tr>\n",
       "    <tr>\n",
       "      <th>5528654</th>\n",
       "      <td>6rPEvwv</td>\n",
       "      <td>Universitario</td>\n",
       "      <td>Abandonado</td>\n",
       "      <td>1112341117</td>\n",
       "      <td>Junior</td>\n",
       "      <td>&lt;p style=\"\"&gt;Somos un grupo de bodegas argentin...</td>\n",
       "      <td>Ventas</td>\n",
       "    </tr>\n",
       "    <tr>\n",
       "      <th>5528655</th>\n",
       "      <td>6rPEvwv</td>\n",
       "      <td>Universitario</td>\n",
       "      <td>Abandonado</td>\n",
       "      <td>1112319095</td>\n",
       "      <td>Senior / Semi-Senior</td>\n",
       "      <td>&lt;p&gt;Para importante empresa de consumo masivo, ...</td>\n",
       "      <td>Abastecimiento</td>\n",
       "    </tr>\n",
       "    <tr>\n",
       "      <th>5528656</th>\n",
       "      <td>6rPEvwv</td>\n",
       "      <td>Universitario</td>\n",
       "      <td>Abandonado</td>\n",
       "      <td>1112316663</td>\n",
       "      <td>Senior / Semi-Senior</td>\n",
       "      <td>&lt;p&gt;Importante Empresa de Pilar se encuentra en...</td>\n",
       "      <td>Farmacéutica</td>\n",
       "    </tr>\n",
       "    <tr>\n",
       "      <th>5528657</th>\n",
       "      <td>6rPEvwv</td>\n",
       "      <td>Universitario</td>\n",
       "      <td>Abandonado</td>\n",
       "      <td>1112355448</td>\n",
       "      <td>Senior / Semi-Senior</td>\n",
       "      <td>&lt;p&gt;Reconocido Concesionario Oficial Renault in...</td>\n",
       "      <td>Oficios y Profesiones</td>\n",
       "    </tr>\n",
       "    <tr>\n",
       "      <th>5528658</th>\n",
       "      <td>vVja45X</td>\n",
       "      <td>Universitario</td>\n",
       "      <td>Abandonado</td>\n",
       "      <td>1112359520</td>\n",
       "      <td>NaN</td>\n",
       "      <td>NaN</td>\n",
       "      <td>NaN</td>\n",
       "    </tr>\n",
       "    <tr>\n",
       "      <th>5528659</th>\n",
       "      <td>1QPMbX3</td>\n",
       "      <td>Universitario</td>\n",
       "      <td>Abandonado</td>\n",
       "      <td>1112369739</td>\n",
       "      <td>Senior / Semi-Senior</td>\n",
       "      <td>&lt;p&gt;Nos encontramos en la búsqueda de nuevos ta...</td>\n",
       "      <td>Ventas</td>\n",
       "    </tr>\n",
       "    <tr>\n",
       "      <th>5528660</th>\n",
       "      <td>1QPMbX3</td>\n",
       "      <td>Universitario</td>\n",
       "      <td>Abandonado</td>\n",
       "      <td>1111732991</td>\n",
       "      <td>Senior / Semi-Senior</td>\n",
       "      <td>&lt;p&gt;Nuestro cliente, importante inmobiliaria de...</td>\n",
       "      <td>Comercial</td>\n",
       "    </tr>\n",
       "    <tr>\n",
       "      <th>5528661</th>\n",
       "      <td>1QPMbX3</td>\n",
       "      <td>Universitario</td>\n",
       "      <td>Abandonado</td>\n",
       "      <td>1112350030</td>\n",
       "      <td>Senior / Semi-Senior</td>\n",
       "      <td>&lt;p&gt;Trilenium Casino, es el centro de entreteni...</td>\n",
       "      <td>Marketing</td>\n",
       "    </tr>\n",
       "    <tr>\n",
       "      <th>5528662</th>\n",
       "      <td>1QPMbX3</td>\n",
       "      <td>Universitario</td>\n",
       "      <td>Abandonado</td>\n",
       "      <td>1112366913</td>\n",
       "      <td>Senior / Semi-Senior</td>\n",
       "      <td>&lt;p&gt;Nos encontramos en la búsqueda de nuevos ta...</td>\n",
       "      <td>Ventas</td>\n",
       "    </tr>\n",
       "    <tr>\n",
       "      <th>5528663</th>\n",
       "      <td>1QPMbX3</td>\n",
       "      <td>Universitario</td>\n",
       "      <td>Abandonado</td>\n",
       "      <td>1112366611</td>\n",
       "      <td>Senior / Semi-Senior</td>\n",
       "      <td>&lt;p&gt;Nos encontramos en la búsqueda de CAPACITAD...</td>\n",
       "      <td>Servicios</td>\n",
       "    </tr>\n",
       "    <tr>\n",
       "      <th>5528664</th>\n",
       "      <td>1QPMbX3</td>\n",
       "      <td>Universitario</td>\n",
       "      <td>Abandonado</td>\n",
       "      <td>1112334662</td>\n",
       "      <td>Otro</td>\n",
       "      <td>&lt;p&gt;&lt;strong&gt;CÓMO FUNCIONA:&lt;br /&gt;&lt;br /&gt;&lt;/strong&gt;...</td>\n",
       "      <td>Otros</td>\n",
       "    </tr>\n",
       "    <tr>\n",
       "      <th>5528665</th>\n",
       "      <td>1QPMbX3</td>\n",
       "      <td>Universitario</td>\n",
       "      <td>Abandonado</td>\n",
       "      <td>1112354320</td>\n",
       "      <td>Senior / Semi-Senior</td>\n",
       "      <td>&lt;p&gt;&lt;strong&gt;  PROPUESTA:&lt;/strong&gt;&lt;/p&gt;&lt;p&gt;Estamos...</td>\n",
       "      <td>Desarrollo de Negocios</td>\n",
       "    </tr>\n",
       "    <tr>\n",
       "      <th>5528666</th>\n",
       "      <td>1QPMbX3</td>\n",
       "      <td>Universitario</td>\n",
       "      <td>Abandonado</td>\n",
       "      <td>1112360579</td>\n",
       "      <td>Senior / Semi-Senior</td>\n",
       "      <td>&lt;p style=\"\"&gt;&lt;strong&gt;&lt;u&gt;&lt;span style=\"\"&gt;Requisit...</td>\n",
       "      <td>Mantenimiento y Limpieza</td>\n",
       "    </tr>\n",
       "    <tr>\n",
       "      <th>5528667</th>\n",
       "      <td>1QPMbX3</td>\n",
       "      <td>Universitario</td>\n",
       "      <td>Abandonado</td>\n",
       "      <td>1112359520</td>\n",
       "      <td>NaN</td>\n",
       "      <td>NaN</td>\n",
       "      <td>NaN</td>\n",
       "    </tr>\n",
       "  </tbody>\n",
       "</table>\n",
       "<p>5528668 rows × 7 columns</p>\n",
       "</div>"
      ],
      "text/plain": [
       "        idpostulante    nivel_educacion      estado     idaviso  \\\n",
       "0               NdJl           Posgrado    En Curso  1112261212   \n",
       "1               NdJl           Posgrado    En Curso  1112273308   \n",
       "2               NdJl           Posgrado    En Curso  1112281548   \n",
       "3               NdJl           Posgrado    En Curso  1112260409   \n",
       "4               NdJl           Posgrado    En Curso  1112293547   \n",
       "5               NdJl           Posgrado    En Curso  1112287915   \n",
       "6               NdJl           Posgrado    En Curso  1112303880   \n",
       "7               NdJl           Posgrado    En Curso  1112304011   \n",
       "8               NdJl           Posgrado    En Curso  1112302347   \n",
       "9               NdJl           Posgrado    En Curso  1112308241   \n",
       "10              NdJl           Posgrado    En Curso  1112315188   \n",
       "11              NdJl           Posgrado    En Curso  1112308247   \n",
       "12              NdJl           Posgrado    En Curso  1112334932   \n",
       "13              NdJl           Posgrado    En Curso  1112306543   \n",
       "14              NdJl           Posgrado    En Curso  1112349723   \n",
       "15              NdJl           Posgrado    En Curso  1112364750   \n",
       "16              8BkL      Universitario    En Curso  1112266605   \n",
       "17              8BkL      Universitario    En Curso  1112283039   \n",
       "18              8BkL      Universitario    En Curso  1112264774   \n",
       "19              8BkL      Universitario    En Curso  1112283631   \n",
       "20              8BkL      Universitario    En Curso  1112342608   \n",
       "21              8BkL      Universitario    En Curso  1112352365   \n",
       "22              8BkL      Universitario    En Curso  1112351910   \n",
       "23              8BkL      Universitario    En Curso  1112348379   \n",
       "24              8BkL      Universitario    En Curso  1112363539   \n",
       "25              8BkL      Universitario    En Curso  1112355191   \n",
       "26              8BkL      Universitario    En Curso  1111908252   \n",
       "27              8BkL      Universitario    En Curso  1112149552   \n",
       "28              1d2B      Universitario    En Curso  1112020573   \n",
       "29              1d2B      Universitario    En Curso  1112337915   \n",
       "...              ...                ...         ...         ...   \n",
       "5528638      JBrNMZ3      Universitario  Abandonado  1112212639   \n",
       "5528639      JBrNMZ3      Universitario  Abandonado  1110391074   \n",
       "5528640      JBrNMZ3      Universitario  Abandonado  1112349451   \n",
       "5528641      GNZqARp  Terciario/Técnico  Abandonado  1112353575   \n",
       "5528642      GNZqARp  Terciario/Técnico  Abandonado  1112363594   \n",
       "5528643      GNZqARp  Terciario/Técnico  Abandonado  1112044666   \n",
       "5528644      GNZqARp  Terciario/Técnico  Abandonado  1112239103   \n",
       "5528645      GNZqARp  Terciario/Técnico  Abandonado  1112361432   \n",
       "5528646      ow2p8vk      Universitario  Abandonado  1112368214   \n",
       "5528647      6rPEvwv      Universitario  Abandonado  1112338122   \n",
       "5528648      6rPEvwv      Universitario  Abandonado  1112341981   \n",
       "5528649      6rPEvwv      Universitario  Abandonado  1112352017   \n",
       "5528650      6rPEvwv      Universitario  Abandonado  1112339621   \n",
       "5528651      6rPEvwv      Universitario  Abandonado  1112336894   \n",
       "5528652      6rPEvwv      Universitario  Abandonado  1112323293   \n",
       "5528653      6rPEvwv      Universitario  Abandonado  1112367927   \n",
       "5528654      6rPEvwv      Universitario  Abandonado  1112341117   \n",
       "5528655      6rPEvwv      Universitario  Abandonado  1112319095   \n",
       "5528656      6rPEvwv      Universitario  Abandonado  1112316663   \n",
       "5528657      6rPEvwv      Universitario  Abandonado  1112355448   \n",
       "5528658      vVja45X      Universitario  Abandonado  1112359520   \n",
       "5528659      1QPMbX3      Universitario  Abandonado  1112369739   \n",
       "5528660      1QPMbX3      Universitario  Abandonado  1111732991   \n",
       "5528661      1QPMbX3      Universitario  Abandonado  1112350030   \n",
       "5528662      1QPMbX3      Universitario  Abandonado  1112366913   \n",
       "5528663      1QPMbX3      Universitario  Abandonado  1112366611   \n",
       "5528664      1QPMbX3      Universitario  Abandonado  1112334662   \n",
       "5528665      1QPMbX3      Universitario  Abandonado  1112354320   \n",
       "5528666      1QPMbX3      Universitario  Abandonado  1112360579   \n",
       "5528667      1QPMbX3      Universitario  Abandonado  1112359520   \n",
       "\n",
       "                                nivel_laboral  \\\n",
       "0             Jefe / Supervisor / Responsable   \n",
       "1             Jefe / Supervisor / Responsable   \n",
       "2        Gerencia / Alta Gerencia / Dirección   \n",
       "3                        Senior / Semi-Senior   \n",
       "4                                         NaN   \n",
       "5                                         NaN   \n",
       "6             Jefe / Supervisor / Responsable   \n",
       "7                        Senior / Semi-Senior   \n",
       "8             Jefe / Supervisor / Responsable   \n",
       "9             Jefe / Supervisor / Responsable   \n",
       "10                       Senior / Semi-Senior   \n",
       "11            Jefe / Supervisor / Responsable   \n",
       "12       Gerencia / Alta Gerencia / Dirección   \n",
       "13                       Senior / Semi-Senior   \n",
       "14       Gerencia / Alta Gerencia / Dirección   \n",
       "15            Jefe / Supervisor / Responsable   \n",
       "16                       Senior / Semi-Senior   \n",
       "17                       Senior / Semi-Senior   \n",
       "18                       Senior / Semi-Senior   \n",
       "19                                        NaN   \n",
       "20                                     Junior   \n",
       "21            Jefe / Supervisor / Responsable   \n",
       "22                       Senior / Semi-Senior   \n",
       "23                       Senior / Semi-Senior   \n",
       "24                                     Junior   \n",
       "25                                     Junior   \n",
       "26                                       Otro   \n",
       "27                                     Junior   \n",
       "28                       Senior / Semi-Senior   \n",
       "29                                        NaN   \n",
       "...                                       ...   \n",
       "5528638                                Junior   \n",
       "5528639                                   NaN   \n",
       "5528640                                Junior   \n",
       "5528641  Gerencia / Alta Gerencia / Dirección   \n",
       "5528642       Jefe / Supervisor / Responsable   \n",
       "5528643                  Senior / Semi-Senior   \n",
       "5528644       Jefe / Supervisor / Responsable   \n",
       "5528645                  Senior / Semi-Senior   \n",
       "5528646                                Junior   \n",
       "5528647                  Senior / Semi-Senior   \n",
       "5528648                  Senior / Semi-Senior   \n",
       "5528649                  Senior / Semi-Senior   \n",
       "5528650                                  Otro   \n",
       "5528651                  Senior / Semi-Senior   \n",
       "5528652                                Junior   \n",
       "5528653                  Senior / Semi-Senior   \n",
       "5528654                                Junior   \n",
       "5528655                  Senior / Semi-Senior   \n",
       "5528656                  Senior / Semi-Senior   \n",
       "5528657                  Senior / Semi-Senior   \n",
       "5528658                                   NaN   \n",
       "5528659                  Senior / Semi-Senior   \n",
       "5528660                  Senior / Semi-Senior   \n",
       "5528661                  Senior / Semi-Senior   \n",
       "5528662                  Senior / Semi-Senior   \n",
       "5528663                  Senior / Semi-Senior   \n",
       "5528664                                  Otro   \n",
       "5528665                  Senior / Semi-Senior   \n",
       "5528666                  Senior / Semi-Senior   \n",
       "5528667                                   NaN   \n",
       "\n",
       "                                               descripcion  \\\n",
       "0        <p>Nos encontramos en la búsqueda de un<strong...   \n",
       "1        <p style=\"\"><span style=\"\">Nos encontramos en ...   \n",
       "2        <p>Importante empresa de Diagnóstico por Imáge...   \n",
       "3        <p>En <strong>New Talent</strong> buscamos par...   \n",
       "4                                                      NaN   \n",
       "5                                                      NaN   \n",
       "6        <p>La busqueda esta orientada a personal con a...   \n",
       "7        <p>Empresa de Gerenciamiento de Proyectos de C...   \n",
       "8        <p>Empresa de telecomunicaciones incorporará a...   \n",
       "9        <div style=\"\"><p align=\"center\" style=\"\"><stro...   \n",
       "10       <p style=\"\"><span style=\"\">Se requiere 3 / 4 a...   \n",
       "11       <p>Perfil graduado de la carrera para Contador...   \n",
       "12       <p style=\"\"><span style=\"\">Para empresa multin...   \n",
       "13       <p>Para importante empresa de origen Nacional ...   \n",
       "14       <p>Importante PyME de Olivos especializada en ...   \n",
       "15       <p>Importante PyME de Olivos especializada en ...   \n",
       "16       <p><strong><span style=\"\">Thomson Reuters</spa...   \n",
       "17       <p style=\"\">Somos GIRE, empresa de servicios f...   \n",
       "18       <p>Para Ministerio del Gobierno de la Ciudad d...   \n",
       "19                                                     NaN   \n",
       "20       <p>Orientamos nuestra búsqueda a estudiantes d...   \n",
       "21       <p>Nos encontramos en la búsqueda de un <stron...   \n",
       "22       <p style=\"\"><span style=\"\">La misión será gest...   \n",
       "23       <p>En Diaverum, nuestra misión es mejorar la c...   \n",
       "24       <p style=\"\"><span style=\"\">Importante estudio ...   \n",
       "25       <p style=\"\"><span><span style=\"\">En <strong>Ta...   \n",
       "26       <p>Obra Social Unión Personal se encuentra  en...   \n",
       "27       <p>SMG ART seleccionará para su Gerencia de Si...   \n",
       "28       <p style=\"\"><span style=\"\">Para importante com...   \n",
       "29                                                     NaN   \n",
       "...                                                    ...   \n",
       "5528638  <p>Nos encontramos en la búsqueda de jovenes p...   \n",
       "5528639                                                NaN   \n",
       "5528640  <p><strong>¡En FRÁVEGA tenemos nuevas OPORTUNI...   \n",
       "5528641  <p>La búsqueda se orienta a candidatos con mas...   \n",
       "5528642  <p><span><span style=\"\">Nos encontramos en la ...   \n",
       "5528643  <p><em>Si buscas formar parte del área comerci...   \n",
       "5528644  <p>Reconocida Empresa del rubro Retail se encu...   \n",
       "5528645  <p>Para nuestra sucursal del Shopping en la ci...   \n",
       "5528646  <p>Si querés sumarte a un equipo talentoso, lí...   \n",
       "5528647  <p style=\"\">Para importate industria, seleccio...   \n",
       "5528648  <p>Estamos buscando un  ADMINISTRATIVO PARA CO...   \n",
       "5528649  <p>Importante industria alimenticia ubicada en...   \n",
       "5528650  <p style=\"\"><span style=\"\">Adecco Industrial e...   \n",
       "5528651  <p>Para importante empresa de consumo masivo, ...   \n",
       "5528652  <p><strong>Adecco Outsourcing</strong> es la l...   \n",
       "5528653  <p style=\"\"><strong><span style=\"\">Manpower </...   \n",
       "5528654  <p style=\"\">Somos un grupo de bodegas argentin...   \n",
       "5528655  <p>Para importante empresa de consumo masivo, ...   \n",
       "5528656  <p>Importante Empresa de Pilar se encuentra en...   \n",
       "5528657  <p>Reconocido Concesionario Oficial Renault in...   \n",
       "5528658                                                NaN   \n",
       "5528659  <p>Nos encontramos en la búsqueda de nuevos ta...   \n",
       "5528660  <p>Nuestro cliente, importante inmobiliaria de...   \n",
       "5528661  <p>Trilenium Casino, es el centro de entreteni...   \n",
       "5528662  <p>Nos encontramos en la búsqueda de nuevos ta...   \n",
       "5528663  <p>Nos encontramos en la búsqueda de CAPACITAD...   \n",
       "5528664  <p><strong>CÓMO FUNCIONA:<br /><br /></strong>...   \n",
       "5528665  <p><strong>  PROPUESTA:</strong></p><p>Estamos...   \n",
       "5528666  <p style=\"\"><strong><u><span style=\"\">Requisit...   \n",
       "5528667                                                NaN   \n",
       "\n",
       "                                 nombre_area  \n",
       "0                             Administración  \n",
       "1                                   Finanzas  \n",
       "2          Planeamiento económico-financiero  \n",
       "3                         Control de Gestión  \n",
       "4                                        NaN  \n",
       "5                                        NaN  \n",
       "6                                  Tesorería  \n",
       "7                             Administración  \n",
       "8                                  Impuestos  \n",
       "9                             Administración  \n",
       "10                              Contabilidad  \n",
       "11                            Administración  \n",
       "12                                  Finanzas  \n",
       "13       Corporate Finance / Banca Inversión  \n",
       "14                            Administración  \n",
       "15                            Administración  \n",
       "16                                 Comercial  \n",
       "17                       Análisis de Riesgos  \n",
       "18                                     Legal  \n",
       "19                                       NaN  \n",
       "20                            Administración  \n",
       "21                               Call Center  \n",
       "22                      Créditos y Cobranzas  \n",
       "23                            Administración  \n",
       "24                                     Legal  \n",
       "25                                     Legal  \n",
       "26                                     Legal  \n",
       "27                                     Legal  \n",
       "28                            Administración  \n",
       "29                                       NaN  \n",
       "...                                      ...  \n",
       "5528638                       Administración  \n",
       "5528639                                  NaN  \n",
       "5528640                 Créditos y Cobranzas  \n",
       "5528641         Gerencia / Dirección General  \n",
       "5528642         Gerencia / Dirección General  \n",
       "5528643                            Comercial  \n",
       "5528644                  Atención al Cliente  \n",
       "5528645                               Ventas  \n",
       "5528646                   Pasantía / Trainee  \n",
       "5528647                       Abastecimiento  \n",
       "5528648                       Administración  \n",
       "5528649                           Producción  \n",
       "5528650                           Producción  \n",
       "5528651                       Abastecimiento  \n",
       "5528652                           Producción  \n",
       "5528653      Almacén / Depósito / Expedición  \n",
       "5528654                               Ventas  \n",
       "5528655                       Abastecimiento  \n",
       "5528656                         Farmacéutica  \n",
       "5528657                Oficios y Profesiones  \n",
       "5528658                                  NaN  \n",
       "5528659                               Ventas  \n",
       "5528660                            Comercial  \n",
       "5528661                            Marketing  \n",
       "5528662                               Ventas  \n",
       "5528663                            Servicios  \n",
       "5528664                                Otros  \n",
       "5528665               Desarrollo de Negocios  \n",
       "5528666             Mantenimiento y Limpieza  \n",
       "5528667                                  NaN  \n",
       "\n",
       "[5528668 rows x 7 columns]"
      ]
     },
     "execution_count": 14,
     "metadata": {},
     "output_type": "execute_result"
    }
   ],
   "source": [
    "postulaciones_edu_niv"
   ]
  },
  {
   "cell_type": "markdown",
   "metadata": {},
   "source": [
    "Vemos cuales son los diferentes niveles de educación que tienen los postulantes:"
   ]
  },
  {
   "cell_type": "code",
   "execution_count": 18,
   "metadata": {},
   "outputs": [
    {
     "data": {
      "text/plain": [
       "Secundario           2060789\n",
       "Universitario        1916208\n",
       "Terciario/Técnico     864464\n",
       "Otro                  508217\n",
       "Posgrado              116924\n",
       "Master                 58514\n",
       "Doctorado               3552\n",
       "Name: nivel_educacion, dtype: int64"
      ]
     },
     "execution_count": 18,
     "metadata": {},
     "output_type": "execute_result"
    }
   ],
   "source": [
    "postulaciones_edu_niv['nivel_educacion'].value_counts()"
   ]
  },
  {
   "cell_type": "markdown",
   "metadata": {},
   "source": [
    "Para tener una mejor apreciacion procedemos a hacer un plot de estos datos:"
   ]
  },
  {
   "cell_type": "code",
   "execution_count": 17,
   "metadata": {},
   "outputs": [
    {
     "data": {
      "text/plain": [
       "<matplotlib.axes._subplots.AxesSubplot at 0xa54782ac>"
      ]
     },
     "execution_count": 17,
     "metadata": {},
     "output_type": "execute_result"
    },
    {
     "data": {
      "image/png": "[encoded data removed]",
      "text/plain": [
       "<matplotlib.figure.Figure at 0xaa0665ec>"
      ]
     },
     "metadata": {},
     "output_type": "display_data"
    }
   ],
   "source": [
    "postulaciones_edu_niv['nivel_educacion'].value_counts().plot(kind='bar',color='pink')"
   ]
  },
  {
   "cell_type": "markdown",
   "metadata": {
    "collapsed": true
   },
   "source": [
    "En primer instancia vemos que los principales postulantes tienen un nivel de estudio no superior a la secuandaria, o quienes tienen o tuvieron  un nivel universitario. "
   ]
  },
  {
   "cell_type": "markdown",
   "metadata": {},
   "source": [
    "Nos preguntamos que niveles laborales se ofrecen:"
   ]
  },
  {
   "cell_type": "code",
   "execution_count": 20,
   "metadata": {},
   "outputs": [
    {
     "data": {
      "text/plain": [
       "Senior / Semi-Senior                    3281285\n",
       "Junior                                  1147393\n",
       "Otro                                     395753\n",
       "Jefe / Supervisor / Responsable          144716\n",
       "Gerencia / Alta Gerencia / Dirección      43025\n",
       "Name: nivel_laboral, dtype: int64"
      ]
     },
     "execution_count": 20,
     "metadata": {},
     "output_type": "execute_result"
    }
   ],
   "source": [
    "postulaciones_edu_niv['nivel_laboral'].value_counts()"
   ]
  },
  {
   "cell_type": "code",
   "execution_count": 21,
   "metadata": {},
   "outputs": [
    {
     "data": {
      "text/plain": [
       "<matplotlib.axes._subplots.AxesSubplot at 0x9f37edac>"
      ]
     },
     "execution_count": 21,
     "metadata": {},
     "output_type": "execute_result"
    },
    {
     "data": {
      "image/png": "[encoded data removed]",
      "text/plain": [
       "<matplotlib.figure.Figure at 0xa9e7c54c>"
      ]
     },
     "metadata": {},
     "output_type": "display_data"
    }
   ],
   "source": [
    "postulaciones_edu_niv['nivel_laboral'].value_counts().plot(kind='bar',color='green')"
   ]
  },
  {
   "cell_type": "markdown",
   "metadata": {},
   "source": [
    "Vemos que hay mayor postulaciones a puestps de Senior o Semi-Senior"
   ]
  },
  {
   "cell_type": "markdown",
   "metadata": {},
   "source": [
    "Nos preguntamos si las postulaciones a los cargos de mayor jerarquia se dan para personas con mayor nivel educativo, para ello procedemos a agrupar por nivel_laboral:"
   ]
  },
  {
   "cell_type": "code",
   "execution_count": 36,
   "metadata": {},
   "outputs": [],
   "source": [
    "postulaciones_por_nivel_laboral = postulaciones_edu_niv.groupby('nivel_laboral')"
   ]
  },
  {
   "cell_type": "code",
   "execution_count": 51,
   "metadata": {
    "scrolled": true
   },
   "outputs": [
    {
     "data": {
      "text/plain": [
       "<matplotlib.axes._subplots.AxesSubplot at 0xa97721ec>"
      ]
     },
     "execution_count": 51,
     "metadata": {},
     "output_type": "execute_result"
    },
    {
     "data": {
      "image/png": "[encoded data removed]",
      "text/plain": [
       "<matplotlib.figure.Figure at 0xa98a4d0c>"
      ]
     },
     "metadata": {},
     "output_type": "display_data"
    }
   ],
   "source": [
    "postulaciones_para_senior = postulaciones_por_nivel_laboral.get_group('Senior / Semi-Senior')['nivel_educacion'].value_counts().plot(kind='bar', title = \"Nivel de educación de los postulantes a Senior/Semi-Senior\", color = 'red')\n",
    "postulaciones_para_senior.set_xlabel('Nivel de estudios')\n",
    "postulaciones_para_senior.set_ylabel('Cantidad de postulaciones')\n",
    "\n"
   ]
  },
  {
   "cell_type": "markdown",
   "metadata": {},
   "source": [
    "Vemos que los mas propensos a postularse a cargos de Senior o Semi-Senior son aquellos que tienen un nivel secundario y universitario."
   ]
  },
  {
   "cell_type": "code",
   "execution_count": 53,
   "metadata": {},
   "outputs": [
    {
     "data": {
      "text/plain": [
       "<matplotlib.text.Text at 0xa95c95ec>"
      ]
     },
     "execution_count": 53,
     "metadata": {},
     "output_type": "execute_result"
    },
    {
     "data": {
      "image/png": "[encoded data removed]",
      "text/plain": [
       "<matplotlib.figure.Figure at 0xa97d702c>"
      ]
     },
     "metadata": {},
     "output_type": "display_data"
    }
   ],
   "source": [
    "postulaciones_para_Junior = postulaciones_por_nivel_laboral.get_group('Junior')['nivel_educacion'].value_counts().plot(kind='bar', title = \"Nivel de educación de los postulantes a Junior\", color = 'orange')\n",
    "postulaciones_para_Junior.set_xlabel('Nivel de estudios')\n",
    "postulaciones_para_Junior.set_ylabel('Cantidad de postulaciones')\n",
    "\n"
   ]
  },
  {
   "cell_type": "markdown",
   "metadata": {},
   "source": [
    "Se repite el mismo caso para Junior."
   ]
  },
  {
   "cell_type": "code",
   "execution_count": 58,
   "metadata": {},
   "outputs": [
    {
     "data": {
      "text/plain": [
       "<matplotlib.text.Text at 0xa8c1fa4c>"
      ]
     },
     "execution_count": 58,
     "metadata": {},
     "output_type": "execute_result"
    },
    {
     "data": {
      "image/png": "[encoded data removed]",
      "text/plain": [
       "<matplotlib.figure.Figure at 0xa8b5d8ac>"
      ]
     },
     "metadata": {},
     "output_type": "display_data"
    }
   ],
   "source": [
    "postulaciones_para_Jefe = postulaciones_por_nivel_laboral.get_group('Jefe / Supervisor / Responsable')['nivel_educacion'].value_counts().plot(kind='bar', title = \"Nivel de educación de los postulantes a Jefe / Supervisor / Responsable\", color = 'yellow')\n",
    "postulaciones_para_Jefe.set_xlabel('Nivel de estudios')\n",
    "postulaciones_para_Jefe.set_ylabel('Cantidad de postulaciones')\n",
    "\n"
   ]
  },
  {
   "cell_type": "code",
   "execution_count": 61,
   "metadata": {
    "scrolled": true
   },
   "outputs": [
    {
     "data": {
      "text/plain": [
       "<matplotlib.text.Text at 0xa888a24c>"
      ]
     },
     "execution_count": 61,
     "metadata": {},
     "output_type": "execute_result"
    },
    {
     "data": {
      "image/png": "[encoded data removed]",
      "text/plain": [
       "<matplotlib.figure.Figure at 0xa88875ec>"
      ]
     },
     "metadata": {},
     "output_type": "display_data"
    }
   ],
   "source": [
    "postulaciones_para_gerencia = postulaciones_por_nivel_laboral.get_group('Gerencia / Alta Gerencia / Dirección')['nivel_educacion'].value_counts().plot(kind='bar', title = \"Nivel de educación de los postulantes a Gerencia / Alta Gerencia / Dirección\", color = 'c')\n",
    "postulaciones_para_gerencia.set_xlabel('Nivel de estudios')\n",
    "postulaciones_para_gerencia.set_ylabel('Cantidad de postulaciones')\n"
   ]
  },
  {
   "cell_type": "markdown",
   "metadata": {},
   "source": [
    "Para puestos Gerenciales observamos que con mayor frecuencia son los universitarios quienes se postulan."
   ]
  },
  {
   "cell_type": "code",
   "execution_count": 62,
   "metadata": {},
   "outputs": [
    {
     "data": {
      "text/plain": [
       "<matplotlib.text.Text at 0xa8db640c>"
      ]
     },
     "execution_count": 62,
     "metadata": {},
     "output_type": "execute_result"
    },
    {
     "data": {
      "image/png": "[encoded data removed]",
      "text/plain": [
       "<matplotlib.figure.Figure at 0xa89a42cc>"
      ]
     },
     "metadata": {},
     "output_type": "display_data"
    }
   ],
   "source": [
    "postulaciones_para_otro = postulaciones_por_nivel_laboral.get_group('Otro')['nivel_educacion'].value_counts().plot(kind='bar', title = \"Nivel de educación de los postulantes a Otro\", color = 'm')\n",
    "postulaciones_para_otro.set_xlabel('Nivel de estudios')\n",
    "postulaciones_para_otro.set_ylabel('Cantidad de postulaciones')\n"
   ]
  },
  {
   "cell_type": "markdown",
   "metadata": {},
   "source": [
    "Para ofertas cuyos niveles laborales no se especifican se puede ver que los de estudios secundarios son los mas propensos a postularse."
   ]
  }
 ],
 "metadata": {
  "kernelspec": {
   "display_name": "Python 3",
   "language": "python",
   "name": "python3"
  },
  "language_info": {
   "codemirror_mode": {
    "name": "ipython",
    "version": 3
   },
   "file_extension": ".py",
   "mimetype": "text/x-python",
   "name": "python",
   "nbconvert_exporter": "python",
   "pygments_lexer": "ipython3",
   "version": "3.6.1"
  }
 },
 "nbformat": 4,
 "nbformat_minor": 2
}
