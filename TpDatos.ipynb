{
 "cells": [
  {
   "cell_type": "code",
   "execution_count": 1,
   "metadata": {
    "collapsed": true
   },
   "outputs": [],
   "source": [
    "import pandas as pd\n",
    "import matplotlib.pyplot as plt\n",
    "%matplotlib inline"
   ]
  },
  {
   "cell_type": "code",
   "execution_count": 2,
   "metadata": {
    "collapsed": true
   },
   "outputs": [],
   "source": [
    "df_postulantes_edu = pd.read_csv('Desktop/Homework/datos_navent_fiuba/fiuba_1_postulantes_educacion.csv')\n",
    "df_postulantes_datos = pd.read_csv('Desktop/Homework/datos_navent_fiuba/fiuba_2_postulantes_genero_y_edad.csv')\n",
    "df_postulantes_vistas = pd.read_csv('Desktop/Homework/datos_navent_fiuba/fiuba_3_vistas.csv')\n",
    "df_postulaciones = pd.read_csv('Desktop/Homework/datos_navent_fiuba/fiuba_4_postulaciones.csv')\n",
    "df_avisos_online = pd.read_csv('Desktop/Homework/datos_navent_fiuba/fiuba_5_avisos_online.csv')\n",
    "df_avisos_detalles = pd.read_csv('Desktop/Homework/datos_navent_fiuba/fiuba_6_avisos_detalle.csv')"
   ]
  },
  {
   "cell_type": "code",
   "execution_count": 3,
   "metadata": {
    "collapsed": true
   },
   "outputs": [],
   "source": [
    "df_postulaciones[\"fechapostulacion\"] = pd.to_datetime(df_postulaciones[\"fechapostulacion\"])\n",
    "df_postulantes_vistas[\"timestamp\"] = pd.to_datetime(df_postulantes_vistas[\"timestamp\"])"
   ]
  },
  {
   "cell_type": "markdown",
   "metadata": {},
   "source": [
    "# Top 5 empresas populares"
   ]
  },
  {
   "cell_type": "markdown",
   "metadata": {},
   "source": [
    "Me quedo con la fecha mínima de cada aviso, tanto en postulaciones como vistas"
   ]
  },
  {
   "cell_type": "code",
   "execution_count": 4,
   "metadata": {
    "collapsed": true
   },
   "outputs": [],
   "source": [
    "fechas_postulaciones = df_postulaciones.loc[:, ['idaviso', 'fechapostulacion']].groupby('idaviso').min().reset_index()"
   ]
  },
  {
   "cell_type": "code",
   "execution_count": 5,
   "metadata": {
    "collapsed": true
   },
   "outputs": [],
   "source": [
    "fechas_vistas_postul = df_postulantes_vistas.rename(columns={'timestamp':'fechapostulacion', 'idAviso':'idaviso'})\\\n",
    "                        .loc[:, ['idaviso', 'fechapostulacion']].groupby('idaviso').min().reset_index()"
   ]
  },
  {
   "cell_type": "markdown",
   "metadata": {},
   "source": [
    "Estas van a ser mis fechas iniciales (donde considero que empiezan los avisos)"
   ]
  },
  {
   "cell_type": "code",
   "execution_count": 6,
   "metadata": {
    "collapsed": true
   },
   "outputs": [],
   "source": [
    "fechas_iniciales = pd.concat([fechas_postulaciones, fechas_vistas_postul])#pd.merge(fechas_postulaciones, fechas_vistas_postul, on=['idaviso'], how='outer')"
   ]
  },
  {
   "cell_type": "markdown",
   "metadata": {},
   "source": [
    "Me quedo con la menor de todas, sea vista o postulado efectivamente"
   ]
  },
  {
   "cell_type": "code",
   "execution_count": 7,
   "metadata": {
    "collapsed": true
   },
   "outputs": [],
   "source": [
    "fechas_iniciales = fechas_iniciales.groupby('idaviso').min().reset_index()"
   ]
  },
  {
   "cell_type": "markdown",
   "metadata": {},
   "source": [
    "Lo agrego a los detalles de los avisos, por si me sirve"
   ]
  },
  {
   "cell_type": "code",
   "execution_count": 8,
   "metadata": {
    "collapsed": true
   },
   "outputs": [],
   "source": [
    "df_avisos_con_fecha = pd.merge(df_avisos_detalles, fechas_iniciales, on=['idaviso'], how='inner')"
   ]
  },
  {
   "cell_type": "code",
   "execution_count": 9,
   "metadata": {},
   "outputs": [
    {
     "data": {
      "text/plain": [
       "(13534, 11)"
      ]
     },
     "execution_count": 9,
     "metadata": {},
     "output_type": "execute_result"
    }
   ],
   "source": [
    "df_avisos_detalles.shape"
   ]
  },
  {
   "cell_type": "markdown",
   "metadata": {},
   "source": [
    "Pierdo 1000 datos por meter la fecha inicial, en resumen, se pierden 1000 datos que no se vieron ni se postularon"
   ]
  },
  {
   "cell_type": "code",
   "execution_count": 10,
   "metadata": {},
   "outputs": [
    {
     "data": {
      "text/plain": [
       "(12249, 12)"
      ]
     },
     "execution_count": 10,
     "metadata": {},
     "output_type": "execute_result"
    }
   ],
   "source": [
    "df_avisos_con_fecha.shape"
   ]
  },
  {
   "cell_type": "markdown",
   "metadata": {},
   "source": [
    "Hago lo mismo para obtener la fecha en que \"finaliza\" el aviso"
   ]
  },
  {
   "cell_type": "code",
   "execution_count": 11,
   "metadata": {
    "collapsed": true
   },
   "outputs": [],
   "source": [
    "fechas_postulaciones = df_postulaciones.loc[:, ['idaviso', 'fechapostulacion']].groupby('idaviso').max().reset_index()"
   ]
  },
  {
   "cell_type": "code",
   "execution_count": 12,
   "metadata": {
    "collapsed": true
   },
   "outputs": [],
   "source": [
    "fechas_vistas_postul = df_postulantes_vistas.rename(columns={'timestamp':'fechapostulacion', 'idAviso':'idaviso'})\\\n",
    "                        .loc[:, ['idaviso', 'fechapostulacion']].groupby('idaviso').max().reset_index()"
   ]
  },
  {
   "cell_type": "code",
   "execution_count": 13,
   "metadata": {
    "collapsed": true
   },
   "outputs": [],
   "source": [
    "fechas_finales = pd.concat([fechas_postulaciones, fechas_vistas_postul])"
   ]
  },
  {
   "cell_type": "code",
   "execution_count": 14,
   "metadata": {
    "collapsed": true
   },
   "outputs": [],
   "source": [
    "fechas_finales = fechas_finales.groupby('idaviso').max().reset_index()"
   ]
  },
  {
   "cell_type": "code",
   "execution_count": 15,
   "metadata": {
    "collapsed": true
   },
   "outputs": [],
   "source": [
    "fechas_finales.rename(columns={'fechapostulacion':'fecha_finpostulacion'}, inplace=True)"
   ]
  },
  {
   "cell_type": "code",
   "execution_count": 16,
   "metadata": {
    "collapsed": true
   },
   "outputs": [],
   "source": [
    "df_avisos_con_fecha = pd.merge(df_avisos_con_fecha, fechas_finales, on=['idaviso'], how='inner')"
   ]
  },
  {
   "cell_type": "markdown",
   "metadata": {},
   "source": [
    "Por supuesto no pierdo nada porque estos avisos al menos ya se vieron/postularon en su fecha minima"
   ]
  },
  {
   "cell_type": "code",
   "execution_count": 17,
   "metadata": {},
   "outputs": [
    {
     "data": {
      "text/plain": [
       "(12249, 13)"
      ]
     },
     "execution_count": 17,
     "metadata": {},
     "output_type": "execute_result"
    }
   ],
   "source": [
    "df_avisos_con_fecha.shape"
   ]
  },
  {
   "cell_type": "markdown",
   "metadata": {},
   "source": [
    "Agrego la cantidad de dias que \"estuvo vigente\" el aviso"
   ]
  },
  {
   "cell_type": "code",
   "execution_count": 18,
   "metadata": {
    "collapsed": true
   },
   "outputs": [],
   "source": [
    "def set_dias(row):\n",
    "    return row.days\n",
    "\n",
    "\n",
    "df_avisos_con_fecha['cant_dias'] = (df_avisos_con_fecha['fecha_finpostulacion']-df_avisos_con_fecha['fechapostulacion']).apply(set_dias)"
   ]
  },
  {
   "cell_type": "markdown",
   "metadata": {},
   "source": [
    "Elimino las que tienen la misma fecha de inicio que de fin (Solo tuvieron postulaciones/vistas un dia)"
   ]
  },
  {
   "cell_type": "code",
   "execution_count": 19,
   "metadata": {
    "collapsed": true
   },
   "outputs": [],
   "source": [
    "df_avisos_con_fecha = df_avisos_con_fecha.loc[df_avisos_con_fecha['cant_dias'] > 0, :]"
   ]
  },
  {
   "cell_type": "markdown",
   "metadata": {},
   "source": [
    "Pierdo 1300 aproximadamente"
   ]
  },
  {
   "cell_type": "code",
   "execution_count": 20,
   "metadata": {},
   "outputs": [
    {
     "data": {
      "text/plain": [
       "(10948, 14)"
      ]
     },
     "execution_count": 20,
     "metadata": {},
     "output_type": "execute_result"
    }
   ],
   "source": [
    "df_avisos_con_fecha.shape"
   ]
  },
  {
   "cell_type": "markdown",
   "metadata": {},
   "source": [
    "# Veo la distribución de las postulaciones a lo largo de una semana desde que se crea el aviso"
   ]
  },
  {
   "cell_type": "code",
   "execution_count": 21,
   "metadata": {
    "collapsed": true
   },
   "outputs": [],
   "source": [
    "avisos_semana = pd.merge(df_postulaciones, fechas_iniciales.rename(columns={'fechapostulacion':'inicio'}), on=['idaviso']\\\n",
    "                            , how='inner')"
   ]
  },
  {
   "cell_type": "code",
   "execution_count": 22,
   "metadata": {
    "collapsed": true
   },
   "outputs": [],
   "source": [
    "avisos_semana = pd.merge(avisos_semana, fechas_finales.rename(columns={'fecha_finpostulacion':'final'}), on=['idaviso']\\\n",
    "                            , how='inner')"
   ]
  },
  {
   "cell_type": "code",
   "execution_count": 23,
   "metadata": {},
   "outputs": [
    {
     "data": {
      "text/html": [
       "<div>\n",
       "<style>\n",
       "    .dataframe thead tr:only-child th {\n",
       "        text-align: right;\n",
       "    }\n",
       "\n",
       "    .dataframe thead th {\n",
       "        text-align: left;\n",
       "    }\n",
       "\n",
       "    .dataframe tbody tr th {\n",
       "        vertical-align: top;\n",
       "    }\n",
       "</style>\n",
       "<table border=\"1\" class=\"dataframe\">\n",
       "  <thead>\n",
       "    <tr style=\"text-align: right;\">\n",
       "      <th></th>\n",
       "      <th>idaviso</th>\n",
       "      <th>idpostulante</th>\n",
       "      <th>fechapostulacion</th>\n",
       "      <th>inicio</th>\n",
       "      <th>final</th>\n",
       "    </tr>\n",
       "  </thead>\n",
       "  <tbody>\n",
       "    <tr>\n",
       "      <th>0</th>\n",
       "      <td>1112257047</td>\n",
       "      <td>NM5M</td>\n",
       "      <td>2018-01-15 16:22:34</td>\n",
       "      <td>2018-01-15 00:22:49</td>\n",
       "      <td>2018-02-26 20:00:24.910</td>\n",
       "    </tr>\n",
       "    <tr>\n",
       "      <th>1</th>\n",
       "      <td>1112257047</td>\n",
       "      <td>1kJqGb</td>\n",
       "      <td>2018-01-15 10:23:11</td>\n",
       "      <td>2018-01-15 00:22:49</td>\n",
       "      <td>2018-02-26 20:00:24.910</td>\n",
       "    </tr>\n",
       "    <tr>\n",
       "      <th>2</th>\n",
       "      <td>1112257047</td>\n",
       "      <td>eOE9Rr</td>\n",
       "      <td>2018-01-15 10:42:07</td>\n",
       "      <td>2018-01-15 00:22:49</td>\n",
       "      <td>2018-02-26 20:00:24.910</td>\n",
       "    </tr>\n",
       "    <tr>\n",
       "      <th>3</th>\n",
       "      <td>1112257047</td>\n",
       "      <td>Zrx8Xz</td>\n",
       "      <td>2018-01-30 10:18:14</td>\n",
       "      <td>2018-01-15 00:22:49</td>\n",
       "      <td>2018-02-26 20:00:24.910</td>\n",
       "    </tr>\n",
       "    <tr>\n",
       "      <th>4</th>\n",
       "      <td>1112257047</td>\n",
       "      <td>ZrKNQY</td>\n",
       "      <td>2018-01-16 17:19:38</td>\n",
       "      <td>2018-01-15 00:22:49</td>\n",
       "      <td>2018-02-26 20:00:24.910</td>\n",
       "    </tr>\n",
       "  </tbody>\n",
       "</table>\n",
       "</div>"
      ],
      "text/plain": [
       "      idaviso idpostulante    fechapostulacion              inicio  \\\n",
       "0  1112257047         NM5M 2018-01-15 16:22:34 2018-01-15 00:22:49   \n",
       "1  1112257047       1kJqGb 2018-01-15 10:23:11 2018-01-15 00:22:49   \n",
       "2  1112257047       eOE9Rr 2018-01-15 10:42:07 2018-01-15 00:22:49   \n",
       "3  1112257047       Zrx8Xz 2018-01-30 10:18:14 2018-01-15 00:22:49   \n",
       "4  1112257047       ZrKNQY 2018-01-16 17:19:38 2018-01-15 00:22:49   \n",
       "\n",
       "                    final  \n",
       "0 2018-02-26 20:00:24.910  \n",
       "1 2018-02-26 20:00:24.910  \n",
       "2 2018-02-26 20:00:24.910  \n",
       "3 2018-02-26 20:00:24.910  \n",
       "4 2018-02-26 20:00:24.910  "
      ]
     },
     "execution_count": 23,
     "metadata": {},
     "output_type": "execute_result"
    }
   ],
   "source": [
    "avisos_semana.head()"
   ]
  },
  {
   "cell_type": "markdown",
   "metadata": {},
   "source": [
    "Necesito las que duraron al menos más de una semana, sino no tiene sentido"
   ]
  },
  {
   "cell_type": "code",
   "execution_count": 24,
   "metadata": {
    "collapsed": true
   },
   "outputs": [],
   "source": [
    "avisos_semana['duracion'] = (avisos_semana['final']-avisos_semana['inicio']).apply(set_dias)"
   ]
  },
  {
   "cell_type": "code",
   "execution_count": 25,
   "metadata": {},
   "outputs": [
    {
     "data": {
      "text/html": [
       "<div>\n",
       "<style>\n",
       "    .dataframe thead tr:only-child th {\n",
       "        text-align: right;\n",
       "    }\n",
       "\n",
       "    .dataframe thead th {\n",
       "        text-align: left;\n",
       "    }\n",
       "\n",
       "    .dataframe tbody tr th {\n",
       "        vertical-align: top;\n",
       "    }\n",
       "</style>\n",
       "<table border=\"1\" class=\"dataframe\">\n",
       "  <thead>\n",
       "    <tr style=\"text-align: right;\">\n",
       "      <th></th>\n",
       "      <th>idaviso</th>\n",
       "      <th>idpostulante</th>\n",
       "      <th>fechapostulacion</th>\n",
       "      <th>inicio</th>\n",
       "      <th>final</th>\n",
       "      <th>duracion</th>\n",
       "    </tr>\n",
       "  </thead>\n",
       "  <tbody>\n",
       "    <tr>\n",
       "      <th>0</th>\n",
       "      <td>1112257047</td>\n",
       "      <td>NM5M</td>\n",
       "      <td>2018-01-15 16:22:34</td>\n",
       "      <td>2018-01-15 00:22:49</td>\n",
       "      <td>2018-02-26 20:00:24.910</td>\n",
       "      <td>42</td>\n",
       "    </tr>\n",
       "    <tr>\n",
       "      <th>1</th>\n",
       "      <td>1112257047</td>\n",
       "      <td>1kJqGb</td>\n",
       "      <td>2018-01-15 10:23:11</td>\n",
       "      <td>2018-01-15 00:22:49</td>\n",
       "      <td>2018-02-26 20:00:24.910</td>\n",
       "      <td>42</td>\n",
       "    </tr>\n",
       "    <tr>\n",
       "      <th>2</th>\n",
       "      <td>1112257047</td>\n",
       "      <td>eOE9Rr</td>\n",
       "      <td>2018-01-15 10:42:07</td>\n",
       "      <td>2018-01-15 00:22:49</td>\n",
       "      <td>2018-02-26 20:00:24.910</td>\n",
       "      <td>42</td>\n",
       "    </tr>\n",
       "    <tr>\n",
       "      <th>3</th>\n",
       "      <td>1112257047</td>\n",
       "      <td>Zrx8Xz</td>\n",
       "      <td>2018-01-30 10:18:14</td>\n",
       "      <td>2018-01-15 00:22:49</td>\n",
       "      <td>2018-02-26 20:00:24.910</td>\n",
       "      <td>42</td>\n",
       "    </tr>\n",
       "    <tr>\n",
       "      <th>4</th>\n",
       "      <td>1112257047</td>\n",
       "      <td>ZrKNQY</td>\n",
       "      <td>2018-01-16 17:19:38</td>\n",
       "      <td>2018-01-15 00:22:49</td>\n",
       "      <td>2018-02-26 20:00:24.910</td>\n",
       "      <td>42</td>\n",
       "    </tr>\n",
       "  </tbody>\n",
       "</table>\n",
       "</div>"
      ],
      "text/plain": [
       "      idaviso idpostulante    fechapostulacion              inicio  \\\n",
       "0  1112257047         NM5M 2018-01-15 16:22:34 2018-01-15 00:22:49   \n",
       "1  1112257047       1kJqGb 2018-01-15 10:23:11 2018-01-15 00:22:49   \n",
       "2  1112257047       eOE9Rr 2018-01-15 10:42:07 2018-01-15 00:22:49   \n",
       "3  1112257047       Zrx8Xz 2018-01-30 10:18:14 2018-01-15 00:22:49   \n",
       "4  1112257047       ZrKNQY 2018-01-16 17:19:38 2018-01-15 00:22:49   \n",
       "\n",
       "                    final  duracion  \n",
       "0 2018-02-26 20:00:24.910        42  \n",
       "1 2018-02-26 20:00:24.910        42  \n",
       "2 2018-02-26 20:00:24.910        42  \n",
       "3 2018-02-26 20:00:24.910        42  \n",
       "4 2018-02-26 20:00:24.910        42  "
      ]
     },
     "execution_count": 25,
     "metadata": {},
     "output_type": "execute_result"
    }
   ],
   "source": [
    "avisos_semana.head()"
   ]
  },
  {
   "cell_type": "code",
   "execution_count": 26,
   "metadata": {},
   "outputs": [
    {
     "data": {
      "text/plain": [
       "(3401623, 6)"
      ]
     },
     "execution_count": 26,
     "metadata": {},
     "output_type": "execute_result"
    }
   ],
   "source": [
    "avisos_semana.shape"
   ]
  },
  {
   "cell_type": "code",
   "execution_count": 27,
   "metadata": {
    "collapsed": true
   },
   "outputs": [],
   "source": [
    "avisos_semana = avisos_semana.loc[avisos_semana['duracion'] >= 7, :]"
   ]
  },
  {
   "cell_type": "markdown",
   "metadata": {},
   "source": [
    "Pierdo 400.000 postulaciones aprox"
   ]
  },
  {
   "cell_type": "code",
   "execution_count": 28,
   "metadata": {},
   "outputs": [
    {
     "data": {
      "text/plain": [
       "(3081860, 6)"
      ]
     },
     "execution_count": 28,
     "metadata": {},
     "output_type": "execute_result"
    }
   ],
   "source": [
    "avisos_semana.shape"
   ]
  },
  {
   "cell_type": "markdown",
   "metadata": {},
   "source": [
    "Normalizo a una fecha común y establezo el dia de la semana que corresponderia"
   ]
  },
  {
   "cell_type": "code",
   "execution_count": 29,
   "metadata": {
    "collapsed": true
   },
   "outputs": [],
   "source": [
    "avisos_semana['dia'] = (avisos_semana['fechapostulacion']-avisos_semana['inicio']).apply(set_dias)"
   ]
  },
  {
   "cell_type": "code",
   "execution_count": 30,
   "metadata": {},
   "outputs": [
    {
     "data": {
      "text/html": [
       "<div>\n",
       "<style>\n",
       "    .dataframe thead tr:only-child th {\n",
       "        text-align: right;\n",
       "    }\n",
       "\n",
       "    .dataframe thead th {\n",
       "        text-align: left;\n",
       "    }\n",
       "\n",
       "    .dataframe tbody tr th {\n",
       "        vertical-align: top;\n",
       "    }\n",
       "</style>\n",
       "<table border=\"1\" class=\"dataframe\">\n",
       "  <thead>\n",
       "    <tr style=\"text-align: right;\">\n",
       "      <th></th>\n",
       "      <th>idaviso</th>\n",
       "      <th>idpostulante</th>\n",
       "      <th>fechapostulacion</th>\n",
       "      <th>inicio</th>\n",
       "      <th>final</th>\n",
       "      <th>duracion</th>\n",
       "      <th>dia</th>\n",
       "    </tr>\n",
       "  </thead>\n",
       "  <tbody>\n",
       "    <tr>\n",
       "      <th>0</th>\n",
       "      <td>1112257047</td>\n",
       "      <td>NM5M</td>\n",
       "      <td>2018-01-15 16:22:34</td>\n",
       "      <td>2018-01-15 00:22:49</td>\n",
       "      <td>2018-02-26 20:00:24.910</td>\n",
       "      <td>42</td>\n",
       "      <td>0</td>\n",
       "    </tr>\n",
       "    <tr>\n",
       "      <th>1</th>\n",
       "      <td>1112257047</td>\n",
       "      <td>1kJqGb</td>\n",
       "      <td>2018-01-15 10:23:11</td>\n",
       "      <td>2018-01-15 00:22:49</td>\n",
       "      <td>2018-02-26 20:00:24.910</td>\n",
       "      <td>42</td>\n",
       "      <td>0</td>\n",
       "    </tr>\n",
       "    <tr>\n",
       "      <th>2</th>\n",
       "      <td>1112257047</td>\n",
       "      <td>eOE9Rr</td>\n",
       "      <td>2018-01-15 10:42:07</td>\n",
       "      <td>2018-01-15 00:22:49</td>\n",
       "      <td>2018-02-26 20:00:24.910</td>\n",
       "      <td>42</td>\n",
       "      <td>0</td>\n",
       "    </tr>\n",
       "    <tr>\n",
       "      <th>3</th>\n",
       "      <td>1112257047</td>\n",
       "      <td>Zrx8Xz</td>\n",
       "      <td>2018-01-30 10:18:14</td>\n",
       "      <td>2018-01-15 00:22:49</td>\n",
       "      <td>2018-02-26 20:00:24.910</td>\n",
       "      <td>42</td>\n",
       "      <td>15</td>\n",
       "    </tr>\n",
       "    <tr>\n",
       "      <th>4</th>\n",
       "      <td>1112257047</td>\n",
       "      <td>ZrKNQY</td>\n",
       "      <td>2018-01-16 17:19:38</td>\n",
       "      <td>2018-01-15 00:22:49</td>\n",
       "      <td>2018-02-26 20:00:24.910</td>\n",
       "      <td>42</td>\n",
       "      <td>1</td>\n",
       "    </tr>\n",
       "  </tbody>\n",
       "</table>\n",
       "</div>"
      ],
      "text/plain": [
       "      idaviso idpostulante    fechapostulacion              inicio  \\\n",
       "0  1112257047         NM5M 2018-01-15 16:22:34 2018-01-15 00:22:49   \n",
       "1  1112257047       1kJqGb 2018-01-15 10:23:11 2018-01-15 00:22:49   \n",
       "2  1112257047       eOE9Rr 2018-01-15 10:42:07 2018-01-15 00:22:49   \n",
       "3  1112257047       Zrx8Xz 2018-01-30 10:18:14 2018-01-15 00:22:49   \n",
       "4  1112257047       ZrKNQY 2018-01-16 17:19:38 2018-01-15 00:22:49   \n",
       "\n",
       "                    final  duracion  dia  \n",
       "0 2018-02-26 20:00:24.910        42    0  \n",
       "1 2018-02-26 20:00:24.910        42    0  \n",
       "2 2018-02-26 20:00:24.910        42    0  \n",
       "3 2018-02-26 20:00:24.910        42   15  \n",
       "4 2018-02-26 20:00:24.910        42    1  "
      ]
     },
     "execution_count": 30,
     "metadata": {},
     "output_type": "execute_result"
    }
   ],
   "source": [
    "avisos_semana.head()"
   ]
  },
  {
   "cell_type": "code",
   "execution_count": 31,
   "metadata": {
    "collapsed": true
   },
   "outputs": [],
   "source": [
    "cant_avisos = avisos_semana.loc[:, ['dia', 'idaviso']]\\\n",
    "                ['idaviso'].nunique()"
   ]
  },
  {
   "cell_type": "markdown",
   "metadata": {},
   "source": [
    "Grafico para las postulaciones promedio para un aviso hasta dentro de 7 dias pasada su publicación"
   ]
  },
  {
   "cell_type": "code",
   "execution_count": 32,
   "metadata": {},
   "outputs": [
    {
     "data": {
      "text/plain": [
       "<matplotlib.legend.Legend at 0x4f37ef0>"
      ]
     },
     "execution_count": 32,
     "metadata": {},
     "output_type": "execute_result"
    },
    {
     "data": {
      "image/png": "[encoded data removed]",
      "text/plain": [
       "<matplotlib.figure.Figure at 0xf12ef28>"
      ]
     },
     "metadata": {},
     "output_type": "display_data"
    }
   ],
   "source": [
    "(avisos_semana.loc[avisos_semana['dia'] <= 7, ['dia', 'idpostulante']]\\\n",
    "                .groupby('dia').count()/cant_avisos)\\\n",
    "                .plot(kind='line', figsize=(12, 8))\n",
    "plt.title('Distribución de las postulaciones a lo largo de una semana para un aviso')\n",
    "plt.xlabel('Dias')\n",
    "plt.ylabel('Postulaciones')\n",
    "plt.legend([\"Postulaciones\"])"
   ]
  },
  {
   "cell_type": "markdown",
   "metadata": {},
   "source": [
    "# Volvemos para calcular el top 5 de empresas "
   ]
  },
  {
   "cell_type": "markdown",
   "metadata": {},
   "source": [
    "Dado que la curva anterior nos muestra la evolución a lo largo del tiempo para un aviso, no nos importa cuanto dure el aviso para el top, ya que los primeros dias son los esenciales"
   ]
  },
  {
   "cell_type": "code",
   "execution_count": 33,
   "metadata": {},
   "outputs": [
    {
     "data": {
      "text/plain": [
       "Timestamp('2018-01-15 00:00:01')"
      ]
     },
     "execution_count": 33,
     "metadata": {},
     "output_type": "execute_result"
    }
   ],
   "source": [
    "avisos_semana['inicio'].min()"
   ]
  },
  {
   "cell_type": "code",
   "execution_count": 34,
   "metadata": {},
   "outputs": [
    {
     "data": {
      "text/plain": [
       "Timestamp('2018-03-01 04:59:56.142000')"
      ]
     },
     "execution_count": 34,
     "metadata": {},
     "output_type": "execute_result"
    }
   ],
   "source": [
    "avisos_semana['final'].max()"
   ]
  },
  {
   "cell_type": "markdown",
   "metadata": {},
   "source": [
    "Veamos un top 5 de empresas para el mes las fechas dadas entre 15-01-2018 y 01-03-2018"
   ]
  },
  {
   "cell_type": "code",
   "execution_count": 35,
   "metadata": {
    "collapsed": true
   },
   "outputs": [],
   "source": [
    "cant_postulaciones_aviso = avisos_semana.loc[:, ['idaviso', 'idpostulante']].groupby('idaviso').count().reset_index()\\\n",
    "                            .rename(columns={'idpostulante': 'cantidad_postu'})"
   ]
  },
  {
   "cell_type": "code",
   "execution_count": 36,
   "metadata": {
    "collapsed": true
   },
   "outputs": [],
   "source": [
    "df_avisos_con_fechaypostu = pd.merge(df_avisos_con_fecha, cant_postulaciones_aviso, on=['idaviso'], how='inner')"
   ]
  },
  {
   "cell_type": "code",
   "execution_count": 37,
   "metadata": {
    "collapsed": true
   },
   "outputs": [],
   "source": [
    "top = df_avisos_con_fechaypostu.loc[:, ['denominacion_empresa', 'cantidad_postu', 'idaviso']]\\\n",
    "                                    .groupby('denominacion_empresa')\\\n",
    "                                    .agg({'cantidad_postu': 'mean', 'idaviso': 'count'})"
   ]
  },
  {
   "cell_type": "code",
   "execution_count": 38,
   "metadata": {},
   "outputs": [
    {
     "data": {
      "text/html": [
       "<div>\n",
       "<style>\n",
       "    .dataframe thead tr:only-child th {\n",
       "        text-align: right;\n",
       "    }\n",
       "\n",
       "    .dataframe thead th {\n",
       "        text-align: left;\n",
       "    }\n",
       "\n",
       "    .dataframe tbody tr th {\n",
       "        vertical-align: top;\n",
       "    }\n",
       "</style>\n",
       "<table border=\"1\" class=\"dataframe\">\n",
       "  <thead>\n",
       "    <tr style=\"text-align: right;\">\n",
       "      <th></th>\n",
       "      <th>cantidad_postu</th>\n",
       "      <th>idaviso</th>\n",
       "    </tr>\n",
       "    <tr>\n",
       "      <th>denominacion_empresa</th>\n",
       "      <th></th>\n",
       "      <th></th>\n",
       "    </tr>\n",
       "  </thead>\n",
       "  <tbody>\n",
       "    <tr>\n",
       "      <th>Asistencia Respiratoria Mecánica Domiciliaria</th>\n",
       "      <td>98.000000</td>\n",
       "      <td>1</td>\n",
       "    </tr>\n",
       "    <tr>\n",
       "      <th>D.O.T.A.</th>\n",
       "      <td>949.000000</td>\n",
       "      <td>1</td>\n",
       "    </tr>\n",
       "    <tr>\n",
       "      <th>123Seguro</th>\n",
       "      <td>1802.333333</td>\n",
       "      <td>3</td>\n",
       "    </tr>\n",
       "    <tr>\n",
       "      <th>2way Consulting</th>\n",
       "      <td>16.000000</td>\n",
       "      <td>1</td>\n",
       "    </tr>\n",
       "    <tr>\n",
       "      <th>3 empresas</th>\n",
       "      <td>12.000000</td>\n",
       "      <td>1</td>\n",
       "    </tr>\n",
       "  </tbody>\n",
       "</table>\n",
       "</div>"
      ],
      "text/plain": [
       "                                                cantidad_postu  idaviso\n",
       "denominacion_empresa                                                   \n",
       " Asistencia Respiratoria Mecánica Domiciliaria       98.000000        1\n",
       " D.O.T.A.                                           949.000000        1\n",
       "123Seguro                                          1802.333333        3\n",
       "2way Consulting                                      16.000000        1\n",
       "3 empresas                                           12.000000        1"
      ]
     },
     "execution_count": 38,
     "metadata": {},
     "output_type": "execute_result"
    }
   ],
   "source": [
    "top.head()"
   ]
  },
  {
   "cell_type": "code",
   "execution_count": 39,
   "metadata": {},
   "outputs": [
    {
     "data": {
      "text/plain": [
       "<matplotlib.text.Text at 0x165c7128>"
      ]
     },
     "execution_count": 39,
     "metadata": {},
     "output_type": "execute_result"
    },
    {
     "data": {
      "image/png": "[encoded data removed]",
      "text/plain": [
       "<matplotlib.figure.Figure at 0x271d6dd8>"
      ]
     },
     "metadata": {},
     "output_type": "display_data"
    }
   ],
   "source": [
    "top.sort_values('cantidad_postu', ascending=False).head()['cantidad_postu'].plot(kind='bar', figsize=(8,4))\n",
    "plt.title('Top 5 empresas más populares (15-01-2018 y 01-03-2018)')\n",
    "plt.xlabel('Empresas')\n",
    "plt.ylabel('Cantidad de postulaciones promedio por aviso')"
   ]
  },
  {
   "cell_type": "markdown",
   "metadata": {},
   "source": [
    "Promedio de avisos por empresa"
   ]
  },
  {
   "cell_type": "code",
   "execution_count": 40,
   "metadata": {},
   "outputs": [
    {
     "data": {
      "text/plain": [
       "4.93598233995585"
      ]
     },
     "execution_count": 40,
     "metadata": {},
     "output_type": "execute_result"
    }
   ],
   "source": [
    "top['idaviso'].mean()"
   ]
  },
  {
   "cell_type": "markdown",
   "metadata": {},
   "source": [
    "Considerando al menos 5 avisos por empresa"
   ]
  },
  {
   "cell_type": "code",
   "execution_count": 41,
   "metadata": {},
   "outputs": [
    {
     "data": {
      "text/plain": [
       "<matplotlib.text.Text at 0x13b34d68>"
      ]
     },
     "execution_count": 41,
     "metadata": {},
     "output_type": "execute_result"
    },
    {
     "data": {
      "image/png": "[encoded data removed]",
      "text/plain": [
       "<matplotlib.figure.Figure at 0x1f6b3828>"
      ]
     },
     "metadata": {},
     "output_type": "display_data"
    }
   ],
   "source": [
    "top.loc[top['idaviso']>=5, :].sort_values('cantidad_postu', ascending=False).head()['cantidad_postu'].plot(kind='bar', figsize=(8,4))\n",
    "plt.title('Top 5 empresas más populares (15-01-2018 y 01-03-2018)')\n",
    "plt.xlabel('Empresas')\n",
    "plt.ylabel('Cantidad de postulaciones promedio por aviso')"
   ]
  },
  {
   "cell_type": "code",
   "execution_count": 42,
   "metadata": {},
   "outputs": [
    {
     "data": {
      "text/plain": [
       "<matplotlib.text.Text at 0x13b3b1d0>"
      ]
     },
     "execution_count": 42,
     "metadata": {},
     "output_type": "execute_result"
    },
    {
     "data": {
      "image/png": "[encoded data removed]",
      "text/plain": [
       "<matplotlib.figure.Figure at 0x11df4390>"
      ]
     },
     "metadata": {},
     "output_type": "display_data"
    }
   ],
   "source": [
    "top.sort_values('idaviso', ascending=False).head()['idaviso'].plot(kind='bar', figsize=(8,4))\n",
    "plt.title('Top 5 empresas con más avisos (15-01-2018 y 01-03-2018)')\n",
    "plt.xlabel('Empresas')\n",
    "plt.ylabel('Cantidad de avisos')"
   ]
  },
  {
   "cell_type": "markdown",
   "metadata": {},
   "source": [
    "# Veo caracteristicas de las empresas y sus relevancias para nuestros datos"
   ]
  },
  {
   "cell_type": "code",
   "execution_count": 43,
   "metadata": {
    "collapsed": true
   },
   "outputs": [],
   "source": [
    "def lowercase(row):\n",
    "    if pd.isnull(row['descripcion']):\n",
    "        return row['descripcion']   \n",
    "    \n",
    "    return row['descripcion'].lower()"
   ]
  },
  {
   "cell_type": "code",
   "execution_count": 44,
   "metadata": {
    "collapsed": true
   },
   "outputs": [],
   "source": [
    "df_avisos_con_fechaypostu['descripcion'] = df_avisos_con_fechaypostu.apply(lowercase, axis=1)\n",
    "df_avisos_detalles['descripcion'] = df_avisos_detalles.apply(lowercase, axis=1)"
   ]
  },
  {
   "cell_type": "code",
   "execution_count": 45,
   "metadata": {
    "collapsed": true
   },
   "outputs": [],
   "source": [
    "def extra(row, list_of_words):\n",
    "    if pd.isnull(row['descripcion']):\n",
    "        return 0\n",
    "    for word in list_of_words:\n",
    "        if word in row['descripcion']:\n",
    "            return 1\n",
    "    return 0"
   ]
  },
  {
   "cell_type": "code",
   "execution_count": 46,
   "metadata": {
    "collapsed": true
   },
   "outputs": [],
   "source": [
    "pal_claves = {\n",
    "    'web' : ['web', 'pagina', 'página'],\n",
    "    'crecimiento' : ['crecim', 'progre'],\n",
    "    'capacitacion' : ['aprender', 'aprendiza', 'capacitar', 'capacitacion', 'capacitación'],\n",
    "    'clima laboral' : ['excelente cl', 'clima'],\n",
    "    'multinacional' : ['multin', 'internacional'],\n",
    "    'incorp_inmediata' : ['incorporación', 'incorporacion'],\n",
    "    'disponibilidad_horaria' : ['fines de sem', 'sábado', 'sabado', 'domingo', 'feriado', 'rotativo'],\n",
    "    'disponibilidad_viajar' : ['viaje', 'viajar'],\n",
    "    'flexibilidad' : ['flexi'],\n",
    "    'secundario' : ['secundario compl'],\n",
    "    'terciario' : ['terciario'],\n",
    "    'ingles' : ['inglés', 'ingles'],\n",
    "    'estudiantes' : ['universi', 'estudiant'],\n",
    "    'conoc_informatica' : ['excel', 'word', 'office'],\n",
    "    'experiencia' : ['años de exp', 'experiencia'],\n",
    "    'proactivo' : ['proactiv'],\n",
    "    'relaciones_pers' : ['relaciones', 'personales']\n",
    "}\n",
    "\n",
    "for k, v in pal_claves.items():\n",
    "    df_avisos_con_fechaypostu[k] = df_avisos_con_fechaypostu.apply((lambda x: extra(x, v)), axis=1)\n",
    "    df_avisos_detalles[k] = df_avisos_detalles.apply((lambda x: extra(x, v)), axis=1)"
   ]
  },
  {
   "cell_type": "markdown",
   "metadata": {},
   "source": [
    "Cantidad promedio de postulaciones por aviso"
   ]
  },
  {
   "cell_type": "code",
   "execution_count": 47,
   "metadata": {},
   "outputs": [
    {
     "data": {
      "text/plain": [
       "311.0853822083147"
      ]
     },
     "execution_count": 47,
     "metadata": {},
     "output_type": "execute_result"
    }
   ],
   "source": [
    "df_avisos_con_fechaypostu['cantidad_postu'].mean()"
   ]
  },
  {
   "cell_type": "markdown",
   "metadata": {},
   "source": [
    "# Cantidad postulaciones promedio según:\n"
   ]
  },
  {
   "cell_type": "markdown",
   "metadata": {},
   "source": [
    "# Ofrece capacitación"
   ]
  },
  {
   "cell_type": "code",
   "execution_count": 48,
   "metadata": {},
   "outputs": [
    {
     "data": {
      "image/png": "[encoded data removed]",
      "text/plain": [
       "<matplotlib.figure.Figure at 0x13b349b0>"
      ]
     },
     "metadata": {},
     "output_type": "display_data"
    },
    {
     "data": {
      "text/plain": [
       "<matplotlib.figure.Figure at 0x13b340b8>"
      ]
     },
     "metadata": {},
     "output_type": "display_data"
    }
   ],
   "source": [
    "plt.hist(df_avisos_con_fechaypostu.loc[(df_avisos_con_fechaypostu['capacitacion'] == 1)\\\n",
    "                                          &(df_avisos_con_fechaypostu['cantidad_postu'] <= 251)]['cantidad_postu'], bins=5)\n",
    "plt.xlabel(\"Postulaciones\")\n",
    "plt.ylabel(\"Cantidad de avisos que ofrecen capacitación\")\n",
    "plt.title(\"Histograma de postulaciones de avisos que ofrecen capacitación\")\n",
    "plt.figure(figsize=(17, 1))\n",
    "plt.show()"
   ]
  },
  {
   "cell_type": "code",
   "execution_count": 49,
   "metadata": {},
   "outputs": [
    {
     "data": {
      "text/plain": [
       "<matplotlib.legend.Legend at 0xb55cf28>"
      ]
     },
     "execution_count": 49,
     "metadata": {},
     "output_type": "execute_result"
    },
    {
     "data": {
      "image/png": "[encoded data removed]",
      "text/plain": [
       "<matplotlib.figure.Figure at 0x193dc748>"
      ]
     },
     "metadata": {},
     "output_type": "display_data"
    }
   ],
   "source": [
    "df_avisos_con_fechaypostu.loc[:, ['capacitacion', 'cantidad_postu']].groupby('capacitacion').mean()\\\n",
    "                             .sort_values('cantidad_postu',ascending=False)\\\n",
    "                             .plot(kind='bar', figsize=(12, 8))\n",
    "        \n",
    "mean = df_avisos_con_fechaypostu['cantidad_postu'].mean()\n",
    "plt.axhline(mean, color='red', linestyle='--')\n",
    "plt.title('Cantidad de postulaciones promedio según si la empresa ofrece capacitación')\n",
    "plt.xlabel('Ofrece capacitación')\n",
    "plt.ylabel('Cantidad promedio de postulaciones')\n",
    "plt.legend(['Prom. Postulaciones', 'Postulaciones'])"
   ]
  },
  {
   "cell_type": "markdown",
   "metadata": {},
   "source": [
    "# Ofrece buen clima laboral"
   ]
  },
  {
   "cell_type": "code",
   "execution_count": 50,
   "metadata": {},
   "outputs": [
    {
     "data": {
      "text/plain": [
       "<matplotlib.legend.Legend at 0x9b5f320>"
      ]
     },
     "execution_count": 50,
     "metadata": {},
     "output_type": "execute_result"
    },
    {
     "data": {
      "image/png": "[encoded data removed]",
      "text/plain": [
       "<matplotlib.figure.Figure at 0x13f5d048>"
      ]
     },
     "metadata": {},
     "output_type": "display_data"
    }
   ],
   "source": [
    "df_avisos_con_fechaypostu.loc[:, ['clima laboral', 'cantidad_postu']].groupby('clima laboral').mean()\\\n",
    "                             .sort_values('cantidad_postu',ascending=False)\\\n",
    "                             .plot(kind='bar', figsize=(12, 8))\n",
    "        \n",
    "mean = df_avisos_con_fechaypostu['cantidad_postu'].mean()\n",
    "plt.axhline(mean, color='red', linestyle='--')\n",
    "plt.title('Cantidad de postulaciones promedio según si la empresa ofrece un buen clima laboral')\n",
    "plt.xlabel('Buen clima laboral')\n",
    "plt.ylabel('Cantidad promedio de postulaciones')\n",
    "plt.legend(['Prom. Postulaciones', 'Postulaciones'])"
   ]
  },
  {
   "cell_type": "markdown",
   "metadata": {},
   "source": [
    "# Disponibilidad horaria"
   ]
  },
  {
   "cell_type": "code",
   "execution_count": 51,
   "metadata": {},
   "outputs": [
    {
     "data": {
      "text/plain": [
       "<matplotlib.legend.Legend at 0xb6ab198>"
      ]
     },
     "execution_count": 51,
     "metadata": {},
     "output_type": "execute_result"
    },
    {
     "data": {
      "image/png": "[encoded data removed]",
      "text/plain": [
       "<matplotlib.figure.Figure at 0xbbb3438>"
      ]
     },
     "metadata": {},
     "output_type": "display_data"
    }
   ],
   "source": [
    "df_avisos_con_fechaypostu.loc[:, ['disponibilidad_horaria', 'cantidad_postu']].groupby('disponibilidad_horaria').mean()\\\n",
    "                             .sort_values('cantidad_postu',ascending=False)\\\n",
    "                             .plot(kind='bar', figsize=(12, 8))\n",
    "        \n",
    "mean = df_avisos_con_fechaypostu['cantidad_postu'].mean()\n",
    "plt.axhline(mean, color='red', linestyle='--')\n",
    "plt.title('Cantidad de postulaciones promedio según si la empresa exige disponibilidad horaria')\n",
    "plt.xlabel('Disponibilidad horaria')\n",
    "plt.ylabel('Cantidad promedio de postulaciones')\n",
    "plt.legend(['Prom. Postulaciones', 'Postulaciones'])"
   ]
  },
  {
   "cell_type": "markdown",
   "metadata": {},
   "source": [
    "# Disponibilidad para viajar"
   ]
  },
  {
   "cell_type": "code",
   "execution_count": 52,
   "metadata": {},
   "outputs": [
    {
     "data": {
      "text/plain": [
       "<matplotlib.legend.Legend at 0xb70dda0>"
      ]
     },
     "execution_count": 52,
     "metadata": {},
     "output_type": "execute_result"
    },
    {
     "data": {
      "image/png": "[encoded data removed]",
      "text/plain": [
       "<matplotlib.figure.Figure at 0xb6aff98>"
      ]
     },
     "metadata": {},
     "output_type": "display_data"
    }
   ],
   "source": [
    "df_avisos_con_fechaypostu.loc[:, ['disponibilidad_viajar', 'cantidad_postu']].groupby('disponibilidad_viajar').mean()\\\n",
    "                             .sort_values('cantidad_postu',ascending=False)\\\n",
    "                             .plot(kind='bar', figsize=(12, 8))\n",
    "        \n",
    "mean = df_avisos_con_fechaypostu['cantidad_postu'].mean()\n",
    "plt.axhline(mean, color='red', linestyle='--')\n",
    "plt.title('Cantidad de postulaciones promedio según si la empresa exige disponibilidad para viajar')\n",
    "plt.xlabel('Disponibilidad para viajar')\n",
    "plt.ylabel('Cantidad promedio de postulaciones')\n",
    "plt.legend(['Prom. Postulaciones', 'Postulaciones'])"
   ]
  },
  {
   "cell_type": "markdown",
   "metadata": {},
   "source": [
    "# Piden estudiantes"
   ]
  },
  {
   "cell_type": "code",
   "execution_count": 53,
   "metadata": {},
   "outputs": [
    {
     "data": {
      "text/plain": [
       "<matplotlib.legend.Legend at 0xbf390b8>"
      ]
     },
     "execution_count": 53,
     "metadata": {},
     "output_type": "execute_result"
    },
    {
     "data": {
      "image/png": "[encoded data removed]",
      "text/plain": [
       "<matplotlib.figure.Figure at 0xbaf2fd0>"
      ]
     },
     "metadata": {},
     "output_type": "display_data"
    }
   ],
   "source": [
    "df_avisos_con_fechaypostu.loc[:, ['estudiantes', 'cantidad_postu']].groupby('estudiantes').mean()\\\n",
    "                             .sort_values('cantidad_postu',ascending=False)\\\n",
    "                             .plot(kind='bar', figsize=(12, 8))\n",
    "        \n",
    "mean = df_avisos_con_fechaypostu['cantidad_postu'].mean()\n",
    "plt.axhline(mean, color='red', linestyle='--')\n",
    "plt.title('Cantidad de postulaciones promedio según si la empresa solicita estudiantes')\n",
    "plt.xlabel('Estudiantes')\n",
    "plt.ylabel('Cantidad promedio de postulaciones')\n",
    "plt.legend(['Prom. Postulaciones', 'Postulaciones'])"
   ]
  },
  {
   "cell_type": "markdown",
   "metadata": {},
   "source": [
    "# Top 10 factores que solicitan las empresas"
   ]
  },
  {
   "cell_type": "code",
   "execution_count": 66,
   "metadata": {
    "collapsed": true
   },
   "outputs": [],
   "source": [
    "def extra_str(row, list_of_words, k):\n",
    "    if pd.isnull(row['descripcion']):\n",
    "        return row['factores'];\n",
    "    for word in list_of_words:\n",
    "        if word in row['descripcion']:\n",
    "            return row['factores'] + \" - \" + k;\n",
    "    return row['factores'];"
   ]
  },
  {
   "cell_type": "code",
   "execution_count": 67,
   "metadata": {
    "collapsed": true
   },
   "outputs": [],
   "source": [
    "df_avisos_con_fechaypostu['factores'] = \"\""
   ]
  },
  {
   "cell_type": "code",
   "execution_count": 68,
   "metadata": {},
   "outputs": [],
   "source": [
    "for k, v in pal_claves.items():\n",
    "    df_avisos_con_fechaypostu['factores'] = df_avisos_con_fechaypostu.apply((lambda x: extra_str(x, v, k)), axis=1)"
   ]
  },
  {
   "cell_type": "code",
   "execution_count": 132,
   "metadata": {},
   "outputs": [
    {
     "data": {
      "text/plain": [
       "<matplotlib.legend.Legend at 0xdd30780>"
      ]
     },
     "execution_count": 132,
     "metadata": {},
     "output_type": "execute_result"
    },
    {
     "data": {
      "image/png": "[encoded data removed]",
      "text/plain": [
       "<matplotlib.figure.Figure at 0xdd41cf8>"
      ]
     },
     "metadata": {},
     "output_type": "display_data"
    }
   ],
   "source": [
    "df_avisos_con_fechaypostu.loc[:, ['cantidad_postu', 'factores']].groupby('factores').agg({'cantidad_postu': 'count'})\\\n",
    "                    .sort_values('cantidad_postu', ascending=False).head(10).plot(kind='bar')\n",
    "    \n",
    "plt.title('Cantidad de avisos que piden factores')\n",
    "plt.xlabel('Factores')\n",
    "plt.ylabel('Cantidad de avisos')\n",
    "plt.legend(['Cantidad de avisos'])   "
   ]
  },
  {
   "cell_type": "markdown",
   "metadata": {},
   "source": [
    "Podemos ver que estos factores influyen de manera positiva en la cantidad de postulaciones que tendría un aviso, analicemos más a profundo"
   ]
  },
  {
   "cell_type": "markdown",
   "metadata": {},
   "source": [
    "# Distribución de postulaciones a un aviso en función del sexo/edad para avisos que piden saber inglés"
   ]
  },
  {
   "cell_type": "code",
   "execution_count": 93,
   "metadata": {
    "collapsed": true
   },
   "outputs": [],
   "source": [
    "postu_disp_horaria = pd.merge(\\\n",
    "                    df_avisos_detalles.loc[df_avisos_detalles['ingles']==1, ['idaviso']]\\\n",
    "                    , df_postulaciones, on=['idaviso'], how='inner')"
   ]
  },
  {
   "cell_type": "code",
   "execution_count": 94,
   "metadata": {
    "collapsed": true
   },
   "outputs": [],
   "source": [
    "postu_disp_horaria = pd.merge(postu_disp_horaria, df_postulantes_datos, on=['idpostulante'], how='inner')"
   ]
  },
  {
   "cell_type": "code",
   "execution_count": 95,
   "metadata": {},
   "outputs": [
    {
     "data": {
      "text/html": [
       "<div>\n",
       "<style>\n",
       "    .dataframe thead tr:only-child th {\n",
       "        text-align: right;\n",
       "    }\n",
       "\n",
       "    .dataframe thead th {\n",
       "        text-align: left;\n",
       "    }\n",
       "\n",
       "    .dataframe tbody tr th {\n",
       "        vertical-align: top;\n",
       "    }\n",
       "</style>\n",
       "<table border=\"1\" class=\"dataframe\">\n",
       "  <thead>\n",
       "    <tr style=\"text-align: right;\">\n",
       "      <th></th>\n",
       "      <th>idaviso</th>\n",
       "      <th>idpostulante</th>\n",
       "      <th>fechapostulacion</th>\n",
       "      <th>fechanacimiento</th>\n",
       "      <th>sexo</th>\n",
       "    </tr>\n",
       "  </thead>\n",
       "  <tbody>\n",
       "    <tr>\n",
       "      <th>0</th>\n",
       "      <td>1110640622</td>\n",
       "      <td>EKVNk8</td>\n",
       "      <td>2018-02-25 06:02:11</td>\n",
       "      <td>1965-08-26</td>\n",
       "      <td>MASC</td>\n",
       "    </tr>\n",
       "    <tr>\n",
       "      <th>1</th>\n",
       "      <td>1110640622</td>\n",
       "      <td>YBGGJY</td>\n",
       "      <td>2018-02-04 15:12:45</td>\n",
       "      <td>1984-12-11</td>\n",
       "      <td>FEM</td>\n",
       "    </tr>\n",
       "    <tr>\n",
       "      <th>2</th>\n",
       "      <td>1112285529</td>\n",
       "      <td>YBGGJY</td>\n",
       "      <td>2018-01-30 11:00:47</td>\n",
       "      <td>1984-12-11</td>\n",
       "      <td>FEM</td>\n",
       "    </tr>\n",
       "    <tr>\n",
       "      <th>3</th>\n",
       "      <td>1112295912</td>\n",
       "      <td>YBGGJY</td>\n",
       "      <td>2018-01-30 11:00:30</td>\n",
       "      <td>1984-12-11</td>\n",
       "      <td>FEM</td>\n",
       "    </tr>\n",
       "    <tr>\n",
       "      <th>4</th>\n",
       "      <td>1111930643</td>\n",
       "      <td>YBGGJY</td>\n",
       "      <td>2018-01-30 11:05:14</td>\n",
       "      <td>1984-12-11</td>\n",
       "      <td>FEM</td>\n",
       "    </tr>\n",
       "  </tbody>\n",
       "</table>\n",
       "</div>"
      ],
      "text/plain": [
       "      idaviso idpostulante    fechapostulacion fechanacimiento  sexo\n",
       "0  1110640622       EKVNk8 2018-02-25 06:02:11      1965-08-26  MASC\n",
       "1  1110640622       YBGGJY 2018-02-04 15:12:45      1984-12-11   FEM\n",
       "2  1112285529       YBGGJY 2018-01-30 11:00:47      1984-12-11   FEM\n",
       "3  1112295912       YBGGJY 2018-01-30 11:00:30      1984-12-11   FEM\n",
       "4  1111930643       YBGGJY 2018-01-30 11:05:14      1984-12-11   FEM"
      ]
     },
     "execution_count": 95,
     "metadata": {},
     "output_type": "execute_result"
    }
   ],
   "source": [
    "postu_disp_horaria.head()"
   ]
  },
  {
   "cell_type": "code",
   "execution_count": 96,
   "metadata": {},
   "outputs": [
    {
     "data": {
      "text/plain": [
       "(420887, 5)"
      ]
     },
     "execution_count": 96,
     "metadata": {},
     "output_type": "execute_result"
    }
   ],
   "source": [
    "postu_disp_horaria.shape"
   ]
  },
  {
   "cell_type": "markdown",
   "metadata": {},
   "source": [
    "Hay muchos que son repetidos, veamos cuantos hay en realidad"
   ]
  },
  {
   "cell_type": "code",
   "execution_count": 97,
   "metadata": {},
   "outputs": [
    {
     "data": {
      "text/plain": [
       "97110"
      ]
     },
     "execution_count": 97,
     "metadata": {},
     "output_type": "execute_result"
    }
   ],
   "source": [
    "postu_disp_horaria['idpostulante'].value_counts().count()"
   ]
  },
  {
   "cell_type": "code",
   "execution_count": 98,
   "metadata": {},
   "outputs": [
    {
     "data": {
      "text/plain": [
       "<matplotlib.text.Text at 0xc4f4550>"
      ]
     },
     "execution_count": 98,
     "metadata": {},
     "output_type": "execute_result"
    },
    {
     "data": {
      "image/png": "[encoded data removed]",
      "text/plain": [
       "<matplotlib.figure.Figure at 0xd18dda0>"
      ]
     },
     "metadata": {},
     "output_type": "display_data"
    }
   ],
   "source": [
    "postu_disp_horaria.groupby('sexo').nunique().loc[:, ['idpostulante']].plot(kind='bar', figsize=(8,4))\n",
    "plt.title('Cantidad de postulantes según sexo a avisos que solicitan ingles')\n",
    "plt.xlabel('Sexo')\n",
    "plt.ylabel('Cantidad')"
   ]
  },
  {
   "cell_type": "code",
   "execution_count": 99,
   "metadata": {
    "collapsed": true
   },
   "outputs": [],
   "source": [
    "postu_disp_horaria.dropna(subset=['fechanacimiento'], how='any', inplace=True)"
   ]
  },
  {
   "cell_type": "code",
   "execution_count": 100,
   "metadata": {
    "collapsed": true
   },
   "outputs": [],
   "source": [
    "postu_disp_horaria[\"fechanacimiento\"] = pd.to_datetime(postu_disp_horaria[\"fechanacimiento\"], errors = 'coerce')"
   ]
  },
  {
   "cell_type": "code",
   "execution_count": 101,
   "metadata": {
    "collapsed": true
   },
   "outputs": [],
   "source": [
    "postu_disp_horaria.dropna(subset=['fechanacimiento'], how='any', inplace=True)"
   ]
  },
  {
   "cell_type": "code",
   "execution_count": 102,
   "metadata": {
    "collapsed": true
   },
   "outputs": [],
   "source": [
    "def get_edad(row):\n",
    "    return 2018-row['fechanacimiento'].year\n",
    "\n",
    "postu_disp_horaria['edad'] = postu_disp_horaria.apply(get_edad, axis=1)"
   ]
  },
  {
   "cell_type": "code",
   "execution_count": 103,
   "metadata": {},
   "outputs": [
    {
     "data": {
      "text/html": [
       "<div>\n",
       "<style>\n",
       "    .dataframe thead tr:only-child th {\n",
       "        text-align: right;\n",
       "    }\n",
       "\n",
       "    .dataframe thead th {\n",
       "        text-align: left;\n",
       "    }\n",
       "\n",
       "    .dataframe tbody tr th {\n",
       "        vertical-align: top;\n",
       "    }\n",
       "</style>\n",
       "<table border=\"1\" class=\"dataframe\">\n",
       "  <thead>\n",
       "    <tr style=\"text-align: right;\">\n",
       "      <th></th>\n",
       "      <th>idaviso</th>\n",
       "      <th>idpostulante</th>\n",
       "      <th>fechapostulacion</th>\n",
       "      <th>fechanacimiento</th>\n",
       "      <th>sexo</th>\n",
       "      <th>edad</th>\n",
       "    </tr>\n",
       "  </thead>\n",
       "  <tbody>\n",
       "    <tr>\n",
       "      <th>0</th>\n",
       "      <td>1110640622</td>\n",
       "      <td>EKVNk8</td>\n",
       "      <td>2018-02-25 06:02:11</td>\n",
       "      <td>1965-08-26</td>\n",
       "      <td>MASC</td>\n",
       "      <td>53</td>\n",
       "    </tr>\n",
       "    <tr>\n",
       "      <th>1</th>\n",
       "      <td>1110640622</td>\n",
       "      <td>YBGGJY</td>\n",
       "      <td>2018-02-04 15:12:45</td>\n",
       "      <td>1984-12-11</td>\n",
       "      <td>FEM</td>\n",
       "      <td>34</td>\n",
       "    </tr>\n",
       "    <tr>\n",
       "      <th>2</th>\n",
       "      <td>1112285529</td>\n",
       "      <td>YBGGJY</td>\n",
       "      <td>2018-01-30 11:00:47</td>\n",
       "      <td>1984-12-11</td>\n",
       "      <td>FEM</td>\n",
       "      <td>34</td>\n",
       "    </tr>\n",
       "    <tr>\n",
       "      <th>3</th>\n",
       "      <td>1112295912</td>\n",
       "      <td>YBGGJY</td>\n",
       "      <td>2018-01-30 11:00:30</td>\n",
       "      <td>1984-12-11</td>\n",
       "      <td>FEM</td>\n",
       "      <td>34</td>\n",
       "    </tr>\n",
       "    <tr>\n",
       "      <th>4</th>\n",
       "      <td>1111930643</td>\n",
       "      <td>YBGGJY</td>\n",
       "      <td>2018-01-30 11:05:14</td>\n",
       "      <td>1984-12-11</td>\n",
       "      <td>FEM</td>\n",
       "      <td>34</td>\n",
       "    </tr>\n",
       "  </tbody>\n",
       "</table>\n",
       "</div>"
      ],
      "text/plain": [
       "      idaviso idpostulante    fechapostulacion fechanacimiento  sexo  edad\n",
       "0  1110640622       EKVNk8 2018-02-25 06:02:11      1965-08-26  MASC    53\n",
       "1  1110640622       YBGGJY 2018-02-04 15:12:45      1984-12-11   FEM    34\n",
       "2  1112285529       YBGGJY 2018-01-30 11:00:47      1984-12-11   FEM    34\n",
       "3  1112295912       YBGGJY 2018-01-30 11:00:30      1984-12-11   FEM    34\n",
       "4  1111930643       YBGGJY 2018-01-30 11:05:14      1984-12-11   FEM    34"
      ]
     },
     "execution_count": 103,
     "metadata": {},
     "output_type": "execute_result"
    }
   ],
   "source": [
    "postu_disp_horaria.head()"
   ]
  },
  {
   "cell_type": "code",
   "execution_count": 104,
   "metadata": {},
   "outputs": [
    {
     "data": {
      "text/plain": [
       "<matplotlib.text.Text at 0xc4f54a8>"
      ]
     },
     "execution_count": 104,
     "metadata": {},
     "output_type": "execute_result"
    },
    {
     "data": {
      "image/png": "[encoded data removed]",
      "text/plain": [
       "<matplotlib.figure.Figure at 0xc583c50>"
      ]
     },
     "metadata": {},
     "output_type": "display_data"
    }
   ],
   "source": [
    "postu_disp_horaria.groupby('edad').nunique().loc[:, ['idpostulante']].plot(kind='line', figsize=(8,4))\n",
    "plt.title('Cantidad de postulantes según edad a avisos que solicitan ingles')\n",
    "plt.xlabel('Sexo')\n",
    "plt.ylabel('Cantidad')"
   ]
  }
 ],
 "metadata": {
  "kernelspec": {
   "display_name": "Python 3",
   "language": "python",
   "name": "python3"
  },
  "language_info": {
   "codemirror_mode": {
    "name": "ipython",
    "version": 3
   },
   "file_extension": ".py",
   "mimetype": "text/x-python",
   "name": "python",
   "nbconvert_exporter": "python",
   "pygments_lexer": "ipython3",
   "version": "3.6.1"
  }
 },
 "nbformat": 4,
 "nbformat_minor": 2
}
